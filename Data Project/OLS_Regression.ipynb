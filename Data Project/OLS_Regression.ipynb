{
 "cells": [
  {
   "cell_type": "code",
   "execution_count": 2,
   "metadata": {},
   "outputs": [],
   "source": [
    "import pandas as pd\n",
    "import numpy as np\n",
    "from statsmodels.stats.outliers_influence import OLSInfluence\n",
    "from matplotlib import pyplot as plt\n",
    "import statsmodels.formula.api as smf\n",
    "import statsmodels.api as sm\n",
    "import seaborn as sns\n",
    "from scipy.stats import kruskal\n",
    "from scipy import stats"
   ]
  },
  {
   "cell_type": "code",
   "execution_count": 8,
   "metadata": {},
   "outputs": [],
   "source": [
    "urban_population = pd.read_csv(\"C:\\\\Users\\\\rayde\\\\iCloudDrive\\\\GitHub\\\\Python\\\\Data Project\\\\share-of-population-urban.csv\")"
   ]
  },
  {
   "cell_type": "code",
   "execution_count": 9,
   "metadata": {},
   "outputs": [],
   "source": [
    "income_taxes = pd.read_csv(\"C:\\\\Users\\\\rayde\\\\iCloudDrive\\\\GitHub\\\\Python\\\\Data Project\\\\taxes-on-incomes-of-individuals-and-corporations-gdp.csv\")"
   ]
  },
  {
   "cell_type": "code",
   "execution_count": 10,
   "metadata": {},
   "outputs": [
    {
     "data": {
      "text/plain": [
       "Index(['Entity', 'Code', 'Year', 'Urban_Population'], dtype='object')"
      ]
     },
     "execution_count": 10,
     "metadata": {},
     "output_type": "execute_result"
    }
   ],
   "source": [
    "urban_population.columns"
   ]
  },
  {
   "cell_type": "code",
   "execution_count": 11,
   "metadata": {},
   "outputs": [
    {
     "data": {
      "text/plain": [
       "Index(['Entity', 'Code', 'Year', 'Tax_Percent_GDP'], dtype='object')"
      ]
     },
     "execution_count": 11,
     "metadata": {},
     "output_type": "execute_result"
    }
   ],
   "source": [
    "income_taxes.columns"
   ]
  },
  {
   "cell_type": "code",
   "execution_count": 12,
   "metadata": {},
   "outputs": [
    {
     "data": {
      "text/html": [
       "<div>\n",
       "<style scoped>\n",
       "    .dataframe tbody tr th:only-of-type {\n",
       "        vertical-align: middle;\n",
       "    }\n",
       "\n",
       "    .dataframe tbody tr th {\n",
       "        vertical-align: top;\n",
       "    }\n",
       "\n",
       "    .dataframe thead th {\n",
       "        text-align: right;\n",
       "    }\n",
       "</style>\n",
       "<table border=\"1\" class=\"dataframe\">\n",
       "  <thead>\n",
       "    <tr style=\"text-align: right;\">\n",
       "      <th></th>\n",
       "      <th>Year</th>\n",
       "    </tr>\n",
       "  </thead>\n",
       "  <tbody>\n",
       "    <tr>\n",
       "      <th>count</th>\n",
       "      <td>15072.000000</td>\n",
       "    </tr>\n",
       "    <tr>\n",
       "      <th>mean</th>\n",
       "      <td>1988.545382</td>\n",
       "    </tr>\n",
       "    <tr>\n",
       "      <th>std</th>\n",
       "      <td>16.737532</td>\n",
       "    </tr>\n",
       "    <tr>\n",
       "      <th>min</th>\n",
       "      <td>1960.000000</td>\n",
       "    </tr>\n",
       "    <tr>\n",
       "      <th>25%</th>\n",
       "      <td>1974.000000</td>\n",
       "    </tr>\n",
       "    <tr>\n",
       "      <th>50%</th>\n",
       "      <td>1989.000000</td>\n",
       "    </tr>\n",
       "    <tr>\n",
       "      <th>75%</th>\n",
       "      <td>2003.000000</td>\n",
       "    </tr>\n",
       "    <tr>\n",
       "      <th>max</th>\n",
       "      <td>2017.000000</td>\n",
       "    </tr>\n",
       "  </tbody>\n",
       "</table>\n",
       "</div>"
      ],
      "text/plain": [
       "               Year\n",
       "count  15072.000000\n",
       "mean    1988.545382\n",
       "std       16.737532\n",
       "min     1960.000000\n",
       "25%     1974.000000\n",
       "50%     1989.000000\n",
       "75%     2003.000000\n",
       "max     2017.000000"
      ]
     },
     "execution_count": 12,
     "metadata": {},
     "output_type": "execute_result"
    }
   ],
   "source": [
    "urban_population.describe()"
   ]
  },
  {
   "cell_type": "code",
   "execution_count": 13,
   "metadata": {},
   "outputs": [
    {
     "data": {
      "text/html": [
       "<div>\n",
       "<style scoped>\n",
       "    .dataframe tbody tr th:only-of-type {\n",
       "        vertical-align: middle;\n",
       "    }\n",
       "\n",
       "    .dataframe tbody tr th {\n",
       "        vertical-align: top;\n",
       "    }\n",
       "\n",
       "    .dataframe thead th {\n",
       "        text-align: right;\n",
       "    }\n",
       "</style>\n",
       "<table border=\"1\" class=\"dataframe\">\n",
       "  <thead>\n",
       "    <tr style=\"text-align: right;\">\n",
       "      <th></th>\n",
       "      <th>Year</th>\n",
       "      <th>Tax_Percent_GDP</th>\n",
       "    </tr>\n",
       "  </thead>\n",
       "  <tbody>\n",
       "    <tr>\n",
       "      <th>count</th>\n",
       "      <td>4871.000000</td>\n",
       "      <td>4871.000000</td>\n",
       "    </tr>\n",
       "    <tr>\n",
       "      <th>mean</th>\n",
       "      <td>2000.872716</td>\n",
       "      <td>6.538407</td>\n",
       "    </tr>\n",
       "    <tr>\n",
       "      <th>std</th>\n",
       "      <td>9.803376</td>\n",
       "      <td>4.915040</td>\n",
       "    </tr>\n",
       "    <tr>\n",
       "      <th>min</th>\n",
       "      <td>1980.000000</td>\n",
       "      <td>0.000000</td>\n",
       "    </tr>\n",
       "    <tr>\n",
       "      <th>25%</th>\n",
       "      <td>1994.000000</td>\n",
       "      <td>2.903660</td>\n",
       "    </tr>\n",
       "    <tr>\n",
       "      <th>50%</th>\n",
       "      <td>2001.000000</td>\n",
       "      <td>5.455395</td>\n",
       "    </tr>\n",
       "    <tr>\n",
       "      <th>75%</th>\n",
       "      <td>2009.000000</td>\n",
       "      <td>8.992646</td>\n",
       "    </tr>\n",
       "    <tr>\n",
       "      <th>max</th>\n",
       "      <td>2017.000000</td>\n",
       "      <td>32.075305</td>\n",
       "    </tr>\n",
       "  </tbody>\n",
       "</table>\n",
       "</div>"
      ],
      "text/plain": [
       "              Year  Tax_Percent_GDP\n",
       "count  4871.000000      4871.000000\n",
       "mean   2000.872716         6.538407\n",
       "std       9.803376         4.915040\n",
       "min    1980.000000         0.000000\n",
       "25%    1994.000000         2.903660\n",
       "50%    2001.000000         5.455395\n",
       "75%    2009.000000         8.992646\n",
       "max    2017.000000        32.075305"
      ]
     },
     "execution_count": 13,
     "metadata": {},
     "output_type": "execute_result"
    }
   ],
   "source": [
    "income_taxes.describe()"
   ]
  },
  {
   "cell_type": "code",
   "execution_count": 14,
   "metadata": {},
   "outputs": [
    {
     "data": {
      "text/html": [
       "<div>\n",
       "<style scoped>\n",
       "    .dataframe tbody tr th:only-of-type {\n",
       "        vertical-align: middle;\n",
       "    }\n",
       "\n",
       "    .dataframe tbody tr th {\n",
       "        vertical-align: top;\n",
       "    }\n",
       "\n",
       "    .dataframe thead th {\n",
       "        text-align: right;\n",
       "    }\n",
       "</style>\n",
       "<table border=\"1\" class=\"dataframe\">\n",
       "  <thead>\n",
       "    <tr style=\"text-align: right;\">\n",
       "      <th></th>\n",
       "      <th>Entity</th>\n",
       "      <th>Code</th>\n",
       "      <th>Year</th>\n",
       "      <th>Urban_Population</th>\n",
       "    </tr>\n",
       "  </thead>\n",
       "  <tbody>\n",
       "    <tr>\n",
       "      <th>0</th>\n",
       "      <td>Afghanistan</td>\n",
       "      <td>AFG</td>\n",
       "      <td>1960</td>\n",
       "      <td>8.401</td>\n",
       "    </tr>\n",
       "    <tr>\n",
       "      <th>1</th>\n",
       "      <td>Afghanistan</td>\n",
       "      <td>AFG</td>\n",
       "      <td>1961</td>\n",
       "      <td>8.684</td>\n",
       "    </tr>\n",
       "    <tr>\n",
       "      <th>2</th>\n",
       "      <td>Afghanistan</td>\n",
       "      <td>AFG</td>\n",
       "      <td>1962</td>\n",
       "      <td>8.976</td>\n",
       "    </tr>\n",
       "    <tr>\n",
       "      <th>3</th>\n",
       "      <td>Afghanistan</td>\n",
       "      <td>AFG</td>\n",
       "      <td>1963</td>\n",
       "      <td>9.276</td>\n",
       "    </tr>\n",
       "    <tr>\n",
       "      <th>4</th>\n",
       "      <td>Afghanistan</td>\n",
       "      <td>AFG</td>\n",
       "      <td>1964</td>\n",
       "      <td>9.586</td>\n",
       "    </tr>\n",
       "  </tbody>\n",
       "</table>\n",
       "</div>"
      ],
      "text/plain": [
       "        Entity Code  Year Urban_Population\n",
       "0  Afghanistan  AFG  1960            8.401\n",
       "1  Afghanistan  AFG  1961            8.684\n",
       "2  Afghanistan  AFG  1962            8.976\n",
       "3  Afghanistan  AFG  1963            9.276\n",
       "4  Afghanistan  AFG  1964            9.586"
      ]
     },
     "execution_count": 14,
     "metadata": {},
     "output_type": "execute_result"
    }
   ],
   "source": [
    "urban_population.head()"
   ]
  },
  {
   "cell_type": "code",
   "execution_count": 15,
   "metadata": {},
   "outputs": [
    {
     "data": {
      "text/html": [
       "<div>\n",
       "<style scoped>\n",
       "    .dataframe tbody tr th:only-of-type {\n",
       "        vertical-align: middle;\n",
       "    }\n",
       "\n",
       "    .dataframe tbody tr th {\n",
       "        vertical-align: top;\n",
       "    }\n",
       "\n",
       "    .dataframe thead th {\n",
       "        text-align: right;\n",
       "    }\n",
       "</style>\n",
       "<table border=\"1\" class=\"dataframe\">\n",
       "  <thead>\n",
       "    <tr style=\"text-align: right;\">\n",
       "      <th></th>\n",
       "      <th>Entity</th>\n",
       "      <th>Code</th>\n",
       "      <th>Year</th>\n",
       "      <th>Tax_Percent_GDP</th>\n",
       "    </tr>\n",
       "  </thead>\n",
       "  <tbody>\n",
       "    <tr>\n",
       "      <th>0</th>\n",
       "      <td>Afghanistan</td>\n",
       "      <td>AFG</td>\n",
       "      <td>2003</td>\n",
       "      <td>0.165953</td>\n",
       "    </tr>\n",
       "    <tr>\n",
       "      <th>1</th>\n",
       "      <td>Afghanistan</td>\n",
       "      <td>AFG</td>\n",
       "      <td>2004</td>\n",
       "      <td>0.411647</td>\n",
       "    </tr>\n",
       "    <tr>\n",
       "      <th>2</th>\n",
       "      <td>Afghanistan</td>\n",
       "      <td>AFG</td>\n",
       "      <td>2005</td>\n",
       "      <td>0.320864</td>\n",
       "    </tr>\n",
       "    <tr>\n",
       "      <th>3</th>\n",
       "      <td>Afghanistan</td>\n",
       "      <td>AFG</td>\n",
       "      <td>2006</td>\n",
       "      <td>1.261181</td>\n",
       "    </tr>\n",
       "    <tr>\n",
       "      <th>4</th>\n",
       "      <td>Afghanistan</td>\n",
       "      <td>AFG</td>\n",
       "      <td>2007</td>\n",
       "      <td>1.323461</td>\n",
       "    </tr>\n",
       "  </tbody>\n",
       "</table>\n",
       "</div>"
      ],
      "text/plain": [
       "        Entity Code  Year  Tax_Percent_GDP\n",
       "0  Afghanistan  AFG  2003         0.165953\n",
       "1  Afghanistan  AFG  2004         0.411647\n",
       "2  Afghanistan  AFG  2005         0.320864\n",
       "3  Afghanistan  AFG  2006         1.261181\n",
       "4  Afghanistan  AFG  2007         1.323461"
      ]
     },
     "execution_count": 15,
     "metadata": {},
     "output_type": "execute_result"
    }
   ],
   "source": [
    "income_taxes.head()"
   ]
  },
  {
   "cell_type": "markdown",
   "metadata": {},
   "source": [
    "# Clean Data"
   ]
  },
  {
   "cell_type": "code",
   "execution_count": 16,
   "metadata": {},
   "outputs": [],
   "source": [
    "urban_population['Urban_Population'] = urban_population['Urban_Population'].apply(lambda x: x.strip('%'))"
   ]
  },
  {
   "cell_type": "code",
   "execution_count": 17,
   "metadata": {},
   "outputs": [
    {
     "data": {
      "text/html": [
       "<div>\n",
       "<style scoped>\n",
       "    .dataframe tbody tr th:only-of-type {\n",
       "        vertical-align: middle;\n",
       "    }\n",
       "\n",
       "    .dataframe tbody tr th {\n",
       "        vertical-align: top;\n",
       "    }\n",
       "\n",
       "    .dataframe thead th {\n",
       "        text-align: right;\n",
       "    }\n",
       "</style>\n",
       "<table border=\"1\" class=\"dataframe\">\n",
       "  <thead>\n",
       "    <tr style=\"text-align: right;\">\n",
       "      <th></th>\n",
       "      <th>Entity</th>\n",
       "      <th>Code</th>\n",
       "      <th>Year</th>\n",
       "      <th>Urban_Population</th>\n",
       "    </tr>\n",
       "  </thead>\n",
       "  <tbody>\n",
       "    <tr>\n",
       "      <th>20</th>\n",
       "      <td>x</td>\n",
       "      <td>AFG</td>\n",
       "      <td>1980</td>\n",
       "      <td>15.995</td>\n",
       "    </tr>\n",
       "    <tr>\n",
       "      <th>45</th>\n",
       "      <td>x</td>\n",
       "      <td>AFG</td>\n",
       "      <td>2005</td>\n",
       "      <td>22.703</td>\n",
       "    </tr>\n",
       "    <tr>\n",
       "      <th>103</th>\n",
       "      <td>sjke</td>\n",
       "      <td>ALB</td>\n",
       "      <td>2005</td>\n",
       "      <td>46.731</td>\n",
       "    </tr>\n",
       "    <tr>\n",
       "      <th>335</th>\n",
       "      <td>rehojher</td>\n",
       "      <td>AGO</td>\n",
       "      <td>2005</td>\n",
       "      <td>56</td>\n",
       "    </tr>\n",
       "    <tr>\n",
       "      <th>406</th>\n",
       "      <td>Arab World</td>\n",
       "      <td>NaN</td>\n",
       "      <td>1960</td>\n",
       "      <td>31.2919740510562</td>\n",
       "    </tr>\n",
       "    <tr>\n",
       "      <th>...</th>\n",
       "      <td>...</td>\n",
       "      <td>...</td>\n",
       "      <td>...</td>\n",
       "      <td>...</td>\n",
       "    </tr>\n",
       "    <tr>\n",
       "      <th>14545</th>\n",
       "      <td>Upper middle income</td>\n",
       "      <td>NaN</td>\n",
       "      <td>2013</td>\n",
       "      <td>62.0239702411369</td>\n",
       "    </tr>\n",
       "    <tr>\n",
       "      <th>14546</th>\n",
       "      <td>Upper middle income</td>\n",
       "      <td>NaN</td>\n",
       "      <td>2014</td>\n",
       "      <td>62.8955804803787</td>\n",
       "    </tr>\n",
       "    <tr>\n",
       "      <th>14547</th>\n",
       "      <td>Upper middle income</td>\n",
       "      <td>NaN</td>\n",
       "      <td>2015</td>\n",
       "      <td>63.7564165827109</td>\n",
       "    </tr>\n",
       "    <tr>\n",
       "      <th>14548</th>\n",
       "      <td>Upper middle income</td>\n",
       "      <td>NaN</td>\n",
       "      <td>2016</td>\n",
       "      <td>64.6076009024922</td>\n",
       "    </tr>\n",
       "    <tr>\n",
       "      <th>14549</th>\n",
       "      <td>Upper middle income</td>\n",
       "      <td>NaN</td>\n",
       "      <td>2017</td>\n",
       "      <td>65.4461164734071</td>\n",
       "    </tr>\n",
       "  </tbody>\n",
       "</table>\n",
       "<p>2678 rows × 4 columns</p>\n",
       "</div>"
      ],
      "text/plain": [
       "                    Entity Code  Year  Urban_Population\n",
       "20                       x  AFG  1980            15.995\n",
       "45                       x  AFG  2005            22.703\n",
       "103                   sjke  ALB  2005            46.731\n",
       "335               rehojher  AGO  2005                56\n",
       "406             Arab World  NaN  1960  31.2919740510562\n",
       "...                    ...  ...   ...               ...\n",
       "14545  Upper middle income  NaN  2013  62.0239702411369\n",
       "14546  Upper middle income  NaN  2014  62.8955804803787\n",
       "14547  Upper middle income  NaN  2015  63.7564165827109\n",
       "14548  Upper middle income  NaN  2016  64.6076009024922\n",
       "14549  Upper middle income  NaN  2017  65.4461164734071\n",
       "\n",
       "[2678 rows x 4 columns]"
      ]
     },
     "execution_count": 17,
     "metadata": {},
     "output_type": "execute_result"
    }
   ],
   "source": [
    "# Entity feature may need cleaning\n",
    "df = urban_population[['Entity', 'Code']].groupby('Entity').count().sort_values(by='Code')\n",
    "entities = list(df[df['Code'] < 20].index)\n",
    "urban_population[urban_population['Entity'].isin(entities)]"
   ]
  },
  {
   "cell_type": "code",
   "execution_count": 18,
   "metadata": {},
   "outputs": [],
   "source": [
    "# Create a dictionary of key value pairs that map the entity code to the correct entity \n",
    "Entity_Code_Mapping = urban_population[['Code', 'Entity']].groupby('Code').agg({'Entity': lambda x:x.value_counts().index[0]}).to_dict()\n",
    "entity_code_map = Entity_Code_Mapping.get('Entity')"
   ]
  },
  {
   "cell_type": "code",
   "execution_count": 19,
   "metadata": {},
   "outputs": [],
   "source": [
    "#Replace entity in the dataframe with the dictionary value \n",
    "for key, value in entity_code_map.items():\n",
    "    urban_population.loc[urban_population['Code']==key, 'Entity'] = value "
   ]
  },
  {
   "cell_type": "code",
   "execution_count": 20,
   "metadata": {},
   "outputs": [
    {
     "data": {
      "text/html": [
       "<div>\n",
       "<style scoped>\n",
       "    .dataframe tbody tr th:only-of-type {\n",
       "        vertical-align: middle;\n",
       "    }\n",
       "\n",
       "    .dataframe tbody tr th {\n",
       "        vertical-align: top;\n",
       "    }\n",
       "\n",
       "    .dataframe thead th {\n",
       "        text-align: right;\n",
       "    }\n",
       "</style>\n",
       "<table border=\"1\" class=\"dataframe\">\n",
       "  <thead>\n",
       "    <tr style=\"text-align: right;\">\n",
       "      <th></th>\n",
       "      <th>Urban_Population</th>\n",
       "    </tr>\n",
       "    <tr>\n",
       "      <th>Code</th>\n",
       "      <th></th>\n",
       "    </tr>\n",
       "  </thead>\n",
       "  <tbody>\n",
       "    <tr>\n",
       "      <th>ABW</th>\n",
       "      <td>58</td>\n",
       "    </tr>\n",
       "    <tr>\n",
       "      <th>AFG</th>\n",
       "      <td>58</td>\n",
       "    </tr>\n",
       "    <tr>\n",
       "      <th>AGO</th>\n",
       "      <td>58</td>\n",
       "    </tr>\n",
       "    <tr>\n",
       "      <th>ALB</th>\n",
       "      <td>58</td>\n",
       "    </tr>\n",
       "    <tr>\n",
       "      <th>AND</th>\n",
       "      <td>58</td>\n",
       "    </tr>\n",
       "  </tbody>\n",
       "</table>\n",
       "</div>"
      ],
      "text/plain": [
       "      Urban_Population\n",
       "Code                  \n",
       "ABW                 58\n",
       "AFG                 58\n",
       "AGO                 58\n",
       "ALB                 58\n",
       "AND                 58"
      ]
     },
     "execution_count": 20,
     "metadata": {},
     "output_type": "execute_result"
    }
   ],
   "source": [
    "urban_population[['Code', 'Urban_Population']].groupby('Code').count().head()"
   ]
  },
  {
   "cell_type": "code",
   "execution_count": 21,
   "metadata": {},
   "outputs": [
    {
     "data": {
      "text/html": [
       "<div>\n",
       "<style scoped>\n",
       "    .dataframe tbody tr th:only-of-type {\n",
       "        vertical-align: middle;\n",
       "    }\n",
       "\n",
       "    .dataframe tbody tr th {\n",
       "        vertical-align: top;\n",
       "    }\n",
       "\n",
       "    .dataframe thead th {\n",
       "        text-align: right;\n",
       "    }\n",
       "</style>\n",
       "<table border=\"1\" class=\"dataframe\">\n",
       "  <thead>\n",
       "    <tr style=\"text-align: right;\">\n",
       "      <th></th>\n",
       "      <th>Urban_Population</th>\n",
       "    </tr>\n",
       "    <tr>\n",
       "      <th>Year</th>\n",
       "      <th></th>\n",
       "    </tr>\n",
       "  </thead>\n",
       "  <tbody>\n",
       "    <tr>\n",
       "      <th>1960</th>\n",
       "      <td>259</td>\n",
       "    </tr>\n",
       "    <tr>\n",
       "      <th>1961</th>\n",
       "      <td>259</td>\n",
       "    </tr>\n",
       "    <tr>\n",
       "      <th>1962</th>\n",
       "      <td>259</td>\n",
       "    </tr>\n",
       "    <tr>\n",
       "      <th>1963</th>\n",
       "      <td>259</td>\n",
       "    </tr>\n",
       "    <tr>\n",
       "      <th>1964</th>\n",
       "      <td>259</td>\n",
       "    </tr>\n",
       "  </tbody>\n",
       "</table>\n",
       "</div>"
      ],
      "text/plain": [
       "      Urban_Population\n",
       "Year                  \n",
       "1960               259\n",
       "1961               259\n",
       "1962               259\n",
       "1963               259\n",
       "1964               259"
      ]
     },
     "execution_count": 21,
     "metadata": {},
     "output_type": "execute_result"
    }
   ],
   "source": [
    "urban_population[['Year', 'Urban_Population']].groupby('Year').count().head()"
   ]
  },
  {
   "cell_type": "markdown",
   "metadata": {},
   "source": [
    "#### Merge the two datasets such that the resultant dataset contains only the intersection of the rows present in both files."
   ]
  },
  {
   "cell_type": "code",
   "execution_count": 22,
   "metadata": {},
   "outputs": [],
   "source": [
    "merged = pd.merge(urban_population, income_taxes, how='inner', on=['Entity','Code', 'Year'])"
   ]
  },
  {
   "cell_type": "code",
   "execution_count": 23,
   "metadata": {},
   "outputs": [
    {
     "data": {
      "text/plain": [
       "Index(['Entity', 'Code', 'Year', 'Urban_Population', 'Tax_Percent_GDP'], dtype='object')"
      ]
     },
     "execution_count": 23,
     "metadata": {},
     "output_type": "execute_result"
    }
   ],
   "source": [
    "merged.columns"
   ]
  },
  {
   "cell_type": "code",
   "execution_count": 24,
   "metadata": {},
   "outputs": [
    {
     "data": {
      "text/html": [
       "<div>\n",
       "<style scoped>\n",
       "    .dataframe tbody tr th:only-of-type {\n",
       "        vertical-align: middle;\n",
       "    }\n",
       "\n",
       "    .dataframe tbody tr th {\n",
       "        vertical-align: top;\n",
       "    }\n",
       "\n",
       "    .dataframe thead th {\n",
       "        text-align: right;\n",
       "    }\n",
       "</style>\n",
       "<table border=\"1\" class=\"dataframe\">\n",
       "  <thead>\n",
       "    <tr style=\"text-align: right;\">\n",
       "      <th></th>\n",
       "      <th>Year</th>\n",
       "      <th>Tax_Percent_GDP</th>\n",
       "    </tr>\n",
       "  </thead>\n",
       "  <tbody>\n",
       "    <tr>\n",
       "      <th>count</th>\n",
       "      <td>4827.000000</td>\n",
       "      <td>4827.000000</td>\n",
       "    </tr>\n",
       "    <tr>\n",
       "      <th>mean</th>\n",
       "      <td>2000.820178</td>\n",
       "      <td>6.541745</td>\n",
       "    </tr>\n",
       "    <tr>\n",
       "      <th>std</th>\n",
       "      <td>9.820962</td>\n",
       "      <td>4.916074</td>\n",
       "    </tr>\n",
       "    <tr>\n",
       "      <th>min</th>\n",
       "      <td>1980.000000</td>\n",
       "      <td>0.000000</td>\n",
       "    </tr>\n",
       "    <tr>\n",
       "      <th>25%</th>\n",
       "      <td>1994.000000</td>\n",
       "      <td>2.913485</td>\n",
       "    </tr>\n",
       "    <tr>\n",
       "      <th>50%</th>\n",
       "      <td>2001.000000</td>\n",
       "      <td>5.453483</td>\n",
       "    </tr>\n",
       "    <tr>\n",
       "      <th>75%</th>\n",
       "      <td>2009.000000</td>\n",
       "      <td>8.963828</td>\n",
       "    </tr>\n",
       "    <tr>\n",
       "      <th>max</th>\n",
       "      <td>2017.000000</td>\n",
       "      <td>32.075305</td>\n",
       "    </tr>\n",
       "  </tbody>\n",
       "</table>\n",
       "</div>"
      ],
      "text/plain": [
       "              Year  Tax_Percent_GDP\n",
       "count  4827.000000      4827.000000\n",
       "mean   2000.820178         6.541745\n",
       "std       9.820962         4.916074\n",
       "min    1980.000000         0.000000\n",
       "25%    1994.000000         2.913485\n",
       "50%    2001.000000         5.453483\n",
       "75%    2009.000000         8.963828\n",
       "max    2017.000000        32.075305"
      ]
     },
     "execution_count": 24,
     "metadata": {},
     "output_type": "execute_result"
    }
   ],
   "source": [
    "merged.describe()"
   ]
  },
  {
   "cell_type": "code",
   "execution_count": 25,
   "metadata": {},
   "outputs": [
    {
     "data": {
      "text/html": [
       "<div>\n",
       "<style scoped>\n",
       "    .dataframe tbody tr th:only-of-type {\n",
       "        vertical-align: middle;\n",
       "    }\n",
       "\n",
       "    .dataframe tbody tr th {\n",
       "        vertical-align: top;\n",
       "    }\n",
       "\n",
       "    .dataframe thead th {\n",
       "        text-align: right;\n",
       "    }\n",
       "</style>\n",
       "<table border=\"1\" class=\"dataframe\">\n",
       "  <thead>\n",
       "    <tr style=\"text-align: right;\">\n",
       "      <th></th>\n",
       "      <th>Year</th>\n",
       "    </tr>\n",
       "    <tr>\n",
       "      <th>Entity</th>\n",
       "      <th></th>\n",
       "    </tr>\n",
       "  </thead>\n",
       "  <tbody>\n",
       "    <tr>\n",
       "      <th>Algeria</th>\n",
       "      <td>2</td>\n",
       "    </tr>\n",
       "    <tr>\n",
       "      <th>Bahamas</th>\n",
       "      <td>2</td>\n",
       "    </tr>\n",
       "    <tr>\n",
       "      <th>Iran</th>\n",
       "      <td>2</td>\n",
       "    </tr>\n",
       "    <tr>\n",
       "      <th>Somalia</th>\n",
       "      <td>5</td>\n",
       "    </tr>\n",
       "    <tr>\n",
       "      <th>Congo</th>\n",
       "      <td>6</td>\n",
       "    </tr>\n",
       "  </tbody>\n",
       "</table>\n",
       "</div>"
      ],
      "text/plain": [
       "         Year\n",
       "Entity       \n",
       "Algeria     2\n",
       "Bahamas     2\n",
       "Iran        2\n",
       "Somalia     5\n",
       "Congo       6"
      ]
     },
     "execution_count": 25,
     "metadata": {},
     "output_type": "execute_result"
    }
   ],
   "source": [
    "#Unbalanced Panel Data\n",
    "merged[['Entity', 'Year']].groupby('Entity').count().sort_values(by='Year').head()"
   ]
  },
  {
   "cell_type": "code",
   "execution_count": 26,
   "metadata": {},
   "outputs": [
    {
     "data": {
      "text/plain": [
       "array(['AFG', 'ALB', 'DZA', 'AGO', 'ATG', 'ARG', 'ARM', 'ABW', 'AUS',\n",
       "       'AUT', 'AZE', 'BHS', 'BHR', 'BGD', 'BRB', 'BLR', 'BEL', 'BLZ',\n",
       "       'BEN', 'BTN', 'BOL', 'BIH', 'BWA', 'BRA', 'BRN', 'BGR', 'BFA',\n",
       "       'BDI', 'KHM', 'CMR', 'CAN', 'CPV', 'CAF', 'CHL', 'CHN', 'COM',\n",
       "       'COG', 'CRI', 'CIV', 'HRV', 'CUB', 'CYP', 'CZE', 'COD', 'DNK',\n",
       "       'DJI', 'DMA', 'DOM', 'ECU', 'EGY', 'SLV', 'GNQ', 'ERI', 'EST',\n",
       "       'FJI', 'FIN', 'FRA', 'GMB', 'GEO', 'DEU', 'GHA', 'GRC', 'GRD',\n",
       "       'GTM', 'GIN', 'GNB', 'GUY', 'HTI', 'HND', 'HKG', 'HUN', 'ISL',\n",
       "       'IND', 'IDN', 'IRN', 'IRL', 'ISR', 'ITA', 'JAM', 'JPN', 'JOR',\n",
       "       'KAZ', 'KEN', 'KIR', 'KWT', 'KGZ', 'LAO', 'LVA', 'LBN', 'LSO',\n",
       "       'LBY', 'LTU', 'LUX', 'MAC', 'MKD', 'MDG', 'MWI', 'MYS', 'MDV',\n",
       "       'MLI', 'MLT', 'MHL', 'MRT', 'MUS', 'MEX', 'FSM', 'MDA', 'MNG',\n",
       "       'MNE', 'MAR', 'MOZ', 'MMR', 'NAM', 'NPL', 'NLD', 'NZL', 'NIC',\n",
       "       'NER', 'NGA', 'NOR', 'OMN', 'PAK', 'PLW', 'PSE', 'PAN', 'PNG',\n",
       "       'PRY', 'PER', 'PHL', 'POL', 'PRT', 'QAT', 'ROU', 'RUS', 'RWA',\n",
       "       'KNA', 'LCA', 'VCT', 'WSM', 'SMR', 'STP', 'SAU', 'SEN', 'SRB',\n",
       "       'SYC', 'SLE', 'SGP', 'SVK', 'SVN', 'SLB', 'SOM', 'ZAF', 'KOR',\n",
       "       'ESP', 'LKA', 'SDN', 'SUR', 'SWZ', 'SWE', 'CHE', 'TJK', 'TZA',\n",
       "       'THA', 'TGO', 'TON', 'TTO', 'TUN', 'TUR', 'TKM', 'TUV', 'UGA',\n",
       "       'UKR', 'GBR', 'USA', 'URY', 'UZB', 'VUT', 'VEN', 'VNM', 'YEM',\n",
       "       'ZMB', 'ZWE'], dtype=object)"
      ]
     },
     "execution_count": 26,
     "metadata": {},
     "output_type": "execute_result"
    }
   ],
   "source": [
    "merged['Code'].unique()"
   ]
  },
  {
   "cell_type": "code",
   "execution_count": 27,
   "metadata": {},
   "outputs": [
    {
     "data": {
      "text/plain": [
       "array([1980, 1981, 1982, 1983, 1984, 1985, 1986, 1987, 1988, 1989, 1990,\n",
       "       1991, 1992, 1993, 1994, 1995, 1996, 1997, 1998, 1999, 2000, 2001,\n",
       "       2002, 2003, 2004, 2005, 2006, 2007, 2008, 2009, 2010, 2011, 2012,\n",
       "       2013, 2014, 2015, 2016, 2017], dtype=int64)"
      ]
     },
     "execution_count": 27,
     "metadata": {},
     "output_type": "execute_result"
    }
   ],
   "source": [
    "merged['Year'].sort_values().unique()"
   ]
  },
  {
   "cell_type": "code",
   "execution_count": 28,
   "metadata": {},
   "outputs": [],
   "source": [
    "merged['Urban_Population'] = merged['Urban_Population'].astype('float64')"
   ]
  },
  {
   "cell_type": "markdown",
   "metadata": {},
   "source": [
    "#### Export the results to a new file called merged_social_data.csv."
   ]
  },
  {
   "cell_type": "code",
   "execution_count": 29,
   "metadata": {},
   "outputs": [],
   "source": [
    "merged.to_csv('merged_social_data.csv')"
   ]
  },
  {
   "cell_type": "markdown",
   "metadata": {},
   "source": [
    "# Exploratory Analysis"
   ]
  },
  {
   "cell_type": "code",
   "execution_count": 30,
   "metadata": {},
   "outputs": [
    {
     "data": {
      "text/html": [
       "<div>\n",
       "<style scoped>\n",
       "    .dataframe tbody tr th:only-of-type {\n",
       "        vertical-align: middle;\n",
       "    }\n",
       "\n",
       "    .dataframe tbody tr th {\n",
       "        vertical-align: top;\n",
       "    }\n",
       "\n",
       "    .dataframe thead th {\n",
       "        text-align: right;\n",
       "    }\n",
       "</style>\n",
       "<table border=\"1\" class=\"dataframe\">\n",
       "  <thead>\n",
       "    <tr style=\"text-align: right;\">\n",
       "      <th></th>\n",
       "      <th>Year</th>\n",
       "      <th>Urban_Population</th>\n",
       "      <th>Tax_Percent_GDP</th>\n",
       "    </tr>\n",
       "  </thead>\n",
       "  <tbody>\n",
       "    <tr>\n",
       "      <th>count</th>\n",
       "      <td>4827.000000</td>\n",
       "      <td>4827.000000</td>\n",
       "      <td>4827.000000</td>\n",
       "    </tr>\n",
       "    <tr>\n",
       "      <th>mean</th>\n",
       "      <td>2000.820178</td>\n",
       "      <td>54.563982</td>\n",
       "      <td>6.541745</td>\n",
       "    </tr>\n",
       "    <tr>\n",
       "      <th>std</th>\n",
       "      <td>9.820962</td>\n",
       "      <td>24.087069</td>\n",
       "      <td>4.916074</td>\n",
       "    </tr>\n",
       "    <tr>\n",
       "      <th>min</th>\n",
       "      <td>1980.000000</td>\n",
       "      <td>4.674000</td>\n",
       "      <td>0.000000</td>\n",
       "    </tr>\n",
       "    <tr>\n",
       "      <th>25%</th>\n",
       "      <td>1994.000000</td>\n",
       "      <td>34.051500</td>\n",
       "      <td>2.913485</td>\n",
       "    </tr>\n",
       "    <tr>\n",
       "      <th>50%</th>\n",
       "      <td>2001.000000</td>\n",
       "      <td>54.987000</td>\n",
       "      <td>5.453483</td>\n",
       "    </tr>\n",
       "    <tr>\n",
       "      <th>75%</th>\n",
       "      <td>2009.000000</td>\n",
       "      <td>74.335500</td>\n",
       "      <td>8.963828</td>\n",
       "    </tr>\n",
       "    <tr>\n",
       "      <th>max</th>\n",
       "      <td>2017.000000</td>\n",
       "      <td>100.000000</td>\n",
       "      <td>32.075305</td>\n",
       "    </tr>\n",
       "  </tbody>\n",
       "</table>\n",
       "</div>"
      ],
      "text/plain": [
       "              Year  Urban_Population  Tax_Percent_GDP\n",
       "count  4827.000000       4827.000000      4827.000000\n",
       "mean   2000.820178         54.563982         6.541745\n",
       "std       9.820962         24.087069         4.916074\n",
       "min    1980.000000          4.674000         0.000000\n",
       "25%    1994.000000         34.051500         2.913485\n",
       "50%    2001.000000         54.987000         5.453483\n",
       "75%    2009.000000         74.335500         8.963828\n",
       "max    2017.000000        100.000000        32.075305"
      ]
     },
     "execution_count": 30,
     "metadata": {},
     "output_type": "execute_result"
    }
   ],
   "source": [
    "merged.describe()"
   ]
  },
  {
   "cell_type": "code",
   "execution_count": 31,
   "metadata": {
    "scrolled": true
   },
   "outputs": [
    {
     "data": {
      "text/plain": [
       "Entity               object\n",
       "Code                 object\n",
       "Year                  int64\n",
       "Urban_Population    float64\n",
       "Tax_Percent_GDP     float64\n",
       "dtype: object"
      ]
     },
     "execution_count": 31,
     "metadata": {},
     "output_type": "execute_result"
    }
   ],
   "source": [
    "merged.dtypes"
   ]
  },
  {
   "cell_type": "code",
   "execution_count": 32,
   "metadata": {},
   "outputs": [
    {
     "data": {
      "text/plain": [
       "<matplotlib.collections.PathCollection at 0x1fba9eabf08>"
      ]
     },
     "execution_count": 32,
     "metadata": {},
     "output_type": "execute_result"
    },
    {
     "data": {
      "image/png": "[encoded data removed]",
      "text/plain": [
       "<Figure size 432x288 with 1 Axes>"
      ]
     },
     "metadata": {
      "needs_background": "light"
     },
     "output_type": "display_data"
    }
   ],
   "source": [
    "scatter = merged[['Year','Tax_Percent_GDP']].groupby('Year').mean()\n",
    "plt.scatter(scatter.index, scatter['Tax_Percent_GDP'])"
   ]
  },
  {
   "cell_type": "code",
   "execution_count": 33,
   "metadata": {},
   "outputs": [
    {
     "data": {
      "text/plain": [
       "<matplotlib.collections.PathCollection at 0x1fbff857e08>"
      ]
     },
     "execution_count": 33,
     "metadata": {},
     "output_type": "execute_result"
    },
    {
     "data": {
      "image/png": "[encoded data removed]",
      "text/plain": [
       "<Figure size 432x288 with 1 Axes>"
      ]
     },
     "metadata": {
      "needs_background": "light"
     },
     "output_type": "display_data"
    }
   ],
   "source": [
    "scatter = merged[['Urban_Population','Tax_Percent_GDP']].groupby('Urban_Population').mean()\n",
    "plt.scatter(scatter.index, scatter['Tax_Percent_GDP'])"
   ]
  },
  {
   "cell_type": "code",
   "execution_count": 34,
   "metadata": {},
   "outputs": [
    {
     "data": {
      "text/plain": [
       "<matplotlib.collections.PathCollection at 0x1fba9f65108>"
      ]
     },
     "execution_count": 34,
     "metadata": {},
     "output_type": "execute_result"
    },
    {
     "data": {
      "image/png": "[encoded data removed]",
      "text/plain": [
       "<Figure size 432x288 with 1 Axes>"
      ]
     },
     "metadata": {
      "needs_background": "light"
     },
     "output_type": "display_data"
    }
   ],
   "source": [
    "scatter = merged[['Code','Tax_Percent_GDP']].groupby('Code').mean()\n",
    "plt.scatter(scatter.index, scatter['Tax_Percent_GDP'])"
   ]
  },
  {
   "cell_type": "markdown",
   "metadata": {},
   "source": [
    "# OLS Regression\n",
    "#### Using the merged results, generate an ordinary least squares regression showing the effect of the independent variable Urban_Population on the dependent variable Tax_Percent_GDP.\n",
    "\n",
    "#### a. The R squared of the results: \n",
    "<p> The R-squared of the results is .189, meaning that Urban Population explains 18.9% of the variation in Tax_Percent_GDP. </p>\n",
    "\n",
    "#### b. The t-statistic and p-value of the coefficient and intercept: \n",
    "<p> The coefficient on Urban_Population has a t-statistic of 33.567 and a p-value of 0.000. <br>\n",
    "The coefficient on the intercept has a t-statistic of 10.751 and a p-value of 0.000. <br>\n",
    "The model has 1 degrees of freedom equal to the number of independent variables. <br>\n",
    "The spread of the residuals is between -10.42817081998003 - 23.785213651195477. <br>\n",
    "</p>"
   ]
  },
  {
   "cell_type": "code",
   "execution_count": 35,
   "metadata": {},
   "outputs": [],
   "source": [
    "result = smf.ols(formula='Tax_Percent_GDP ~ Urban_Population', data=merged).fit()"
   ]
  },
  {
   "cell_type": "code",
   "execution_count": 36,
   "metadata": {},
   "outputs": [
    {
     "data": {
      "text/html": [
       "<table class=\"simpletable\">\n",
       "<caption>OLS Regression Results</caption>\n",
       "<tr>\n",
       "  <th>Dep. Variable:</th>     <td>Tax_Percent_GDP</td> <th>  R-squared:         </th> <td>   0.189</td> \n",
       "</tr>\n",
       "<tr>\n",
       "  <th>Model:</th>                   <td>OLS</td>       <th>  Adj. R-squared:    </th> <td>   0.189</td> \n",
       "</tr>\n",
       "<tr>\n",
       "  <th>Method:</th>             <td>Least Squares</td>  <th>  F-statistic:       </th> <td>   1127.</td> \n",
       "</tr>\n",
       "<tr>\n",
       "  <th>Date:</th>             <td>Wed, 03 Feb 2021</td> <th>  Prob (F-statistic):</th> <td>3.38e-222</td>\n",
       "</tr>\n",
       "<tr>\n",
       "  <th>Time:</th>                 <td>11:20:08</td>     <th>  Log-Likelihood:    </th> <td> -14029.</td> \n",
       "</tr>\n",
       "<tr>\n",
       "  <th>No. Observations:</th>      <td>  4827</td>      <th>  AIC:               </th> <td>2.806e+04</td>\n",
       "</tr>\n",
       "<tr>\n",
       "  <th>Df Residuals:</th>          <td>  4825</td>      <th>  BIC:               </th> <td>2.808e+04</td>\n",
       "</tr>\n",
       "<tr>\n",
       "  <th>Df Model:</th>              <td>     1</td>      <th>                     </th>     <td> </td>    \n",
       "</tr>\n",
       "<tr>\n",
       "  <th>Covariance Type:</th>      <td>nonrobust</td>    <th>                     </th>     <td> </td>    \n",
       "</tr>\n",
       "</table>\n",
       "<table class=\"simpletable\">\n",
       "<tr>\n",
       "          <td></td>            <th>coef</th>     <th>std err</th>      <th>t</th>      <th>P>|t|</th>  <th>[0.025</th>    <th>0.975]</th>  \n",
       "</tr>\n",
       "<tr>\n",
       "  <th>Intercept</th>        <td>    1.6963</td> <td>    0.158</td> <td>   10.751</td> <td> 0.000</td> <td>    1.387</td> <td>    2.006</td>\n",
       "</tr>\n",
       "<tr>\n",
       "  <th>Urban_Population</th> <td>    0.0888</td> <td>    0.003</td> <td>   33.567</td> <td> 0.000</td> <td>    0.084</td> <td>    0.094</td>\n",
       "</tr>\n",
       "</table>\n",
       "<table class=\"simpletable\">\n",
       "<tr>\n",
       "  <th>Omnibus:</th>       <td>888.216</td> <th>  Durbin-Watson:     </th> <td>   0.113</td>\n",
       "</tr>\n",
       "<tr>\n",
       "  <th>Prob(Omnibus):</th> <td> 0.000</td>  <th>  Jarque-Bera (JB):  </th> <td>2171.610</td>\n",
       "</tr>\n",
       "<tr>\n",
       "  <th>Skew:</th>          <td> 1.021</td>  <th>  Prob(JB):          </th> <td>    0.00</td>\n",
       "</tr>\n",
       "<tr>\n",
       "  <th>Kurtosis:</th>      <td> 5.574</td>  <th>  Cond. No.          </th> <td>    148.</td>\n",
       "</tr>\n",
       "</table><br/><br/>Notes:<br/>[1] Standard Errors assume that the covariance matrix of the errors is correctly specified."
      ],
      "text/plain": [
       "<class 'statsmodels.iolib.summary.Summary'>\n",
       "\"\"\"\n",
       "                            OLS Regression Results                            \n",
       "==============================================================================\n",
       "Dep. Variable:        Tax_Percent_GDP   R-squared:                       0.189\n",
       "Model:                            OLS   Adj. R-squared:                  0.189\n",
       "Method:                 Least Squares   F-statistic:                     1127.\n",
       "Date:                Wed, 03 Feb 2021   Prob (F-statistic):          3.38e-222\n",
       "Time:                        11:20:08   Log-Likelihood:                -14029.\n",
       "No. Observations:                4827   AIC:                         2.806e+04\n",
       "Df Residuals:                    4825   BIC:                         2.808e+04\n",
       "Df Model:                           1                                         \n",
       "Covariance Type:            nonrobust                                         \n",
       "====================================================================================\n",
       "                       coef    std err          t      P>|t|      [0.025      0.975]\n",
       "------------------------------------------------------------------------------------\n",
       "Intercept            1.6963      0.158     10.751      0.000       1.387       2.006\n",
       "Urban_Population     0.0888      0.003     33.567      0.000       0.084       0.094\n",
       "==============================================================================\n",
       "Omnibus:                      888.216   Durbin-Watson:                   0.113\n",
       "Prob(Omnibus):                  0.000   Jarque-Bera (JB):             2171.610\n",
       "Skew:                           1.021   Prob(JB):                         0.00\n",
       "Kurtosis:                       5.574   Cond. No.                         148.\n",
       "==============================================================================\n",
       "\n",
       "Notes:\n",
       "[1] Standard Errors assume that the covariance matrix of the errors is correctly specified.\n",
       "\"\"\""
      ]
     },
     "execution_count": 36,
     "metadata": {},
     "output_type": "execute_result"
    }
   ],
   "source": [
    "result.summary()"
   ]
  },
  {
   "cell_type": "code",
   "execution_count": 37,
   "metadata": {},
   "outputs": [
    {
     "name": "stdout",
     "output_type": "stream",
     "text": [
      "-10.42817081998003 - 23.785213651195477\n"
     ]
    }
   ],
   "source": [
    "influence = OLSInfluence(result)\n",
    "print(influence.resid.min() , \"-\" , influence.resid.max())"
   ]
  },
  {
   "cell_type": "code",
   "execution_count": 38,
   "metadata": {},
   "outputs": [
    {
     "data": {
      "text/plain": [
       "<matplotlib.axes._subplots.AxesSubplot at 0x1fba9f1b9c8>"
      ]
     },
     "execution_count": 38,
     "metadata": {},
     "output_type": "execute_result"
    },
    {
     "data": {
      "image/png": "[encoded data removed]",
      "text/plain": [
       "<Figure size 432x288 with 1 Axes>"
      ]
     },
     "metadata": {
      "needs_background": "light"
     },
     "output_type": "display_data"
    }
   ],
   "source": [
    "influence.resid.plot.hist()"
   ]
  },
  {
   "cell_type": "markdown",
   "metadata": {},
   "source": [
    "# Results Summary\n",
    "The R-squared is low but the R-squared isn't a measure of quality. Particularly, when we are only interested in the relationship between Urban Population and Tax_Percent_GDP, the R-squared isn't important. If we were building a predictive model, the R-Squared would carry more weight. It would be difficult to build a predictive model with a low R-squared. In general, the R-squared does not say anything about the validity of the coefficient estimates. Nor does it tell us whether the regression model is adequate to derive insights or answer our question of inquiry. A good model can have a low R-squared value and a model with a high R-squared could perform poorly on new data.\n",
    "    \n",
    "The F-statistic shows that the model performs better than one with no independent variables. In other words, compared to no independent variables, the model with Urban_Population included fits the data better. \n",
    "\n",
    "The Omnibus test shows that the residuals are not normally distributed. Luckily, normally distributed residuals is not a requirement for the validity of the OLS results. We can still draw interpretations from the coefficient on Urban_Population. \n",
    "\n",
    "The Jarque Bera Test, Skew, and Kurtosis indicate whether the data are normally distributed. The data are not normally distributed according to the results. Nevertheless, this also does not pose a problem when interpreting the coefficient on Urban_Population.\n",
    "\n",
    "<p> <b> Describe the relationship between the independent and dependent variable and your interpretation of its significance.</b><br>\n",
    "On average, when the urban population increases by 1%, the tax rate as a percent of GDP increases by 0.0888%. This relationship is statistically significant at the .01 confidence level with a t-statistic of 33.5 and a p-value of 0.000.\n",
    "</p>\n",
    "\n",
    "<p> <b> What were some challenges you encountered in generating the dataset for analysis, if any? </b> <br>\n",
    "1. The Urban_Population variable is a string with the % symbol in one of the observations. This made it challenging to convert the column to a numeric data type. However, this complication was easily fixed by removing the string characters from the column before converting it to a numeric data type. <br><br>\n",
    "2. The Entity column in the urban_population data set had typos. I rectified this complication by creating a dictionary that maps entities to codes. I used this dictionary to replace all the values in the Entity column with the appropriate entity based on the values in the Code column. <br>      \n",
    "    \n",
    "<b> Based on this initial model, what steps might you take next to validate or extend your analysis, if any? </b> <br>\n",
    "Well, we only include one variable, \"Urban_Population\", in this model. Thus, the model may suffer from omitted-variable bias. As a result, some of the effect of these missing variables could be included in the coefficient on Urban_Population. The next step to extend the analysis would be to identify other relevant variables to include in the model specification. <br> <br>\n",
    "When adding these variables, I would watch how the coefficients and standard errors on Urban_Population and the intercept changes.\n",
    "1. If the coefficient changes, then I would want to examine if the cause of the change was due to solving the omitted-variable bias or another reason.  \n",
    "2. If the intercept changes values drastically, then the new variable may need to be rescaled. For example,  introducing an independent variable in absolute terms might cause the intercept to drastically increase in the model because the dependent variable is in percentage terms.\n",
    "3. Adding a variable that is highly correlated with another independent variable would increase the standard error on the variable or could cause the coefficient to have an opposite sign than what seems intuitive. Ideally, I would examine the correlation between any independent variables in the model and test for multicollinearity possibly by using the variance inflation factor, which measures the increase in the estimated coefficient variance from correlation.\n",
    "    \n",
    "I would also want to analyze whether or not I am under or overfitting the data. So, I might also split the data into testing and training sets using stratified sampling to account for the unbalanced panel data (by country and year). Then I can compare the results between the sets to see how the model reacts when introduced to new data. \n",
    "    \n",
    "<b> If you were asked to study this relationship, how would you convey your findings? </b> <br>\n",
    "How I would convey my findings would depend on the audience. I would take into account whether or not the audience is an internal or external client and the title(s) of the audience. The title of the audience is important because a finance-oriented client might be more persuaded by numbers while those from other job functions might prefer graphical representations. \n",
    "    \n",
    "For an external client, I would choose the most crucial insights from the analysis and create 1 to 3 graphics to visualize the relationship. In this case, the primary relationship under consideration is that between urban population and tax percentage of GDP. For this data, I might use the interquartile range to split the data into four groups [(0%-25%)(25%-50%)(50%-75%)(75%-100%)] and then create a bar chart showing the mean tax rate as a percentage of GDP for each of those groups. It would also be worth exploring the optimum way to cluster Urban Population to yield more insights into the relationship between Urban Population and the tax rate as a percent of GDP.\n",
    "    \n",
    "I would also make an hypothesis statement like \"The percentage of the population living in urban areas is associated with the tax rate as a percentage of GDP\" or \"Higher rates of urban residency is associated with higher tax rates as a percentage of GDP.\" Then, I would test that hypothesis by running a regression and hypothesis tests. To choose an appropriate hypothesis test, I would begin by running a normality test on the data. If the data doesn't follow the normal distribution, I would choose a nonparametric test of significance like Chi square test of independence or Kruskal–Wallis. Otherwise, I would use the t-test or ANOVA to test the hypothesis. These tests are also useful to make decisions on what variables to include or leave out of a regression (in addition to the overall F-statistic and watching how the adjusted R-squared changes when adding variables to a regression model). \n",
    "\n",
    "While I wouldn't want to convey my findings in an overly complex way, depending on the client's preference, I would want to convey the results with at least one statistical test to show the client that expertise went into validating our conclusions. \n",
    "</p> "
   ]
  },
  {
   "cell_type": "code",
   "execution_count": 39,
   "metadata": {},
   "outputs": [],
   "source": [
    "q3, q2, q1 = np.percentile(merged['Urban_Population'], [75, 50, 25])"
   ]
  },
  {
   "cell_type": "code",
   "execution_count": 40,
   "metadata": {},
   "outputs": [],
   "source": [
    "merged['Urban_Population_Quartile'] = 0\n",
    "merged.loc[merged['Urban_Population']>=q3, 'Urban_Population_Quartile'] = 3\n",
    "merged.loc[(merged['Urban_Population']>=q2) & (merged['Urban_Population']<q3), 'Urban_Population_Quartile'] = 2\n",
    "merged.loc[(merged['Urban_Population']>=q1) & (merged['Urban_Population']<q2), 'Urban_Population_Quartile'] = 1"
   ]
  },
  {
   "cell_type": "code",
   "execution_count": 41,
   "metadata": {},
   "outputs": [
    {
     "data": {
      "text/plain": [
       "['Lower middle income',\n",
       " 'Low & middle income',\n",
       " 'Least developed countries: UN classification',\n",
       " 'Latin America & Caribbean (excluding high income)',\n",
       " 'Latin America & Caribbean (IDA & IBRD)',\n",
       " 'Latin America & Caribbean',\n",
       " 'Late-demographic dividend',\n",
       " 'IDA total',\n",
       " 'IDA only',\n",
       " 'IDA blend',\n",
       " 'IDA & IBRD total',\n",
       " 'Caribbean small states',\n",
       " 'IBRD only',\n",
       " 'High income',\n",
       " 'Central Europe and the Baltics',\n",
       " 'Heavily indebted poor countries (HIPC)',\n",
       " 'Fragile and conflict affected situations',\n",
       " 'European Union',\n",
       " 'Europe & Central Asia (excluding high income)',\n",
       " 'Europe & Central Asia (IDA & IBRD)',\n",
       " 'Europe & Central Asia',\n",
       " 'Euro area',\n",
       " 'East Asia & Pacific (excluding high income)',\n",
       " 'East Asia & Pacific (IDA & IBRD)',\n",
       " 'Low income',\n",
       " 'East Asia & Pacific',\n",
       " 'Early-demographic dividend',\n",
       " 'Middle East & North Africa (IDA & IBRD)',\n",
       " 'Upper middle income',\n",
       " 'Syrian Arab Republic',\n",
       " 'Arab World',\n",
       " 'Sub-Saharan Africa (excluding high income)',\n",
       " 'Sub-Saharan Africa (IDA & IBRD)',\n",
       " 'Middle East & North Africa',\n",
       " 'South Asia (IDA & IBRD)',\n",
       " 'South Asia',\n",
       " 'Small states',\n",
       " 'Sub-Saharan Africa',\n",
       " 'Post-demographic dividend',\n",
       " 'Pacific island small states',\n",
       " 'Other small states',\n",
       " 'OECD members',\n",
       " 'North America',\n",
       " 'Middle income',\n",
       " 'Middle East & North Africa (excluding high income)',\n",
       " 'Pre-demographic dividend',\n",
       " 'sjke',\n",
       " 'herger',\n",
       " 'ho4u3h',\n",
       " 'rehojher',\n",
       " 'rreji43',\n",
       " 'shrjehr',\n",
       " '43hu',\n",
       " '43hj43',\n",
       " 'x',\n",
       " 'Palestine',\n",
       " 'Serbia',\n",
       " 'Eritrea',\n",
       " 'Afghanistan',\n",
       " 'Cambodia',\n",
       " 'Botswana',\n",
       " 'Angola',\n",
       " 'Australia',\n",
       " 'Bolivia',\n",
       " 'Bahamas',\n",
       " 'Albania',\n",
       " 'Belarus',\n",
       " 'Portugal',\n",
       " 'Bahrain',\n",
       " 'Puerto Rico',\n",
       " 'Qatar',\n",
       " 'Romania',\n",
       " 'Russia',\n",
       " 'Cyprus',\n",
       " 'Saint Kitts and Nevis',\n",
       " 'Poland',\n",
       " 'Saint Lucia',\n",
       " 'Saint Vincent and the Grenadines',\n",
       " 'Samoa',\n",
       " 'San Marino',\n",
       " 'Sao Tome and Principe',\n",
       " 'Saudi Arabia',\n",
       " 'Senegal',\n",
       " 'Seychelles',\n",
       " 'Sierra Leone',\n",
       " 'Rwanda',\n",
       " 'Philippines',\n",
       " 'Panama',\n",
       " 'Paraguay',\n",
       " 'Myanmar',\n",
       " 'Namibia',\n",
       " 'Nauru',\n",
       " 'Nepal',\n",
       " 'Netherlands',\n",
       " 'New Caledonia',\n",
       " 'New Zealand',\n",
       " 'Nicaragua',\n",
       " 'Niger',\n",
       " 'Nigeria',\n",
       " 'Belgium',\n",
       " 'North Korea',\n",
       " 'Northern Mariana Islands',\n",
       " 'Norway',\n",
       " 'Oman',\n",
       " 'Barbados',\n",
       " 'Bangladesh',\n",
       " 'Pakistan',\n",
       " 'Palau',\n",
       " 'Singapore',\n",
       " 'Papua New Guinea',\n",
       " 'Peru',\n",
       " 'Sint Maarten (Dutch part)',\n",
       " 'Azerbaijan',\n",
       " 'Slovenia',\n",
       " 'Turkey',\n",
       " 'Turkmenistan',\n",
       " 'Turks and Caicos Islands',\n",
       " 'Tuvalu',\n",
       " 'Uganda',\n",
       " 'Ukraine',\n",
       " 'United Arab Emirates',\n",
       " 'United Kingdom',\n",
       " 'United States',\n",
       " 'United States Virgin Islands',\n",
       " 'Tunisia',\n",
       " 'Uruguay',\n",
       " 'Vanuatu',\n",
       " 'Venezuela',\n",
       " 'Vietnam',\n",
       " 'World',\n",
       " 'Yemen',\n",
       " 'Zambia',\n",
       " 'Zimbabwe',\n",
       " 'Andorra',\n",
       " 'American Samoa',\n",
       " 'Algeria',\n",
       " 'Uzbekistan',\n",
       " 'Slovakia',\n",
       " 'Trinidad and Tobago',\n",
       " 'Togo',\n",
       " 'Mozambique',\n",
       " 'Solomon Islands',\n",
       " 'Somalia',\n",
       " 'South Africa',\n",
       " 'Austria',\n",
       " 'South Korea',\n",
       " 'South Sudan',\n",
       " 'Spain',\n",
       " 'Sri Lanka',\n",
       " 'Aruba',\n",
       " 'Tonga',\n",
       " 'Armenia',\n",
       " 'Sudan',\n",
       " 'Suriname',\n",
       " 'Swaziland',\n",
       " 'Sweden',\n",
       " 'Switzerland',\n",
       " 'Antigua and Barbuda',\n",
       " 'Tajikistan',\n",
       " 'Tanzania',\n",
       " 'Thailand',\n",
       " 'Timor',\n",
       " 'Argentina',\n",
       " 'Morocco',\n",
       " 'Mongolia',\n",
       " 'Curacao',\n",
       " 'Gabon',\n",
       " 'Gambia',\n",
       " 'Georgia',\n",
       " 'Germany',\n",
       " 'Ghana',\n",
       " 'Gibraltar',\n",
       " 'Greece',\n",
       " 'Greenland',\n",
       " 'Grenada',\n",
       " 'Guam',\n",
       " 'French Polynesia',\n",
       " 'Guatemala',\n",
       " 'Guinea-Bissau',\n",
       " 'Guyana',\n",
       " 'Haiti',\n",
       " 'Chad',\n",
       " 'Central African Republic',\n",
       " 'Honduras',\n",
       " 'Hong Kong',\n",
       " 'Hungary',\n",
       " 'Cayman Islands',\n",
       " 'Cape Verde',\n",
       " 'Guinea',\n",
       " 'France',\n",
       " 'Channel Islands',\n",
       " 'Finland',\n",
       " 'Czech Republic',\n",
       " 'Democratic Republic of Congo',\n",
       " 'Denmark',\n",
       " 'Djibouti',\n",
       " 'Dominica',\n",
       " 'Dominican Republic',\n",
       " 'Cuba',\n",
       " 'Croatia',\n",
       " \"Cote d'Ivoire\",\n",
       " 'Costa Rica',\n",
       " 'Ecuador',\n",
       " 'Egypt',\n",
       " 'El Salvador',\n",
       " 'Equatorial Guinea',\n",
       " 'Estonia',\n",
       " 'Ethiopia',\n",
       " 'Congo',\n",
       " 'Comoros',\n",
       " 'Colombia',\n",
       " 'China',\n",
       " 'Chile',\n",
       " 'Faeroe Islands',\n",
       " 'Fiji',\n",
       " 'Canada',\n",
       " 'Montenegro',\n",
       " 'Cameroon',\n",
       " 'India',\n",
       " 'Lithuania',\n",
       " 'Bosnia and Herzegovina',\n",
       " 'Luxembourg',\n",
       " 'Macao',\n",
       " 'Macedonia',\n",
       " 'Madagascar',\n",
       " 'Malawi',\n",
       " 'Malaysia',\n",
       " 'Maldives',\n",
       " 'Mali',\n",
       " 'Liechtenstein',\n",
       " 'Malta',\n",
       " 'Mauritania',\n",
       " 'Mauritius',\n",
       " 'Mexico',\n",
       " 'Micronesia (country)',\n",
       " 'Bhutan',\n",
       " 'Bermuda',\n",
       " 'Benin',\n",
       " 'Belize',\n",
       " 'Moldova',\n",
       " 'Monaco',\n",
       " 'Marshall Islands',\n",
       " 'Libya',\n",
       " 'Liberia',\n",
       " 'Brazil',\n",
       " 'Indonesia',\n",
       " 'Iran',\n",
       " 'Iraq',\n",
       " 'Ireland',\n",
       " 'Isle of Man',\n",
       " 'Israel',\n",
       " 'Italy',\n",
       " 'Jamaica',\n",
       " 'Japan',\n",
       " 'Jordan',\n",
       " 'Kazakhstan',\n",
       " 'Kenya',\n",
       " 'Kiribati',\n",
       " 'Kuwait',\n",
       " 'Kyrgyzstan',\n",
       " 'Laos',\n",
       " 'Burundi',\n",
       " 'Burkina Faso',\n",
       " 'Bulgaria',\n",
       " 'Brunei',\n",
       " 'Latvia',\n",
       " 'British Virgin Islands',\n",
       " 'Lebanon',\n",
       " 'Iceland',\n",
       " 'Lesotho']"
      ]
     },
     "execution_count": 41,
     "metadata": {},
     "output_type": "execute_result"
    }
   ],
   "source": [
    "list(df.index)"
   ]
  },
  {
   "cell_type": "code",
   "execution_count": 45,
   "metadata": {},
   "outputs": [
    {
     "data": {
      "image/png": "[encoded data removed]",
      "text/plain": [
       "<Figure size 432x288 with 1 Axes>"
      ]
     },
     "metadata": {
      "needs_background": "light"
     },
     "output_type": "display_data"
    }
   ],
   "source": [
    "df = merged[['Urban_Population_Quartile', 'Tax_Percent_GDP']].groupby('Urban_Population_Quartile').mean()\n",
    "plt.plot([f'0% - {int(q1)}%', f'{int(q1)}% - {int(q2)}%', f'{int(q2)}% - {int(q3)}%' , f'{int(q3)}% - 100%'], df['Tax_Percent_GDP'])\n",
    "plt.xlabel('Urban Population')\n",
    "plt.ylabel('Tax Percent of GDP')\n",
    "plt.title('Average Tax Percent of GDP by Urban Population Share')\n",
    "plt.show()"
   ]
  },
  {
   "cell_type": "code",
   "execution_count": 43,
   "metadata": {},
   "outputs": [
    {
     "data": {
      "text/plain": [
       "NormaltestResult(statistic=1421.7894499318638, pvalue=1.82954768425399e-309)"
      ]
     },
     "execution_count": 43,
     "metadata": {},
     "output_type": "execute_result"
    }
   ],
   "source": [
    "# Urban Population is not normally distributed\n",
    "stats.normaltest(merged['Urban_Population'],axis = 0, nan_policy='omit')"
   ]
  },
  {
   "cell_type": "code",
   "execution_count": 146,
   "metadata": {},
   "outputs": [
    {
     "name": "stdout",
     "output_type": "stream",
     "text": [
      "Statistics=932.766, p=0.000\n"
     ]
    }
   ],
   "source": [
    "# Kruskal test indicates that the means of Tax_Percent_GDP by Urban_Population_Quartile are statistically different. \n",
    "stat, p =  kruskal(merged.loc[merged['Urban_Population_Quartile']==0,'Tax_Percent_GDP'],merged.loc[merged['Urban_Population_Quartile']==1,'Tax_Percent_GDP'],merged.loc[merged['Urban_Population_Quartile']==2,'Tax_Percent_GDP'], merged.loc[merged['Urban_Population_Quartile']==3,'Tax_Percent_GDP'])\n",
    "print(f'Statistics=%.3f, p=%.3f' % (stat, p))"
   ]
  },
  {
   "cell_type": "code",
   "execution_count": 147,
   "metadata": {},
   "outputs": [
    {
     "data": {
      "text/plain": [
       "F_onewayResult(statistic=416.8258717933554, pvalue=9.141856550380467e-241)"
      ]
     },
     "execution_count": 147,
     "metadata": {},
     "output_type": "execute_result"
    }
   ],
   "source": [
    "#The ANOVA test confirms these results.\n",
    "stats.f_oneway(merged.loc[merged['Urban_Population_Quartile']==0,'Tax_Percent_GDP'],merged.loc[merged['Urban_Population_Quartile']==1,'Tax_Percent_GDP'],merged.loc[merged['Urban_Population_Quartile']==2,'Tax_Percent_GDP'], merged.loc[merged['Urban_Population_Quartile']==3,'Tax_Percent_GDP'])"
   ]
  },
  {
   "cell_type": "code",
   "execution_count": null,
   "metadata": {},
   "outputs": [],
   "source": []
  },
  {
   "cell_type": "code",
   "execution_count": null,
   "metadata": {},
   "outputs": [],
   "source": []
  },
  {
   "cell_type": "code",
   "execution_count": null,
   "metadata": {},
   "outputs": [],
   "source": []
  }
 ],
 "metadata": {
  "kernelspec": {
   "display_name": "Python 3",
   "language": "python",
   "name": "python3"
  },
  "language_info": {
   "codemirror_mode": {
    "name": "ipython",
    "version": 3
   },
   "file_extension": ".py",
   "mimetype": "text/x-python",
   "name": "python",
   "nbconvert_exporter": "python",
   "pygments_lexer": "ipython3",
   "version": "3.7.5"
  }
 },
 "nbformat": 4,
 "nbformat_minor": 2
}
