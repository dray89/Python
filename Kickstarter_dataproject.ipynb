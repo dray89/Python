{
 "cells": [
  {
   "cell_type": "code",
   "execution_count": 196,
   "metadata": {},
   "outputs": [],
   "source": [
    "import pandas as pd\n",
    "import numpy as np\n",
    "import datetime\n",
    "import matplotlib.pyplot as plt\n",
    "import seaborn as sns\n",
    "from scipy import stats\n",
    "from scipy.stats import skew\n",
    "from scipy.stats import chisquare\n",
    "from scipy.stats import kruskal\n",
    "import scikit_posthocs\n",
    "from sklearn.preprocessing import LabelEncoder\n",
    "from sklearn.model_selection import train_test_split\n",
    "from sklearn.linear_model import LogisticRegression\n",
    "from sklearn.naive_bayes import GaussianNB\n",
    "from sklearn.ensemble import RandomForestClassifier\n",
    "from sklearn.metrics import classification_report\n",
    "from sklearn.metrics import confusion_matrix\n",
    "from sklearn.metrics import f1_score\n",
    "from sklearn import svm, datasets\n",
    "from sklearn.model_selection import GridSearchCV\n",
    "from sklearn.model_selection import StratifiedKFold\n",
    "from sklearn.feature_selection import SelectFromModel\n",
    "import xgboost as xgb\n",
    "from xgboost import XGBClassifier\n",
    "from xgboost import plot_importance"
   ]
  },
  {
   "cell_type": "code",
   "execution_count": 3,
   "metadata": {},
   "outputs": [
    {
     "name": "stderr",
     "output_type": "stream",
     "text": [
      "C:\\Users\\rayde\\Anaconda3\\lib\\site-packages\\ipykernel_launcher.py:1: FutureWarning: Your version of xlrd is 1.2.0. In xlrd >= 2.0, only the xls format is supported. As a result, the openpyxl engine will be used if it is installed and the engine argument is not specified. Install openpyxl instead.\n",
      "  \"\"\"Entry point for launching an IPython kernel.\n"
     ]
    }
   ],
   "source": [
    "df = pd.read_excel(r\"C:\\Users\\rayde\\Desktop\\DSI_kickstarterscrape_dataset.xlsx\", parse_dates=['funded date'])"
   ]
  },
  {
   "cell_type": "code",
   "execution_count": 4,
   "metadata": {
    "scrolled": false
   },
   "outputs": [
    {
     "data": {
      "text/plain": [
       "Index(['project id', 'name', 'url', 'category', 'subcategory', 'location',\n",
       "       'status', 'goal', 'pledged', 'funded percentage', 'backers',\n",
       "       'funded date', 'levels', 'reward levels', 'updates', 'comments',\n",
       "       'duration'],\n",
       "      dtype='object')"
      ]
     },
     "execution_count": 4,
     "metadata": {},
     "output_type": "execute_result"
    }
   ],
   "source": [
    "df.columns"
   ]
  },
  {
   "cell_type": "code",
   "execution_count": 5,
   "metadata": {
    "scrolled": true
   },
   "outputs": [
    {
     "data": {
      "text/html": [
       "<div>\n",
       "<style scoped>\n",
       "    .dataframe tbody tr th:only-of-type {\n",
       "        vertical-align: middle;\n",
       "    }\n",
       "\n",
       "    .dataframe tbody tr th {\n",
       "        vertical-align: top;\n",
       "    }\n",
       "\n",
       "    .dataframe thead th {\n",
       "        text-align: right;\n",
       "    }\n",
       "</style>\n",
       "<table border=\"1\" class=\"dataframe\">\n",
       "  <thead>\n",
       "    <tr style=\"text-align: right;\">\n",
       "      <th></th>\n",
       "      <th>project id</th>\n",
       "      <th>goal</th>\n",
       "      <th>pledged</th>\n",
       "      <th>funded percentage</th>\n",
       "      <th>backers</th>\n",
       "      <th>levels</th>\n",
       "      <th>updates</th>\n",
       "      <th>comments</th>\n",
       "      <th>duration</th>\n",
       "    </tr>\n",
       "  </thead>\n",
       "  <tbody>\n",
       "    <tr>\n",
       "      <th>count</th>\n",
       "      <td>4.595700e+04</td>\n",
       "      <td>4.595700e+04</td>\n",
       "      <td>4.594500e+04</td>\n",
       "      <td>45957.000000</td>\n",
       "      <td>45957.000000</td>\n",
       "      <td>45957.000000</td>\n",
       "      <td>45957.00000</td>\n",
       "      <td>45957.000000</td>\n",
       "      <td>45957.000000</td>\n",
       "    </tr>\n",
       "    <tr>\n",
       "      <th>mean</th>\n",
       "      <td>1.080800e+09</td>\n",
       "      <td>1.194271e+04</td>\n",
       "      <td>4.980750e+03</td>\n",
       "      <td>1.850129</td>\n",
       "      <td>69.973192</td>\n",
       "      <td>8.004939</td>\n",
       "      <td>4.08508</td>\n",
       "      <td>8.379529</td>\n",
       "      <td>39.995547</td>\n",
       "    </tr>\n",
       "    <tr>\n",
       "      <th>std</th>\n",
       "      <td>6.218057e+08</td>\n",
       "      <td>1.887583e+05</td>\n",
       "      <td>5.674162e+04</td>\n",
       "      <td>88.492706</td>\n",
       "      <td>688.628479</td>\n",
       "      <td>4.233907</td>\n",
       "      <td>6.43922</td>\n",
       "      <td>174.015737</td>\n",
       "      <td>17.414458</td>\n",
       "    </tr>\n",
       "    <tr>\n",
       "      <th>min</th>\n",
       "      <td>3.940900e+04</td>\n",
       "      <td>1.000000e-02</td>\n",
       "      <td>0.000000e+00</td>\n",
       "      <td>0.000000</td>\n",
       "      <td>0.000000</td>\n",
       "      <td>0.000000</td>\n",
       "      <td>0.00000</td>\n",
       "      <td>0.000000</td>\n",
       "      <td>1.000000</td>\n",
       "    </tr>\n",
       "    <tr>\n",
       "      <th>25%</th>\n",
       "      <td>5.438962e+08</td>\n",
       "      <td>1.800000e+03</td>\n",
       "      <td>1.960000e+02</td>\n",
       "      <td>0.044000</td>\n",
       "      <td>5.000000</td>\n",
       "      <td>5.000000</td>\n",
       "      <td>0.00000</td>\n",
       "      <td>0.000000</td>\n",
       "      <td>30.000000</td>\n",
       "    </tr>\n",
       "    <tr>\n",
       "      <th>50%</th>\n",
       "      <td>1.078345e+09</td>\n",
       "      <td>4.000000e+03</td>\n",
       "      <td>1.310000e+03</td>\n",
       "      <td>1.000000</td>\n",
       "      <td>23.000000</td>\n",
       "      <td>7.000000</td>\n",
       "      <td>2.00000</td>\n",
       "      <td>0.000000</td>\n",
       "      <td>32.000000</td>\n",
       "    </tr>\n",
       "    <tr>\n",
       "      <th>75%</th>\n",
       "      <td>1.621596e+09</td>\n",
       "      <td>9.862000e+03</td>\n",
       "      <td>4.165000e+03</td>\n",
       "      <td>1.115640</td>\n",
       "      <td>59.000000</td>\n",
       "      <td>10.000000</td>\n",
       "      <td>6.00000</td>\n",
       "      <td>3.000000</td>\n",
       "      <td>48.390000</td>\n",
       "    </tr>\n",
       "    <tr>\n",
       "      <th>max</th>\n",
       "      <td>2.147460e+09</td>\n",
       "      <td>2.147484e+07</td>\n",
       "      <td>1.026684e+07</td>\n",
       "      <td>15066.000000</td>\n",
       "      <td>87142.000000</td>\n",
       "      <td>80.000000</td>\n",
       "      <td>149.00000</td>\n",
       "      <td>19311.000000</td>\n",
       "      <td>91.960000</td>\n",
       "    </tr>\n",
       "  </tbody>\n",
       "</table>\n",
       "</div>"
      ],
      "text/plain": [
       "         project id          goal       pledged  funded percentage  \\\n",
       "count  4.595700e+04  4.595700e+04  4.594500e+04       45957.000000   \n",
       "mean   1.080800e+09  1.194271e+04  4.980750e+03           1.850129   \n",
       "std    6.218057e+08  1.887583e+05  5.674162e+04          88.492706   \n",
       "min    3.940900e+04  1.000000e-02  0.000000e+00           0.000000   \n",
       "25%    5.438962e+08  1.800000e+03  1.960000e+02           0.044000   \n",
       "50%    1.078345e+09  4.000000e+03  1.310000e+03           1.000000   \n",
       "75%    1.621596e+09  9.862000e+03  4.165000e+03           1.115640   \n",
       "max    2.147460e+09  2.147484e+07  1.026684e+07       15066.000000   \n",
       "\n",
       "            backers        levels      updates      comments      duration  \n",
       "count  45957.000000  45957.000000  45957.00000  45957.000000  45957.000000  \n",
       "mean      69.973192      8.004939      4.08508      8.379529     39.995547  \n",
       "std      688.628479      4.233907      6.43922    174.015737     17.414458  \n",
       "min        0.000000      0.000000      0.00000      0.000000      1.000000  \n",
       "25%        5.000000      5.000000      0.00000      0.000000     30.000000  \n",
       "50%       23.000000      7.000000      2.00000      0.000000     32.000000  \n",
       "75%       59.000000     10.000000      6.00000      3.000000     48.390000  \n",
       "max    87142.000000     80.000000    149.00000  19311.000000     91.960000  "
      ]
     },
     "execution_count": 5,
     "metadata": {},
     "output_type": "execute_result"
    }
   ],
   "source": [
    "df.describe()"
   ]
  },
  {
   "cell_type": "code",
   "execution_count": 6,
   "metadata": {},
   "outputs": [],
   "source": [
    "df.fillna(value=np.nan, inplace=True)"
   ]
  },
  {
   "cell_type": "markdown",
   "metadata": {},
   "source": [
    "## Browse Duplicates"
   ]
  },
  {
   "cell_type": "code",
   "execution_count": 7,
   "metadata": {
    "scrolled": true
   },
   "outputs": [
    {
     "data": {
      "text/html": [
       "<div>\n",
       "<style scoped>\n",
       "    .dataframe tbody tr th:only-of-type {\n",
       "        vertical-align: middle;\n",
       "    }\n",
       "\n",
       "    .dataframe tbody tr th {\n",
       "        vertical-align: top;\n",
       "    }\n",
       "\n",
       "    .dataframe thead th {\n",
       "        text-align: right;\n",
       "    }\n",
       "</style>\n",
       "<table border=\"1\" class=\"dataframe\">\n",
       "  <thead>\n",
       "    <tr style=\"text-align: right;\">\n",
       "      <th></th>\n",
       "      <th>project id</th>\n",
       "      <th>name</th>\n",
       "      <th>url</th>\n",
       "      <th>category</th>\n",
       "      <th>subcategory</th>\n",
       "      <th>location</th>\n",
       "      <th>status</th>\n",
       "      <th>goal</th>\n",
       "      <th>pledged</th>\n",
       "      <th>funded percentage</th>\n",
       "      <th>backers</th>\n",
       "      <th>funded date</th>\n",
       "      <th>levels</th>\n",
       "      <th>reward levels</th>\n",
       "      <th>updates</th>\n",
       "      <th>comments</th>\n",
       "      <th>duration</th>\n",
       "    </tr>\n",
       "  </thead>\n",
       "  <tbody>\n",
       "    <tr>\n",
       "      <th>45651</th>\n",
       "      <td>2140333236</td>\n",
       "      <td>Imagined Family Heirlooms: An Archive of Inher...</td>\n",
       "      <td>http://www.kickstarter.com/projects/andersonst...</td>\n",
       "      <td>Photography</td>\n",
       "      <td>Photography</td>\n",
       "      <td>Little Rock, AR</td>\n",
       "      <td>successful</td>\n",
       "      <td>5800.0</td>\n",
       "      <td>8521.0</td>\n",
       "      <td>1.469138</td>\n",
       "      <td>110</td>\n",
       "      <td>2011-07-29 00:53:53+00:00</td>\n",
       "      <td>16</td>\n",
       "      <td>$10,$20,$35,$50,$75,$100,$150,$200,$225,$300,$...</td>\n",
       "      <td>5</td>\n",
       "      <td>4</td>\n",
       "      <td>67.00</td>\n",
       "    </tr>\n",
       "    <tr>\n",
       "      <th>45652</th>\n",
       "      <td>2140333236</td>\n",
       "      <td>Imagined Family Heirlooms: An Archive of Inher...</td>\n",
       "      <td>http://www.kickstarter.com/projects/andersonst...</td>\n",
       "      <td>Photography</td>\n",
       "      <td>Photography</td>\n",
       "      <td>Little Rock, AR</td>\n",
       "      <td>successful</td>\n",
       "      <td>5800.0</td>\n",
       "      <td>8521.0</td>\n",
       "      <td>1.469138</td>\n",
       "      <td>110</td>\n",
       "      <td>2011-07-29 00:53:53+00:00</td>\n",
       "      <td>16</td>\n",
       "      <td>$10,$20,$35,$50,$75,$100,$150,$200,$225,$300,$...</td>\n",
       "      <td>5</td>\n",
       "      <td>4</td>\n",
       "      <td>67.00</td>\n",
       "    </tr>\n",
       "    <tr>\n",
       "      <th>45653</th>\n",
       "      <td>2140344109</td>\n",
       "      <td>Help Fund Thana Alexa's Debut Album &amp;quot;Ode ...</td>\n",
       "      <td>http://www.kickstarter.com/projects/1024906052...</td>\n",
       "      <td>Music</td>\n",
       "      <td>Jazz</td>\n",
       "      <td>New York, NY</td>\n",
       "      <td>successful</td>\n",
       "      <td>15000.0</td>\n",
       "      <td>16678.0</td>\n",
       "      <td>1.111867</td>\n",
       "      <td>142</td>\n",
       "      <td>2012-05-20 20:36:57+00:00</td>\n",
       "      <td>16</td>\n",
       "      <td>$1,$5,$10,$15,$25,$50,$75,$100,$200,$250,$300,...</td>\n",
       "      <td>5</td>\n",
       "      <td>2</td>\n",
       "      <td>32.00</td>\n",
       "    </tr>\n",
       "    <tr>\n",
       "      <th>45654</th>\n",
       "      <td>2140344109</td>\n",
       "      <td>Help Fund Thana Alexa's Debut Album &amp;quot;Ode ...</td>\n",
       "      <td>http://www.kickstarter.com/projects/1024906052...</td>\n",
       "      <td>Music</td>\n",
       "      <td>Jazz</td>\n",
       "      <td>New York, NY</td>\n",
       "      <td>successful</td>\n",
       "      <td>15000.0</td>\n",
       "      <td>16678.0</td>\n",
       "      <td>1.111867</td>\n",
       "      <td>142</td>\n",
       "      <td>2012-05-20 20:36:57+00:00</td>\n",
       "      <td>16</td>\n",
       "      <td>$1,$5,$10,$15,$25,$50,$75,$100,$200,$250,$300,...</td>\n",
       "      <td>5</td>\n",
       "      <td>2</td>\n",
       "      <td>32.00</td>\n",
       "    </tr>\n",
       "    <tr>\n",
       "      <th>45655</th>\n",
       "      <td>2140513451</td>\n",
       "      <td>The Cookie Chew - Changing the Way We Eat a Co...</td>\n",
       "      <td>http://www.kickstarter.com/projects/1650956569...</td>\n",
       "      <td>Food</td>\n",
       "      <td>Food</td>\n",
       "      <td>San Diego, CA</td>\n",
       "      <td>successful</td>\n",
       "      <td>4500.0</td>\n",
       "      <td>5540.0</td>\n",
       "      <td>1.231111</td>\n",
       "      <td>89</td>\n",
       "      <td>2010-08-24 04:43:00+00:00</td>\n",
       "      <td>5</td>\n",
       "      <td>$10,$50,$75,$100,$500</td>\n",
       "      <td>14</td>\n",
       "      <td>17</td>\n",
       "      <td>43.27</td>\n",
       "    </tr>\n",
       "    <tr>\n",
       "      <th>...</th>\n",
       "      <td>...</td>\n",
       "      <td>...</td>\n",
       "      <td>...</td>\n",
       "      <td>...</td>\n",
       "      <td>...</td>\n",
       "      <td>...</td>\n",
       "      <td>...</td>\n",
       "      <td>...</td>\n",
       "      <td>...</td>\n",
       "      <td>...</td>\n",
       "      <td>...</td>\n",
       "      <td>...</td>\n",
       "      <td>...</td>\n",
       "      <td>...</td>\n",
       "      <td>...</td>\n",
       "      <td>...</td>\n",
       "      <td>...</td>\n",
       "    </tr>\n",
       "    <tr>\n",
       "      <th>45930</th>\n",
       "      <td>2146435917</td>\n",
       "      <td>Making Mama(s) Proud: The 2011 &amp;quot;Donna/Mad...</td>\n",
       "      <td>http://www.kickstarter.com/projects/johnpaulka...</td>\n",
       "      <td>Theater</td>\n",
       "      <td>Theater</td>\n",
       "      <td>Los Angeles, CA</td>\n",
       "      <td>successful</td>\n",
       "      <td>5000.0</td>\n",
       "      <td>5390.0</td>\n",
       "      <td>1.078000</td>\n",
       "      <td>86</td>\n",
       "      <td>2011-06-04 08:56:58+00:00</td>\n",
       "      <td>8</td>\n",
       "      <td>$1,$10,$25,$50,$100,$200,$500,$1,000</td>\n",
       "      <td>5</td>\n",
       "      <td>1</td>\n",
       "      <td>30.00</td>\n",
       "    </tr>\n",
       "    <tr>\n",
       "      <th>45931</th>\n",
       "      <td>2146437406</td>\n",
       "      <td>The Production of Erasure</td>\n",
       "      <td>http://www.kickstarter.com/projects/295025953/...</td>\n",
       "      <td>Photography</td>\n",
       "      <td>Photography</td>\n",
       "      <td>Brooklyn, NY</td>\n",
       "      <td>successful</td>\n",
       "      <td>1200.0</td>\n",
       "      <td>1220.0</td>\n",
       "      <td>1.016667</td>\n",
       "      <td>17</td>\n",
       "      <td>2011-03-03 04:09:38+00:00</td>\n",
       "      <td>6</td>\n",
       "      <td>$15,$25,$50,$100,$200,$500</td>\n",
       "      <td>1</td>\n",
       "      <td>0</td>\n",
       "      <td>30.00</td>\n",
       "    </tr>\n",
       "    <tr>\n",
       "      <th>45932</th>\n",
       "      <td>2146437406</td>\n",
       "      <td>The Production of Erasure</td>\n",
       "      <td>http://www.kickstarter.com/projects/295025953/...</td>\n",
       "      <td>Photography</td>\n",
       "      <td>Photography</td>\n",
       "      <td>Brooklyn, NY</td>\n",
       "      <td>successful</td>\n",
       "      <td>1200.0</td>\n",
       "      <td>1220.0</td>\n",
       "      <td>1.016667</td>\n",
       "      <td>17</td>\n",
       "      <td>2011-03-03 04:09:38+00:00</td>\n",
       "      <td>6</td>\n",
       "      <td>$15,$25,$50,$100,$200,$500</td>\n",
       "      <td>1</td>\n",
       "      <td>0</td>\n",
       "      <td>30.00</td>\n",
       "    </tr>\n",
       "    <tr>\n",
       "      <th>45933</th>\n",
       "      <td>2146534146</td>\n",
       "      <td>CALLING on ANGELS - not FOR KIDS ONLY!</td>\n",
       "      <td>http://www.kickstarter.com/projects/callingona...</td>\n",
       "      <td>Film &amp;amp; Video</td>\n",
       "      <td>Film &amp;amp; Video</td>\n",
       "      <td>Burbank, CA</td>\n",
       "      <td>failed</td>\n",
       "      <td>10000.0</td>\n",
       "      <td>250.0</td>\n",
       "      <td>0.025000</td>\n",
       "      <td>1</td>\n",
       "      <td>2011-09-10 19:00:47+00:00</td>\n",
       "      <td>11</td>\n",
       "      <td>$10,$25,$50,$75,$100,$150,$250,$500,$1,000,$1,...</td>\n",
       "      <td>0</td>\n",
       "      <td>0</td>\n",
       "      <td>60.00</td>\n",
       "    </tr>\n",
       "    <tr>\n",
       "      <th>45934</th>\n",
       "      <td>2146534146</td>\n",
       "      <td>CALLING on ANGELS - not FOR KIDS ONLY!</td>\n",
       "      <td>http://www.kickstarter.com/projects/callingona...</td>\n",
       "      <td>Film &amp; Video</td>\n",
       "      <td>Film &amp;amp; Video</td>\n",
       "      <td>Burbank, CA</td>\n",
       "      <td>failed</td>\n",
       "      <td>10000.0</td>\n",
       "      <td>250.0</td>\n",
       "      <td>0.025000</td>\n",
       "      <td>1</td>\n",
       "      <td>2011-09-10 19:00:47+00:00</td>\n",
       "      <td>11</td>\n",
       "      <td>$10,$25,$50,$75,$100,$150,$250,$500,$1,000,$1,...</td>\n",
       "      <td>0</td>\n",
       "      <td>0</td>\n",
       "      <td>60.00</td>\n",
       "    </tr>\n",
       "  </tbody>\n",
       "</table>\n",
       "<p>284 rows × 17 columns</p>\n",
       "</div>"
      ],
      "text/plain": [
       "       project id                                               name  \\\n",
       "45651  2140333236  Imagined Family Heirlooms: An Archive of Inher...   \n",
       "45652  2140333236  Imagined Family Heirlooms: An Archive of Inher...   \n",
       "45653  2140344109  Help Fund Thana Alexa's Debut Album &quot;Ode ...   \n",
       "45654  2140344109  Help Fund Thana Alexa's Debut Album &quot;Ode ...   \n",
       "45655  2140513451  The Cookie Chew - Changing the Way We Eat a Co...   \n",
       "...           ...                                                ...   \n",
       "45930  2146435917  Making Mama(s) Proud: The 2011 &quot;Donna/Mad...   \n",
       "45931  2146437406                          The Production of Erasure   \n",
       "45932  2146437406                          The Production of Erasure   \n",
       "45933  2146534146             CALLING on ANGELS - not FOR KIDS ONLY!   \n",
       "45934  2146534146             CALLING on ANGELS - not FOR KIDS ONLY!   \n",
       "\n",
       "                                                     url          category  \\\n",
       "45651  http://www.kickstarter.com/projects/andersonst...       Photography   \n",
       "45652  http://www.kickstarter.com/projects/andersonst...       Photography   \n",
       "45653  http://www.kickstarter.com/projects/1024906052...             Music   \n",
       "45654  http://www.kickstarter.com/projects/1024906052...             Music   \n",
       "45655  http://www.kickstarter.com/projects/1650956569...              Food   \n",
       "...                                                  ...               ...   \n",
       "45930  http://www.kickstarter.com/projects/johnpaulka...           Theater   \n",
       "45931  http://www.kickstarter.com/projects/295025953/...       Photography   \n",
       "45932  http://www.kickstarter.com/projects/295025953/...       Photography   \n",
       "45933  http://www.kickstarter.com/projects/callingona...  Film &amp; Video   \n",
       "45934  http://www.kickstarter.com/projects/callingona...      Film & Video   \n",
       "\n",
       "            subcategory         location      status     goal  pledged  \\\n",
       "45651       Photography  Little Rock, AR  successful   5800.0   8521.0   \n",
       "45652       Photography  Little Rock, AR  successful   5800.0   8521.0   \n",
       "45653              Jazz     New York, NY  successful  15000.0  16678.0   \n",
       "45654              Jazz     New York, NY  successful  15000.0  16678.0   \n",
       "45655              Food    San Diego, CA  successful   4500.0   5540.0   \n",
       "...                 ...              ...         ...      ...      ...   \n",
       "45930           Theater  Los Angeles, CA  successful   5000.0   5390.0   \n",
       "45931       Photography     Brooklyn, NY  successful   1200.0   1220.0   \n",
       "45932       Photography     Brooklyn, NY  successful   1200.0   1220.0   \n",
       "45933  Film &amp; Video      Burbank, CA      failed  10000.0    250.0   \n",
       "45934  Film &amp; Video      Burbank, CA      failed  10000.0    250.0   \n",
       "\n",
       "       funded percentage  backers               funded date  levels  \\\n",
       "45651           1.469138      110 2011-07-29 00:53:53+00:00      16   \n",
       "45652           1.469138      110 2011-07-29 00:53:53+00:00      16   \n",
       "45653           1.111867      142 2012-05-20 20:36:57+00:00      16   \n",
       "45654           1.111867      142 2012-05-20 20:36:57+00:00      16   \n",
       "45655           1.231111       89 2010-08-24 04:43:00+00:00       5   \n",
       "...                  ...      ...                       ...     ...   \n",
       "45930           1.078000       86 2011-06-04 08:56:58+00:00       8   \n",
       "45931           1.016667       17 2011-03-03 04:09:38+00:00       6   \n",
       "45932           1.016667       17 2011-03-03 04:09:38+00:00       6   \n",
       "45933           0.025000        1 2011-09-10 19:00:47+00:00      11   \n",
       "45934           0.025000        1 2011-09-10 19:00:47+00:00      11   \n",
       "\n",
       "                                           reward levels  updates  comments  \\\n",
       "45651  $10,$20,$35,$50,$75,$100,$150,$200,$225,$300,$...        5         4   \n",
       "45652  $10,$20,$35,$50,$75,$100,$150,$200,$225,$300,$...        5         4   \n",
       "45653  $1,$5,$10,$15,$25,$50,$75,$100,$200,$250,$300,...        5         2   \n",
       "45654  $1,$5,$10,$15,$25,$50,$75,$100,$200,$250,$300,...        5         2   \n",
       "45655                              $10,$50,$75,$100,$500       14        17   \n",
       "...                                                  ...      ...       ...   \n",
       "45930               $1,$10,$25,$50,$100,$200,$500,$1,000        5         1   \n",
       "45931                         $15,$25,$50,$100,$200,$500        1         0   \n",
       "45932                         $15,$25,$50,$100,$200,$500        1         0   \n",
       "45933  $10,$25,$50,$75,$100,$150,$250,$500,$1,000,$1,...        0         0   \n",
       "45934  $10,$25,$50,$75,$100,$150,$250,$500,$1,000,$1,...        0         0   \n",
       "\n",
       "       duration  \n",
       "45651     67.00  \n",
       "45652     67.00  \n",
       "45653     32.00  \n",
       "45654     32.00  \n",
       "45655     43.27  \n",
       "...         ...  \n",
       "45930     30.00  \n",
       "45931     30.00  \n",
       "45932     30.00  \n",
       "45933     60.00  \n",
       "45934     60.00  \n",
       "\n",
       "[284 rows x 17 columns]"
      ]
     },
     "execution_count": 7,
     "metadata": {},
     "output_type": "execute_result"
    }
   ],
   "source": [
    "bool_filter = df['project id'].duplicated() == True\n",
    "values = list(df['project id'][bool_filter].values)\n",
    "df[df['project id'].isin(values)].sort_values('project id')"
   ]
  },
  {
   "cell_type": "code",
   "execution_count": 8,
   "metadata": {
    "scrolled": true
   },
   "outputs": [
    {
     "data": {
      "text/html": [
       "<div>\n",
       "<style scoped>\n",
       "    .dataframe tbody tr th:only-of-type {\n",
       "        vertical-align: middle;\n",
       "    }\n",
       "\n",
       "    .dataframe tbody tr th {\n",
       "        vertical-align: top;\n",
       "    }\n",
       "\n",
       "    .dataframe thead th {\n",
       "        text-align: right;\n",
       "    }\n",
       "</style>\n",
       "<table border=\"1\" class=\"dataframe\">\n",
       "  <thead>\n",
       "    <tr style=\"text-align: right;\">\n",
       "      <th></th>\n",
       "      <th>project id</th>\n",
       "      <th>name</th>\n",
       "      <th>url</th>\n",
       "      <th>category</th>\n",
       "      <th>subcategory</th>\n",
       "      <th>location</th>\n",
       "      <th>status</th>\n",
       "      <th>goal</th>\n",
       "      <th>pledged</th>\n",
       "      <th>funded percentage</th>\n",
       "      <th>backers</th>\n",
       "      <th>funded date</th>\n",
       "      <th>levels</th>\n",
       "      <th>reward levels</th>\n",
       "      <th>updates</th>\n",
       "      <th>comments</th>\n",
       "      <th>duration</th>\n",
       "    </tr>\n",
       "  </thead>\n",
       "  <tbody>\n",
       "    <tr>\n",
       "      <th>45651</th>\n",
       "      <td>2140333236</td>\n",
       "      <td>Imagined Family Heirlooms: An Archive of Inher...</td>\n",
       "      <td>http://www.kickstarter.com/projects/andersonst...</td>\n",
       "      <td>Photography</td>\n",
       "      <td>Photography</td>\n",
       "      <td>Little Rock, AR</td>\n",
       "      <td>successful</td>\n",
       "      <td>5800.0</td>\n",
       "      <td>8521.0</td>\n",
       "      <td>1.469138</td>\n",
       "      <td>110</td>\n",
       "      <td>2011-07-29 00:53:53+00:00</td>\n",
       "      <td>16</td>\n",
       "      <td>$10,$20,$35,$50,$75,$100,$150,$200,$225,$300,$...</td>\n",
       "      <td>5</td>\n",
       "      <td>4</td>\n",
       "      <td>67.00</td>\n",
       "    </tr>\n",
       "    <tr>\n",
       "      <th>45652</th>\n",
       "      <td>2140333236</td>\n",
       "      <td>Imagined Family Heirlooms: An Archive of Inher...</td>\n",
       "      <td>http://www.kickstarter.com/projects/andersonst...</td>\n",
       "      <td>Photography</td>\n",
       "      <td>Photography</td>\n",
       "      <td>Little Rock, AR</td>\n",
       "      <td>successful</td>\n",
       "      <td>5800.0</td>\n",
       "      <td>8521.0</td>\n",
       "      <td>1.469138</td>\n",
       "      <td>110</td>\n",
       "      <td>2011-07-29 00:53:53+00:00</td>\n",
       "      <td>16</td>\n",
       "      <td>$10,$20,$35,$50,$75,$100,$150,$200,$225,$300,$...</td>\n",
       "      <td>5</td>\n",
       "      <td>4</td>\n",
       "      <td>67.00</td>\n",
       "    </tr>\n",
       "    <tr>\n",
       "      <th>45653</th>\n",
       "      <td>2140344109</td>\n",
       "      <td>Help Fund Thana Alexa's Debut Album &amp;quot;Ode ...</td>\n",
       "      <td>http://www.kickstarter.com/projects/1024906052...</td>\n",
       "      <td>Music</td>\n",
       "      <td>Jazz</td>\n",
       "      <td>New York, NY</td>\n",
       "      <td>successful</td>\n",
       "      <td>15000.0</td>\n",
       "      <td>16678.0</td>\n",
       "      <td>1.111867</td>\n",
       "      <td>142</td>\n",
       "      <td>2012-05-20 20:36:57+00:00</td>\n",
       "      <td>16</td>\n",
       "      <td>$1,$5,$10,$15,$25,$50,$75,$100,$200,$250,$300,...</td>\n",
       "      <td>5</td>\n",
       "      <td>2</td>\n",
       "      <td>32.00</td>\n",
       "    </tr>\n",
       "    <tr>\n",
       "      <th>45654</th>\n",
       "      <td>2140344109</td>\n",
       "      <td>Help Fund Thana Alexa's Debut Album &amp;quot;Ode ...</td>\n",
       "      <td>http://www.kickstarter.com/projects/1024906052...</td>\n",
       "      <td>Music</td>\n",
       "      <td>Jazz</td>\n",
       "      <td>New York, NY</td>\n",
       "      <td>successful</td>\n",
       "      <td>15000.0</td>\n",
       "      <td>16678.0</td>\n",
       "      <td>1.111867</td>\n",
       "      <td>142</td>\n",
       "      <td>2012-05-20 20:36:57+00:00</td>\n",
       "      <td>16</td>\n",
       "      <td>$1,$5,$10,$15,$25,$50,$75,$100,$200,$250,$300,...</td>\n",
       "      <td>5</td>\n",
       "      <td>2</td>\n",
       "      <td>32.00</td>\n",
       "    </tr>\n",
       "    <tr>\n",
       "      <th>45655</th>\n",
       "      <td>2140513451</td>\n",
       "      <td>The Cookie Chew - Changing the Way We Eat a Co...</td>\n",
       "      <td>http://www.kickstarter.com/projects/1650956569...</td>\n",
       "      <td>Food</td>\n",
       "      <td>Food</td>\n",
       "      <td>San Diego, CA</td>\n",
       "      <td>successful</td>\n",
       "      <td>4500.0</td>\n",
       "      <td>5540.0</td>\n",
       "      <td>1.231111</td>\n",
       "      <td>89</td>\n",
       "      <td>2010-08-24 04:43:00+00:00</td>\n",
       "      <td>5</td>\n",
       "      <td>$10,$50,$75,$100,$500</td>\n",
       "      <td>14</td>\n",
       "      <td>17</td>\n",
       "      <td>43.27</td>\n",
       "    </tr>\n",
       "  </tbody>\n",
       "</table>\n",
       "</div>"
      ],
      "text/plain": [
       "       project id                                               name  \\\n",
       "45651  2140333236  Imagined Family Heirlooms: An Archive of Inher...   \n",
       "45652  2140333236  Imagined Family Heirlooms: An Archive of Inher...   \n",
       "45653  2140344109  Help Fund Thana Alexa's Debut Album &quot;Ode ...   \n",
       "45654  2140344109  Help Fund Thana Alexa's Debut Album &quot;Ode ...   \n",
       "45655  2140513451  The Cookie Chew - Changing the Way We Eat a Co...   \n",
       "\n",
       "                                                     url     category  \\\n",
       "45651  http://www.kickstarter.com/projects/andersonst...  Photography   \n",
       "45652  http://www.kickstarter.com/projects/andersonst...  Photography   \n",
       "45653  http://www.kickstarter.com/projects/1024906052...        Music   \n",
       "45654  http://www.kickstarter.com/projects/1024906052...        Music   \n",
       "45655  http://www.kickstarter.com/projects/1650956569...         Food   \n",
       "\n",
       "       subcategory         location      status     goal  pledged  \\\n",
       "45651  Photography  Little Rock, AR  successful   5800.0   8521.0   \n",
       "45652  Photography  Little Rock, AR  successful   5800.0   8521.0   \n",
       "45653         Jazz     New York, NY  successful  15000.0  16678.0   \n",
       "45654         Jazz     New York, NY  successful  15000.0  16678.0   \n",
       "45655         Food    San Diego, CA  successful   4500.0   5540.0   \n",
       "\n",
       "       funded percentage  backers               funded date  levels  \\\n",
       "45651           1.469138      110 2011-07-29 00:53:53+00:00      16   \n",
       "45652           1.469138      110 2011-07-29 00:53:53+00:00      16   \n",
       "45653           1.111867      142 2012-05-20 20:36:57+00:00      16   \n",
       "45654           1.111867      142 2012-05-20 20:36:57+00:00      16   \n",
       "45655           1.231111       89 2010-08-24 04:43:00+00:00       5   \n",
       "\n",
       "                                           reward levels  updates  comments  \\\n",
       "45651  $10,$20,$35,$50,$75,$100,$150,$200,$225,$300,$...        5         4   \n",
       "45652  $10,$20,$35,$50,$75,$100,$150,$200,$225,$300,$...        5         4   \n",
       "45653  $1,$5,$10,$15,$25,$50,$75,$100,$200,$250,$300,...        5         2   \n",
       "45654  $1,$5,$10,$15,$25,$50,$75,$100,$200,$250,$300,...        5         2   \n",
       "45655                              $10,$50,$75,$100,$500       14        17   \n",
       "\n",
       "       duration  \n",
       "45651     67.00  \n",
       "45652     67.00  \n",
       "45653     32.00  \n",
       "45654     32.00  \n",
       "45655     43.27  "
      ]
     },
     "execution_count": 8,
     "metadata": {},
     "output_type": "execute_result"
    }
   ],
   "source": [
    "df[df['project id'].duplicated(keep=False)].sort_values(by='project id').head()"
   ]
  },
  {
   "cell_type": "markdown",
   "metadata": {},
   "source": [
    "## Drop Duplicates on Project Id / Drop Cancelled or Live Projects"
   ]
  },
  {
   "cell_type": "code",
   "execution_count": 9,
   "metadata": {},
   "outputs": [],
   "source": [
    "new_df = df.drop_duplicates(subset=['project id'])\n",
    "new_df = new_df.query('status == \"successful\" | status ==\"failed\"')"
   ]
  },
  {
   "cell_type": "code",
   "execution_count": 10,
   "metadata": {},
   "outputs": [
    {
     "data": {
      "text/plain": [
       "array(['successful', 'failed'], dtype=object)"
      ]
     },
     "execution_count": 10,
     "metadata": {},
     "output_type": "execute_result"
    }
   ],
   "source": [
    "new_df['status'].unique()"
   ]
  },
  {
   "cell_type": "markdown",
   "metadata": {},
   "source": [
    "## Fix inconsistent data entry / importation errors"
   ]
  },
  {
   "cell_type": "code",
   "execution_count": 11,
   "metadata": {
    "scrolled": true
   },
   "outputs": [
    {
     "data": {
      "text/plain": [
       "array(['Short Film', 'Board & Card Games', 'Documentary', 'Fashion',\n",
       "       'Music', 'Illustration', 'Open Software', 'Indie Rock', 'Dance',\n",
       "       'Fiction', 'Nonfiction', 'Film &amp; Video', 'Theater', 'Games',\n",
       "       'Art Book', 'Animation', 'Country & Folk', 'Comics', 'Webseries',\n",
       "       'Technology', 'Performance Art', 'Narrative Film', 'Video Games',\n",
       "       'Product Design', 'Painting', 'Photography', 'Conceptual Art',\n",
       "       'Rock', 'Jazz', 'Classical Music', 'Food', 'Art', 'Pop',\n",
       "       'Journalism', 'Poetry', 'World Music', 'Sculpture', 'Publishing',\n",
       "       'Electronic Music', \"Children's Book\", 'Open Hardware',\n",
       "       'Graphic Design', 'Hip-Hop', 'Public Art', 'Mixed Media',\n",
       "       'Periodical', 'Crafts', 'Design', 'Digital Art',\n",
       "       'Board &amp; Card Games', 'Country &amp; Folk'], dtype=object)"
      ]
     },
     "execution_count": 11,
     "metadata": {},
     "output_type": "execute_result"
    }
   ],
   "source": [
    "new_df.subcategory.unique()"
   ]
  },
  {
   "cell_type": "code",
   "execution_count": 12,
   "metadata": {},
   "outputs": [
    {
     "data": {
      "text/plain": [
       "array(['Film & Video', 'Games', 'Fashion', 'Music', 'Art', 'Technology',\n",
       "       'Dance', 'Publishing', 'Theater', 'Comics', 'Design',\n",
       "       'Photography', 'Food', 'Film &amp; Video'], dtype=object)"
      ]
     },
     "execution_count": 12,
     "metadata": {},
     "output_type": "execute_result"
    }
   ],
   "source": [
    "new_df.category.unique()"
   ]
  },
  {
   "cell_type": "code",
   "execution_count": 13,
   "metadata": {},
   "outputs": [],
   "source": [
    "new_df = new_df.replace(to_replace=\"Film &amp; Video\", value=\"Film & Video\")\n",
    "new_df = new_df.replace(to_replace='Board &amp; Card Games', value=\"Board & Card Games\")\n",
    "new_df = new_df.replace(to_replace='Country &amp; Folk', value=\"Country & Folk\")"
   ]
  },
  {
   "cell_type": "code",
   "execution_count": 14,
   "metadata": {},
   "outputs": [
    {
     "data": {
      "text/plain": [
       "array(['Short Film', 'Board & Card Games', 'Documentary', 'Fashion',\n",
       "       'Music', 'Illustration', 'Open Software', 'Indie Rock', 'Dance',\n",
       "       'Fiction', 'Nonfiction', 'Film & Video', 'Theater', 'Games',\n",
       "       'Art Book', 'Animation', 'Country & Folk', 'Comics', 'Webseries',\n",
       "       'Technology', 'Performance Art', 'Narrative Film', 'Video Games',\n",
       "       'Product Design', 'Painting', 'Photography', 'Conceptual Art',\n",
       "       'Rock', 'Jazz', 'Classical Music', 'Food', 'Art', 'Pop',\n",
       "       'Journalism', 'Poetry', 'World Music', 'Sculpture', 'Publishing',\n",
       "       'Electronic Music', \"Children's Book\", 'Open Hardware',\n",
       "       'Graphic Design', 'Hip-Hop', 'Public Art', 'Mixed Media',\n",
       "       'Periodical', 'Crafts', 'Design', 'Digital Art'], dtype=object)"
      ]
     },
     "execution_count": 14,
     "metadata": {},
     "output_type": "execute_result"
    }
   ],
   "source": [
    "new_df.subcategory.unique()"
   ]
  },
  {
   "cell_type": "code",
   "execution_count": 15,
   "metadata": {},
   "outputs": [
    {
     "data": {
      "text/plain": [
       "array(['Film & Video', 'Games', 'Fashion', 'Music', 'Art', 'Technology',\n",
       "       'Dance', 'Publishing', 'Theater', 'Comics', 'Design',\n",
       "       'Photography', 'Food'], dtype=object)"
      ]
     },
     "execution_count": 15,
     "metadata": {},
     "output_type": "execute_result"
    }
   ],
   "source": [
    "new_df.category.unique()"
   ]
  },
  {
   "cell_type": "code",
   "execution_count": 16,
   "metadata": {},
   "outputs": [],
   "source": [
    "new_df['name'] = new_df.name.str.replace(\"&quot;\", '\"')"
   ]
  },
  {
   "cell_type": "code",
   "execution_count": 17,
   "metadata": {},
   "outputs": [
    {
     "data": {
      "text/plain": [
       "'Dinner Party - a short film about friendship... and revenge'"
      ]
     },
     "execution_count": 17,
     "metadata": {},
     "output_type": "execute_result"
    }
   ],
   "source": [
    "new_df.name.iloc[4]"
   ]
  },
  {
   "cell_type": "markdown",
   "metadata": {},
   "source": [
    "# Identify outliers in potential outcome variables"
   ]
  },
  {
   "cell_type": "code",
   "execution_count": 18,
   "metadata": {},
   "outputs": [
    {
     "data": {
      "text/plain": [
       "<matplotlib.axes._subplots.AxesSubplot at 0x20a8c27b488>"
      ]
     },
     "execution_count": 18,
     "metadata": {},
     "output_type": "execute_result"
    },
    {
     "data": {
      "image/png": "[encoded data removed]",
      "text/plain": [
       "<Figure size 432x288 with 1 Axes>"
      ]
     },
     "metadata": {
      "needs_background": "light"
     },
     "output_type": "display_data"
    }
   ],
   "source": [
    "sns.boxplot(x=df['pledged'])"
   ]
  },
  {
   "cell_type": "code",
   "execution_count": 19,
   "metadata": {},
   "outputs": [
    {
     "data": {
      "text/plain": [
       "<matplotlib.axes._subplots.AxesSubplot at 0x20a8c366708>"
      ]
     },
     "execution_count": 19,
     "metadata": {},
     "output_type": "execute_result"
    },
    {
     "data": {
      "image/png": "[encoded data removed]",
      "text/plain": [
       "<Figure size 432x288 with 1 Axes>"
      ]
     },
     "metadata": {
      "needs_background": "light"
     },
     "output_type": "display_data"
    }
   ],
   "source": [
    "sns.boxplot(x=df['funded percentage'])"
   ]
  },
  {
   "cell_type": "code",
   "execution_count": 20,
   "metadata": {},
   "outputs": [
    {
     "data": {
      "text/plain": [
       "<matplotlib.axes._subplots.AxesSubplot at 0x20a8c653808>"
      ]
     },
     "execution_count": 20,
     "metadata": {},
     "output_type": "execute_result"
    },
    {
     "data": {
      "image/png": "[encoded data removed]",
      "text/plain": [
       "<Figure size 432x288 with 1 Axes>"
      ]
     },
     "metadata": {
      "needs_background": "light"
     },
     "output_type": "display_data"
    }
   ],
   "source": [
    "sns.boxplot(x=df['backers'])"
   ]
  },
  {
   "cell_type": "code",
   "execution_count": 21,
   "metadata": {},
   "outputs": [
    {
     "data": {
      "text/plain": [
       "10710    10266845.0\n",
       "41151     3336372.0\n",
       "42674     2933252.0\n",
       "11231     1836447.0\n",
       "35458     1464706.0\n",
       "            ...    \n",
       "34274           NaN\n",
       "35032           NaN\n",
       "40759           NaN\n",
       "40872           NaN\n",
       "44132           NaN\n",
       "Name: pledged, Length: 45957, dtype: float64"
      ]
     },
     "execution_count": 21,
     "metadata": {},
     "output_type": "execute_result"
    }
   ],
   "source": [
    "df['pledged'].sort_values(ascending=False)"
   ]
  },
  {
   "cell_type": "code",
   "execution_count": 22,
   "metadata": {},
   "outputs": [
    {
     "data": {
      "text/plain": [
       "11231    1836447.0\n",
       "35458    1464706.0\n",
       "4086     1254120.0\n",
       "17468    1192793.0\n",
       "4114      942578.0\n",
       "           ...    \n",
       "34274          NaN\n",
       "35032          NaN\n",
       "40759          NaN\n",
       "40872          NaN\n",
       "44132          NaN\n",
       "Name: pledged, Length: 45954, dtype: float64"
      ]
     },
     "execution_count": 22,
     "metadata": {},
     "output_type": "execute_result"
    }
   ],
   "source": [
    "drop_columns = df['pledged'].sort_values(ascending=False).head(3).index\n",
    "df.drop(drop_columns, axis=0, inplace=True)\n",
    "df['pledged'].sort_values(ascending=False)"
   ]
  },
  {
   "cell_type": "code",
   "execution_count": 23,
   "metadata": {},
   "outputs": [
    {
     "name": "stdout",
     "output_type": "stream",
     "text": [
      "project id           1.077617e+09\n",
      "goal                 8.050000e+03\n",
      "pledged              3.964750e+03\n",
      "funded percentage    1.071608e+00\n",
      "backers              5.400000e+01\n",
      "levels               5.000000e+00\n",
      "updates              6.000000e+00\n",
      "comments             3.000000e+00\n",
      "duration             1.839000e+01\n",
      "dtype: float64\n"
     ]
    }
   ],
   "source": [
    "Q1 = df.quantile(0.25)\n",
    "Q3 = df.quantile(0.75)\n",
    "IQR = Q3 - Q1\n",
    "print(IQR)"
   ]
  },
  {
   "cell_type": "code",
   "execution_count": 24,
   "metadata": {},
   "outputs": [
    {
     "name": "stderr",
     "output_type": "stream",
     "text": [
      "C:\\Users\\rayde\\Anaconda3\\lib\\site-packages\\ipykernel_launcher.py:1: FutureWarning: Automatic reindexing on DataFrame vs Series comparisons is deprecated and will raise ValueError in a future version.  Do `left, right = left.align(right, axis=1, copy=False)` before e.g. `left == right`\n",
      "  \"\"\"Entry point for launching an IPython kernel.\n",
      "C:\\Users\\rayde\\Anaconda3\\lib\\site-packages\\ipykernel_launcher.py:1: FutureWarning: Automatic reindexing on DataFrame vs Series comparisons is deprecated and will raise ValueError in a future version.  Do `left, right = left.align(right, axis=1, copy=False)` before e.g. `left == right`\n",
      "  \"\"\"Entry point for launching an IPython kernel.\n"
     ]
    },
    {
     "data": {
      "text/html": [
       "<div>\n",
       "<style scoped>\n",
       "    .dataframe tbody tr th:only-of-type {\n",
       "        vertical-align: middle;\n",
       "    }\n",
       "\n",
       "    .dataframe tbody tr th {\n",
       "        vertical-align: top;\n",
       "    }\n",
       "\n",
       "    .dataframe thead th {\n",
       "        text-align: right;\n",
       "    }\n",
       "</style>\n",
       "<table border=\"1\" class=\"dataframe\">\n",
       "  <thead>\n",
       "    <tr style=\"text-align: right;\">\n",
       "      <th></th>\n",
       "      <th>pledged</th>\n",
       "      <th>funded percentage</th>\n",
       "      <th>backers</th>\n",
       "    </tr>\n",
       "  </thead>\n",
       "  <tbody>\n",
       "    <tr>\n",
       "      <th>0</th>\n",
       "      <td>11545.0</td>\n",
       "      <td>NaN</td>\n",
       "      <td>NaN</td>\n",
       "    </tr>\n",
       "    <tr>\n",
       "      <th>1</th>\n",
       "      <td>NaN</td>\n",
       "      <td>NaN</td>\n",
       "      <td>NaN</td>\n",
       "    </tr>\n",
       "    <tr>\n",
       "      <th>2</th>\n",
       "      <td>NaN</td>\n",
       "      <td>NaN</td>\n",
       "      <td>NaN</td>\n",
       "    </tr>\n",
       "    <tr>\n",
       "      <th>3</th>\n",
       "      <td>NaN</td>\n",
       "      <td>NaN</td>\n",
       "      <td>NaN</td>\n",
       "    </tr>\n",
       "    <tr>\n",
       "      <th>4</th>\n",
       "      <td>NaN</td>\n",
       "      <td>NaN</td>\n",
       "      <td>NaN</td>\n",
       "    </tr>\n",
       "    <tr>\n",
       "      <th>...</th>\n",
       "      <td>...</td>\n",
       "      <td>...</td>\n",
       "      <td>...</td>\n",
       "    </tr>\n",
       "    <tr>\n",
       "      <th>45952</th>\n",
       "      <td>NaN</td>\n",
       "      <td>NaN</td>\n",
       "      <td>NaN</td>\n",
       "    </tr>\n",
       "    <tr>\n",
       "      <th>45953</th>\n",
       "      <td>NaN</td>\n",
       "      <td>NaN</td>\n",
       "      <td>NaN</td>\n",
       "    </tr>\n",
       "    <tr>\n",
       "      <th>45954</th>\n",
       "      <td>NaN</td>\n",
       "      <td>NaN</td>\n",
       "      <td>NaN</td>\n",
       "    </tr>\n",
       "    <tr>\n",
       "      <th>45955</th>\n",
       "      <td>NaN</td>\n",
       "      <td>NaN</td>\n",
       "      <td>NaN</td>\n",
       "    </tr>\n",
       "    <tr>\n",
       "      <th>45956</th>\n",
       "      <td>18758.0</td>\n",
       "      <td>NaN</td>\n",
       "      <td>NaN</td>\n",
       "    </tr>\n",
       "  </tbody>\n",
       "</table>\n",
       "<p>45954 rows × 3 columns</p>\n",
       "</div>"
      ],
      "text/plain": [
       "       pledged  funded percentage  backers\n",
       "0      11545.0                NaN      NaN\n",
       "1          NaN                NaN      NaN\n",
       "2          NaN                NaN      NaN\n",
       "3          NaN                NaN      NaN\n",
       "4          NaN                NaN      NaN\n",
       "...        ...                ...      ...\n",
       "45952      NaN                NaN      NaN\n",
       "45953      NaN                NaN      NaN\n",
       "45954      NaN                NaN      NaN\n",
       "45955      NaN                NaN      NaN\n",
       "45956  18758.0                NaN      NaN\n",
       "\n",
       "[45954 rows x 3 columns]"
      ]
     },
     "execution_count": 24,
     "metadata": {},
     "output_type": "execute_result"
    }
   ],
   "source": [
    "df[['pledged', 'funded percentage', 'backers']][(df[['pledged', 'funded percentage', 'backers']] < (Q1 - 1.5 * IQR)) |(df[['pledged', 'funded percentage', 'backers']] > (Q3 + 1.5 * IQR))]"
   ]
  },
  {
   "cell_type": "code",
   "execution_count": 25,
   "metadata": {},
   "outputs": [],
   "source": [
    "for each in ['funded percentage','backers']:\n",
    "    df[f'z_{each}'] = np.abs(stats.zscore(df[each]))"
   ]
  },
  {
   "cell_type": "code",
   "execution_count": 26,
   "metadata": {},
   "outputs": [],
   "source": [
    "drop_columns = df[df['z_funded percentage']> 3].sort_values('z_funded percentage', ascending=False).index\n",
    "df.drop(drop_columns, axis=0, inplace=True)"
   ]
  },
  {
   "cell_type": "code",
   "execution_count": 27,
   "metadata": {},
   "outputs": [
    {
     "data": {
      "text/html": [
       "<div>\n",
       "<style scoped>\n",
       "    .dataframe tbody tr th:only-of-type {\n",
       "        vertical-align: middle;\n",
       "    }\n",
       "\n",
       "    .dataframe tbody tr th {\n",
       "        vertical-align: top;\n",
       "    }\n",
       "\n",
       "    .dataframe thead th {\n",
       "        text-align: right;\n",
       "    }\n",
       "</style>\n",
       "<table border=\"1\" class=\"dataframe\">\n",
       "  <thead>\n",
       "    <tr style=\"text-align: right;\">\n",
       "      <th></th>\n",
       "      <th>project id</th>\n",
       "      <th>name</th>\n",
       "      <th>url</th>\n",
       "      <th>category</th>\n",
       "      <th>subcategory</th>\n",
       "      <th>location</th>\n",
       "      <th>status</th>\n",
       "      <th>goal</th>\n",
       "      <th>pledged</th>\n",
       "      <th>funded percentage</th>\n",
       "      <th>backers</th>\n",
       "      <th>funded date</th>\n",
       "      <th>levels</th>\n",
       "      <th>reward levels</th>\n",
       "      <th>updates</th>\n",
       "      <th>comments</th>\n",
       "      <th>duration</th>\n",
       "      <th>z_funded percentage</th>\n",
       "      <th>z_backers</th>\n",
       "    </tr>\n",
       "  </thead>\n",
       "  <tbody>\n",
       "    <tr>\n",
       "      <th>4086</th>\n",
       "      <td>193329107</td>\n",
       "      <td>The Order of the Stick Reprint Drive</td>\n",
       "      <td>http://www.kickstarter.com/projects/599092525/...</td>\n",
       "      <td>Comics</td>\n",
       "      <td>Comics</td>\n",
       "      <td>Philadelphia, PA</td>\n",
       "      <td>successful</td>\n",
       "      <td>57750.0</td>\n",
       "      <td>1254120.0</td>\n",
       "      <td>21.716365</td>\n",
       "      <td>14952</td>\n",
       "      <td>2012-02-21 17:03:01+00:00</td>\n",
       "      <td>64</td>\n",
       "      <td>$10,$11,$12,$14,$14,$15,$16,$24,$25,$26,$29,$3...</td>\n",
       "      <td>40</td>\n",
       "      <td>19311</td>\n",
       "      <td>30.0</td>\n",
       "      <td>0.224521</td>\n",
       "      <td>42.192540</td>\n",
       "    </tr>\n",
       "    <tr>\n",
       "      <th>44587</th>\n",
       "      <td>2091726955</td>\n",
       "      <td>Make Leisure Suit Larry come again!</td>\n",
       "      <td>http://www.kickstarter.com/projects/leisuresui...</td>\n",
       "      <td>Games</td>\n",
       "      <td>Video Games</td>\n",
       "      <td>Austin, TX</td>\n",
       "      <td>successful</td>\n",
       "      <td>500000.0</td>\n",
       "      <td>655183.0</td>\n",
       "      <td>1.310365</td>\n",
       "      <td>14081</td>\n",
       "      <td>2012-05-02 16:30:08+00:00</td>\n",
       "      <td>21</td>\n",
       "      <td>$5,$15,$25,$40,$50,$75,$100,$150,$250,$500,$75...</td>\n",
       "      <td>24</td>\n",
       "      <td>4985</td>\n",
       "      <td>30.0</td>\n",
       "      <td>0.006073</td>\n",
       "      <td>39.723922</td>\n",
       "    </tr>\n",
       "    <tr>\n",
       "      <th>27726</th>\n",
       "      <td>1304249523</td>\n",
       "      <td>Yogventures!</td>\n",
       "      <td>http://www.kickstarter.com/projects/winterkewl...</td>\n",
       "      <td>Games</td>\n",
       "      <td>Video Games</td>\n",
       "      <td>Los Angeles, CA</td>\n",
       "      <td>successful</td>\n",
       "      <td>250000.0</td>\n",
       "      <td>567665.0</td>\n",
       "      <td>2.270660</td>\n",
       "      <td>13647</td>\n",
       "      <td>2012-05-06 19:23:29+00:00</td>\n",
       "      <td>12</td>\n",
       "      <td>$15,$25,$30,$60,$90,$200,$300,$500,$750,$2,000...</td>\n",
       "      <td>10</td>\n",
       "      <td>7409</td>\n",
       "      <td>30.0</td>\n",
       "      <td>0.004779</td>\n",
       "      <td>38.493864</td>\n",
       "    </tr>\n",
       "  </tbody>\n",
       "</table>\n",
       "</div>"
      ],
      "text/plain": [
       "       project id                                  name  \\\n",
       "4086    193329107  The Order of the Stick Reprint Drive   \n",
       "44587  2091726955   Make Leisure Suit Larry come again!   \n",
       "27726  1304249523                          Yogventures!   \n",
       "\n",
       "                                                     url category  \\\n",
       "4086   http://www.kickstarter.com/projects/599092525/...   Comics   \n",
       "44587  http://www.kickstarter.com/projects/leisuresui...    Games   \n",
       "27726  http://www.kickstarter.com/projects/winterkewl...    Games   \n",
       "\n",
       "       subcategory          location      status      goal    pledged  \\\n",
       "4086        Comics  Philadelphia, PA  successful   57750.0  1254120.0   \n",
       "44587  Video Games        Austin, TX  successful  500000.0   655183.0   \n",
       "27726  Video Games   Los Angeles, CA  successful  250000.0   567665.0   \n",
       "\n",
       "       funded percentage  backers               funded date  levels  \\\n",
       "4086           21.716365    14952 2012-02-21 17:03:01+00:00      64   \n",
       "44587           1.310365    14081 2012-05-02 16:30:08+00:00      21   \n",
       "27726           2.270660    13647 2012-05-06 19:23:29+00:00      12   \n",
       "\n",
       "                                           reward levels  updates  comments  \\\n",
       "4086   $10,$11,$12,$14,$14,$15,$16,$24,$25,$26,$29,$3...       40     19311   \n",
       "44587  $5,$15,$25,$40,$50,$75,$100,$150,$250,$500,$75...       24      4985   \n",
       "27726  $15,$25,$30,$60,$90,$200,$300,$500,$750,$2,000...       10      7409   \n",
       "\n",
       "       duration  z_funded percentage  z_backers  \n",
       "4086       30.0             0.224521  42.192540  \n",
       "44587      30.0             0.006073  39.723922  \n",
       "27726      30.0             0.004779  38.493864  "
      ]
     },
     "execution_count": 27,
     "metadata": {},
     "output_type": "execute_result"
    }
   ],
   "source": [
    "drop_columns = df[df['z_backers']> 3].sort_values('z_backers', ascending=False).head(3).index\n",
    "df.drop(drop_columns, axis=0, inplace=True)\n",
    "df[df['z_backers']> 3].sort_values('z_backers', ascending=False).head(3)"
   ]
  },
  {
   "cell_type": "markdown",
   "metadata": {},
   "source": [
    "## Create new features out of funded date and location"
   ]
  },
  {
   "cell_type": "code",
   "execution_count": 28,
   "metadata": {},
   "outputs": [
    {
     "data": {
      "text/plain": [
       "duration               float64\n",
       "duration_td    timedelta64[ns]\n",
       "dtype: object"
      ]
     },
     "execution_count": 28,
     "metadata": {},
     "output_type": "execute_result"
    }
   ],
   "source": [
    "new_df['duration_td'] = new_df.duration.apply(lambda x: datetime.timedelta(days=x))\n",
    "new_df[['duration','duration_td']].dtypes"
   ]
  },
  {
   "cell_type": "code",
   "execution_count": 29,
   "metadata": {},
   "outputs": [
    {
     "data": {
      "text/html": [
       "<div>\n",
       "<style scoped>\n",
       "    .dataframe tbody tr th:only-of-type {\n",
       "        vertical-align: middle;\n",
       "    }\n",
       "\n",
       "    .dataframe tbody tr th {\n",
       "        vertical-align: top;\n",
       "    }\n",
       "\n",
       "    .dataframe thead th {\n",
       "        text-align: right;\n",
       "    }\n",
       "</style>\n",
       "<table border=\"1\" class=\"dataframe\">\n",
       "  <thead>\n",
       "    <tr style=\"text-align: right;\">\n",
       "      <th></th>\n",
       "      <th>Posting_Date</th>\n",
       "      <th>duration</th>\n",
       "      <th>duration_td</th>\n",
       "      <th>funded date</th>\n",
       "    </tr>\n",
       "  </thead>\n",
       "  <tbody>\n",
       "    <tr>\n",
       "      <th>0</th>\n",
       "      <td>2011-07-20 19:28:17+00:00</td>\n",
       "      <td>30.00</td>\n",
       "      <td>30 days 00:00:00</td>\n",
       "      <td>2011-08-19 19:28:17+00:00</td>\n",
       "    </tr>\n",
       "    <tr>\n",
       "      <th>1</th>\n",
       "      <td>2010-06-15 23:39:48+00:00</td>\n",
       "      <td>47.18</td>\n",
       "      <td>47 days 04:19:12</td>\n",
       "      <td>2010-08-02 03:59:00+00:00</td>\n",
       "    </tr>\n",
       "    <tr>\n",
       "      <th>3</th>\n",
       "      <td>2012-03-06 20:57:12+00:00</td>\n",
       "      <td>32.22</td>\n",
       "      <td>32 days 05:16:48</td>\n",
       "      <td>2012-04-08 02:14:00+00:00</td>\n",
       "    </tr>\n",
       "    <tr>\n",
       "      <th>4</th>\n",
       "      <td>2011-05-02 15:25:39+00:00</td>\n",
       "      <td>30.00</td>\n",
       "      <td>30 days 00:00:00</td>\n",
       "      <td>2011-06-01 15:25:39+00:00</td>\n",
       "    </tr>\n",
       "    <tr>\n",
       "      <th>5</th>\n",
       "      <td>2011-06-01 03:13:48+00:00</td>\n",
       "      <td>21.43</td>\n",
       "      <td>21 days 10:19:12</td>\n",
       "      <td>2011-06-22 13:33:00+00:00</td>\n",
       "    </tr>\n",
       "  </tbody>\n",
       "</table>\n",
       "</div>"
      ],
      "text/plain": [
       "               Posting_Date  duration      duration_td  \\\n",
       "0 2011-07-20 19:28:17+00:00     30.00 30 days 00:00:00   \n",
       "1 2010-06-15 23:39:48+00:00     47.18 47 days 04:19:12   \n",
       "3 2012-03-06 20:57:12+00:00     32.22 32 days 05:16:48   \n",
       "4 2011-05-02 15:25:39+00:00     30.00 30 days 00:00:00   \n",
       "5 2011-06-01 03:13:48+00:00     21.43 21 days 10:19:12   \n",
       "\n",
       "                funded date  \n",
       "0 2011-08-19 19:28:17+00:00  \n",
       "1 2010-08-02 03:59:00+00:00  \n",
       "3 2012-04-08 02:14:00+00:00  \n",
       "4 2011-06-01 15:25:39+00:00  \n",
       "5 2011-06-22 13:33:00+00:00  "
      ]
     },
     "execution_count": 29,
     "metadata": {},
     "output_type": "execute_result"
    }
   ],
   "source": [
    "new_df['Posting_Date'] = new_df['funded date'] - new_df['duration_td']\n",
    "new_df[['Posting_Date','duration','duration_td', 'funded date']].head()"
   ]
  },
  {
   "cell_type": "code",
   "execution_count": 30,
   "metadata": {},
   "outputs": [
    {
     "data": {
      "text/html": [
       "<div>\n",
       "<style scoped>\n",
       "    .dataframe tbody tr th:only-of-type {\n",
       "        vertical-align: middle;\n",
       "    }\n",
       "\n",
       "    .dataframe tbody tr th {\n",
       "        vertical-align: top;\n",
       "    }\n",
       "\n",
       "    .dataframe thead th {\n",
       "        text-align: right;\n",
       "    }\n",
       "</style>\n",
       "<table border=\"1\" class=\"dataframe\">\n",
       "  <thead>\n",
       "    <tr style=\"text-align: right;\">\n",
       "      <th></th>\n",
       "      <th>year_funded</th>\n",
       "      <th>month_funded</th>\n",
       "      <th>day_funded</th>\n",
       "      <th>time_funded</th>\n",
       "      <th>dayOfWeek_funded</th>\n",
       "    </tr>\n",
       "  </thead>\n",
       "  <tbody>\n",
       "    <tr>\n",
       "      <th>0</th>\n",
       "      <td>2011</td>\n",
       "      <td>8</td>\n",
       "      <td>19</td>\n",
       "      <td>19:28:17</td>\n",
       "      <td>4</td>\n",
       "    </tr>\n",
       "    <tr>\n",
       "      <th>1</th>\n",
       "      <td>2010</td>\n",
       "      <td>8</td>\n",
       "      <td>2</td>\n",
       "      <td>03:59:00</td>\n",
       "      <td>0</td>\n",
       "    </tr>\n",
       "    <tr>\n",
       "      <th>3</th>\n",
       "      <td>2012</td>\n",
       "      <td>4</td>\n",
       "      <td>8</td>\n",
       "      <td>02:14:00</td>\n",
       "      <td>6</td>\n",
       "    </tr>\n",
       "    <tr>\n",
       "      <th>4</th>\n",
       "      <td>2011</td>\n",
       "      <td>6</td>\n",
       "      <td>1</td>\n",
       "      <td>15:25:39</td>\n",
       "      <td>2</td>\n",
       "    </tr>\n",
       "    <tr>\n",
       "      <th>5</th>\n",
       "      <td>2011</td>\n",
       "      <td>6</td>\n",
       "      <td>22</td>\n",
       "      <td>13:33:00</td>\n",
       "      <td>2</td>\n",
       "    </tr>\n",
       "    <tr>\n",
       "      <th>...</th>\n",
       "      <td>...</td>\n",
       "      <td>...</td>\n",
       "      <td>...</td>\n",
       "      <td>...</td>\n",
       "      <td>...</td>\n",
       "    </tr>\n",
       "    <tr>\n",
       "      <th>45952</th>\n",
       "      <td>2012</td>\n",
       "      <td>3</td>\n",
       "      <td>30</td>\n",
       "      <td>13:57:00</td>\n",
       "      <td>4</td>\n",
       "    </tr>\n",
       "    <tr>\n",
       "      <th>45953</th>\n",
       "      <td>2012</td>\n",
       "      <td>4</td>\n",
       "      <td>22</td>\n",
       "      <td>02:12:10</td>\n",
       "      <td>6</td>\n",
       "    </tr>\n",
       "    <tr>\n",
       "      <th>45954</th>\n",
       "      <td>2012</td>\n",
       "      <td>1</td>\n",
       "      <td>16</td>\n",
       "      <td>05:00:00</td>\n",
       "      <td>0</td>\n",
       "    </tr>\n",
       "    <tr>\n",
       "      <th>45955</th>\n",
       "      <td>2012</td>\n",
       "      <td>5</td>\n",
       "      <td>19</td>\n",
       "      <td>19:44:47</td>\n",
       "      <td>5</td>\n",
       "    </tr>\n",
       "    <tr>\n",
       "      <th>45956</th>\n",
       "      <td>2011</td>\n",
       "      <td>8</td>\n",
       "      <td>4</td>\n",
       "      <td>04:30:00</td>\n",
       "      <td>3</td>\n",
       "    </tr>\n",
       "  </tbody>\n",
       "</table>\n",
       "<p>41841 rows × 5 columns</p>\n",
       "</div>"
      ],
      "text/plain": [
       "       year_funded  month_funded  day_funded time_funded  dayOfWeek_funded\n",
       "0             2011             8          19    19:28:17                 4\n",
       "1             2010             8           2    03:59:00                 0\n",
       "3             2012             4           8    02:14:00                 6\n",
       "4             2011             6           1    15:25:39                 2\n",
       "5             2011             6          22    13:33:00                 2\n",
       "...            ...           ...         ...         ...               ...\n",
       "45952         2012             3          30    13:57:00                 4\n",
       "45953         2012             4          22    02:12:10                 6\n",
       "45954         2012             1          16    05:00:00                 0\n",
       "45955         2012             5          19    19:44:47                 5\n",
       "45956         2011             8           4    04:30:00                 3\n",
       "\n",
       "[41841 rows x 5 columns]"
      ]
     },
     "execution_count": 30,
     "metadata": {},
     "output_type": "execute_result"
    }
   ],
   "source": [
    "new_df['year_funded'] = new_df['funded date'].dt.year\n",
    "new_df['month_funded'] = new_df['funded date'].dt.month\n",
    "new_df['day_funded'] = new_df['funded date'].dt.day\n",
    "new_df['time_funded'] = new_df['funded date'].dt.time\n",
    "new_df['dayOfWeek_funded'] = new_df['funded date'].dt.dayofweek\n",
    "new_df[['year_funded','month_funded', 'day_funded', 'time_funded', 'dayOfWeek_funded']]"
   ]
  },
  {
   "cell_type": "code",
   "execution_count": 31,
   "metadata": {
    "scrolled": true
   },
   "outputs": [
    {
     "data": {
      "text/html": [
       "<div>\n",
       "<style scoped>\n",
       "    .dataframe tbody tr th:only-of-type {\n",
       "        vertical-align: middle;\n",
       "    }\n",
       "\n",
       "    .dataframe tbody tr th {\n",
       "        vertical-align: top;\n",
       "    }\n",
       "\n",
       "    .dataframe thead th {\n",
       "        text-align: right;\n",
       "    }\n",
       "</style>\n",
       "<table border=\"1\" class=\"dataframe\">\n",
       "  <thead>\n",
       "    <tr style=\"text-align: right;\">\n",
       "      <th></th>\n",
       "      <th>year_posted</th>\n",
       "      <th>month_posted</th>\n",
       "      <th>day_posted</th>\n",
       "      <th>time_posted</th>\n",
       "      <th>dayOfWeek_posted</th>\n",
       "    </tr>\n",
       "  </thead>\n",
       "  <tbody>\n",
       "    <tr>\n",
       "      <th>0</th>\n",
       "      <td>2011</td>\n",
       "      <td>7</td>\n",
       "      <td>20</td>\n",
       "      <td>19:28:17</td>\n",
       "      <td>2</td>\n",
       "    </tr>\n",
       "    <tr>\n",
       "      <th>1</th>\n",
       "      <td>2010</td>\n",
       "      <td>6</td>\n",
       "      <td>15</td>\n",
       "      <td>23:39:48</td>\n",
       "      <td>1</td>\n",
       "    </tr>\n",
       "    <tr>\n",
       "      <th>3</th>\n",
       "      <td>2012</td>\n",
       "      <td>3</td>\n",
       "      <td>6</td>\n",
       "      <td>20:57:12</td>\n",
       "      <td>1</td>\n",
       "    </tr>\n",
       "    <tr>\n",
       "      <th>4</th>\n",
       "      <td>2011</td>\n",
       "      <td>5</td>\n",
       "      <td>2</td>\n",
       "      <td>15:25:39</td>\n",
       "      <td>0</td>\n",
       "    </tr>\n",
       "    <tr>\n",
       "      <th>5</th>\n",
       "      <td>2011</td>\n",
       "      <td>6</td>\n",
       "      <td>1</td>\n",
       "      <td>03:13:48</td>\n",
       "      <td>2</td>\n",
       "    </tr>\n",
       "    <tr>\n",
       "      <th>...</th>\n",
       "      <td>...</td>\n",
       "      <td>...</td>\n",
       "      <td>...</td>\n",
       "      <td>...</td>\n",
       "      <td>...</td>\n",
       "    </tr>\n",
       "    <tr>\n",
       "      <th>45952</th>\n",
       "      <td>2012</td>\n",
       "      <td>2</td>\n",
       "      <td>21</td>\n",
       "      <td>18:01:48</td>\n",
       "      <td>1</td>\n",
       "    </tr>\n",
       "    <tr>\n",
       "      <th>45953</th>\n",
       "      <td>2012</td>\n",
       "      <td>2</td>\n",
       "      <td>22</td>\n",
       "      <td>03:09:46</td>\n",
       "      <td>2</td>\n",
       "    </tr>\n",
       "    <tr>\n",
       "      <th>45954</th>\n",
       "      <td>2011</td>\n",
       "      <td>12</td>\n",
       "      <td>19</td>\n",
       "      <td>21:19:12</td>\n",
       "      <td>0</td>\n",
       "    </tr>\n",
       "    <tr>\n",
       "      <th>45955</th>\n",
       "      <td>2012</td>\n",
       "      <td>4</td>\n",
       "      <td>19</td>\n",
       "      <td>19:44:47</td>\n",
       "      <td>3</td>\n",
       "    </tr>\n",
       "    <tr>\n",
       "      <th>45956</th>\n",
       "      <td>2011</td>\n",
       "      <td>6</td>\n",
       "      <td>24</td>\n",
       "      <td>19:22:48</td>\n",
       "      <td>4</td>\n",
       "    </tr>\n",
       "  </tbody>\n",
       "</table>\n",
       "<p>41841 rows × 5 columns</p>\n",
       "</div>"
      ],
      "text/plain": [
       "       year_posted  month_posted  day_posted time_posted  dayOfWeek_posted\n",
       "0             2011             7          20    19:28:17                 2\n",
       "1             2010             6          15    23:39:48                 1\n",
       "3             2012             3           6    20:57:12                 1\n",
       "4             2011             5           2    15:25:39                 0\n",
       "5             2011             6           1    03:13:48                 2\n",
       "...            ...           ...         ...         ...               ...\n",
       "45952         2012             2          21    18:01:48                 1\n",
       "45953         2012             2          22    03:09:46                 2\n",
       "45954         2011            12          19    21:19:12                 0\n",
       "45955         2012             4          19    19:44:47                 3\n",
       "45956         2011             6          24    19:22:48                 4\n",
       "\n",
       "[41841 rows x 5 columns]"
      ]
     },
     "execution_count": 31,
     "metadata": {},
     "output_type": "execute_result"
    }
   ],
   "source": [
    "new_df['year_posted'] = new_df['Posting_Date'].dt.year\n",
    "new_df['month_posted'] = new_df['Posting_Date'].dt.month\n",
    "new_df['day_posted'] = new_df['Posting_Date'].dt.day\n",
    "new_df['time_posted'] = new_df['Posting_Date'].dt.time\n",
    "new_df['dayOfWeek_posted'] = new_df['Posting_Date'].dt.dayofweek\n",
    "new_df[['year_posted','month_posted', 'day_posted', 'time_posted', 'dayOfWeek_posted']]"
   ]
  },
  {
   "cell_type": "code",
   "execution_count": 32,
   "metadata": {},
   "outputs": [
    {
     "name": "stderr",
     "output_type": "stream",
     "text": [
      "C:\\Users\\rayde\\Anaconda3\\lib\\site-packages\\ipykernel_launcher.py:1: FutureWarning: Columnar iteration over characters will be deprecated in future releases.\n",
      "  \"\"\"Entry point for launching an IPython kernel.\n"
     ]
    },
    {
     "data": {
      "text/html": [
       "<div>\n",
       "<style scoped>\n",
       "    .dataframe tbody tr th:only-of-type {\n",
       "        vertical-align: middle;\n",
       "    }\n",
       "\n",
       "    .dataframe tbody tr th {\n",
       "        vertical-align: top;\n",
       "    }\n",
       "\n",
       "    .dataframe thead th {\n",
       "        text-align: right;\n",
       "    }\n",
       "</style>\n",
       "<table border=\"1\" class=\"dataframe\">\n",
       "  <thead>\n",
       "    <tr style=\"text-align: right;\">\n",
       "      <th></th>\n",
       "      <th>city</th>\n",
       "      <th>state</th>\n",
       "      <th>location</th>\n",
       "    </tr>\n",
       "  </thead>\n",
       "  <tbody>\n",
       "    <tr>\n",
       "      <th>0</th>\n",
       "      <td>Columbia</td>\n",
       "      <td>MO</td>\n",
       "      <td>Columbia, MO</td>\n",
       "    </tr>\n",
       "    <tr>\n",
       "      <th>1</th>\n",
       "      <td>Maplewood</td>\n",
       "      <td>NJ</td>\n",
       "      <td>Maplewood, NJ</td>\n",
       "    </tr>\n",
       "    <tr>\n",
       "      <th>3</th>\n",
       "      <td>Los Angeles</td>\n",
       "      <td>CA</td>\n",
       "      <td>Los Angeles, CA</td>\n",
       "    </tr>\n",
       "    <tr>\n",
       "      <th>4</th>\n",
       "      <td>Novi</td>\n",
       "      <td>MI</td>\n",
       "      <td>Novi, MI</td>\n",
       "    </tr>\n",
       "    <tr>\n",
       "      <th>5</th>\n",
       "      <td>Portland</td>\n",
       "      <td>OR</td>\n",
       "      <td>Portland, OR</td>\n",
       "    </tr>\n",
       "    <tr>\n",
       "      <th>...</th>\n",
       "      <td>...</td>\n",
       "      <td>...</td>\n",
       "      <td>...</td>\n",
       "    </tr>\n",
       "    <tr>\n",
       "      <th>45952</th>\n",
       "      <td>Austin</td>\n",
       "      <td>TX</td>\n",
       "      <td>Austin, TX</td>\n",
       "    </tr>\n",
       "    <tr>\n",
       "      <th>45953</th>\n",
       "      <td>Los Angeles</td>\n",
       "      <td>CA</td>\n",
       "      <td>Los Angeles, CA</td>\n",
       "    </tr>\n",
       "    <tr>\n",
       "      <th>45954</th>\n",
       "      <td>Los Angeles</td>\n",
       "      <td>CA</td>\n",
       "      <td>Los Angeles, CA</td>\n",
       "    </tr>\n",
       "    <tr>\n",
       "      <th>45955</th>\n",
       "      <td>Vero Beach</td>\n",
       "      <td>FL</td>\n",
       "      <td>Vero Beach, FL</td>\n",
       "    </tr>\n",
       "    <tr>\n",
       "      <th>45956</th>\n",
       "      <td>Bozeman</td>\n",
       "      <td>MT</td>\n",
       "      <td>Bozeman, MT</td>\n",
       "    </tr>\n",
       "  </tbody>\n",
       "</table>\n",
       "<p>41841 rows × 3 columns</p>\n",
       "</div>"
      ],
      "text/plain": [
       "              city state         location\n",
       "0         Columbia    MO     Columbia, MO\n",
       "1        Maplewood    NJ    Maplewood, NJ\n",
       "3      Los Angeles    CA  Los Angeles, CA\n",
       "4             Novi    MI         Novi, MI\n",
       "5         Portland    OR     Portland, OR\n",
       "...            ...   ...              ...\n",
       "45952       Austin    TX       Austin, TX\n",
       "45953  Los Angeles    CA  Los Angeles, CA\n",
       "45954  Los Angeles    CA  Los Angeles, CA\n",
       "45955   Vero Beach    FL   Vero Beach, FL\n",
       "45956      Bozeman    MT      Bozeman, MT\n",
       "\n",
       "[41841 rows x 3 columns]"
      ]
     },
     "execution_count": 32,
     "metadata": {},
     "output_type": "execute_result"
    }
   ],
   "source": [
    "new_df['city'], new_df['state'] = new_df['location'].str.split(', ', 1).str\n",
    "new_df[['city', 'state', 'location']]"
   ]
  },
  {
   "cell_type": "code",
   "execution_count": 33,
   "metadata": {},
   "outputs": [
    {
     "data": {
      "text/plain": [
       "array(['Columbia', 'Maplewood', 'Los Angeles', ..., 'Peaks',\n",
       "       'Lumberville', 'Lake Oswego'], dtype=object)"
      ]
     },
     "execution_count": 33,
     "metadata": {},
     "output_type": "execute_result"
    }
   ],
   "source": [
    "new_df['city'].unique()"
   ]
  },
  {
   "cell_type": "code",
   "execution_count": 34,
   "metadata": {},
   "outputs": [
    {
     "data": {
      "text/plain": [
       "array(['MO', 'NJ', 'CA', 'MI', 'OR', 'TN', 'IL', nan, 'NY', 'DC', 'ID',\n",
       "       'FL', 'TX', 'CO', 'ME', 'Taiwan', 'IN', 'Norway', 'MN', 'NC', 'MA',\n",
       "       'PA', 'CT', 'Chile', 'MD', 'HI', 'VA', 'WA', 'AZ', 'OH', 'NV',\n",
       "       'Haiti', 'GA', 'AL', 'UT', 'Canada', 'LA', 'SC', 'Ecuador', 'WI',\n",
       "       'Jamaica', 'Argentina', 'Hong Kong', 'Germany', 'NM', 'NE',\n",
       "       'Guatemala', 'IA', 'WY', 'Australia', 'RI', 'Sweden', 'OK', 'DE',\n",
       "       'South Africa', 'AK', 'WV', 'Nepal', 'MT', 'KY', 'VT', 'Kenya',\n",
       "       'Bosnia and Herzegovina', 'Iceland', 'Mexico', 'KS', 'Hungary',\n",
       "       'Indonesia', 'China', 'SD', 'Cuba', 'Peru', 'Italy', 'Netherlands',\n",
       "       'Singapore', 'Ethiopia', 'NH', 'New Zealand', 'France',\n",
       "       'United Kingdom', 'Austria', 'Turkey', 'AR', 'Mt', 'Congo',\n",
       "       'Colombia', 'India', 'Mongolia', 'MS', 'Israel', 'Dominica',\n",
       "       'Finland', 'Czech Republic', 'Japan', 'Virgin Islands, U.S.',\n",
       "       'Lebanon', 'Armenia', 'Portugal', 'Qatar', 'Morocco', 'Martinique',\n",
       "       'Puerto Rico', 'Afghanistan', 'Denmark', 'Tanzania', 'Kazakhstan',\n",
       "       'Zambia', 'Switzerland', 'Egypt', 'Svalbard and Jan Mayen', 'ND',\n",
       "       'Liberia', 'Ghana', 'Nicaragua', 'Russia', 'Ukraine', 'Bulgaria',\n",
       "       'South Korea', 'Brazil', 'Rwanda', 'Spain', 'Costa Rica',\n",
       "       'Philippines', 'Pakistan', 'El Salvador', 'Panama',\n",
       "       'United Arab Emirates', 'Honduras', 'Palestinian Territories',\n",
       "       'Poland', 'Georgia', 'Syrian Arab Republic', 'Cambodia', 'Nigeria',\n",
       "       'Mali', 'Saudi Arabia', 'Argent', 'Iraq', 'Cameroon', 'Namibia',\n",
       "       'Ireland', 'Bolivia', 'Venezuela', 'Thailand', 'Jordan',\n",
       "       'Zimbabwe', 'Iran', 'Tunisia', 'Greece', 'Sierra Leone',\n",
       "       'Isle of Man', 'Central African Republic', 'Serbia', 'Belize',\n",
       "       'Uganda', 'Malta', 'Slovenia', 'Sudan', 'Belgium', 'Myanmar',\n",
       "       'Malaysia', 'Greenland', 'Senegal', 'Bahamas', 'Malawi', 'Romania',\n",
       "       'Mozambique', 'Bhutan', 'Lithuania', 'Micronesia', 'Tajikistan',\n",
       "       'Sri Lanka', 'Libyan Arab Jamahiriya', 'Guinea', 'Kyoto, Japan',\n",
       "       'Bermuda', 'Belarus', 'Estonia', 'Suriname', 'Dominican Republic',\n",
       "       'Vanuatu', 'Trinidad and Tobago', 'Cyprus', 'Macedonia',\n",
       "       'Viet Nam', 'Swaziland', 'Falkland Islands', 'Kyrgyzstan',\n",
       "       'Bangladesh', 'Laos', 'Middleburg, MD', 'Papua New Guinea',\n",
       "       'Uruguay', 'Guam', 'Dominican Re', 'Saint Lucia'], dtype=object)"
      ]
     },
     "execution_count": 34,
     "metadata": {},
     "output_type": "execute_result"
    }
   ],
   "source": [
    "new_df['state'].unique()"
   ]
  },
  {
   "cell_type": "code",
   "execution_count": 35,
   "metadata": {},
   "outputs": [],
   "source": [
    "new_df = new_df.replace(to_replace='Virginia', value=\"VA\")"
   ]
  },
  {
   "cell_type": "code",
   "execution_count": 36,
   "metadata": {},
   "outputs": [
    {
     "name": "stderr",
     "output_type": "stream",
     "text": [
      "C:\\Users\\rayde\\Anaconda3\\lib\\site-packages\\ipykernel_launcher.py:1: FutureWarning: Columnar iteration over characters will be deprecated in future releases.\n",
      "  \"\"\"Entry point for launching an IPython kernel.\n"
     ]
    },
    {
     "data": {
      "text/plain": [
       "project id                                                  1637912974\n",
       "name                                                        Light Ball\n",
       "url                  http://www.kickstarter.com/projects/819627388/...\n",
       "category                                                    Technology\n",
       "subcategory                                                 Technology\n",
       "location                                            10, Middleburg, MD\n",
       "status                                                          failed\n",
       "goal                                                           19500.0\n",
       "pledged                                                          103.0\n",
       "funded percentage                                             0.005282\n",
       "backers                                                              3\n",
       "funded date                                  2012-03-31 03:59:00+00:00\n",
       "levels                                                               6\n",
       "reward levels                         $25,$100,$200,$750,$2,000,$3,500\n",
       "updates                                                              0\n",
       "comments                                                             0\n",
       "duration                                                         49.09\n",
       "duration_td                                           49 days 02:09:36\n",
       "Posting_Date                                 2012-02-11 01:49:24+00:00\n",
       "year_funded                                                       2012\n",
       "month_funded                                                         3\n",
       "day_funded                                                          31\n",
       "time_funded                                                   03:59:00\n",
       "dayOfWeek_funded                                                     5\n",
       "year_posted                                                       2012\n",
       "month_posted                                                         2\n",
       "day_posted                                                          11\n",
       "time_posted                                                   01:49:24\n",
       "dayOfWeek_posted                                                     5\n",
       "city                                                        Middleburg\n",
       "state                                                               MD\n",
       "Name: 34811, dtype: object"
      ]
     },
     "execution_count": 36,
     "metadata": {},
     "output_type": "execute_result"
    }
   ],
   "source": [
    "x, y = new_df[new_df.state == 'Middleburg, MD']['state'].str.split(', ', 1).str\n",
    "row_val = list(new_df[new_df.state == 'Middleburg, MD'].index)[0]\n",
    "\n",
    "new_df.loc[[row_val],['city']] = x\n",
    "new_df.loc[[row_val], ['state']]= y\n",
    "new_df.loc[row_val]"
   ]
  },
  {
   "cell_type": "code",
   "execution_count": 37,
   "metadata": {},
   "outputs": [
    {
     "data": {
      "text/html": [
       "<div>\n",
       "<style scoped>\n",
       "    .dataframe tbody tr th:only-of-type {\n",
       "        vertical-align: middle;\n",
       "    }\n",
       "\n",
       "    .dataframe tbody tr th {\n",
       "        vertical-align: top;\n",
       "    }\n",
       "\n",
       "    .dataframe thead th {\n",
       "        text-align: right;\n",
       "    }\n",
       "</style>\n",
       "<table border=\"1\" class=\"dataframe\">\n",
       "  <thead>\n",
       "    <tr style=\"text-align: right;\">\n",
       "      <th></th>\n",
       "      <th>project id</th>\n",
       "      <th>name</th>\n",
       "      <th>url</th>\n",
       "      <th>category</th>\n",
       "      <th>subcategory</th>\n",
       "      <th>location</th>\n",
       "      <th>status</th>\n",
       "      <th>goal</th>\n",
       "      <th>pledged</th>\n",
       "      <th>funded percentage</th>\n",
       "      <th>...</th>\n",
       "      <th>time_funded</th>\n",
       "      <th>dayOfWeek_funded</th>\n",
       "      <th>year_posted</th>\n",
       "      <th>month_posted</th>\n",
       "      <th>day_posted</th>\n",
       "      <th>time_posted</th>\n",
       "      <th>dayOfWeek_posted</th>\n",
       "      <th>city</th>\n",
       "      <th>state</th>\n",
       "      <th>country</th>\n",
       "    </tr>\n",
       "  </thead>\n",
       "  <tbody>\n",
       "    <tr>\n",
       "      <th>11</th>\n",
       "      <td>727286</td>\n",
       "      <td>Offline Wikipedia iPhone app</td>\n",
       "      <td>http://www.kickstarter.com/projects/dphiffer/o...</td>\n",
       "      <td>Technology</td>\n",
       "      <td>Open Software</td>\n",
       "      <td>NaN</td>\n",
       "      <td>successful</td>\n",
       "      <td>99.0</td>\n",
       "      <td>145.0</td>\n",
       "      <td>1.464646</td>\n",
       "      <td>...</td>\n",
       "      <td>06:59:59</td>\n",
       "      <td>1</td>\n",
       "      <td>2009</td>\n",
       "      <td>4</td>\n",
       "      <td>25</td>\n",
       "      <td>15:38:23</td>\n",
       "      <td>5</td>\n",
       "      <td>NaN</td>\n",
       "      <td>NaN</td>\n",
       "      <td>NaN</td>\n",
       "    </tr>\n",
       "    <tr>\n",
       "      <th>14</th>\n",
       "      <td>893085</td>\n",
       "      <td>Esperanza Farm: A Novel</td>\n",
       "      <td>http://www.kickstarter.com/projects/JesusMaria...</td>\n",
       "      <td>Publishing</td>\n",
       "      <td>Fiction</td>\n",
       "      <td>NaN</td>\n",
       "      <td>failed</td>\n",
       "      <td>6500.0</td>\n",
       "      <td>765.0</td>\n",
       "      <td>0.117692</td>\n",
       "      <td>...</td>\n",
       "      <td>03:59:00</td>\n",
       "      <td>4</td>\n",
       "      <td>2010</td>\n",
       "      <td>5</td>\n",
       "      <td>16</td>\n",
       "      <td>19:49:24</td>\n",
       "      <td>6</td>\n",
       "      <td>NaN</td>\n",
       "      <td>NaN</td>\n",
       "      <td>NaN</td>\n",
       "    </tr>\n",
       "    <tr>\n",
       "      <th>29</th>\n",
       "      <td>1512678</td>\n",
       "      <td>Eyes and Ears on English - comedy/English educ...</td>\n",
       "      <td>http://www.kickstarter.com/projects/1787808582...</td>\n",
       "      <td>Film &amp; Video</td>\n",
       "      <td>Film &amp; Video</td>\n",
       "      <td>Taipei, Taiwan</td>\n",
       "      <td>failed</td>\n",
       "      <td>12000.0</td>\n",
       "      <td>1502.0</td>\n",
       "      <td>0.125167</td>\n",
       "      <td>...</td>\n",
       "      <td>05:15:04</td>\n",
       "      <td>6</td>\n",
       "      <td>2011</td>\n",
       "      <td>4</td>\n",
       "      <td>7</td>\n",
       "      <td>05:15:04</td>\n",
       "      <td>3</td>\n",
       "      <td>Taipei</td>\n",
       "      <td>Taiwan</td>\n",
       "      <td>Taiwan</td>\n",
       "    </tr>\n",
       "    <tr>\n",
       "      <th>42</th>\n",
       "      <td>2117470</td>\n",
       "      <td>\" Hugo's There \" - Real News. Unbelievably.</td>\n",
       "      <td>http://www.kickstarter.com/projects/mastermind...</td>\n",
       "      <td>Film &amp; Video</td>\n",
       "      <td>Webseries</td>\n",
       "      <td>Oslo, Norway</td>\n",
       "      <td>failed</td>\n",
       "      <td>8400.0</td>\n",
       "      <td>25.0</td>\n",
       "      <td>0.002976</td>\n",
       "      <td>...</td>\n",
       "      <td>01:20:25</td>\n",
       "      <td>0</td>\n",
       "      <td>2011</td>\n",
       "      <td>7</td>\n",
       "      <td>25</td>\n",
       "      <td>01:20:25</td>\n",
       "      <td>0</td>\n",
       "      <td>Oslo</td>\n",
       "      <td>Norway</td>\n",
       "      <td>Norway</td>\n",
       "    </tr>\n",
       "    <tr>\n",
       "      <th>49</th>\n",
       "      <td>2442649</td>\n",
       "      <td>Dream with Me--A documentary about one year in...</td>\n",
       "      <td>http://www.kickstarter.com/projects/1800556280...</td>\n",
       "      <td>Film &amp; Video</td>\n",
       "      <td>Documentary</td>\n",
       "      <td>NaN</td>\n",
       "      <td>successful</td>\n",
       "      <td>5000.0</td>\n",
       "      <td>5615.0</td>\n",
       "      <td>1.123000</td>\n",
       "      <td>...</td>\n",
       "      <td>01:08:00</td>\n",
       "      <td>4</td>\n",
       "      <td>2009</td>\n",
       "      <td>9</td>\n",
       "      <td>15</td>\n",
       "      <td>03:46:24</td>\n",
       "      <td>1</td>\n",
       "      <td>NaN</td>\n",
       "      <td>NaN</td>\n",
       "      <td>NaN</td>\n",
       "    </tr>\n",
       "  </tbody>\n",
       "</table>\n",
       "<p>5 rows × 32 columns</p>\n",
       "</div>"
      ],
      "text/plain": [
       "    project id                                               name  \\\n",
       "11      727286                       Offline Wikipedia iPhone app   \n",
       "14      893085                            Esperanza Farm: A Novel   \n",
       "29     1512678  Eyes and Ears on English - comedy/English educ...   \n",
       "42     2117470        \" Hugo's There \" - Real News. Unbelievably.   \n",
       "49     2442649  Dream with Me--A documentary about one year in...   \n",
       "\n",
       "                                                  url      category  \\\n",
       "11  http://www.kickstarter.com/projects/dphiffer/o...    Technology   \n",
       "14  http://www.kickstarter.com/projects/JesusMaria...    Publishing   \n",
       "29  http://www.kickstarter.com/projects/1787808582...  Film & Video   \n",
       "42  http://www.kickstarter.com/projects/mastermind...  Film & Video   \n",
       "49  http://www.kickstarter.com/projects/1800556280...  Film & Video   \n",
       "\n",
       "      subcategory        location      status     goal  pledged  \\\n",
       "11  Open Software             NaN  successful     99.0    145.0   \n",
       "14        Fiction             NaN      failed   6500.0    765.0   \n",
       "29   Film & Video  Taipei, Taiwan      failed  12000.0   1502.0   \n",
       "42      Webseries    Oslo, Norway      failed   8400.0     25.0   \n",
       "49    Documentary             NaN  successful   5000.0   5615.0   \n",
       "\n",
       "    funded percentage  ...  time_funded dayOfWeek_funded  year_posted  \\\n",
       "11           1.464646  ...     06:59:59                1         2009   \n",
       "14           0.117692  ...     03:59:00                4         2010   \n",
       "29           0.125167  ...     05:15:04                6         2011   \n",
       "42           0.002976  ...     01:20:25                0         2011   \n",
       "49           1.123000  ...     01:08:00                4         2009   \n",
       "\n",
       "   month_posted  day_posted  time_posted  dayOfWeek_posted    city   state  \\\n",
       "11            4          25     15:38:23                 5     NaN     NaN   \n",
       "14            5          16     19:49:24                 6     NaN     NaN   \n",
       "29            4           7     05:15:04                 3  Taipei  Taiwan   \n",
       "42            7          25     01:20:25                 0    Oslo  Norway   \n",
       "49            9          15     03:46:24                 1     NaN     NaN   \n",
       "\n",
       "    country  \n",
       "11      NaN  \n",
       "14      NaN  \n",
       "29   Taiwan  \n",
       "42   Norway  \n",
       "49      NaN  \n",
       "\n",
       "[5 rows x 32 columns]"
      ]
     },
     "execution_count": 37,
     "metadata": {},
     "output_type": "execute_result"
    }
   ],
   "source": [
    "new_df['country'] = new_df['state'].replace(to_replace=r'^..{1}$', value=\"USA\", regex=True)\n",
    "new_df[new_df.country != 'USA'].head()"
   ]
  },
  {
   "cell_type": "code",
   "execution_count": 38,
   "metadata": {},
   "outputs": [],
   "source": [
    "series_1 = new_df[new_df.country != 'USA']['state'].apply(lambda x: np.nan)\n",
    "indices= list(new_df[new_df.country != 'USA'].index)\n",
    "new_df.loc[indices, ['state']] = series_1"
   ]
  },
  {
   "cell_type": "code",
   "execution_count": 39,
   "metadata": {},
   "outputs": [
    {
     "data": {
      "text/plain": [
       "array(['MO', 'NJ', 'CA', 'MI', 'OR', 'TN', 'IL', nan, 'NY', 'DC', 'ID',\n",
       "       'FL', 'TX', 'CO', 'ME', 'IN', 'MN', 'NC', 'MA', 'PA', 'CT', 'MD',\n",
       "       'HI', 'VA', 'WA', 'AZ', 'OH', 'NV', 'GA', 'AL', 'UT', 'LA', 'SC',\n",
       "       'WI', 'NM', 'NE', 'IA', 'WY', 'RI', 'OK', 'DE', 'AK', 'WV', 'MT',\n",
       "       'KY', 'VT', 'KS', 'SD', 'NH', 'AR', 'Mt', 'MS', 'ND'], dtype=object)"
      ]
     },
     "execution_count": 39,
     "metadata": {},
     "output_type": "execute_result"
    }
   ],
   "source": [
    "new_df['state'].unique()"
   ]
  },
  {
   "cell_type": "code",
   "execution_count": 40,
   "metadata": {},
   "outputs": [
    {
     "data": {
      "text/plain": [
       "array(['USA', nan, 'Taiwan', 'Norway', 'Chile', 'Haiti', 'Canada',\n",
       "       'Ecuador', 'Jamaica', 'Argentina', 'Hong Kong', 'Germany',\n",
       "       'Guatemala', 'Australia', 'Sweden', 'South Africa', 'Nepal',\n",
       "       'Kenya', 'Bosnia and Herzegovina', 'Iceland', 'Mexico', 'Hungary',\n",
       "       'Indonesia', 'China', 'Cuba', 'Peru', 'Italy', 'Netherlands',\n",
       "       'Singapore', 'Ethiopia', 'New Zealand', 'France', 'United Kingdom',\n",
       "       'Austria', 'Turkey', 'Congo', 'Colombia', 'India', 'Mongolia',\n",
       "       'Israel', 'Dominica', 'Finland', 'Czech Republic', 'Japan',\n",
       "       'Virgin Islands, U.S.', 'Lebanon', 'Armenia', 'Portugal', 'Qatar',\n",
       "       'Morocco', 'Martinique', 'Puerto Rico', 'Afghanistan', 'Denmark',\n",
       "       'Tanzania', 'Kazakhstan', 'Zambia', 'Switzerland', 'Egypt',\n",
       "       'Svalbard and Jan Mayen', 'Liberia', 'Ghana', 'Nicaragua',\n",
       "       'Russia', 'Ukraine', 'Bulgaria', 'South Korea', 'Brazil', 'Rwanda',\n",
       "       'Spain', 'Costa Rica', 'Philippines', 'Pakistan', 'El Salvador',\n",
       "       'Panama', 'United Arab Emirates', 'Honduras',\n",
       "       'Palestinian Territories', 'Poland', 'Georgia',\n",
       "       'Syrian Arab Republic', 'Cambodia', 'Nigeria', 'Mali',\n",
       "       'Saudi Arabia', 'Argent', 'Iraq', 'Cameroon', 'Namibia', 'Ireland',\n",
       "       'Bolivia', 'Venezuela', 'Thailand', 'Jordan', 'Zimbabwe', 'Iran',\n",
       "       'Tunisia', 'Greece', 'Sierra Leone', 'Isle of Man',\n",
       "       'Central African Republic', 'Serbia', 'Belize', 'Uganda', 'Malta',\n",
       "       'Slovenia', 'Sudan', 'Belgium', 'Myanmar', 'Malaysia', 'Greenland',\n",
       "       'Senegal', 'Bahamas', 'Malawi', 'Romania', 'Mozambique', 'Bhutan',\n",
       "       'Lithuania', 'Micronesia', 'Tajikistan', 'Sri Lanka',\n",
       "       'Libyan Arab Jamahiriya', 'Guinea', 'Kyoto, Japan', 'Bermuda',\n",
       "       'Belarus', 'Estonia', 'Suriname', 'Dominican Republic', 'Vanuatu',\n",
       "       'Trinidad and Tobago', 'Cyprus', 'Macedonia', 'Viet Nam',\n",
       "       'Swaziland', 'Falkland Islands', 'Kyrgyzstan', 'Bangladesh',\n",
       "       'Laos', 'Papua New Guinea', 'Uruguay', 'Guam', 'Dominican Re',\n",
       "       'Saint Lucia'], dtype=object)"
      ]
     },
     "execution_count": 40,
     "metadata": {},
     "output_type": "execute_result"
    }
   ],
   "source": [
    "new_df['country'].unique()"
   ]
  },
  {
   "cell_type": "code",
   "execution_count": 41,
   "metadata": {},
   "outputs": [
    {
     "data": {
      "text/html": [
       "<div>\n",
       "<style scoped>\n",
       "    .dataframe tbody tr th:only-of-type {\n",
       "        vertical-align: middle;\n",
       "    }\n",
       "\n",
       "    .dataframe tbody tr th {\n",
       "        vertical-align: top;\n",
       "    }\n",
       "\n",
       "    .dataframe thead th {\n",
       "        text-align: right;\n",
       "    }\n",
       "</style>\n",
       "<table border=\"1\" class=\"dataframe\">\n",
       "  <thead>\n",
       "    <tr style=\"text-align: right;\">\n",
       "      <th></th>\n",
       "      <th>location</th>\n",
       "      <th>country</th>\n",
       "    </tr>\n",
       "  </thead>\n",
       "  <tbody>\n",
       "    <tr>\n",
       "      <th>11</th>\n",
       "      <td>NaN</td>\n",
       "      <td>nan</td>\n",
       "    </tr>\n",
       "    <tr>\n",
       "      <th>14</th>\n",
       "      <td>NaN</td>\n",
       "      <td>nan</td>\n",
       "    </tr>\n",
       "    <tr>\n",
       "      <th>49</th>\n",
       "      <td>NaN</td>\n",
       "      <td>nan</td>\n",
       "    </tr>\n",
       "    <tr>\n",
       "      <th>98</th>\n",
       "      <td>NaN</td>\n",
       "      <td>nan</td>\n",
       "    </tr>\n",
       "    <tr>\n",
       "      <th>100</th>\n",
       "      <td>NaN</td>\n",
       "      <td>nan</td>\n",
       "    </tr>\n",
       "  </tbody>\n",
       "</table>\n",
       "</div>"
      ],
      "text/plain": [
       "    location country\n",
       "11       NaN     nan\n",
       "14       NaN     nan\n",
       "49       NaN     nan\n",
       "98       NaN     nan\n",
       "100      NaN     nan"
      ]
     },
     "execution_count": 41,
     "metadata": {},
     "output_type": "execute_result"
    }
   ],
   "source": [
    "new_df['country'] = new_df['country'].astype('str')\n",
    "new_df[new_df.country == 'nan'][['location', 'country']].head()"
   ]
  },
  {
   "cell_type": "code",
   "execution_count": 42,
   "metadata": {},
   "outputs": [],
   "source": [
    "series1 = new_df[new_df['country']=='nan']['country'].apply(lambda x: np.nan)\n",
    "indices = series1.index\n",
    "new_df.loc[indices, ['country']] = series_1"
   ]
  },
  {
   "cell_type": "code",
   "execution_count": 43,
   "metadata": {},
   "outputs": [
    {
     "data": {
      "text/html": [
       "<div>\n",
       "<style scoped>\n",
       "    .dataframe tbody tr th:only-of-type {\n",
       "        vertical-align: middle;\n",
       "    }\n",
       "\n",
       "    .dataframe tbody tr th {\n",
       "        vertical-align: top;\n",
       "    }\n",
       "\n",
       "    .dataframe thead th {\n",
       "        text-align: right;\n",
       "    }\n",
       "</style>\n",
       "<table border=\"1\" class=\"dataframe\">\n",
       "  <thead>\n",
       "    <tr style=\"text-align: right;\">\n",
       "      <th></th>\n",
       "      <th>country</th>\n",
       "    </tr>\n",
       "  </thead>\n",
       "  <tbody>\n",
       "    <tr>\n",
       "      <th>11</th>\n",
       "      <td>NaN</td>\n",
       "    </tr>\n",
       "    <tr>\n",
       "      <th>14</th>\n",
       "      <td>NaN</td>\n",
       "    </tr>\n",
       "    <tr>\n",
       "      <th>49</th>\n",
       "      <td>NaN</td>\n",
       "    </tr>\n",
       "    <tr>\n",
       "      <th>98</th>\n",
       "      <td>NaN</td>\n",
       "    </tr>\n",
       "    <tr>\n",
       "      <th>100</th>\n",
       "      <td>NaN</td>\n",
       "    </tr>\n",
       "  </tbody>\n",
       "</table>\n",
       "</div>"
      ],
      "text/plain": [
       "    country\n",
       "11      NaN\n",
       "14      NaN\n",
       "49      NaN\n",
       "98      NaN\n",
       "100     NaN"
      ]
     },
     "execution_count": 43,
     "metadata": {},
     "output_type": "execute_result"
    }
   ],
   "source": [
    "new_df.loc[indices, ['country']].head()"
   ]
  },
  {
   "cell_type": "markdown",
   "metadata": {},
   "source": [
    "## Create Dummy Variables Using LabelEncoder()"
   ]
  },
  {
   "cell_type": "code",
   "execution_count": 44,
   "metadata": {},
   "outputs": [],
   "source": [
    "obj_cols = ['category', 'subcategory', 'status', 'year_posted', 'year_funded', 'month_posted', 'month_funded']\n",
    "label_encoder = LabelEncoder()\n",
    "for col in obj_cols:\n",
    "    try:\n",
    "        new_df[col+\"_dummy\"] = label_encoder.fit_transform(new_df[col])\n",
    "    except:\n",
    "        print('problem with' + col)"
   ]
  },
  {
   "cell_type": "code",
   "execution_count": 45,
   "metadata": {},
   "outputs": [
    {
     "name": "stdout",
     "output_type": "stream",
     "text": [
      "USA               38420\n",
      "Other               312\n",
      "Canada              264\n",
      "United Kingdom      191\n",
      "Germany             103\n",
      "Mexico               78\n",
      "France               75\n",
      "Italy                71\n",
      "India                66\n",
      "China                57\n",
      "Australia            52\n",
      "Japan                44\n",
      "Israel               44\n",
      "South Africa         41\n",
      "Spain                32\n",
      "Brazil               32\n",
      "Haiti                32\n",
      "Czech Republic       30\n",
      "Iceland              26\n",
      "Peru                 26\n",
      "Argentina            25\n",
      "Netherlands          25\n",
      "Puerto Rico          24\n",
      "Thailand             23\n",
      "Kenya                21\n",
      "Guatemala            21\n",
      "Turkey               19\n",
      "Sweden               19\n",
      "New Zealand          19\n",
      "Egypt                19\n",
      "Austria              19\n",
      "Indonesia            18\n",
      "Colombia             17\n",
      "Nepal                16\n",
      "Denmark              15\n",
      "Chile                14\n",
      "Afghanistan          14\n",
      "Ecuador              14\n",
      "South Korea          13\n",
      "Uganda               13\n",
      "Cambodia             13\n",
      "Ghana                13\n",
      "Costa Rica           12\n",
      "Tanzania             12\n",
      "Philippines          12\n",
      "Ethiopia             12\n",
      "Russia               12\n",
      "Ireland              12\n",
      "Greece               10\n",
      "Switzerland          10\n",
      "Singapore            10\n",
      "Cuba                 10\n",
      "Hungary              10\n",
      "Hong Kong            10\n",
      "Name: country, dtype: int64\n"
     ]
    },
    {
     "name": "stderr",
     "output_type": "stream",
     "text": [
      "C:\\Users\\rayde\\Anaconda3\\lib\\site-packages\\ipykernel_launcher.py:7: SettingWithCopyWarning: \n",
      "A value is trying to be set on a copy of a slice from a DataFrame\n",
      "\n",
      "See the caveats in the documentation: https://pandas.pydata.org/pandas-docs/stable/user_guide/indexing.html#returning-a-view-versus-a-copy\n",
      "  import sys\n"
     ]
    }
   ],
   "source": [
    "countries = new_df.country\n",
    "country_counts = countries.value_counts()\n",
    "\n",
    "mask = countries.isin(country_counts[country_counts < 10].index)\n",
    "\n",
    "# Label all other categories as Other\n",
    "countries[mask] = 'Other'\n",
    "\n",
    "# Print the updated category counts\n",
    "print(pd.value_counts(countries))"
   ]
  },
  {
   "cell_type": "code",
   "execution_count": 46,
   "metadata": {},
   "outputs": [],
   "source": [
    "new_df['country'] = new_df['country'].astype('str')\n",
    "new_df.country\n",
    "new_df['country_dummy'] = label_encoder.fit_transform(new_df['country'])"
   ]
  },
  {
   "cell_type": "code",
   "execution_count": 47,
   "metadata": {},
   "outputs": [
    {
     "data": {
      "text/plain": [
       "0        51\n",
       "1        51\n",
       "3        51\n",
       "4        51\n",
       "5        51\n",
       "         ..\n",
       "45952    51\n",
       "45953    51\n",
       "45954    51\n",
       "45955    51\n",
       "45956    51\n",
       "Name: country_dummy, Length: 41841, dtype: int32"
      ]
     },
     "execution_count": 47,
     "metadata": {},
     "output_type": "execute_result"
    }
   ],
   "source": [
    "new_df.country_dummy"
   ]
  },
  {
   "cell_type": "code",
   "execution_count": 48,
   "metadata": {
    "scrolled": true
   },
   "outputs": [
    {
     "data": {
      "text/html": [
       "<div>\n",
       "<style scoped>\n",
       "    .dataframe tbody tr th:only-of-type {\n",
       "        vertical-align: middle;\n",
       "    }\n",
       "\n",
       "    .dataframe tbody tr th {\n",
       "        vertical-align: top;\n",
       "    }\n",
       "\n",
       "    .dataframe thead th {\n",
       "        text-align: right;\n",
       "    }\n",
       "</style>\n",
       "<table border=\"1\" class=\"dataframe\">\n",
       "  <thead>\n",
       "    <tr style=\"text-align: right;\">\n",
       "      <th></th>\n",
       "      <th>project id</th>\n",
       "      <th>goal</th>\n",
       "      <th>pledged</th>\n",
       "      <th>funded percentage</th>\n",
       "      <th>backers</th>\n",
       "      <th>levels</th>\n",
       "      <th>updates</th>\n",
       "      <th>comments</th>\n",
       "      <th>duration</th>\n",
       "      <th>duration_td</th>\n",
       "      <th>...</th>\n",
       "      <th>day_posted</th>\n",
       "      <th>dayOfWeek_posted</th>\n",
       "      <th>category_dummy</th>\n",
       "      <th>subcategory_dummy</th>\n",
       "      <th>status_dummy</th>\n",
       "      <th>year_posted_dummy</th>\n",
       "      <th>year_funded_dummy</th>\n",
       "      <th>month_posted_dummy</th>\n",
       "      <th>month_funded_dummy</th>\n",
       "      <th>country_dummy</th>\n",
       "    </tr>\n",
       "  </thead>\n",
       "  <tbody>\n",
       "    <tr>\n",
       "      <th>count</th>\n",
       "      <td>4.184100e+04</td>\n",
       "      <td>4.184100e+04</td>\n",
       "      <td>4.184100e+04</td>\n",
       "      <td>41841.000000</td>\n",
       "      <td>41841.000000</td>\n",
       "      <td>41841.000000</td>\n",
       "      <td>41841.000000</td>\n",
       "      <td>41841.000000</td>\n",
       "      <td>41841.000000</td>\n",
       "      <td>41841</td>\n",
       "      <td>...</td>\n",
       "      <td>41841.000000</td>\n",
       "      <td>41841.000000</td>\n",
       "      <td>41841.000000</td>\n",
       "      <td>41841.000000</td>\n",
       "      <td>41841.000000</td>\n",
       "      <td>41841.000000</td>\n",
       "      <td>41841.000000</td>\n",
       "      <td>41841.000000</td>\n",
       "      <td>41841.000000</td>\n",
       "      <td>41841.000000</td>\n",
       "    </tr>\n",
       "    <tr>\n",
       "      <th>mean</th>\n",
       "      <td>1.078276e+09</td>\n",
       "      <td>1.041084e+04</td>\n",
       "      <td>5.128665e+03</td>\n",
       "      <td>1.980354</td>\n",
       "      <td>71.098731</td>\n",
       "      <td>7.950646</td>\n",
       "      <td>4.335580</td>\n",
       "      <td>8.327287</td>\n",
       "      <td>40.232153</td>\n",
       "      <td>40 days 05:34:17.990965799</td>\n",
       "      <td>...</td>\n",
       "      <td>15.222413</td>\n",
       "      <td>2.577735</td>\n",
       "      <td>6.258072</td>\n",
       "      <td>26.105423</td>\n",
       "      <td>0.547358</td>\n",
       "      <td>2.025501</td>\n",
       "      <td>2.123205</td>\n",
       "      <td>4.918358</td>\n",
       "      <td>5.079993</td>\n",
       "      <td>49.872493</td>\n",
       "    </tr>\n",
       "    <tr>\n",
       "      <th>std</th>\n",
       "      <td>6.197736e+08</td>\n",
       "      <td>1.480363e+05</td>\n",
       "      <td>5.916179e+04</td>\n",
       "      <td>92.728555</td>\n",
       "      <td>713.994952</td>\n",
       "      <td>4.192497</td>\n",
       "      <td>6.628569</td>\n",
       "      <td>175.451017</td>\n",
       "      <td>17.786219</td>\n",
       "      <td>17 days 18:52:09.326775168</td>\n",
       "      <td>...</td>\n",
       "      <td>8.819130</td>\n",
       "      <td>1.820043</td>\n",
       "      <td>3.160544</td>\n",
       "      <td>13.910777</td>\n",
       "      <td>0.497758</td>\n",
       "      <td>0.754904</td>\n",
       "      <td>0.744352</td>\n",
       "      <td>3.488458</td>\n",
       "      <td>3.331319</td>\n",
       "      <td>6.445682</td>\n",
       "    </tr>\n",
       "    <tr>\n",
       "      <th>min</th>\n",
       "      <td>3.940900e+04</td>\n",
       "      <td>1.000000e-02</td>\n",
       "      <td>0.000000e+00</td>\n",
       "      <td>0.000000</td>\n",
       "      <td>0.000000</td>\n",
       "      <td>0.000000</td>\n",
       "      <td>0.000000</td>\n",
       "      <td>0.000000</td>\n",
       "      <td>1.000000</td>\n",
       "      <td>1 days 00:00:00</td>\n",
       "      <td>...</td>\n",
       "      <td>1.000000</td>\n",
       "      <td>0.000000</td>\n",
       "      <td>0.000000</td>\n",
       "      <td>0.000000</td>\n",
       "      <td>0.000000</td>\n",
       "      <td>0.000000</td>\n",
       "      <td>0.000000</td>\n",
       "      <td>0.000000</td>\n",
       "      <td>0.000000</td>\n",
       "      <td>0.000000</td>\n",
       "    </tr>\n",
       "    <tr>\n",
       "      <th>25%</th>\n",
       "      <td>5.426141e+08</td>\n",
       "      <td>1.650000e+03</td>\n",
       "      <td>2.200000e+02</td>\n",
       "      <td>0.051667</td>\n",
       "      <td>5.000000</td>\n",
       "      <td>5.000000</td>\n",
       "      <td>0.000000</td>\n",
       "      <td>0.000000</td>\n",
       "      <td>30.000000</td>\n",
       "      <td>30 days 00:00:00</td>\n",
       "      <td>...</td>\n",
       "      <td>8.000000</td>\n",
       "      <td>1.000000</td>\n",
       "      <td>5.000000</td>\n",
       "      <td>14.000000</td>\n",
       "      <td>0.000000</td>\n",
       "      <td>2.000000</td>\n",
       "      <td>2.000000</td>\n",
       "      <td>2.000000</td>\n",
       "      <td>2.000000</td>\n",
       "      <td>51.000000</td>\n",
       "    </tr>\n",
       "    <tr>\n",
       "      <th>50%</th>\n",
       "      <td>1.077801e+09</td>\n",
       "      <td>4.000000e+03</td>\n",
       "      <td>1.450000e+03</td>\n",
       "      <td>1.005167</td>\n",
       "      <td>25.000000</td>\n",
       "      <td>7.000000</td>\n",
       "      <td>2.000000</td>\n",
       "      <td>1.000000</td>\n",
       "      <td>32.080000</td>\n",
       "      <td>32 days 01:55:12</td>\n",
       "      <td>...</td>\n",
       "      <td>15.000000</td>\n",
       "      <td>2.000000</td>\n",
       "      <td>6.000000</td>\n",
       "      <td>27.000000</td>\n",
       "      <td>1.000000</td>\n",
       "      <td>2.000000</td>\n",
       "      <td>2.000000</td>\n",
       "      <td>4.000000</td>\n",
       "      <td>4.000000</td>\n",
       "      <td>51.000000</td>\n",
       "    </tr>\n",
       "    <tr>\n",
       "      <th>75%</th>\n",
       "      <td>1.616992e+09</td>\n",
       "      <td>8.800000e+03</td>\n",
       "      <td>4.400000e+03</td>\n",
       "      <td>1.130000</td>\n",
       "      <td>61.000000</td>\n",
       "      <td>10.000000</td>\n",
       "      <td>6.000000</td>\n",
       "      <td>3.000000</td>\n",
       "      <td>49.080000</td>\n",
       "      <td>49 days 01:55:12</td>\n",
       "      <td>...</td>\n",
       "      <td>23.000000</td>\n",
       "      <td>4.000000</td>\n",
       "      <td>8.000000</td>\n",
       "      <td>41.000000</td>\n",
       "      <td>1.000000</td>\n",
       "      <td>3.000000</td>\n",
       "      <td>3.000000</td>\n",
       "      <td>8.000000</td>\n",
       "      <td>8.000000</td>\n",
       "      <td>51.000000</td>\n",
       "    </tr>\n",
       "    <tr>\n",
       "      <th>max</th>\n",
       "      <td>2.147460e+09</td>\n",
       "      <td>2.147484e+07</td>\n",
       "      <td>1.026684e+07</td>\n",
       "      <td>15066.000000</td>\n",
       "      <td>87142.000000</td>\n",
       "      <td>80.000000</td>\n",
       "      <td>149.000000</td>\n",
       "      <td>19311.000000</td>\n",
       "      <td>91.960000</td>\n",
       "      <td>91 days 23:02:24</td>\n",
       "      <td>...</td>\n",
       "      <td>31.000000</td>\n",
       "      <td>6.000000</td>\n",
       "      <td>12.000000</td>\n",
       "      <td>48.000000</td>\n",
       "      <td>1.000000</td>\n",
       "      <td>3.000000</td>\n",
       "      <td>3.000000</td>\n",
       "      <td>11.000000</td>\n",
       "      <td>11.000000</td>\n",
       "      <td>54.000000</td>\n",
       "    </tr>\n",
       "  </tbody>\n",
       "</table>\n",
       "<p>8 rows × 26 columns</p>\n",
       "</div>"
      ],
      "text/plain": [
       "         project id          goal       pledged  funded percentage  \\\n",
       "count  4.184100e+04  4.184100e+04  4.184100e+04       41841.000000   \n",
       "mean   1.078276e+09  1.041084e+04  5.128665e+03           1.980354   \n",
       "std    6.197736e+08  1.480363e+05  5.916179e+04          92.728555   \n",
       "min    3.940900e+04  1.000000e-02  0.000000e+00           0.000000   \n",
       "25%    5.426141e+08  1.650000e+03  2.200000e+02           0.051667   \n",
       "50%    1.077801e+09  4.000000e+03  1.450000e+03           1.005167   \n",
       "75%    1.616992e+09  8.800000e+03  4.400000e+03           1.130000   \n",
       "max    2.147460e+09  2.147484e+07  1.026684e+07       15066.000000   \n",
       "\n",
       "            backers        levels       updates      comments      duration  \\\n",
       "count  41841.000000  41841.000000  41841.000000  41841.000000  41841.000000   \n",
       "mean      71.098731      7.950646      4.335580      8.327287     40.232153   \n",
       "std      713.994952      4.192497      6.628569    175.451017     17.786219   \n",
       "min        0.000000      0.000000      0.000000      0.000000      1.000000   \n",
       "25%        5.000000      5.000000      0.000000      0.000000     30.000000   \n",
       "50%       25.000000      7.000000      2.000000      1.000000     32.080000   \n",
       "75%       61.000000     10.000000      6.000000      3.000000     49.080000   \n",
       "max    87142.000000     80.000000    149.000000  19311.000000     91.960000   \n",
       "\n",
       "                      duration_td  ...    day_posted  dayOfWeek_posted  \\\n",
       "count                       41841  ...  41841.000000      41841.000000   \n",
       "mean   40 days 05:34:17.990965799  ...     15.222413          2.577735   \n",
       "std    17 days 18:52:09.326775168  ...      8.819130          1.820043   \n",
       "min               1 days 00:00:00  ...      1.000000          0.000000   \n",
       "25%              30 days 00:00:00  ...      8.000000          1.000000   \n",
       "50%              32 days 01:55:12  ...     15.000000          2.000000   \n",
       "75%              49 days 01:55:12  ...     23.000000          4.000000   \n",
       "max              91 days 23:02:24  ...     31.000000          6.000000   \n",
       "\n",
       "       category_dummy  subcategory_dummy  status_dummy  year_posted_dummy  \\\n",
       "count    41841.000000       41841.000000  41841.000000       41841.000000   \n",
       "mean         6.258072          26.105423      0.547358           2.025501   \n",
       "std          3.160544          13.910777      0.497758           0.754904   \n",
       "min          0.000000           0.000000      0.000000           0.000000   \n",
       "25%          5.000000          14.000000      0.000000           2.000000   \n",
       "50%          6.000000          27.000000      1.000000           2.000000   \n",
       "75%          8.000000          41.000000      1.000000           3.000000   \n",
       "max         12.000000          48.000000      1.000000           3.000000   \n",
       "\n",
       "       year_funded_dummy  month_posted_dummy  month_funded_dummy  \\\n",
       "count       41841.000000        41841.000000        41841.000000   \n",
       "mean            2.123205            4.918358            5.079993   \n",
       "std             0.744352            3.488458            3.331319   \n",
       "min             0.000000            0.000000            0.000000   \n",
       "25%             2.000000            2.000000            2.000000   \n",
       "50%             2.000000            4.000000            4.000000   \n",
       "75%             3.000000            8.000000            8.000000   \n",
       "max             3.000000           11.000000           11.000000   \n",
       "\n",
       "       country_dummy  \n",
       "count   41841.000000  \n",
       "mean       49.872493  \n",
       "std         6.445682  \n",
       "min         0.000000  \n",
       "25%        51.000000  \n",
       "50%        51.000000  \n",
       "75%        51.000000  \n",
       "max        54.000000  \n",
       "\n",
       "[8 rows x 26 columns]"
      ]
     },
     "execution_count": 48,
     "metadata": {},
     "output_type": "execute_result"
    }
   ],
   "source": [
    "new_df.describe()"
   ]
  },
  {
   "cell_type": "code",
   "execution_count": 49,
   "metadata": {},
   "outputs": [
    {
     "data": {
      "text/plain": [
       "count    41841.000000\n",
       "mean        26.054994\n",
       "std          8.005827\n",
       "min          0.000000\n",
       "25%         21.000000\n",
       "50%         27.000000\n",
       "75%         33.000000\n",
       "max         37.000000\n",
       "Name: year_month_posted, dtype: float64"
      ]
     },
     "execution_count": 49,
     "metadata": {},
     "output_type": "execute_result"
    }
   ],
   "source": [
    "#create interaction between month and year\n",
    "new_df['year_month_posted'] = new_df['year_posted'].astype('str') + \"_\" + new_df['month_posted_dummy'].astype('str')\n",
    "new_df['year_month_posted'] = label_encoder.fit_transform(new_df['year_month_posted'])\n",
    "new_df['year_month_posted'].describe()"
   ]
  },
  {
   "cell_type": "code",
   "execution_count": 50,
   "metadata": {},
   "outputs": [
    {
     "data": {
      "text/plain": [
       "count    41841.000000\n",
       "mean        26.390956\n",
       "std          7.909144\n",
       "min          0.000000\n",
       "25%         22.000000\n",
       "50%         28.000000\n",
       "75%         33.000000\n",
       "max         37.000000\n",
       "Name: year_month_funded, dtype: float64"
      ]
     },
     "execution_count": 50,
     "metadata": {},
     "output_type": "execute_result"
    }
   ],
   "source": [
    "#create interaction between month and year\n",
    "new_df['year_month_funded'] = new_df['year_funded'].astype('str') + \"_\" + new_df['month_funded_dummy'].astype('str')\n",
    "new_df['year_month_funded'] = label_encoder.fit_transform(new_df['year_month_funded'])\n",
    "new_df['year_month_funded'].describe()"
   ]
  },
  {
   "cell_type": "markdown",
   "metadata": {},
   "source": [
    "## Check Skewness and test for normal distribution\n",
    "##### mean greater than median, positively skewed\n",
    "##### mean less than median, negatively skewed\n",
    "##### mean = median, symmetrical distribution\n",
    "\n",
    "#### The normal test tests if the distribution of the variable differs from the normal distribution - This is important because the results indicate whether parametric or nonparametric statistical tests should be used. "
   ]
  },
  {
   "cell_type": "code",
   "execution_count": 51,
   "metadata": {},
   "outputs": [],
   "source": [
    "x_vars = ['goal', 'updates', 'comments', 'duration', 'year_posted_dummy', 'year_funded_dummy', \n",
    "          'month_posted_dummy', 'month_funded_dummy','day_posted', 'day_funded', 'dayOfWeek_posted', 'dayOfWeek_funded', 'category_dummy', \n",
    "          'subcategory_dummy', 'year_month_posted', 'year_month_funded']\n",
    "y_vars = ['pledged', 'funded percentage', 'backers', 'status_dummy']"
   ]
  },
  {
   "cell_type": "code",
   "execution_count": 52,
   "metadata": {},
   "outputs": [
    {
     "data": {
      "text/plain": [
       "project id             -0.008691\n",
       "goal                  132.451022\n",
       "pledged               134.091965\n",
       "funded percentage     134.417943\n",
       "backers                85.971300\n",
       "levels                  2.607894\n",
       "updates                 3.907637\n",
       "comments               71.633083\n",
       "duration                1.066485\n",
       "year_funded            -0.445769\n",
       "month_funded            0.288752\n",
       "day_funded              0.057872\n",
       "dayOfWeek_funded       -0.108342\n",
       "year_posted            -0.385792\n",
       "month_posted            0.287381\n",
       "day_posted              0.052742\n",
       "dayOfWeek_posted        0.233772\n",
       "category_dummy         -0.281979\n",
       "subcategory_dummy      -0.074178\n",
       "status_dummy           -0.190294\n",
       "year_posted_dummy      -0.385792\n",
       "year_funded_dummy      -0.445769\n",
       "month_posted_dummy      0.287381\n",
       "month_funded_dummy      0.288752\n",
       "country_dummy          -5.658267\n",
       "year_month_posted      -0.773060\n",
       "year_month_funded      -0.832694\n",
       "dtype: float64"
      ]
     },
     "execution_count": 52,
     "metadata": {},
     "output_type": "execute_result"
    }
   ],
   "source": [
    "new_df.skew(axis = 0, skipna = True)"
   ]
  },
  {
   "cell_type": "code",
   "execution_count": 53,
   "metadata": {},
   "outputs": [
    {
     "name": "stdout",
     "output_type": "stream",
     "text": [
      "goal: NormaltestResult(statistic=181221.97474867204, pvalue=0.0)\n",
      "updates: NormaltestResult(statistic=35981.269196937435, pvalue=0.0)\n",
      "comments: NormaltestResult(statistic=148916.91323430266, pvalue=0.0)\n",
      "duration: NormaltestResult(statistic=6185.700723610547, pvalue=0.0)\n",
      "year_posted_dummy: NormaltestResult(statistic=1166.7593889551026, pvalue=4.3794324700114634e-254)\n",
      "year_funded_dummy: NormaltestResult(statistic=1611.3934272908994, pvalue=0.0)\n",
      "month_posted_dummy: NormaltestResult(statistic=48094.14473316772, pvalue=0.0)\n",
      "month_funded_dummy: NormaltestResult(statistic=14727.479581701287, pvalue=0.0)\n",
      "day_posted: NormaltestResult(statistic=30782.809488430856, pvalue=0.0)\n",
      "day_funded: NormaltestResult(statistic=36756.83174117571, pvalue=0.0)\n",
      "dayOfWeek_posted: NormaltestResult(statistic=9129.33885408962, pvalue=0.0)\n",
      "dayOfWeek_funded: NormaltestResult(statistic=63622.4356716953, pvalue=0.0)\n",
      "category_dummy: NormaltestResult(statistic=1072.5833590653822, pvalue=1.2344766744891414e-233)\n",
      "subcategory_dummy: NormaltestResult(statistic=50316.776119196045, pvalue=0.0)\n",
      "year_month_posted: NormaltestResult(statistic=3307.224471499674, pvalue=0.0)\n",
      "year_month_funded: NormaltestResult(statistic=3773.7823995172466, pvalue=0.0)\n",
      "pledged: NormaltestResult(statistic=182011.5493629134, pvalue=0.0)\n",
      "funded percentage: NormaltestResult(statistic=182069.71940144463, pvalue=0.0)\n",
      "backers: NormaltestResult(statistic=158220.52349264896, pvalue=0.0)\n",
      "status_dummy: NormaltestResult(statistic=146072.00431160198, pvalue=0.0)\n"
     ]
    }
   ],
   "source": [
    "#Reject the null that they are normally distributed\n",
    "for each in x_vars:\n",
    "    print(f\"{each}:\", stats.normaltest(new_df[each],axis = 0, nan_policy='omit'))\n",
    "for each in y_vars:\n",
    "    print(f\"{each}:\", stats.normaltest(new_df[each],axis = 0, nan_policy='omit'))"
   ]
  },
  {
   "cell_type": "markdown",
   "metadata": {},
   "source": [
    "## Look at Relationship between outcome variables and duration\n",
    "#### There seems to be a consistent jump in pledged, percent funded, and backers at around 30 days duration"
   ]
  },
  {
   "cell_type": "code",
   "execution_count": 54,
   "metadata": {
    "scrolled": true
   },
   "outputs": [
    {
     "data": {
      "image/png": "[encoded data removed]",
      "text/plain": [
       "<Figure size 432x288 with 1 Axes>"
      ]
     },
     "metadata": {
      "needs_background": "light"
     },
     "output_type": "display_data"
    }
   ],
   "source": [
    "y = new_df['pledged']\n",
    "x = new_df['duration']\n",
    "plt.scatter(x,y)\n",
    "plt.show()"
   ]
  },
  {
   "cell_type": "code",
   "execution_count": 55,
   "metadata": {},
   "outputs": [
    {
     "data": {
      "image/png": "[encoded data removed]",
      "text/plain": [
       "<Figure size 432x288 with 1 Axes>"
      ]
     },
     "metadata": {
      "needs_background": "light"
     },
     "output_type": "display_data"
    }
   ],
   "source": [
    "y = new_df['backers']\n",
    "x = new_df['duration']\n",
    "plt.scatter(x,y)\n",
    "plt.show()"
   ]
  },
  {
   "cell_type": "code",
   "execution_count": 56,
   "metadata": {},
   "outputs": [
    {
     "data": {
      "image/png": "[encoded data removed]",
      "text/plain": [
       "<Figure size 1152x576 with 1 Axes>"
      ]
     },
     "metadata": {
      "needs_background": "light"
     },
     "output_type": "display_data"
    },
    {
     "data": {
      "text/plain": [
       "<Figure size 432x288 with 0 Axes>"
      ]
     },
     "metadata": {},
     "output_type": "display_data"
    }
   ],
   "source": [
    "y = new_df[\"funded percentage\"]\n",
    "x = new_df['duration']\n",
    "\n",
    "fig, ax = plt.subplots(figsize=(16,8))\n",
    "ax.scatter(x, y)\n",
    "ax.set_xlabel('Duration')\n",
    "ax.set_ylabel('Funded percentage')\n",
    "plt.show()\n",
    "plt.savefig('duration_percfunded.jpg')"
   ]
  },
  {
   "cell_type": "code",
   "execution_count": 57,
   "metadata": {},
   "outputs": [],
   "source": [
    "y = new_df[['duration',\"status_dummy\"]].groupby('status_dummy').mean()"
   ]
  },
  {
   "cell_type": "code",
   "execution_count": 58,
   "metadata": {},
   "outputs": [
    {
     "data": {
      "text/plain": [
       "<matplotlib.axes._subplots.AxesSubplot at 0x20a8bcb5948>"
      ]
     },
     "execution_count": 58,
     "metadata": {},
     "output_type": "execute_result"
    },
    {
     "data": {
      "image/png": "[encoded data removed]",
      "text/plain": [
       "<Figure size 432x288 with 1 Axes>"
      ]
     },
     "metadata": {
      "needs_background": "light"
     },
     "output_type": "display_data"
    }
   ],
   "source": [
    "y.plot.bar()"
   ]
  },
  {
   "cell_type": "markdown",
   "metadata": {},
   "source": [
    "## Check to see if project listing date is independent to month, day, year, and day of week\n",
    "#### The Chi-Square test is a statistical hypothesis test to check independence of categorical variables. In this context, we use this test to see if projects are more or less likely to be posted in certain months, on certain days, or in particular years."
   ]
  },
  {
   "cell_type": "code",
   "execution_count": 59,
   "metadata": {},
   "outputs": [
    {
     "data": {
      "text/plain": [
       "Power_divergenceResult(statistic=2776.5209005520896, pvalue=0.0)"
      ]
     },
     "execution_count": 59,
     "metadata": {},
     "output_type": "execute_result"
    }
   ],
   "source": [
    "month_posted = new_df['project id'].groupby(new_df['month_posted_dummy']).count()\n",
    "stats.chisquare(month_posted)"
   ]
  },
  {
   "cell_type": "code",
   "execution_count": 60,
   "metadata": {},
   "outputs": [
    {
     "data": {
      "text/plain": [
       "<matplotlib.axes._subplots.AxesSubplot at 0x20a8b427588>"
      ]
     },
     "execution_count": 60,
     "metadata": {},
     "output_type": "execute_result"
    },
    {
     "data": {
      "image/png": "[encoded data removed]",
      "text/plain": [
       "<Figure size 432x288 with 1 Axes>"
      ]
     },
     "metadata": {
      "needs_background": "light"
     },
     "output_type": "display_data"
    }
   ],
   "source": [
    "month_posted.plot.bar()"
   ]
  },
  {
   "cell_type": "code",
   "execution_count": 61,
   "metadata": {},
   "outputs": [
    {
     "data": {
      "text/plain": [
       "Power_divergenceResult(statistic=3348.6238617623862, pvalue=0.0)"
      ]
     },
     "execution_count": 61,
     "metadata": {},
     "output_type": "execute_result"
    }
   ],
   "source": [
    "month_funded = new_df['project id'].groupby(new_df['month_funded_dummy']).count()\n",
    "stats.chisquare(month_funded)"
   ]
  },
  {
   "cell_type": "code",
   "execution_count": 62,
   "metadata": {},
   "outputs": [
    {
     "data": {
      "text/plain": [
       "<matplotlib.axes._subplots.AxesSubplot at 0x20a8b69c248>"
      ]
     },
     "execution_count": 62,
     "metadata": {},
     "output_type": "execute_result"
    },
    {
     "data": {
      "image/png": "[encoded data removed]",
      "text/plain": [
       "<Figure size 432x288 with 1 Axes>"
      ]
     },
     "metadata": {
      "needs_background": "light"
     },
     "output_type": "display_data"
    }
   ],
   "source": [
    "month_funded.plot.bar()"
   ]
  },
  {
   "cell_type": "code",
   "execution_count": 63,
   "metadata": {},
   "outputs": [
    {
     "data": {
      "text/plain": [
       "Power_divergenceResult(statistic=664.074950407495, pvalue=1.4887333283985904e-120)"
      ]
     },
     "execution_count": 63,
     "metadata": {},
     "output_type": "execute_result"
    }
   ],
   "source": [
    "day_posted = new_df['project id'].groupby(new_df['day_posted']).count()\n",
    "stats.chisquare(day_posted)"
   ]
  },
  {
   "cell_type": "code",
   "execution_count": 64,
   "metadata": {},
   "outputs": [
    {
     "data": {
      "text/plain": [
       "<matplotlib.axes._subplots.AxesSubplot at 0x20a8987ba48>"
      ]
     },
     "execution_count": 64,
     "metadata": {},
     "output_type": "execute_result"
    },
    {
     "data": {
      "image/png": "[encoded data removed]",
      "text/plain": [
       "<Figure size 432x288 with 1 Axes>"
      ]
     },
     "metadata": {
      "needs_background": "light"
     },
     "output_type": "display_data"
    }
   ],
   "source": [
    "day_posted.plot.bar()"
   ]
  },
  {
   "cell_type": "code",
   "execution_count": 65,
   "metadata": {},
   "outputs": [
    {
     "data": {
      "text/plain": [
       "Power_divergenceResult(statistic=2642.9375492937547, pvalue=0.0)"
      ]
     },
     "execution_count": 65,
     "metadata": {},
     "output_type": "execute_result"
    }
   ],
   "source": [
    "day_funded = new_df['project id'].groupby(new_df['day_funded']).count()\n",
    "stats.chisquare(day_funded)"
   ]
  },
  {
   "cell_type": "code",
   "execution_count": 66,
   "metadata": {},
   "outputs": [
    {
     "data": {
      "text/plain": [
       "<matplotlib.axes._subplots.AxesSubplot at 0x20a8b040d08>"
      ]
     },
     "execution_count": 66,
     "metadata": {},
     "output_type": "execute_result"
    },
    {
     "data": {
      "image/png": "[encoded data removed]",
      "text/plain": [
       "<Figure size 432x288 with 1 Axes>"
      ]
     },
     "metadata": {
      "needs_background": "light"
     },
     "output_type": "display_data"
    }
   ],
   "source": [
    "day_funded.plot.bar()"
   ]
  },
  {
   "cell_type": "code",
   "execution_count": 67,
   "metadata": {},
   "outputs": [
    {
     "data": {
      "text/plain": [
       "Power_divergenceResult(statistic=19780.878540187856, pvalue=0.0)"
      ]
     },
     "execution_count": 67,
     "metadata": {},
     "output_type": "execute_result"
    }
   ],
   "source": [
    "year_posted = new_df['project id'].groupby(new_df['year_posted']).count()\n",
    "stats.chisquare(year_posted)"
   ]
  },
  {
   "cell_type": "code",
   "execution_count": 68,
   "metadata": {},
   "outputs": [
    {
     "data": {
      "text/plain": [
       "<matplotlib.axes._subplots.AxesSubplot at 0x20a8b03a088>"
      ]
     },
     "execution_count": 68,
     "metadata": {},
     "output_type": "execute_result"
    },
    {
     "data": {
      "image/png": "[encoded data removed]",
      "text/plain": [
       "<Figure size 432x288 with 1 Axes>"
      ]
     },
     "metadata": {
      "needs_background": "light"
     },
     "output_type": "display_data"
    }
   ],
   "source": [
    "year_posted.plot.bar()"
   ]
  },
  {
   "cell_type": "code",
   "execution_count": 69,
   "metadata": {
    "scrolled": false
   },
   "outputs": [
    {
     "data": {
      "text/plain": [
       "Power_divergenceResult(statistic=20089.310747831074, pvalue=0.0)"
      ]
     },
     "execution_count": 69,
     "metadata": {},
     "output_type": "execute_result"
    }
   ],
   "source": [
    "year_funded = new_df['project id'].groupby(new_df['year_funded']).count()\n",
    "stats.chisquare(year_funded)"
   ]
  },
  {
   "cell_type": "code",
   "execution_count": 70,
   "metadata": {},
   "outputs": [
    {
     "data": {
      "text/plain": [
       "<matplotlib.axes._subplots.AxesSubplot at 0x20a8b41f388>"
      ]
     },
     "execution_count": 70,
     "metadata": {},
     "output_type": "execute_result"
    },
    {
     "data": {
      "image/png": "[encoded data removed]",
      "text/plain": [
       "<Figure size 432x288 with 1 Axes>"
      ]
     },
     "metadata": {
      "needs_background": "light"
     },
     "output_type": "display_data"
    }
   ],
   "source": [
    "year_funded.plot.bar()"
   ]
  },
  {
   "cell_type": "code",
   "execution_count": 71,
   "metadata": {},
   "outputs": [
    {
     "data": {
      "text/plain": [
       "Power_divergenceResult(statistic=2879.8277765827775, pvalue=0.0)"
      ]
     },
     "execution_count": 71,
     "metadata": {},
     "output_type": "execute_result"
    }
   ],
   "source": [
    "weekDay_posted = new_df['project id'].groupby(new_df['dayOfWeek_posted']).count()\n",
    "stats.chisquare(weekDay_posted)"
   ]
  },
  {
   "cell_type": "code",
   "execution_count": 72,
   "metadata": {},
   "outputs": [
    {
     "data": {
      "text/plain": [
       "<matplotlib.axes._subplots.AxesSubplot at 0x20a893b6e88>"
      ]
     },
     "execution_count": 72,
     "metadata": {},
     "output_type": "execute_result"
    },
    {
     "data": {
      "image/png": "[encoded data removed]",
      "text/plain": [
       "<Figure size 432x288 with 1 Axes>"
      ]
     },
     "metadata": {
      "needs_background": "light"
     },
     "output_type": "display_data"
    }
   ],
   "source": [
    "weekDay_posted.plot.bar()"
   ]
  },
  {
   "cell_type": "code",
   "execution_count": 73,
   "metadata": {},
   "outputs": [
    {
     "data": {
      "text/plain": [
       "Power_divergenceResult(statistic=295.2817571281757, pvalue=8.387785658465541e-61)"
      ]
     },
     "execution_count": 73,
     "metadata": {},
     "output_type": "execute_result"
    }
   ],
   "source": [
    "weekDay_funded = new_df['project id'].groupby(new_df['dayOfWeek_funded']).count()\n",
    "stats.chisquare(weekDay_funded)"
   ]
  },
  {
   "cell_type": "code",
   "execution_count": 74,
   "metadata": {},
   "outputs": [
    {
     "data": {
      "text/plain": [
       "<matplotlib.axes._subplots.AxesSubplot at 0x20aff6cee48>"
      ]
     },
     "execution_count": 74,
     "metadata": {},
     "output_type": "execute_result"
    },
    {
     "data": {
      "image/png": "[encoded data removed]",
      "text/plain": [
       "<Figure size 432x288 with 1 Axes>"
      ]
     },
     "metadata": {
      "needs_background": "light"
     },
     "output_type": "display_data"
    }
   ],
   "source": [
    "weekDay_funded.plot.bar()"
   ]
  },
  {
   "cell_type": "markdown",
   "metadata": {},
   "source": [
    "## Check for joint significance of month, day of week, and year \n",
    "#### The F-test tests multiple hypothesis. The null hypothesis is that all slopes/coefficients are zero. Unfortunately the data isn't normally distributed so a parametric test probably isn't appropriate.\n",
    "##### Month dummies: Jointly significant; Reject Null\n",
    "##### Year dummies: Jointly significant; Reject Null\n",
    "##### Day of week dummies: Not Jointly Significant; Do not reject the null"
   ]
  },
  {
   "cell_type": "code",
   "execution_count": 75,
   "metadata": {},
   "outputs": [
    {
     "name": "stdout",
     "output_type": "stream",
     "text": [
      "Posted: F_onewayResult(statistic=2.7794177318667224, pvalue=0.001290621161661944)\n",
      "Funded: F_onewayResult(statistic=4.211975575580128, pvalue=2.8486971326095864e-06)\n"
     ]
    }
   ],
   "source": [
    "for each in ['posted', 'funded']:\n",
    "    print(f'{each.capitalize()}:', stats.f_oneway(new_df['status_dummy'][new_df[f'month_{each}'] == 1], \n",
    "               new_df['status_dummy'][new_df[f'month_{each}'] == 2], \n",
    "               new_df['status_dummy'][new_df[f'month_{each}'] == 3],\n",
    "              new_df['status_dummy'][new_df[f'month_{each}'] == 4],\n",
    "              new_df['status_dummy'][new_df[f'month_{each}'] == 5],\n",
    "              new_df['status_dummy'][new_df[f'month_{each}'] == 6],\n",
    "              new_df['status_dummy'][new_df[f'month_{each}'] == 7],\n",
    "              new_df['status_dummy'][new_df[f'month_{each}'] == 8],\n",
    "              new_df['status_dummy'][new_df[f'month_{each}'] == 9],\n",
    "              new_df['status_dummy'][new_df[f'month_{each}'] == 10],\n",
    "              new_df['status_dummy'][new_df[f'month_{each}'] == 11],\n",
    "              new_df['status_dummy'][new_df[f'month_{each}'] == 12]))"
   ]
  },
  {
   "cell_type": "code",
   "execution_count": 76,
   "metadata": {},
   "outputs": [
    {
     "name": "stdout",
     "output_type": "stream",
     "text": [
      "Posted: F_onewayResult(statistic=6.31445909442635, pvalue=0.0002814123156969091)\n",
      "Funded: F_onewayResult(statistic=15.196937914090293, pvalue=7.012146438986875e-10)\n"
     ]
    }
   ],
   "source": [
    "for each in ['posted', 'funded']:\n",
    "    print(f'{each.capitalize()}:', stats.f_oneway(new_df['status_dummy'][new_df[f'year_{each}'] == 2009], \n",
    "               new_df['status_dummy'][new_df[f'year_{each}'] == 2010], \n",
    "               new_df['status_dummy'][new_df[f'year_{each}'] == 2011],\n",
    "              new_df['status_dummy'][new_df[f'year_{each}'] == 2012]))"
   ]
  },
  {
   "cell_type": "code",
   "execution_count": 77,
   "metadata": {},
   "outputs": [
    {
     "name": "stdout",
     "output_type": "stream",
     "text": [
      "Posted: F_onewayResult(statistic=7.054726074512105, pvalue=1.5977152142137403e-07)\n",
      "Funded: F_onewayResult(statistic=1.4494149509388263, pvalue=0.1914102900357102)\n"
     ]
    }
   ],
   "source": [
    "for each in ['posted', 'funded']:\n",
    "    print(f'{each.capitalize()}:', stats.f_oneway(new_df['status_dummy'][new_df[f'dayOfWeek_{each}'] == 0], \n",
    "               new_df['status_dummy'][new_df[f'dayOfWeek_{each}'] == 1], \n",
    "               new_df['status_dummy'][new_df[f'dayOfWeek_{each}'] == 2],\n",
    "             new_df['status_dummy'][new_df[f'dayOfWeek_{each}'] == 3], \n",
    "              new_df['status_dummy'][new_df[f'dayOfWeek_{each}'] == 4],  \n",
    "               new_df['status_dummy'][new_df[f'dayOfWeek_{each}'] == 5],\n",
    "               new_df['status_dummy'][new_df[f'dayOfWeek_{each}'] == 6]))"
   ]
  },
  {
   "cell_type": "markdown",
   "metadata": {},
   "source": [
    "## Kruskal-Wallis Test\n",
    "#### Kruskal-Wallis test is a nonparametric version of the ANOVA test ; Interprets the MEDIAN difference"
   ]
  },
  {
   "cell_type": "code",
   "execution_count": 78,
   "metadata": {},
   "outputs": [
    {
     "name": "stdout",
     "output_type": "stream",
     "text": [
      "Posted Statistics=30.559, p=0.001\n",
      "Different distributions (reject H0)\n",
      "Funded Statistics=46.293, p=0.000\n",
      "Different distributions (reject H0)\n"
     ]
    }
   ],
   "source": [
    "# compare samples\n",
    "for each in ['posted', 'funded']:\n",
    " \n",
    "    stat, p = kruskal(new_df['status_dummy'][new_df[f'month_{each}'] == 1], \n",
    "               new_df['status_dummy'][new_df[f'month_{each}'] == 2], \n",
    "               new_df['status_dummy'][new_df[f'month_{each}'] == 3],\n",
    "              new_df['status_dummy'][new_df[f'month_{each}'] == 4],\n",
    "              new_df['status_dummy'][new_df[f'month_{each}'] == 5],\n",
    "              new_df['status_dummy'][new_df[f'month_{each}'] == 6],\n",
    "              new_df['status_dummy'][new_df[f'month_{each}'] == 7],\n",
    "              new_df['status_dummy'][new_df[f'month_{each}'] == 8],\n",
    "              new_df['status_dummy'][new_df[f'month_{each}'] == 9],\n",
    "              new_df['status_dummy'][new_df[f'month_{each}'] == 10],\n",
    "              new_df['status_dummy'][new_df[f'month_{each}'] == 11],\n",
    "              new_df['status_dummy'][new_df[f'month_{each}'] == 12])\n",
    "    print(f'{each.capitalize()} Statistics=%.3f, p=%.3f' % (stat, p))\n",
    "    # interpret\n",
    "    alpha = 0.01\n",
    "    if p > alpha:\n",
    "        print('Same distributions (fail to reject H0)')\n",
    "    else:\n",
    "        print('Different distributions (reject H0)')"
   ]
  },
  {
   "cell_type": "code",
   "execution_count": 79,
   "metadata": {},
   "outputs": [
    {
     "name": "stdout",
     "output_type": "stream",
     "text": [
      "Posted Statistics=18.936, p=0.000\n",
      "Different distributions (reject H0)\n",
      "Funded Statistics=45.544, p=0.000\n",
      "Different distributions (reject H0)\n"
     ]
    }
   ],
   "source": [
    "# compare samples\n",
    "for each in ['posted', 'funded']:\n",
    "    stat, p = kruskal(new_df['status_dummy'][new_df[f'year_{each}'] == 2009], \n",
    "                    new_df['status_dummy'][new_df[f'year_{each}'] == 2010],\n",
    "                    new_df['status_dummy'][new_df[f'year_{each}'] == 2011],\n",
    "                    new_df['status_dummy'][new_df[f'year_{each}'] == 2012])\n",
    "    print(f'{each.capitalize()} Statistics=%.3f, p=%.3f' % (stat, p))\n",
    "    # interpret\n",
    "    alpha = 0.01\n",
    "    if p > alpha:\n",
    "        print('Same distributions (fail to reject H0)')\n",
    "    else:\n",
    "        print('Different distributions (reject H0)')"
   ]
  },
  {
   "cell_type": "code",
   "execution_count": 80,
   "metadata": {},
   "outputs": [
    {
     "name": "stdout",
     "output_type": "stream",
     "text": [
      "Posted Statistics=42.292, p=0.000\n",
      "Different distributions (reject H0)\n",
      "Funded Statistics=8.696, p=0.191\n",
      "Same distributions (fail to reject H0)\n"
     ]
    }
   ],
   "source": [
    "# compare samples\n",
    "for each in ['posted', 'funded']:\n",
    "    stat, p = kruskal(new_df['status_dummy'][new_df[f'dayOfWeek_{each}'] == 0], \n",
    "                   new_df['status_dummy'][new_df[f'dayOfWeek_{each}'] == 1], \n",
    "                   new_df['status_dummy'][new_df[f'dayOfWeek_{each}'] == 2],\n",
    "                 new_df['status_dummy'][new_df[f'dayOfWeek_{each}'] == 3], \n",
    "                  new_df['status_dummy'][new_df[f'dayOfWeek_{each}'] == 4],  \n",
    "                   new_df['status_dummy'][new_df[f'dayOfWeek_{each}'] == 5],\n",
    "                   new_df['status_dummy'][new_df[f'dayOfWeek_{each}'] == 6])\n",
    "    print(f'{each.capitalize()} Statistics=%.3f, p=%.3f' % (stat, p))\n",
    "    # interpret\n",
    "    alpha = 0.01\n",
    "    if p > alpha:\n",
    "        print('Same distributions (fail to reject H0)')\n",
    "    else:\n",
    "        print('Different distributions (reject H0)')"
   ]
  },
  {
   "cell_type": "markdown",
   "metadata": {},
   "source": [
    "## Dunn's Test\n",
    "#### Dunn's test pinpoints which means are significantly different than the others\n",
    "#### This section conducts the Dunn's test between 'status_dummy' and 'month', 'year', 'day of week' and 'year_month.'\n"
   ]
  },
  {
   "cell_type": "code",
   "execution_count": 81,
   "metadata": {},
   "outputs": [
    {
     "data": {
      "text/html": [
       "<div>\n",
       "<style scoped>\n",
       "    .dataframe tbody tr th:only-of-type {\n",
       "        vertical-align: middle;\n",
       "    }\n",
       "\n",
       "    .dataframe tbody tr th {\n",
       "        vertical-align: top;\n",
       "    }\n",
       "\n",
       "    .dataframe thead th {\n",
       "        text-align: right;\n",
       "    }\n",
       "</style>\n",
       "<table border=\"1\" class=\"dataframe\">\n",
       "  <thead>\n",
       "    <tr style=\"text-align: right;\">\n",
       "      <th></th>\n",
       "      <th>1</th>\n",
       "      <th>2</th>\n",
       "      <th>3</th>\n",
       "      <th>4</th>\n",
       "      <th>5</th>\n",
       "      <th>6</th>\n",
       "      <th>7</th>\n",
       "      <th>8</th>\n",
       "      <th>9</th>\n",
       "      <th>10</th>\n",
       "      <th>11</th>\n",
       "      <th>12</th>\n",
       "    </tr>\n",
       "  </thead>\n",
       "  <tbody>\n",
       "    <tr>\n",
       "      <th>1</th>\n",
       "      <td>1.000000</td>\n",
       "      <td>0.027101</td>\n",
       "      <td>0.680131</td>\n",
       "      <td>1.0</td>\n",
       "      <td>1.000000</td>\n",
       "      <td>1.000000</td>\n",
       "      <td>1.0</td>\n",
       "      <td>1.0</td>\n",
       "      <td>1.000000</td>\n",
       "      <td>0.158743</td>\n",
       "      <td>1.000000</td>\n",
       "      <td>1.000000</td>\n",
       "    </tr>\n",
       "    <tr>\n",
       "      <th>2</th>\n",
       "      <td>0.027101</td>\n",
       "      <td>1.000000</td>\n",
       "      <td>1.000000</td>\n",
       "      <td>1.0</td>\n",
       "      <td>0.063191</td>\n",
       "      <td>0.202866</td>\n",
       "      <td>1.0</td>\n",
       "      <td>1.0</td>\n",
       "      <td>0.544404</td>\n",
       "      <td>1.000000</td>\n",
       "      <td>0.667578</td>\n",
       "      <td>0.126044</td>\n",
       "    </tr>\n",
       "    <tr>\n",
       "      <th>3</th>\n",
       "      <td>0.680131</td>\n",
       "      <td>1.000000</td>\n",
       "      <td>1.000000</td>\n",
       "      <td>1.0</td>\n",
       "      <td>1.000000</td>\n",
       "      <td>1.000000</td>\n",
       "      <td>1.0</td>\n",
       "      <td>1.0</td>\n",
       "      <td>1.000000</td>\n",
       "      <td>1.000000</td>\n",
       "      <td>1.000000</td>\n",
       "      <td>1.000000</td>\n",
       "    </tr>\n",
       "    <tr>\n",
       "      <th>4</th>\n",
       "      <td>1.000000</td>\n",
       "      <td>1.000000</td>\n",
       "      <td>1.000000</td>\n",
       "      <td>1.0</td>\n",
       "      <td>1.000000</td>\n",
       "      <td>1.000000</td>\n",
       "      <td>1.0</td>\n",
       "      <td>1.0</td>\n",
       "      <td>1.000000</td>\n",
       "      <td>1.000000</td>\n",
       "      <td>1.000000</td>\n",
       "      <td>1.000000</td>\n",
       "    </tr>\n",
       "    <tr>\n",
       "      <th>5</th>\n",
       "      <td>1.000000</td>\n",
       "      <td>0.063191</td>\n",
       "      <td>1.000000</td>\n",
       "      <td>1.0</td>\n",
       "      <td>1.000000</td>\n",
       "      <td>1.000000</td>\n",
       "      <td>1.0</td>\n",
       "      <td>1.0</td>\n",
       "      <td>1.000000</td>\n",
       "      <td>0.276478</td>\n",
       "      <td>1.000000</td>\n",
       "      <td>1.000000</td>\n",
       "    </tr>\n",
       "    <tr>\n",
       "      <th>6</th>\n",
       "      <td>1.000000</td>\n",
       "      <td>0.202866</td>\n",
       "      <td>1.000000</td>\n",
       "      <td>1.0</td>\n",
       "      <td>1.000000</td>\n",
       "      <td>1.000000</td>\n",
       "      <td>1.0</td>\n",
       "      <td>1.0</td>\n",
       "      <td>1.000000</td>\n",
       "      <td>0.672972</td>\n",
       "      <td>1.000000</td>\n",
       "      <td>1.000000</td>\n",
       "    </tr>\n",
       "    <tr>\n",
       "      <th>7</th>\n",
       "      <td>1.000000</td>\n",
       "      <td>1.000000</td>\n",
       "      <td>1.000000</td>\n",
       "      <td>1.0</td>\n",
       "      <td>1.000000</td>\n",
       "      <td>1.000000</td>\n",
       "      <td>1.0</td>\n",
       "      <td>1.0</td>\n",
       "      <td>1.000000</td>\n",
       "      <td>1.000000</td>\n",
       "      <td>1.000000</td>\n",
       "      <td>1.000000</td>\n",
       "    </tr>\n",
       "    <tr>\n",
       "      <th>8</th>\n",
       "      <td>1.000000</td>\n",
       "      <td>1.000000</td>\n",
       "      <td>1.000000</td>\n",
       "      <td>1.0</td>\n",
       "      <td>1.000000</td>\n",
       "      <td>1.000000</td>\n",
       "      <td>1.0</td>\n",
       "      <td>1.0</td>\n",
       "      <td>1.000000</td>\n",
       "      <td>1.000000</td>\n",
       "      <td>1.000000</td>\n",
       "      <td>1.000000</td>\n",
       "    </tr>\n",
       "    <tr>\n",
       "      <th>9</th>\n",
       "      <td>1.000000</td>\n",
       "      <td>0.544404</td>\n",
       "      <td>1.000000</td>\n",
       "      <td>1.0</td>\n",
       "      <td>1.000000</td>\n",
       "      <td>1.000000</td>\n",
       "      <td>1.0</td>\n",
       "      <td>1.0</td>\n",
       "      <td>1.000000</td>\n",
       "      <td>1.000000</td>\n",
       "      <td>1.000000</td>\n",
       "      <td>1.000000</td>\n",
       "    </tr>\n",
       "    <tr>\n",
       "      <th>10</th>\n",
       "      <td>0.158743</td>\n",
       "      <td>1.000000</td>\n",
       "      <td>1.000000</td>\n",
       "      <td>1.0</td>\n",
       "      <td>0.276478</td>\n",
       "      <td>0.672972</td>\n",
       "      <td>1.0</td>\n",
       "      <td>1.0</td>\n",
       "      <td>1.000000</td>\n",
       "      <td>1.000000</td>\n",
       "      <td>1.000000</td>\n",
       "      <td>0.467064</td>\n",
       "    </tr>\n",
       "    <tr>\n",
       "      <th>11</th>\n",
       "      <td>1.000000</td>\n",
       "      <td>0.667578</td>\n",
       "      <td>1.000000</td>\n",
       "      <td>1.0</td>\n",
       "      <td>1.000000</td>\n",
       "      <td>1.000000</td>\n",
       "      <td>1.0</td>\n",
       "      <td>1.0</td>\n",
       "      <td>1.000000</td>\n",
       "      <td>1.000000</td>\n",
       "      <td>1.000000</td>\n",
       "      <td>1.000000</td>\n",
       "    </tr>\n",
       "    <tr>\n",
       "      <th>12</th>\n",
       "      <td>1.000000</td>\n",
       "      <td>0.126044</td>\n",
       "      <td>1.000000</td>\n",
       "      <td>1.0</td>\n",
       "      <td>1.000000</td>\n",
       "      <td>1.000000</td>\n",
       "      <td>1.0</td>\n",
       "      <td>1.0</td>\n",
       "      <td>1.000000</td>\n",
       "      <td>0.467064</td>\n",
       "      <td>1.000000</td>\n",
       "      <td>1.000000</td>\n",
       "    </tr>\n",
       "  </tbody>\n",
       "</table>\n",
       "</div>"
      ],
      "text/plain": [
       "          1         2         3    4         5         6    7    8         9   \\\n",
       "1   1.000000  0.027101  0.680131  1.0  1.000000  1.000000  1.0  1.0  1.000000   \n",
       "2   0.027101  1.000000  1.000000  1.0  0.063191  0.202866  1.0  1.0  0.544404   \n",
       "3   0.680131  1.000000  1.000000  1.0  1.000000  1.000000  1.0  1.0  1.000000   \n",
       "4   1.000000  1.000000  1.000000  1.0  1.000000  1.000000  1.0  1.0  1.000000   \n",
       "5   1.000000  0.063191  1.000000  1.0  1.000000  1.000000  1.0  1.0  1.000000   \n",
       "6   1.000000  0.202866  1.000000  1.0  1.000000  1.000000  1.0  1.0  1.000000   \n",
       "7   1.000000  1.000000  1.000000  1.0  1.000000  1.000000  1.0  1.0  1.000000   \n",
       "8   1.000000  1.000000  1.000000  1.0  1.000000  1.000000  1.0  1.0  1.000000   \n",
       "9   1.000000  0.544404  1.000000  1.0  1.000000  1.000000  1.0  1.0  1.000000   \n",
       "10  0.158743  1.000000  1.000000  1.0  0.276478  0.672972  1.0  1.0  1.000000   \n",
       "11  1.000000  0.667578  1.000000  1.0  1.000000  1.000000  1.0  1.0  1.000000   \n",
       "12  1.000000  0.126044  1.000000  1.0  1.000000  1.000000  1.0  1.0  1.000000   \n",
       "\n",
       "          10        11        12  \n",
       "1   0.158743  1.000000  1.000000  \n",
       "2   1.000000  0.667578  0.126044  \n",
       "3   1.000000  1.000000  1.000000  \n",
       "4   1.000000  1.000000  1.000000  \n",
       "5   0.276478  1.000000  1.000000  \n",
       "6   0.672972  1.000000  1.000000  \n",
       "7   1.000000  1.000000  1.000000  \n",
       "8   1.000000  1.000000  1.000000  \n",
       "9   1.000000  1.000000  1.000000  \n",
       "10  1.000000  1.000000  0.467064  \n",
       "11  1.000000  1.000000  1.000000  \n",
       "12  0.467064  1.000000  1.000000  "
      ]
     },
     "execution_count": 81,
     "metadata": {},
     "output_type": "execute_result"
    }
   ],
   "source": [
    "scikit_posthocs.posthoc_dunn(new_df, val_col='status_dummy', group_col='month_posted', p_adjust='bonferroni')"
   ]
  },
  {
   "cell_type": "code",
   "execution_count": 82,
   "metadata": {},
   "outputs": [
    {
     "data": {
      "text/html": [
       "<div>\n",
       "<style scoped>\n",
       "    .dataframe tbody tr th:only-of-type {\n",
       "        vertical-align: middle;\n",
       "    }\n",
       "\n",
       "    .dataframe tbody tr th {\n",
       "        vertical-align: top;\n",
       "    }\n",
       "\n",
       "    .dataframe thead th {\n",
       "        text-align: right;\n",
       "    }\n",
       "</style>\n",
       "<table border=\"1\" class=\"dataframe\">\n",
       "  <thead>\n",
       "    <tr style=\"text-align: right;\">\n",
       "      <th></th>\n",
       "      <th>1</th>\n",
       "      <th>2</th>\n",
       "      <th>3</th>\n",
       "      <th>4</th>\n",
       "      <th>5</th>\n",
       "      <th>6</th>\n",
       "      <th>7</th>\n",
       "      <th>8</th>\n",
       "      <th>9</th>\n",
       "      <th>10</th>\n",
       "      <th>11</th>\n",
       "      <th>12</th>\n",
       "    </tr>\n",
       "  </thead>\n",
       "  <tbody>\n",
       "    <tr>\n",
       "      <th>1</th>\n",
       "      <td>1.000000</td>\n",
       "      <td>1.0</td>\n",
       "      <td>0.269449</td>\n",
       "      <td>0.083151</td>\n",
       "      <td>1.000000</td>\n",
       "      <td>1.000000</td>\n",
       "      <td>1.000000</td>\n",
       "      <td>1.0</td>\n",
       "      <td>1.0</td>\n",
       "      <td>1.0</td>\n",
       "      <td>0.228951</td>\n",
       "      <td>1.000000</td>\n",
       "    </tr>\n",
       "    <tr>\n",
       "      <th>2</th>\n",
       "      <td>1.000000</td>\n",
       "      <td>1.0</td>\n",
       "      <td>1.000000</td>\n",
       "      <td>1.000000</td>\n",
       "      <td>1.000000</td>\n",
       "      <td>1.000000</td>\n",
       "      <td>1.000000</td>\n",
       "      <td>1.0</td>\n",
       "      <td>1.0</td>\n",
       "      <td>1.0</td>\n",
       "      <td>1.000000</td>\n",
       "      <td>1.000000</td>\n",
       "    </tr>\n",
       "    <tr>\n",
       "      <th>3</th>\n",
       "      <td>0.269449</td>\n",
       "      <td>1.0</td>\n",
       "      <td>1.000000</td>\n",
       "      <td>1.000000</td>\n",
       "      <td>0.023152</td>\n",
       "      <td>0.838899</td>\n",
       "      <td>0.085376</td>\n",
       "      <td>1.0</td>\n",
       "      <td>1.0</td>\n",
       "      <td>1.0</td>\n",
       "      <td>1.000000</td>\n",
       "      <td>0.005146</td>\n",
       "    </tr>\n",
       "    <tr>\n",
       "      <th>4</th>\n",
       "      <td>0.083151</td>\n",
       "      <td>1.0</td>\n",
       "      <td>1.000000</td>\n",
       "      <td>1.000000</td>\n",
       "      <td>0.003695</td>\n",
       "      <td>0.311561</td>\n",
       "      <td>0.023809</td>\n",
       "      <td>1.0</td>\n",
       "      <td>1.0</td>\n",
       "      <td>1.0</td>\n",
       "      <td>1.000000</td>\n",
       "      <td>0.000948</td>\n",
       "    </tr>\n",
       "    <tr>\n",
       "      <th>5</th>\n",
       "      <td>1.000000</td>\n",
       "      <td>1.0</td>\n",
       "      <td>0.023152</td>\n",
       "      <td>0.003695</td>\n",
       "      <td>1.000000</td>\n",
       "      <td>1.000000</td>\n",
       "      <td>1.000000</td>\n",
       "      <td>1.0</td>\n",
       "      <td>1.0</td>\n",
       "      <td>1.0</td>\n",
       "      <td>0.034919</td>\n",
       "      <td>1.000000</td>\n",
       "    </tr>\n",
       "    <tr>\n",
       "      <th>6</th>\n",
       "      <td>1.000000</td>\n",
       "      <td>1.0</td>\n",
       "      <td>0.838899</td>\n",
       "      <td>0.311561</td>\n",
       "      <td>1.000000</td>\n",
       "      <td>1.000000</td>\n",
       "      <td>1.000000</td>\n",
       "      <td>1.0</td>\n",
       "      <td>1.0</td>\n",
       "      <td>1.0</td>\n",
       "      <td>0.627222</td>\n",
       "      <td>1.000000</td>\n",
       "    </tr>\n",
       "    <tr>\n",
       "      <th>7</th>\n",
       "      <td>1.000000</td>\n",
       "      <td>1.0</td>\n",
       "      <td>0.085376</td>\n",
       "      <td>0.023809</td>\n",
       "      <td>1.000000</td>\n",
       "      <td>1.000000</td>\n",
       "      <td>1.000000</td>\n",
       "      <td>1.0</td>\n",
       "      <td>1.0</td>\n",
       "      <td>1.0</td>\n",
       "      <td>0.080245</td>\n",
       "      <td>1.000000</td>\n",
       "    </tr>\n",
       "    <tr>\n",
       "      <th>8</th>\n",
       "      <td>1.000000</td>\n",
       "      <td>1.0</td>\n",
       "      <td>1.000000</td>\n",
       "      <td>1.000000</td>\n",
       "      <td>1.000000</td>\n",
       "      <td>1.000000</td>\n",
       "      <td>1.000000</td>\n",
       "      <td>1.0</td>\n",
       "      <td>1.0</td>\n",
       "      <td>1.0</td>\n",
       "      <td>1.000000</td>\n",
       "      <td>1.000000</td>\n",
       "    </tr>\n",
       "    <tr>\n",
       "      <th>9</th>\n",
       "      <td>1.000000</td>\n",
       "      <td>1.0</td>\n",
       "      <td>1.000000</td>\n",
       "      <td>1.000000</td>\n",
       "      <td>1.000000</td>\n",
       "      <td>1.000000</td>\n",
       "      <td>1.000000</td>\n",
       "      <td>1.0</td>\n",
       "      <td>1.0</td>\n",
       "      <td>1.0</td>\n",
       "      <td>1.000000</td>\n",
       "      <td>1.000000</td>\n",
       "    </tr>\n",
       "    <tr>\n",
       "      <th>10</th>\n",
       "      <td>1.000000</td>\n",
       "      <td>1.0</td>\n",
       "      <td>1.000000</td>\n",
       "      <td>1.000000</td>\n",
       "      <td>1.000000</td>\n",
       "      <td>1.000000</td>\n",
       "      <td>1.000000</td>\n",
       "      <td>1.0</td>\n",
       "      <td>1.0</td>\n",
       "      <td>1.0</td>\n",
       "      <td>1.000000</td>\n",
       "      <td>1.000000</td>\n",
       "    </tr>\n",
       "    <tr>\n",
       "      <th>11</th>\n",
       "      <td>0.228951</td>\n",
       "      <td>1.0</td>\n",
       "      <td>1.000000</td>\n",
       "      <td>1.000000</td>\n",
       "      <td>0.034919</td>\n",
       "      <td>0.627222</td>\n",
       "      <td>0.080245</td>\n",
       "      <td>1.0</td>\n",
       "      <td>1.0</td>\n",
       "      <td>1.0</td>\n",
       "      <td>1.000000</td>\n",
       "      <td>0.007404</td>\n",
       "    </tr>\n",
       "    <tr>\n",
       "      <th>12</th>\n",
       "      <td>1.000000</td>\n",
       "      <td>1.0</td>\n",
       "      <td>0.005146</td>\n",
       "      <td>0.000948</td>\n",
       "      <td>1.000000</td>\n",
       "      <td>1.000000</td>\n",
       "      <td>1.000000</td>\n",
       "      <td>1.0</td>\n",
       "      <td>1.0</td>\n",
       "      <td>1.0</td>\n",
       "      <td>0.007404</td>\n",
       "      <td>1.000000</td>\n",
       "    </tr>\n",
       "  </tbody>\n",
       "</table>\n",
       "</div>"
      ],
      "text/plain": [
       "          1    2         3         4         5         6         7    8    9   \\\n",
       "1   1.000000  1.0  0.269449  0.083151  1.000000  1.000000  1.000000  1.0  1.0   \n",
       "2   1.000000  1.0  1.000000  1.000000  1.000000  1.000000  1.000000  1.0  1.0   \n",
       "3   0.269449  1.0  1.000000  1.000000  0.023152  0.838899  0.085376  1.0  1.0   \n",
       "4   0.083151  1.0  1.000000  1.000000  0.003695  0.311561  0.023809  1.0  1.0   \n",
       "5   1.000000  1.0  0.023152  0.003695  1.000000  1.000000  1.000000  1.0  1.0   \n",
       "6   1.000000  1.0  0.838899  0.311561  1.000000  1.000000  1.000000  1.0  1.0   \n",
       "7   1.000000  1.0  0.085376  0.023809  1.000000  1.000000  1.000000  1.0  1.0   \n",
       "8   1.000000  1.0  1.000000  1.000000  1.000000  1.000000  1.000000  1.0  1.0   \n",
       "9   1.000000  1.0  1.000000  1.000000  1.000000  1.000000  1.000000  1.0  1.0   \n",
       "10  1.000000  1.0  1.000000  1.000000  1.000000  1.000000  1.000000  1.0  1.0   \n",
       "11  0.228951  1.0  1.000000  1.000000  0.034919  0.627222  0.080245  1.0  1.0   \n",
       "12  1.000000  1.0  0.005146  0.000948  1.000000  1.000000  1.000000  1.0  1.0   \n",
       "\n",
       "     10        11        12  \n",
       "1   1.0  0.228951  1.000000  \n",
       "2   1.0  1.000000  1.000000  \n",
       "3   1.0  1.000000  0.005146  \n",
       "4   1.0  1.000000  0.000948  \n",
       "5   1.0  0.034919  1.000000  \n",
       "6   1.0  0.627222  1.000000  \n",
       "7   1.0  0.080245  1.000000  \n",
       "8   1.0  1.000000  1.000000  \n",
       "9   1.0  1.000000  1.000000  \n",
       "10  1.0  1.000000  1.000000  \n",
       "11  1.0  1.000000  0.007404  \n",
       "12  1.0  0.007404  1.000000  "
      ]
     },
     "execution_count": 82,
     "metadata": {},
     "output_type": "execute_result"
    }
   ],
   "source": [
    "scikit_posthocs.posthoc_dunn(new_df, val_col='status_dummy', group_col='month_funded', p_adjust='bonferroni')"
   ]
  },
  {
   "cell_type": "code",
   "execution_count": 83,
   "metadata": {},
   "outputs": [
    {
     "data": {
      "text/html": [
       "<div>\n",
       "<style scoped>\n",
       "    .dataframe tbody tr th:only-of-type {\n",
       "        vertical-align: middle;\n",
       "    }\n",
       "\n",
       "    .dataframe tbody tr th {\n",
       "        vertical-align: top;\n",
       "    }\n",
       "\n",
       "    .dataframe thead th {\n",
       "        text-align: right;\n",
       "    }\n",
       "</style>\n",
       "<table border=\"1\" class=\"dataframe\">\n",
       "  <thead>\n",
       "    <tr style=\"text-align: right;\">\n",
       "      <th></th>\n",
       "      <th>2009</th>\n",
       "      <th>2010</th>\n",
       "      <th>2011</th>\n",
       "      <th>2012</th>\n",
       "    </tr>\n",
       "  </thead>\n",
       "  <tbody>\n",
       "    <tr>\n",
       "      <th>2009</th>\n",
       "      <td>1.0</td>\n",
       "      <td>1.000000</td>\n",
       "      <td>1.000000</td>\n",
       "      <td>1.00000</td>\n",
       "    </tr>\n",
       "    <tr>\n",
       "      <th>2010</th>\n",
       "      <td>1.0</td>\n",
       "      <td>1.000000</td>\n",
       "      <td>0.007564</td>\n",
       "      <td>1.00000</td>\n",
       "    </tr>\n",
       "    <tr>\n",
       "      <th>2011</th>\n",
       "      <td>1.0</td>\n",
       "      <td>0.007564</td>\n",
       "      <td>1.000000</td>\n",
       "      <td>0.00093</td>\n",
       "    </tr>\n",
       "    <tr>\n",
       "      <th>2012</th>\n",
       "      <td>1.0</td>\n",
       "      <td>1.000000</td>\n",
       "      <td>0.000930</td>\n",
       "      <td>1.00000</td>\n",
       "    </tr>\n",
       "  </tbody>\n",
       "</table>\n",
       "</div>"
      ],
      "text/plain": [
       "      2009      2010      2011     2012\n",
       "2009   1.0  1.000000  1.000000  1.00000\n",
       "2010   1.0  1.000000  0.007564  1.00000\n",
       "2011   1.0  0.007564  1.000000  0.00093\n",
       "2012   1.0  1.000000  0.000930  1.00000"
      ]
     },
     "execution_count": 83,
     "metadata": {},
     "output_type": "execute_result"
    }
   ],
   "source": [
    "# 2010 and 2011 are significantly different \n",
    "# 2011 and 2012 are significantly different\n",
    "scikit_posthocs.posthoc_dunn(new_df, val_col='status_dummy', group_col='year_posted', p_adjust='bonferroni')"
   ]
  },
  {
   "cell_type": "code",
   "execution_count": 84,
   "metadata": {},
   "outputs": [
    {
     "data": {
      "text/html": [
       "<div>\n",
       "<style scoped>\n",
       "    .dataframe tbody tr th:only-of-type {\n",
       "        vertical-align: middle;\n",
       "    }\n",
       "\n",
       "    .dataframe tbody tr th {\n",
       "        vertical-align: top;\n",
       "    }\n",
       "\n",
       "    .dataframe thead th {\n",
       "        text-align: right;\n",
       "    }\n",
       "</style>\n",
       "<table border=\"1\" class=\"dataframe\">\n",
       "  <thead>\n",
       "    <tr style=\"text-align: right;\">\n",
       "      <th></th>\n",
       "      <th>2009</th>\n",
       "      <th>2010</th>\n",
       "      <th>2011</th>\n",
       "      <th>2012</th>\n",
       "    </tr>\n",
       "  </thead>\n",
       "  <tbody>\n",
       "    <tr>\n",
       "      <th>2009</th>\n",
       "      <td>1.000000</td>\n",
       "      <td>1.000000</td>\n",
       "      <td>4.511020e-01</td>\n",
       "      <td>1.000000e+00</td>\n",
       "    </tr>\n",
       "    <tr>\n",
       "      <th>2010</th>\n",
       "      <td>1.000000</td>\n",
       "      <td>1.000000</td>\n",
       "      <td>1.095175e-03</td>\n",
       "      <td>9.969441e-01</td>\n",
       "    </tr>\n",
       "    <tr>\n",
       "      <th>2011</th>\n",
       "      <td>0.451102</td>\n",
       "      <td>0.001095</td>\n",
       "      <td>1.000000e+00</td>\n",
       "      <td>6.314071e-10</td>\n",
       "    </tr>\n",
       "    <tr>\n",
       "      <th>2012</th>\n",
       "      <td>1.000000</td>\n",
       "      <td>0.996944</td>\n",
       "      <td>6.314071e-10</td>\n",
       "      <td>1.000000e+00</td>\n",
       "    </tr>\n",
       "  </tbody>\n",
       "</table>\n",
       "</div>"
      ],
      "text/plain": [
       "          2009      2010          2011          2012\n",
       "2009  1.000000  1.000000  4.511020e-01  1.000000e+00\n",
       "2010  1.000000  1.000000  1.095175e-03  9.969441e-01\n",
       "2011  0.451102  0.001095  1.000000e+00  6.314071e-10\n",
       "2012  1.000000  0.996944  6.314071e-10  1.000000e+00"
      ]
     },
     "execution_count": 84,
     "metadata": {},
     "output_type": "execute_result"
    }
   ],
   "source": [
    "scikit_posthocs.posthoc_dunn(new_df, val_col='status_dummy', group_col='year_funded', p_adjust='bonferroni')"
   ]
  },
  {
   "cell_type": "code",
   "execution_count": 85,
   "metadata": {},
   "outputs": [
    {
     "data": {
      "text/html": [
       "<div>\n",
       "<style scoped>\n",
       "    .dataframe tbody tr th:only-of-type {\n",
       "        vertical-align: middle;\n",
       "    }\n",
       "\n",
       "    .dataframe tbody tr th {\n",
       "        vertical-align: top;\n",
       "    }\n",
       "\n",
       "    .dataframe thead th {\n",
       "        text-align: right;\n",
       "    }\n",
       "</style>\n",
       "<table border=\"1\" class=\"dataframe\">\n",
       "  <thead>\n",
       "    <tr style=\"text-align: right;\">\n",
       "      <th></th>\n",
       "      <th>0</th>\n",
       "      <th>1</th>\n",
       "      <th>2</th>\n",
       "      <th>3</th>\n",
       "      <th>4</th>\n",
       "      <th>5</th>\n",
       "      <th>6</th>\n",
       "    </tr>\n",
       "  </thead>\n",
       "  <tbody>\n",
       "    <tr>\n",
       "      <th>0</th>\n",
       "      <td>1.000000</td>\n",
       "      <td>1.000000</td>\n",
       "      <td>1.000000</td>\n",
       "      <td>0.628016</td>\n",
       "      <td>0.067526</td>\n",
       "      <td>0.000672</td>\n",
       "      <td>0.002054</td>\n",
       "    </tr>\n",
       "    <tr>\n",
       "      <th>1</th>\n",
       "      <td>1.000000</td>\n",
       "      <td>1.000000</td>\n",
       "      <td>1.000000</td>\n",
       "      <td>0.340379</td>\n",
       "      <td>0.029403</td>\n",
       "      <td>0.000233</td>\n",
       "      <td>0.000875</td>\n",
       "    </tr>\n",
       "    <tr>\n",
       "      <th>2</th>\n",
       "      <td>1.000000</td>\n",
       "      <td>1.000000</td>\n",
       "      <td>1.000000</td>\n",
       "      <td>1.000000</td>\n",
       "      <td>0.149575</td>\n",
       "      <td>0.001643</td>\n",
       "      <td>0.004611</td>\n",
       "    </tr>\n",
       "    <tr>\n",
       "      <th>3</th>\n",
       "      <td>0.628016</td>\n",
       "      <td>0.340379</td>\n",
       "      <td>1.000000</td>\n",
       "      <td>1.000000</td>\n",
       "      <td>1.000000</td>\n",
       "      <td>0.410119</td>\n",
       "      <td>0.548987</td>\n",
       "    </tr>\n",
       "    <tr>\n",
       "      <th>4</th>\n",
       "      <td>0.067526</td>\n",
       "      <td>0.029403</td>\n",
       "      <td>0.149575</td>\n",
       "      <td>1.000000</td>\n",
       "      <td>1.000000</td>\n",
       "      <td>1.000000</td>\n",
       "      <td>1.000000</td>\n",
       "    </tr>\n",
       "    <tr>\n",
       "      <th>5</th>\n",
       "      <td>0.000672</td>\n",
       "      <td>0.000233</td>\n",
       "      <td>0.001643</td>\n",
       "      <td>0.410119</td>\n",
       "      <td>1.000000</td>\n",
       "      <td>1.000000</td>\n",
       "      <td>1.000000</td>\n",
       "    </tr>\n",
       "    <tr>\n",
       "      <th>6</th>\n",
       "      <td>0.002054</td>\n",
       "      <td>0.000875</td>\n",
       "      <td>0.004611</td>\n",
       "      <td>0.548987</td>\n",
       "      <td>1.000000</td>\n",
       "      <td>1.000000</td>\n",
       "      <td>1.000000</td>\n",
       "    </tr>\n",
       "  </tbody>\n",
       "</table>\n",
       "</div>"
      ],
      "text/plain": [
       "          0         1         2         3         4         5         6\n",
       "0  1.000000  1.000000  1.000000  0.628016  0.067526  0.000672  0.002054\n",
       "1  1.000000  1.000000  1.000000  0.340379  0.029403  0.000233  0.000875\n",
       "2  1.000000  1.000000  1.000000  1.000000  0.149575  0.001643  0.004611\n",
       "3  0.628016  0.340379  1.000000  1.000000  1.000000  0.410119  0.548987\n",
       "4  0.067526  0.029403  0.149575  1.000000  1.000000  1.000000  1.000000\n",
       "5  0.000672  0.000233  0.001643  0.410119  1.000000  1.000000  1.000000\n",
       "6  0.002054  0.000875  0.004611  0.548987  1.000000  1.000000  1.000000"
      ]
     },
     "execution_count": 85,
     "metadata": {},
     "output_type": "execute_result"
    }
   ],
   "source": [
    "#Sunday, Monday, and Tuesday are the best days to post a new campaign\n",
    "scikit_posthocs.posthoc_dunn(new_df, val_col='status_dummy', group_col='dayOfWeek_posted', p_adjust='bonferroni')"
   ]
  },
  {
   "cell_type": "code",
   "execution_count": 86,
   "metadata": {},
   "outputs": [
    {
     "data": {
      "text/html": [
       "<div>\n",
       "<style scoped>\n",
       "    .dataframe tbody tr th:only-of-type {\n",
       "        vertical-align: middle;\n",
       "    }\n",
       "\n",
       "    .dataframe tbody tr th {\n",
       "        vertical-align: top;\n",
       "    }\n",
       "\n",
       "    .dataframe thead th {\n",
       "        text-align: right;\n",
       "    }\n",
       "</style>\n",
       "<table border=\"1\" class=\"dataframe\">\n",
       "  <thead>\n",
       "    <tr style=\"text-align: right;\">\n",
       "      <th></th>\n",
       "      <th>0</th>\n",
       "      <th>1</th>\n",
       "      <th>2</th>\n",
       "      <th>3</th>\n",
       "      <th>4</th>\n",
       "      <th>5</th>\n",
       "      <th>6</th>\n",
       "    </tr>\n",
       "  </thead>\n",
       "  <tbody>\n",
       "    <tr>\n",
       "      <th>0</th>\n",
       "      <td>1.000000</td>\n",
       "      <td>0.405313</td>\n",
       "      <td>1.0</td>\n",
       "      <td>1.000000</td>\n",
       "      <td>0.864544</td>\n",
       "      <td>1.0</td>\n",
       "      <td>1.0</td>\n",
       "    </tr>\n",
       "    <tr>\n",
       "      <th>1</th>\n",
       "      <td>0.405313</td>\n",
       "      <td>1.000000</td>\n",
       "      <td>1.0</td>\n",
       "      <td>0.872227</td>\n",
       "      <td>1.000000</td>\n",
       "      <td>1.0</td>\n",
       "      <td>1.0</td>\n",
       "    </tr>\n",
       "    <tr>\n",
       "      <th>2</th>\n",
       "      <td>1.000000</td>\n",
       "      <td>1.000000</td>\n",
       "      <td>1.0</td>\n",
       "      <td>1.000000</td>\n",
       "      <td>1.000000</td>\n",
       "      <td>1.0</td>\n",
       "      <td>1.0</td>\n",
       "    </tr>\n",
       "    <tr>\n",
       "      <th>3</th>\n",
       "      <td>1.000000</td>\n",
       "      <td>0.872227</td>\n",
       "      <td>1.0</td>\n",
       "      <td>1.000000</td>\n",
       "      <td>1.000000</td>\n",
       "      <td>1.0</td>\n",
       "      <td>1.0</td>\n",
       "    </tr>\n",
       "    <tr>\n",
       "      <th>4</th>\n",
       "      <td>0.864544</td>\n",
       "      <td>1.000000</td>\n",
       "      <td>1.0</td>\n",
       "      <td>1.000000</td>\n",
       "      <td>1.000000</td>\n",
       "      <td>1.0</td>\n",
       "      <td>1.0</td>\n",
       "    </tr>\n",
       "    <tr>\n",
       "      <th>5</th>\n",
       "      <td>1.000000</td>\n",
       "      <td>1.000000</td>\n",
       "      <td>1.0</td>\n",
       "      <td>1.000000</td>\n",
       "      <td>1.000000</td>\n",
       "      <td>1.0</td>\n",
       "      <td>1.0</td>\n",
       "    </tr>\n",
       "    <tr>\n",
       "      <th>6</th>\n",
       "      <td>1.000000</td>\n",
       "      <td>1.000000</td>\n",
       "      <td>1.0</td>\n",
       "      <td>1.000000</td>\n",
       "      <td>1.000000</td>\n",
       "      <td>1.0</td>\n",
       "      <td>1.0</td>\n",
       "    </tr>\n",
       "  </tbody>\n",
       "</table>\n",
       "</div>"
      ],
      "text/plain": [
       "          0         1    2         3         4    5    6\n",
       "0  1.000000  0.405313  1.0  1.000000  0.864544  1.0  1.0\n",
       "1  0.405313  1.000000  1.0  0.872227  1.000000  1.0  1.0\n",
       "2  1.000000  1.000000  1.0  1.000000  1.000000  1.0  1.0\n",
       "3  1.000000  0.872227  1.0  1.000000  1.000000  1.0  1.0\n",
       "4  0.864544  1.000000  1.0  1.000000  1.000000  1.0  1.0\n",
       "5  1.000000  1.000000  1.0  1.000000  1.000000  1.0  1.0\n",
       "6  1.000000  1.000000  1.0  1.000000  1.000000  1.0  1.0"
      ]
     },
     "execution_count": 86,
     "metadata": {},
     "output_type": "execute_result"
    }
   ],
   "source": [
    "scikit_posthocs.posthoc_dunn(new_df, val_col='status_dummy', group_col='dayOfWeek_funded', p_adjust='bonferroni')"
   ]
  },
  {
   "cell_type": "code",
   "execution_count": 87,
   "metadata": {
    "scrolled": false
   },
   "outputs": [
    {
     "data": {
      "text/html": [
       "<div>\n",
       "<style scoped>\n",
       "    .dataframe tbody tr th:only-of-type {\n",
       "        vertical-align: middle;\n",
       "    }\n",
       "\n",
       "    .dataframe tbody tr th {\n",
       "        vertical-align: top;\n",
       "    }\n",
       "\n",
       "    .dataframe thead th {\n",
       "        text-align: right;\n",
       "    }\n",
       "</style>\n",
       "<table border=\"1\" class=\"dataframe\">\n",
       "  <thead>\n",
       "    <tr style=\"text-align: right;\">\n",
       "      <th></th>\n",
       "      <th>0</th>\n",
       "      <th>1</th>\n",
       "      <th>2</th>\n",
       "      <th>3</th>\n",
       "      <th>4</th>\n",
       "      <th>5</th>\n",
       "      <th>6</th>\n",
       "      <th>7</th>\n",
       "      <th>8</th>\n",
       "      <th>9</th>\n",
       "      <th>...</th>\n",
       "      <th>28</th>\n",
       "      <th>29</th>\n",
       "      <th>30</th>\n",
       "      <th>31</th>\n",
       "      <th>32</th>\n",
       "      <th>33</th>\n",
       "      <th>34</th>\n",
       "      <th>35</th>\n",
       "      <th>36</th>\n",
       "      <th>37</th>\n",
       "    </tr>\n",
       "  </thead>\n",
       "  <tbody>\n",
       "    <tr>\n",
       "      <th>0</th>\n",
       "      <td>1.0</td>\n",
       "      <td>1.0</td>\n",
       "      <td>1.0</td>\n",
       "      <td>1.0</td>\n",
       "      <td>1.0</td>\n",
       "      <td>1.0</td>\n",
       "      <td>1.0</td>\n",
       "      <td>1.000000</td>\n",
       "      <td>1.0</td>\n",
       "      <td>1.0</td>\n",
       "      <td>...</td>\n",
       "      <td>1.000000</td>\n",
       "      <td>1.000000</td>\n",
       "      <td>1.000000</td>\n",
       "      <td>1.000000</td>\n",
       "      <td>1.000000</td>\n",
       "      <td>1.000000</td>\n",
       "      <td>1.000000</td>\n",
       "      <td>1.00000</td>\n",
       "      <td>1.000000</td>\n",
       "      <td>1.000000</td>\n",
       "    </tr>\n",
       "    <tr>\n",
       "      <th>1</th>\n",
       "      <td>1.0</td>\n",
       "      <td>1.0</td>\n",
       "      <td>1.0</td>\n",
       "      <td>1.0</td>\n",
       "      <td>1.0</td>\n",
       "      <td>1.0</td>\n",
       "      <td>1.0</td>\n",
       "      <td>1.000000</td>\n",
       "      <td>1.0</td>\n",
       "      <td>1.0</td>\n",
       "      <td>...</td>\n",
       "      <td>1.000000</td>\n",
       "      <td>1.000000</td>\n",
       "      <td>1.000000</td>\n",
       "      <td>1.000000</td>\n",
       "      <td>1.000000</td>\n",
       "      <td>1.000000</td>\n",
       "      <td>1.000000</td>\n",
       "      <td>1.00000</td>\n",
       "      <td>1.000000</td>\n",
       "      <td>1.000000</td>\n",
       "    </tr>\n",
       "    <tr>\n",
       "      <th>2</th>\n",
       "      <td>1.0</td>\n",
       "      <td>1.0</td>\n",
       "      <td>1.0</td>\n",
       "      <td>1.0</td>\n",
       "      <td>1.0</td>\n",
       "      <td>1.0</td>\n",
       "      <td>1.0</td>\n",
       "      <td>1.000000</td>\n",
       "      <td>1.0</td>\n",
       "      <td>1.0</td>\n",
       "      <td>...</td>\n",
       "      <td>1.000000</td>\n",
       "      <td>1.000000</td>\n",
       "      <td>1.000000</td>\n",
       "      <td>1.000000</td>\n",
       "      <td>1.000000</td>\n",
       "      <td>1.000000</td>\n",
       "      <td>1.000000</td>\n",
       "      <td>1.00000</td>\n",
       "      <td>1.000000</td>\n",
       "      <td>1.000000</td>\n",
       "    </tr>\n",
       "    <tr>\n",
       "      <th>3</th>\n",
       "      <td>1.0</td>\n",
       "      <td>1.0</td>\n",
       "      <td>1.0</td>\n",
       "      <td>1.0</td>\n",
       "      <td>1.0</td>\n",
       "      <td>1.0</td>\n",
       "      <td>1.0</td>\n",
       "      <td>1.000000</td>\n",
       "      <td>1.0</td>\n",
       "      <td>1.0</td>\n",
       "      <td>...</td>\n",
       "      <td>1.000000</td>\n",
       "      <td>1.000000</td>\n",
       "      <td>1.000000</td>\n",
       "      <td>1.000000</td>\n",
       "      <td>1.000000</td>\n",
       "      <td>1.000000</td>\n",
       "      <td>1.000000</td>\n",
       "      <td>1.00000</td>\n",
       "      <td>1.000000</td>\n",
       "      <td>1.000000</td>\n",
       "    </tr>\n",
       "    <tr>\n",
       "      <th>4</th>\n",
       "      <td>1.0</td>\n",
       "      <td>1.0</td>\n",
       "      <td>1.0</td>\n",
       "      <td>1.0</td>\n",
       "      <td>1.0</td>\n",
       "      <td>1.0</td>\n",
       "      <td>1.0</td>\n",
       "      <td>1.000000</td>\n",
       "      <td>1.0</td>\n",
       "      <td>1.0</td>\n",
       "      <td>...</td>\n",
       "      <td>1.000000</td>\n",
       "      <td>1.000000</td>\n",
       "      <td>1.000000</td>\n",
       "      <td>1.000000</td>\n",
       "      <td>1.000000</td>\n",
       "      <td>1.000000</td>\n",
       "      <td>1.000000</td>\n",
       "      <td>1.00000</td>\n",
       "      <td>1.000000</td>\n",
       "      <td>1.000000</td>\n",
       "    </tr>\n",
       "    <tr>\n",
       "      <th>5</th>\n",
       "      <td>1.0</td>\n",
       "      <td>1.0</td>\n",
       "      <td>1.0</td>\n",
       "      <td>1.0</td>\n",
       "      <td>1.0</td>\n",
       "      <td>1.0</td>\n",
       "      <td>1.0</td>\n",
       "      <td>1.000000</td>\n",
       "      <td>1.0</td>\n",
       "      <td>1.0</td>\n",
       "      <td>...</td>\n",
       "      <td>1.000000</td>\n",
       "      <td>1.000000</td>\n",
       "      <td>1.000000</td>\n",
       "      <td>1.000000</td>\n",
       "      <td>1.000000</td>\n",
       "      <td>1.000000</td>\n",
       "      <td>1.000000</td>\n",
       "      <td>1.00000</td>\n",
       "      <td>1.000000</td>\n",
       "      <td>1.000000</td>\n",
       "    </tr>\n",
       "    <tr>\n",
       "      <th>6</th>\n",
       "      <td>1.0</td>\n",
       "      <td>1.0</td>\n",
       "      <td>1.0</td>\n",
       "      <td>1.0</td>\n",
       "      <td>1.0</td>\n",
       "      <td>1.0</td>\n",
       "      <td>1.0</td>\n",
       "      <td>1.000000</td>\n",
       "      <td>1.0</td>\n",
       "      <td>1.0</td>\n",
       "      <td>...</td>\n",
       "      <td>1.000000</td>\n",
       "      <td>1.000000</td>\n",
       "      <td>1.000000</td>\n",
       "      <td>1.000000</td>\n",
       "      <td>1.000000</td>\n",
       "      <td>1.000000</td>\n",
       "      <td>1.000000</td>\n",
       "      <td>1.00000</td>\n",
       "      <td>1.000000</td>\n",
       "      <td>1.000000</td>\n",
       "    </tr>\n",
       "    <tr>\n",
       "      <th>7</th>\n",
       "      <td>1.0</td>\n",
       "      <td>1.0</td>\n",
       "      <td>1.0</td>\n",
       "      <td>1.0</td>\n",
       "      <td>1.0</td>\n",
       "      <td>1.0</td>\n",
       "      <td>1.0</td>\n",
       "      <td>1.000000</td>\n",
       "      <td>1.0</td>\n",
       "      <td>1.0</td>\n",
       "      <td>...</td>\n",
       "      <td>0.310324</td>\n",
       "      <td>0.154507</td>\n",
       "      <td>0.340654</td>\n",
       "      <td>1.000000</td>\n",
       "      <td>0.074703</td>\n",
       "      <td>1.000000</td>\n",
       "      <td>0.209604</td>\n",
       "      <td>1.00000</td>\n",
       "      <td>1.000000</td>\n",
       "      <td>1.000000</td>\n",
       "    </tr>\n",
       "    <tr>\n",
       "      <th>8</th>\n",
       "      <td>1.0</td>\n",
       "      <td>1.0</td>\n",
       "      <td>1.0</td>\n",
       "      <td>1.0</td>\n",
       "      <td>1.0</td>\n",
       "      <td>1.0</td>\n",
       "      <td>1.0</td>\n",
       "      <td>1.000000</td>\n",
       "      <td>1.0</td>\n",
       "      <td>1.0</td>\n",
       "      <td>...</td>\n",
       "      <td>1.000000</td>\n",
       "      <td>1.000000</td>\n",
       "      <td>1.000000</td>\n",
       "      <td>1.000000</td>\n",
       "      <td>1.000000</td>\n",
       "      <td>1.000000</td>\n",
       "      <td>1.000000</td>\n",
       "      <td>1.00000</td>\n",
       "      <td>1.000000</td>\n",
       "      <td>1.000000</td>\n",
       "    </tr>\n",
       "    <tr>\n",
       "      <th>9</th>\n",
       "      <td>1.0</td>\n",
       "      <td>1.0</td>\n",
       "      <td>1.0</td>\n",
       "      <td>1.0</td>\n",
       "      <td>1.0</td>\n",
       "      <td>1.0</td>\n",
       "      <td>1.0</td>\n",
       "      <td>1.000000</td>\n",
       "      <td>1.0</td>\n",
       "      <td>1.0</td>\n",
       "      <td>...</td>\n",
       "      <td>1.000000</td>\n",
       "      <td>1.000000</td>\n",
       "      <td>1.000000</td>\n",
       "      <td>1.000000</td>\n",
       "      <td>1.000000</td>\n",
       "      <td>1.000000</td>\n",
       "      <td>1.000000</td>\n",
       "      <td>1.00000</td>\n",
       "      <td>1.000000</td>\n",
       "      <td>1.000000</td>\n",
       "    </tr>\n",
       "    <tr>\n",
       "      <th>10</th>\n",
       "      <td>1.0</td>\n",
       "      <td>1.0</td>\n",
       "      <td>1.0</td>\n",
       "      <td>1.0</td>\n",
       "      <td>1.0</td>\n",
       "      <td>1.0</td>\n",
       "      <td>1.0</td>\n",
       "      <td>1.000000</td>\n",
       "      <td>1.0</td>\n",
       "      <td>1.0</td>\n",
       "      <td>...</td>\n",
       "      <td>1.000000</td>\n",
       "      <td>1.000000</td>\n",
       "      <td>1.000000</td>\n",
       "      <td>1.000000</td>\n",
       "      <td>1.000000</td>\n",
       "      <td>1.000000</td>\n",
       "      <td>1.000000</td>\n",
       "      <td>1.00000</td>\n",
       "      <td>1.000000</td>\n",
       "      <td>1.000000</td>\n",
       "    </tr>\n",
       "    <tr>\n",
       "      <th>11</th>\n",
       "      <td>1.0</td>\n",
       "      <td>1.0</td>\n",
       "      <td>1.0</td>\n",
       "      <td>1.0</td>\n",
       "      <td>1.0</td>\n",
       "      <td>1.0</td>\n",
       "      <td>1.0</td>\n",
       "      <td>0.088517</td>\n",
       "      <td>1.0</td>\n",
       "      <td>1.0</td>\n",
       "      <td>...</td>\n",
       "      <td>1.000000</td>\n",
       "      <td>1.000000</td>\n",
       "      <td>1.000000</td>\n",
       "      <td>1.000000</td>\n",
       "      <td>1.000000</td>\n",
       "      <td>0.208080</td>\n",
       "      <td>1.000000</td>\n",
       "      <td>1.00000</td>\n",
       "      <td>1.000000</td>\n",
       "      <td>1.000000</td>\n",
       "    </tr>\n",
       "    <tr>\n",
       "      <th>12</th>\n",
       "      <td>1.0</td>\n",
       "      <td>1.0</td>\n",
       "      <td>1.0</td>\n",
       "      <td>1.0</td>\n",
       "      <td>1.0</td>\n",
       "      <td>1.0</td>\n",
       "      <td>1.0</td>\n",
       "      <td>1.000000</td>\n",
       "      <td>1.0</td>\n",
       "      <td>1.0</td>\n",
       "      <td>...</td>\n",
       "      <td>1.000000</td>\n",
       "      <td>1.000000</td>\n",
       "      <td>1.000000</td>\n",
       "      <td>1.000000</td>\n",
       "      <td>1.000000</td>\n",
       "      <td>1.000000</td>\n",
       "      <td>1.000000</td>\n",
       "      <td>1.00000</td>\n",
       "      <td>1.000000</td>\n",
       "      <td>1.000000</td>\n",
       "    </tr>\n",
       "    <tr>\n",
       "      <th>13</th>\n",
       "      <td>1.0</td>\n",
       "      <td>1.0</td>\n",
       "      <td>1.0</td>\n",
       "      <td>1.0</td>\n",
       "      <td>1.0</td>\n",
       "      <td>1.0</td>\n",
       "      <td>1.0</td>\n",
       "      <td>0.072314</td>\n",
       "      <td>1.0</td>\n",
       "      <td>1.0</td>\n",
       "      <td>...</td>\n",
       "      <td>1.000000</td>\n",
       "      <td>1.000000</td>\n",
       "      <td>1.000000</td>\n",
       "      <td>1.000000</td>\n",
       "      <td>1.000000</td>\n",
       "      <td>0.610722</td>\n",
       "      <td>1.000000</td>\n",
       "      <td>1.00000</td>\n",
       "      <td>1.000000</td>\n",
       "      <td>1.000000</td>\n",
       "    </tr>\n",
       "    <tr>\n",
       "      <th>14</th>\n",
       "      <td>1.0</td>\n",
       "      <td>1.0</td>\n",
       "      <td>1.0</td>\n",
       "      <td>1.0</td>\n",
       "      <td>1.0</td>\n",
       "      <td>1.0</td>\n",
       "      <td>1.0</td>\n",
       "      <td>1.000000</td>\n",
       "      <td>1.0</td>\n",
       "      <td>1.0</td>\n",
       "      <td>...</td>\n",
       "      <td>1.000000</td>\n",
       "      <td>1.000000</td>\n",
       "      <td>1.000000</td>\n",
       "      <td>1.000000</td>\n",
       "      <td>1.000000</td>\n",
       "      <td>1.000000</td>\n",
       "      <td>1.000000</td>\n",
       "      <td>1.00000</td>\n",
       "      <td>1.000000</td>\n",
       "      <td>1.000000</td>\n",
       "    </tr>\n",
       "    <tr>\n",
       "      <th>15</th>\n",
       "      <td>1.0</td>\n",
       "      <td>1.0</td>\n",
       "      <td>1.0</td>\n",
       "      <td>1.0</td>\n",
       "      <td>1.0</td>\n",
       "      <td>1.0</td>\n",
       "      <td>1.0</td>\n",
       "      <td>1.000000</td>\n",
       "      <td>1.0</td>\n",
       "      <td>1.0</td>\n",
       "      <td>...</td>\n",
       "      <td>1.000000</td>\n",
       "      <td>1.000000</td>\n",
       "      <td>1.000000</td>\n",
       "      <td>1.000000</td>\n",
       "      <td>1.000000</td>\n",
       "      <td>1.000000</td>\n",
       "      <td>1.000000</td>\n",
       "      <td>1.00000</td>\n",
       "      <td>1.000000</td>\n",
       "      <td>1.000000</td>\n",
       "    </tr>\n",
       "    <tr>\n",
       "      <th>16</th>\n",
       "      <td>1.0</td>\n",
       "      <td>1.0</td>\n",
       "      <td>1.0</td>\n",
       "      <td>1.0</td>\n",
       "      <td>1.0</td>\n",
       "      <td>1.0</td>\n",
       "      <td>1.0</td>\n",
       "      <td>1.000000</td>\n",
       "      <td>1.0</td>\n",
       "      <td>1.0</td>\n",
       "      <td>...</td>\n",
       "      <td>0.008181</td>\n",
       "      <td>0.002013</td>\n",
       "      <td>0.010049</td>\n",
       "      <td>0.189816</td>\n",
       "      <td>0.000473</td>\n",
       "      <td>1.000000</td>\n",
       "      <td>0.002006</td>\n",
       "      <td>1.00000</td>\n",
       "      <td>0.351460</td>\n",
       "      <td>1.000000</td>\n",
       "    </tr>\n",
       "    <tr>\n",
       "      <th>17</th>\n",
       "      <td>1.0</td>\n",
       "      <td>1.0</td>\n",
       "      <td>1.0</td>\n",
       "      <td>1.0</td>\n",
       "      <td>1.0</td>\n",
       "      <td>1.0</td>\n",
       "      <td>1.0</td>\n",
       "      <td>1.000000</td>\n",
       "      <td>1.0</td>\n",
       "      <td>1.0</td>\n",
       "      <td>...</td>\n",
       "      <td>0.178609</td>\n",
       "      <td>0.055797</td>\n",
       "      <td>0.210404</td>\n",
       "      <td>1.000000</td>\n",
       "      <td>0.016462</td>\n",
       "      <td>1.000000</td>\n",
       "      <td>0.066477</td>\n",
       "      <td>1.00000</td>\n",
       "      <td>1.000000</td>\n",
       "      <td>1.000000</td>\n",
       "    </tr>\n",
       "    <tr>\n",
       "      <th>18</th>\n",
       "      <td>1.0</td>\n",
       "      <td>1.0</td>\n",
       "      <td>1.0</td>\n",
       "      <td>1.0</td>\n",
       "      <td>1.0</td>\n",
       "      <td>1.0</td>\n",
       "      <td>1.0</td>\n",
       "      <td>1.000000</td>\n",
       "      <td>1.0</td>\n",
       "      <td>1.0</td>\n",
       "      <td>...</td>\n",
       "      <td>1.000000</td>\n",
       "      <td>1.000000</td>\n",
       "      <td>1.000000</td>\n",
       "      <td>1.000000</td>\n",
       "      <td>1.000000</td>\n",
       "      <td>1.000000</td>\n",
       "      <td>1.000000</td>\n",
       "      <td>1.00000</td>\n",
       "      <td>1.000000</td>\n",
       "      <td>1.000000</td>\n",
       "    </tr>\n",
       "    <tr>\n",
       "      <th>19</th>\n",
       "      <td>1.0</td>\n",
       "      <td>1.0</td>\n",
       "      <td>1.0</td>\n",
       "      <td>1.0</td>\n",
       "      <td>1.0</td>\n",
       "      <td>1.0</td>\n",
       "      <td>1.0</td>\n",
       "      <td>1.000000</td>\n",
       "      <td>1.0</td>\n",
       "      <td>1.0</td>\n",
       "      <td>...</td>\n",
       "      <td>1.000000</td>\n",
       "      <td>1.000000</td>\n",
       "      <td>1.000000</td>\n",
       "      <td>1.000000</td>\n",
       "      <td>1.000000</td>\n",
       "      <td>1.000000</td>\n",
       "      <td>1.000000</td>\n",
       "      <td>1.00000</td>\n",
       "      <td>1.000000</td>\n",
       "      <td>1.000000</td>\n",
       "    </tr>\n",
       "    <tr>\n",
       "      <th>20</th>\n",
       "      <td>1.0</td>\n",
       "      <td>1.0</td>\n",
       "      <td>1.0</td>\n",
       "      <td>1.0</td>\n",
       "      <td>1.0</td>\n",
       "      <td>1.0</td>\n",
       "      <td>1.0</td>\n",
       "      <td>1.000000</td>\n",
       "      <td>1.0</td>\n",
       "      <td>1.0</td>\n",
       "      <td>...</td>\n",
       "      <td>1.000000</td>\n",
       "      <td>1.000000</td>\n",
       "      <td>1.000000</td>\n",
       "      <td>1.000000</td>\n",
       "      <td>1.000000</td>\n",
       "      <td>1.000000</td>\n",
       "      <td>1.000000</td>\n",
       "      <td>1.00000</td>\n",
       "      <td>1.000000</td>\n",
       "      <td>1.000000</td>\n",
       "    </tr>\n",
       "    <tr>\n",
       "      <th>21</th>\n",
       "      <td>1.0</td>\n",
       "      <td>1.0</td>\n",
       "      <td>1.0</td>\n",
       "      <td>1.0</td>\n",
       "      <td>1.0</td>\n",
       "      <td>1.0</td>\n",
       "      <td>1.0</td>\n",
       "      <td>0.481678</td>\n",
       "      <td>1.0</td>\n",
       "      <td>1.0</td>\n",
       "      <td>...</td>\n",
       "      <td>1.000000</td>\n",
       "      <td>1.000000</td>\n",
       "      <td>1.000000</td>\n",
       "      <td>1.000000</td>\n",
       "      <td>1.000000</td>\n",
       "      <td>1.000000</td>\n",
       "      <td>1.000000</td>\n",
       "      <td>1.00000</td>\n",
       "      <td>1.000000</td>\n",
       "      <td>1.000000</td>\n",
       "    </tr>\n",
       "    <tr>\n",
       "      <th>22</th>\n",
       "      <td>1.0</td>\n",
       "      <td>1.0</td>\n",
       "      <td>1.0</td>\n",
       "      <td>1.0</td>\n",
       "      <td>1.0</td>\n",
       "      <td>1.0</td>\n",
       "      <td>1.0</td>\n",
       "      <td>0.034629</td>\n",
       "      <td>1.0</td>\n",
       "      <td>1.0</td>\n",
       "      <td>...</td>\n",
       "      <td>1.000000</td>\n",
       "      <td>1.000000</td>\n",
       "      <td>1.000000</td>\n",
       "      <td>1.000000</td>\n",
       "      <td>1.000000</td>\n",
       "      <td>0.014201</td>\n",
       "      <td>1.000000</td>\n",
       "      <td>1.00000</td>\n",
       "      <td>1.000000</td>\n",
       "      <td>1.000000</td>\n",
       "    </tr>\n",
       "    <tr>\n",
       "      <th>23</th>\n",
       "      <td>1.0</td>\n",
       "      <td>1.0</td>\n",
       "      <td>1.0</td>\n",
       "      <td>1.0</td>\n",
       "      <td>1.0</td>\n",
       "      <td>1.0</td>\n",
       "      <td>1.0</td>\n",
       "      <td>1.000000</td>\n",
       "      <td>1.0</td>\n",
       "      <td>1.0</td>\n",
       "      <td>...</td>\n",
       "      <td>1.000000</td>\n",
       "      <td>1.000000</td>\n",
       "      <td>1.000000</td>\n",
       "      <td>1.000000</td>\n",
       "      <td>0.297613</td>\n",
       "      <td>1.000000</td>\n",
       "      <td>1.000000</td>\n",
       "      <td>1.00000</td>\n",
       "      <td>1.000000</td>\n",
       "      <td>1.000000</td>\n",
       "    </tr>\n",
       "    <tr>\n",
       "      <th>24</th>\n",
       "      <td>1.0</td>\n",
       "      <td>1.0</td>\n",
       "      <td>1.0</td>\n",
       "      <td>1.0</td>\n",
       "      <td>1.0</td>\n",
       "      <td>1.0</td>\n",
       "      <td>1.0</td>\n",
       "      <td>1.000000</td>\n",
       "      <td>1.0</td>\n",
       "      <td>1.0</td>\n",
       "      <td>...</td>\n",
       "      <td>1.000000</td>\n",
       "      <td>1.000000</td>\n",
       "      <td>1.000000</td>\n",
       "      <td>1.000000</td>\n",
       "      <td>1.000000</td>\n",
       "      <td>1.000000</td>\n",
       "      <td>1.000000</td>\n",
       "      <td>1.00000</td>\n",
       "      <td>1.000000</td>\n",
       "      <td>1.000000</td>\n",
       "    </tr>\n",
       "    <tr>\n",
       "      <th>25</th>\n",
       "      <td>1.0</td>\n",
       "      <td>1.0</td>\n",
       "      <td>1.0</td>\n",
       "      <td>1.0</td>\n",
       "      <td>1.0</td>\n",
       "      <td>1.0</td>\n",
       "      <td>1.0</td>\n",
       "      <td>0.002451</td>\n",
       "      <td>1.0</td>\n",
       "      <td>1.0</td>\n",
       "      <td>...</td>\n",
       "      <td>1.000000</td>\n",
       "      <td>1.000000</td>\n",
       "      <td>1.000000</td>\n",
       "      <td>1.000000</td>\n",
       "      <td>1.000000</td>\n",
       "      <td>0.000020</td>\n",
       "      <td>1.000000</td>\n",
       "      <td>0.00434</td>\n",
       "      <td>0.098134</td>\n",
       "      <td>0.122561</td>\n",
       "    </tr>\n",
       "    <tr>\n",
       "      <th>26</th>\n",
       "      <td>1.0</td>\n",
       "      <td>1.0</td>\n",
       "      <td>1.0</td>\n",
       "      <td>1.0</td>\n",
       "      <td>1.0</td>\n",
       "      <td>1.0</td>\n",
       "      <td>1.0</td>\n",
       "      <td>0.130584</td>\n",
       "      <td>1.0</td>\n",
       "      <td>1.0</td>\n",
       "      <td>...</td>\n",
       "      <td>1.000000</td>\n",
       "      <td>1.000000</td>\n",
       "      <td>1.000000</td>\n",
       "      <td>1.000000</td>\n",
       "      <td>1.000000</td>\n",
       "      <td>0.121585</td>\n",
       "      <td>1.000000</td>\n",
       "      <td>1.00000</td>\n",
       "      <td>1.000000</td>\n",
       "      <td>1.000000</td>\n",
       "    </tr>\n",
       "    <tr>\n",
       "      <th>27</th>\n",
       "      <td>1.0</td>\n",
       "      <td>1.0</td>\n",
       "      <td>1.0</td>\n",
       "      <td>1.0</td>\n",
       "      <td>1.0</td>\n",
       "      <td>1.0</td>\n",
       "      <td>1.0</td>\n",
       "      <td>1.000000</td>\n",
       "      <td>1.0</td>\n",
       "      <td>1.0</td>\n",
       "      <td>...</td>\n",
       "      <td>1.000000</td>\n",
       "      <td>1.000000</td>\n",
       "      <td>1.000000</td>\n",
       "      <td>1.000000</td>\n",
       "      <td>1.000000</td>\n",
       "      <td>1.000000</td>\n",
       "      <td>1.000000</td>\n",
       "      <td>1.00000</td>\n",
       "      <td>1.000000</td>\n",
       "      <td>1.000000</td>\n",
       "    </tr>\n",
       "    <tr>\n",
       "      <th>28</th>\n",
       "      <td>1.0</td>\n",
       "      <td>1.0</td>\n",
       "      <td>1.0</td>\n",
       "      <td>1.0</td>\n",
       "      <td>1.0</td>\n",
       "      <td>1.0</td>\n",
       "      <td>1.0</td>\n",
       "      <td>0.310324</td>\n",
       "      <td>1.0</td>\n",
       "      <td>1.0</td>\n",
       "      <td>...</td>\n",
       "      <td>1.000000</td>\n",
       "      <td>1.000000</td>\n",
       "      <td>1.000000</td>\n",
       "      <td>1.000000</td>\n",
       "      <td>1.000000</td>\n",
       "      <td>0.698614</td>\n",
       "      <td>1.000000</td>\n",
       "      <td>1.00000</td>\n",
       "      <td>1.000000</td>\n",
       "      <td>1.000000</td>\n",
       "    </tr>\n",
       "    <tr>\n",
       "      <th>29</th>\n",
       "      <td>1.0</td>\n",
       "      <td>1.0</td>\n",
       "      <td>1.0</td>\n",
       "      <td>1.0</td>\n",
       "      <td>1.0</td>\n",
       "      <td>1.0</td>\n",
       "      <td>1.0</td>\n",
       "      <td>0.154507</td>\n",
       "      <td>1.0</td>\n",
       "      <td>1.0</td>\n",
       "      <td>...</td>\n",
       "      <td>1.000000</td>\n",
       "      <td>1.000000</td>\n",
       "      <td>1.000000</td>\n",
       "      <td>1.000000</td>\n",
       "      <td>1.000000</td>\n",
       "      <td>0.164595</td>\n",
       "      <td>1.000000</td>\n",
       "      <td>1.00000</td>\n",
       "      <td>1.000000</td>\n",
       "      <td>1.000000</td>\n",
       "    </tr>\n",
       "    <tr>\n",
       "      <th>30</th>\n",
       "      <td>1.0</td>\n",
       "      <td>1.0</td>\n",
       "      <td>1.0</td>\n",
       "      <td>1.0</td>\n",
       "      <td>1.0</td>\n",
       "      <td>1.0</td>\n",
       "      <td>1.0</td>\n",
       "      <td>0.340654</td>\n",
       "      <td>1.0</td>\n",
       "      <td>1.0</td>\n",
       "      <td>...</td>\n",
       "      <td>1.000000</td>\n",
       "      <td>1.000000</td>\n",
       "      <td>1.000000</td>\n",
       "      <td>1.000000</td>\n",
       "      <td>1.000000</td>\n",
       "      <td>0.858098</td>\n",
       "      <td>1.000000</td>\n",
       "      <td>1.00000</td>\n",
       "      <td>1.000000</td>\n",
       "      <td>1.000000</td>\n",
       "    </tr>\n",
       "    <tr>\n",
       "      <th>31</th>\n",
       "      <td>1.0</td>\n",
       "      <td>1.0</td>\n",
       "      <td>1.0</td>\n",
       "      <td>1.0</td>\n",
       "      <td>1.0</td>\n",
       "      <td>1.0</td>\n",
       "      <td>1.0</td>\n",
       "      <td>1.000000</td>\n",
       "      <td>1.0</td>\n",
       "      <td>1.0</td>\n",
       "      <td>...</td>\n",
       "      <td>1.000000</td>\n",
       "      <td>1.000000</td>\n",
       "      <td>1.000000</td>\n",
       "      <td>1.000000</td>\n",
       "      <td>1.000000</td>\n",
       "      <td>1.000000</td>\n",
       "      <td>1.000000</td>\n",
       "      <td>1.00000</td>\n",
       "      <td>1.000000</td>\n",
       "      <td>1.000000</td>\n",
       "    </tr>\n",
       "    <tr>\n",
       "      <th>32</th>\n",
       "      <td>1.0</td>\n",
       "      <td>1.0</td>\n",
       "      <td>1.0</td>\n",
       "      <td>1.0</td>\n",
       "      <td>1.0</td>\n",
       "      <td>1.0</td>\n",
       "      <td>1.0</td>\n",
       "      <td>0.074703</td>\n",
       "      <td>1.0</td>\n",
       "      <td>1.0</td>\n",
       "      <td>...</td>\n",
       "      <td>1.000000</td>\n",
       "      <td>1.000000</td>\n",
       "      <td>1.000000</td>\n",
       "      <td>1.000000</td>\n",
       "      <td>1.000000</td>\n",
       "      <td>0.035048</td>\n",
       "      <td>1.000000</td>\n",
       "      <td>1.00000</td>\n",
       "      <td>1.000000</td>\n",
       "      <td>1.000000</td>\n",
       "    </tr>\n",
       "    <tr>\n",
       "      <th>33</th>\n",
       "      <td>1.0</td>\n",
       "      <td>1.0</td>\n",
       "      <td>1.0</td>\n",
       "      <td>1.0</td>\n",
       "      <td>1.0</td>\n",
       "      <td>1.0</td>\n",
       "      <td>1.0</td>\n",
       "      <td>1.000000</td>\n",
       "      <td>1.0</td>\n",
       "      <td>1.0</td>\n",
       "      <td>...</td>\n",
       "      <td>0.698614</td>\n",
       "      <td>0.164595</td>\n",
       "      <td>0.858098</td>\n",
       "      <td>1.000000</td>\n",
       "      <td>0.035048</td>\n",
       "      <td>1.000000</td>\n",
       "      <td>0.153579</td>\n",
       "      <td>1.00000</td>\n",
       "      <td>1.000000</td>\n",
       "      <td>1.000000</td>\n",
       "    </tr>\n",
       "    <tr>\n",
       "      <th>34</th>\n",
       "      <td>1.0</td>\n",
       "      <td>1.0</td>\n",
       "      <td>1.0</td>\n",
       "      <td>1.0</td>\n",
       "      <td>1.0</td>\n",
       "      <td>1.0</td>\n",
       "      <td>1.0</td>\n",
       "      <td>0.209604</td>\n",
       "      <td>1.0</td>\n",
       "      <td>1.0</td>\n",
       "      <td>...</td>\n",
       "      <td>1.000000</td>\n",
       "      <td>1.000000</td>\n",
       "      <td>1.000000</td>\n",
       "      <td>1.000000</td>\n",
       "      <td>1.000000</td>\n",
       "      <td>0.153579</td>\n",
       "      <td>1.000000</td>\n",
       "      <td>1.00000</td>\n",
       "      <td>1.000000</td>\n",
       "      <td>1.000000</td>\n",
       "    </tr>\n",
       "    <tr>\n",
       "      <th>35</th>\n",
       "      <td>1.0</td>\n",
       "      <td>1.0</td>\n",
       "      <td>1.0</td>\n",
       "      <td>1.0</td>\n",
       "      <td>1.0</td>\n",
       "      <td>1.0</td>\n",
       "      <td>1.0</td>\n",
       "      <td>1.000000</td>\n",
       "      <td>1.0</td>\n",
       "      <td>1.0</td>\n",
       "      <td>...</td>\n",
       "      <td>1.000000</td>\n",
       "      <td>1.000000</td>\n",
       "      <td>1.000000</td>\n",
       "      <td>1.000000</td>\n",
       "      <td>1.000000</td>\n",
       "      <td>1.000000</td>\n",
       "      <td>1.000000</td>\n",
       "      <td>1.00000</td>\n",
       "      <td>1.000000</td>\n",
       "      <td>1.000000</td>\n",
       "    </tr>\n",
       "    <tr>\n",
       "      <th>36</th>\n",
       "      <td>1.0</td>\n",
       "      <td>1.0</td>\n",
       "      <td>1.0</td>\n",
       "      <td>1.0</td>\n",
       "      <td>1.0</td>\n",
       "      <td>1.0</td>\n",
       "      <td>1.0</td>\n",
       "      <td>1.000000</td>\n",
       "      <td>1.0</td>\n",
       "      <td>1.0</td>\n",
       "      <td>...</td>\n",
       "      <td>1.000000</td>\n",
       "      <td>1.000000</td>\n",
       "      <td>1.000000</td>\n",
       "      <td>1.000000</td>\n",
       "      <td>1.000000</td>\n",
       "      <td>1.000000</td>\n",
       "      <td>1.000000</td>\n",
       "      <td>1.00000</td>\n",
       "      <td>1.000000</td>\n",
       "      <td>1.000000</td>\n",
       "    </tr>\n",
       "    <tr>\n",
       "      <th>37</th>\n",
       "      <td>1.0</td>\n",
       "      <td>1.0</td>\n",
       "      <td>1.0</td>\n",
       "      <td>1.0</td>\n",
       "      <td>1.0</td>\n",
       "      <td>1.0</td>\n",
       "      <td>1.0</td>\n",
       "      <td>1.000000</td>\n",
       "      <td>1.0</td>\n",
       "      <td>1.0</td>\n",
       "      <td>...</td>\n",
       "      <td>1.000000</td>\n",
       "      <td>1.000000</td>\n",
       "      <td>1.000000</td>\n",
       "      <td>1.000000</td>\n",
       "      <td>1.000000</td>\n",
       "      <td>1.000000</td>\n",
       "      <td>1.000000</td>\n",
       "      <td>1.00000</td>\n",
       "      <td>1.000000</td>\n",
       "      <td>1.000000</td>\n",
       "    </tr>\n",
       "  </tbody>\n",
       "</table>\n",
       "<p>38 rows × 38 columns</p>\n",
       "</div>"
      ],
      "text/plain": [
       "     0    1    2    3    4    5    6         7    8    9   ...        28  \\\n",
       "0   1.0  1.0  1.0  1.0  1.0  1.0  1.0  1.000000  1.0  1.0  ...  1.000000   \n",
       "1   1.0  1.0  1.0  1.0  1.0  1.0  1.0  1.000000  1.0  1.0  ...  1.000000   \n",
       "2   1.0  1.0  1.0  1.0  1.0  1.0  1.0  1.000000  1.0  1.0  ...  1.000000   \n",
       "3   1.0  1.0  1.0  1.0  1.0  1.0  1.0  1.000000  1.0  1.0  ...  1.000000   \n",
       "4   1.0  1.0  1.0  1.0  1.0  1.0  1.0  1.000000  1.0  1.0  ...  1.000000   \n",
       "5   1.0  1.0  1.0  1.0  1.0  1.0  1.0  1.000000  1.0  1.0  ...  1.000000   \n",
       "6   1.0  1.0  1.0  1.0  1.0  1.0  1.0  1.000000  1.0  1.0  ...  1.000000   \n",
       "7   1.0  1.0  1.0  1.0  1.0  1.0  1.0  1.000000  1.0  1.0  ...  0.310324   \n",
       "8   1.0  1.0  1.0  1.0  1.0  1.0  1.0  1.000000  1.0  1.0  ...  1.000000   \n",
       "9   1.0  1.0  1.0  1.0  1.0  1.0  1.0  1.000000  1.0  1.0  ...  1.000000   \n",
       "10  1.0  1.0  1.0  1.0  1.0  1.0  1.0  1.000000  1.0  1.0  ...  1.000000   \n",
       "11  1.0  1.0  1.0  1.0  1.0  1.0  1.0  0.088517  1.0  1.0  ...  1.000000   \n",
       "12  1.0  1.0  1.0  1.0  1.0  1.0  1.0  1.000000  1.0  1.0  ...  1.000000   \n",
       "13  1.0  1.0  1.0  1.0  1.0  1.0  1.0  0.072314  1.0  1.0  ...  1.000000   \n",
       "14  1.0  1.0  1.0  1.0  1.0  1.0  1.0  1.000000  1.0  1.0  ...  1.000000   \n",
       "15  1.0  1.0  1.0  1.0  1.0  1.0  1.0  1.000000  1.0  1.0  ...  1.000000   \n",
       "16  1.0  1.0  1.0  1.0  1.0  1.0  1.0  1.000000  1.0  1.0  ...  0.008181   \n",
       "17  1.0  1.0  1.0  1.0  1.0  1.0  1.0  1.000000  1.0  1.0  ...  0.178609   \n",
       "18  1.0  1.0  1.0  1.0  1.0  1.0  1.0  1.000000  1.0  1.0  ...  1.000000   \n",
       "19  1.0  1.0  1.0  1.0  1.0  1.0  1.0  1.000000  1.0  1.0  ...  1.000000   \n",
       "20  1.0  1.0  1.0  1.0  1.0  1.0  1.0  1.000000  1.0  1.0  ...  1.000000   \n",
       "21  1.0  1.0  1.0  1.0  1.0  1.0  1.0  0.481678  1.0  1.0  ...  1.000000   \n",
       "22  1.0  1.0  1.0  1.0  1.0  1.0  1.0  0.034629  1.0  1.0  ...  1.000000   \n",
       "23  1.0  1.0  1.0  1.0  1.0  1.0  1.0  1.000000  1.0  1.0  ...  1.000000   \n",
       "24  1.0  1.0  1.0  1.0  1.0  1.0  1.0  1.000000  1.0  1.0  ...  1.000000   \n",
       "25  1.0  1.0  1.0  1.0  1.0  1.0  1.0  0.002451  1.0  1.0  ...  1.000000   \n",
       "26  1.0  1.0  1.0  1.0  1.0  1.0  1.0  0.130584  1.0  1.0  ...  1.000000   \n",
       "27  1.0  1.0  1.0  1.0  1.0  1.0  1.0  1.000000  1.0  1.0  ...  1.000000   \n",
       "28  1.0  1.0  1.0  1.0  1.0  1.0  1.0  0.310324  1.0  1.0  ...  1.000000   \n",
       "29  1.0  1.0  1.0  1.0  1.0  1.0  1.0  0.154507  1.0  1.0  ...  1.000000   \n",
       "30  1.0  1.0  1.0  1.0  1.0  1.0  1.0  0.340654  1.0  1.0  ...  1.000000   \n",
       "31  1.0  1.0  1.0  1.0  1.0  1.0  1.0  1.000000  1.0  1.0  ...  1.000000   \n",
       "32  1.0  1.0  1.0  1.0  1.0  1.0  1.0  0.074703  1.0  1.0  ...  1.000000   \n",
       "33  1.0  1.0  1.0  1.0  1.0  1.0  1.0  1.000000  1.0  1.0  ...  0.698614   \n",
       "34  1.0  1.0  1.0  1.0  1.0  1.0  1.0  0.209604  1.0  1.0  ...  1.000000   \n",
       "35  1.0  1.0  1.0  1.0  1.0  1.0  1.0  1.000000  1.0  1.0  ...  1.000000   \n",
       "36  1.0  1.0  1.0  1.0  1.0  1.0  1.0  1.000000  1.0  1.0  ...  1.000000   \n",
       "37  1.0  1.0  1.0  1.0  1.0  1.0  1.0  1.000000  1.0  1.0  ...  1.000000   \n",
       "\n",
       "          29        30        31        32        33        34       35  \\\n",
       "0   1.000000  1.000000  1.000000  1.000000  1.000000  1.000000  1.00000   \n",
       "1   1.000000  1.000000  1.000000  1.000000  1.000000  1.000000  1.00000   \n",
       "2   1.000000  1.000000  1.000000  1.000000  1.000000  1.000000  1.00000   \n",
       "3   1.000000  1.000000  1.000000  1.000000  1.000000  1.000000  1.00000   \n",
       "4   1.000000  1.000000  1.000000  1.000000  1.000000  1.000000  1.00000   \n",
       "5   1.000000  1.000000  1.000000  1.000000  1.000000  1.000000  1.00000   \n",
       "6   1.000000  1.000000  1.000000  1.000000  1.000000  1.000000  1.00000   \n",
       "7   0.154507  0.340654  1.000000  0.074703  1.000000  0.209604  1.00000   \n",
       "8   1.000000  1.000000  1.000000  1.000000  1.000000  1.000000  1.00000   \n",
       "9   1.000000  1.000000  1.000000  1.000000  1.000000  1.000000  1.00000   \n",
       "10  1.000000  1.000000  1.000000  1.000000  1.000000  1.000000  1.00000   \n",
       "11  1.000000  1.000000  1.000000  1.000000  0.208080  1.000000  1.00000   \n",
       "12  1.000000  1.000000  1.000000  1.000000  1.000000  1.000000  1.00000   \n",
       "13  1.000000  1.000000  1.000000  1.000000  0.610722  1.000000  1.00000   \n",
       "14  1.000000  1.000000  1.000000  1.000000  1.000000  1.000000  1.00000   \n",
       "15  1.000000  1.000000  1.000000  1.000000  1.000000  1.000000  1.00000   \n",
       "16  0.002013  0.010049  0.189816  0.000473  1.000000  0.002006  1.00000   \n",
       "17  0.055797  0.210404  1.000000  0.016462  1.000000  0.066477  1.00000   \n",
       "18  1.000000  1.000000  1.000000  1.000000  1.000000  1.000000  1.00000   \n",
       "19  1.000000  1.000000  1.000000  1.000000  1.000000  1.000000  1.00000   \n",
       "20  1.000000  1.000000  1.000000  1.000000  1.000000  1.000000  1.00000   \n",
       "21  1.000000  1.000000  1.000000  1.000000  1.000000  1.000000  1.00000   \n",
       "22  1.000000  1.000000  1.000000  1.000000  0.014201  1.000000  1.00000   \n",
       "23  1.000000  1.000000  1.000000  0.297613  1.000000  1.000000  1.00000   \n",
       "24  1.000000  1.000000  1.000000  1.000000  1.000000  1.000000  1.00000   \n",
       "25  1.000000  1.000000  1.000000  1.000000  0.000020  1.000000  0.00434   \n",
       "26  1.000000  1.000000  1.000000  1.000000  0.121585  1.000000  1.00000   \n",
       "27  1.000000  1.000000  1.000000  1.000000  1.000000  1.000000  1.00000   \n",
       "28  1.000000  1.000000  1.000000  1.000000  0.698614  1.000000  1.00000   \n",
       "29  1.000000  1.000000  1.000000  1.000000  0.164595  1.000000  1.00000   \n",
       "30  1.000000  1.000000  1.000000  1.000000  0.858098  1.000000  1.00000   \n",
       "31  1.000000  1.000000  1.000000  1.000000  1.000000  1.000000  1.00000   \n",
       "32  1.000000  1.000000  1.000000  1.000000  0.035048  1.000000  1.00000   \n",
       "33  0.164595  0.858098  1.000000  0.035048  1.000000  0.153579  1.00000   \n",
       "34  1.000000  1.000000  1.000000  1.000000  0.153579  1.000000  1.00000   \n",
       "35  1.000000  1.000000  1.000000  1.000000  1.000000  1.000000  1.00000   \n",
       "36  1.000000  1.000000  1.000000  1.000000  1.000000  1.000000  1.00000   \n",
       "37  1.000000  1.000000  1.000000  1.000000  1.000000  1.000000  1.00000   \n",
       "\n",
       "          36        37  \n",
       "0   1.000000  1.000000  \n",
       "1   1.000000  1.000000  \n",
       "2   1.000000  1.000000  \n",
       "3   1.000000  1.000000  \n",
       "4   1.000000  1.000000  \n",
       "5   1.000000  1.000000  \n",
       "6   1.000000  1.000000  \n",
       "7   1.000000  1.000000  \n",
       "8   1.000000  1.000000  \n",
       "9   1.000000  1.000000  \n",
       "10  1.000000  1.000000  \n",
       "11  1.000000  1.000000  \n",
       "12  1.000000  1.000000  \n",
       "13  1.000000  1.000000  \n",
       "14  1.000000  1.000000  \n",
       "15  1.000000  1.000000  \n",
       "16  0.351460  1.000000  \n",
       "17  1.000000  1.000000  \n",
       "18  1.000000  1.000000  \n",
       "19  1.000000  1.000000  \n",
       "20  1.000000  1.000000  \n",
       "21  1.000000  1.000000  \n",
       "22  1.000000  1.000000  \n",
       "23  1.000000  1.000000  \n",
       "24  1.000000  1.000000  \n",
       "25  0.098134  0.122561  \n",
       "26  1.000000  1.000000  \n",
       "27  1.000000  1.000000  \n",
       "28  1.000000  1.000000  \n",
       "29  1.000000  1.000000  \n",
       "30  1.000000  1.000000  \n",
       "31  1.000000  1.000000  \n",
       "32  1.000000  1.000000  \n",
       "33  1.000000  1.000000  \n",
       "34  1.000000  1.000000  \n",
       "35  1.000000  1.000000  \n",
       "36  1.000000  1.000000  \n",
       "37  1.000000  1.000000  \n",
       "\n",
       "[38 rows x 38 columns]"
      ]
     },
     "execution_count": 87,
     "metadata": {},
     "output_type": "execute_result"
    }
   ],
   "source": [
    "scikit_posthocs.posthoc_dunn(new_df, val_col='status_dummy', group_col='year_month_posted', p_adjust='bonferroni')"
   ]
  },
  {
   "cell_type": "code",
   "execution_count": 88,
   "metadata": {},
   "outputs": [
    {
     "data": {
      "text/html": [
       "<div>\n",
       "<style scoped>\n",
       "    .dataframe tbody tr th:only-of-type {\n",
       "        vertical-align: middle;\n",
       "    }\n",
       "\n",
       "    .dataframe tbody tr th {\n",
       "        vertical-align: top;\n",
       "    }\n",
       "\n",
       "    .dataframe thead th {\n",
       "        text-align: right;\n",
       "    }\n",
       "</style>\n",
       "<table border=\"1\" class=\"dataframe\">\n",
       "  <thead>\n",
       "    <tr style=\"text-align: right;\">\n",
       "      <th></th>\n",
       "      <th>0</th>\n",
       "      <th>1</th>\n",
       "      <th>2</th>\n",
       "      <th>3</th>\n",
       "      <th>4</th>\n",
       "      <th>5</th>\n",
       "      <th>6</th>\n",
       "      <th>7</th>\n",
       "      <th>8</th>\n",
       "      <th>9</th>\n",
       "      <th>...</th>\n",
       "      <th>28</th>\n",
       "      <th>29</th>\n",
       "      <th>30</th>\n",
       "      <th>31</th>\n",
       "      <th>32</th>\n",
       "      <th>33</th>\n",
       "      <th>34</th>\n",
       "      <th>35</th>\n",
       "      <th>36</th>\n",
       "      <th>37</th>\n",
       "    </tr>\n",
       "  </thead>\n",
       "  <tbody>\n",
       "    <tr>\n",
       "      <th>0</th>\n",
       "      <td>1.0</td>\n",
       "      <td>1.000000</td>\n",
       "      <td>1.0</td>\n",
       "      <td>1.0</td>\n",
       "      <td>1.000000</td>\n",
       "      <td>1.0</td>\n",
       "      <td>1.0</td>\n",
       "      <td>1.0</td>\n",
       "      <td>1.0</td>\n",
       "      <td>1.000000</td>\n",
       "      <td>...</td>\n",
       "      <td>1.000000</td>\n",
       "      <td>1.000000</td>\n",
       "      <td>1.000000</td>\n",
       "      <td>1.000000</td>\n",
       "      <td>1.000000</td>\n",
       "      <td>1.000000</td>\n",
       "      <td>1.000000</td>\n",
       "      <td>1.000000</td>\n",
       "      <td>1.000000e+00</td>\n",
       "      <td>1.000000</td>\n",
       "    </tr>\n",
       "    <tr>\n",
       "      <th>1</th>\n",
       "      <td>1.0</td>\n",
       "      <td>1.000000</td>\n",
       "      <td>1.0</td>\n",
       "      <td>1.0</td>\n",
       "      <td>0.172898</td>\n",
       "      <td>1.0</td>\n",
       "      <td>1.0</td>\n",
       "      <td>1.0</td>\n",
       "      <td>1.0</td>\n",
       "      <td>0.757344</td>\n",
       "      <td>...</td>\n",
       "      <td>0.538297</td>\n",
       "      <td>0.105584</td>\n",
       "      <td>0.371606</td>\n",
       "      <td>0.373413</td>\n",
       "      <td>1.000000</td>\n",
       "      <td>1.000000</td>\n",
       "      <td>0.344977</td>\n",
       "      <td>0.725151</td>\n",
       "      <td>1.000000e+00</td>\n",
       "      <td>1.000000</td>\n",
       "    </tr>\n",
       "    <tr>\n",
       "      <th>2</th>\n",
       "      <td>1.0</td>\n",
       "      <td>1.000000</td>\n",
       "      <td>1.0</td>\n",
       "      <td>1.0</td>\n",
       "      <td>1.000000</td>\n",
       "      <td>1.0</td>\n",
       "      <td>1.0</td>\n",
       "      <td>1.0</td>\n",
       "      <td>1.0</td>\n",
       "      <td>1.000000</td>\n",
       "      <td>...</td>\n",
       "      <td>1.000000</td>\n",
       "      <td>1.000000</td>\n",
       "      <td>1.000000</td>\n",
       "      <td>1.000000</td>\n",
       "      <td>1.000000</td>\n",
       "      <td>1.000000</td>\n",
       "      <td>1.000000</td>\n",
       "      <td>1.000000</td>\n",
       "      <td>1.000000e+00</td>\n",
       "      <td>1.000000</td>\n",
       "    </tr>\n",
       "    <tr>\n",
       "      <th>3</th>\n",
       "      <td>1.0</td>\n",
       "      <td>1.000000</td>\n",
       "      <td>1.0</td>\n",
       "      <td>1.0</td>\n",
       "      <td>1.000000</td>\n",
       "      <td>1.0</td>\n",
       "      <td>1.0</td>\n",
       "      <td>1.0</td>\n",
       "      <td>1.0</td>\n",
       "      <td>1.000000</td>\n",
       "      <td>...</td>\n",
       "      <td>1.000000</td>\n",
       "      <td>1.000000</td>\n",
       "      <td>1.000000</td>\n",
       "      <td>1.000000</td>\n",
       "      <td>1.000000</td>\n",
       "      <td>1.000000</td>\n",
       "      <td>1.000000</td>\n",
       "      <td>1.000000</td>\n",
       "      <td>1.000000e+00</td>\n",
       "      <td>1.000000</td>\n",
       "    </tr>\n",
       "    <tr>\n",
       "      <th>4</th>\n",
       "      <td>1.0</td>\n",
       "      <td>0.172898</td>\n",
       "      <td>1.0</td>\n",
       "      <td>1.0</td>\n",
       "      <td>1.000000</td>\n",
       "      <td>1.0</td>\n",
       "      <td>1.0</td>\n",
       "      <td>1.0</td>\n",
       "      <td>1.0</td>\n",
       "      <td>1.000000</td>\n",
       "      <td>...</td>\n",
       "      <td>1.000000</td>\n",
       "      <td>1.000000</td>\n",
       "      <td>1.000000</td>\n",
       "      <td>1.000000</td>\n",
       "      <td>1.000000</td>\n",
       "      <td>1.000000</td>\n",
       "      <td>1.000000</td>\n",
       "      <td>1.000000</td>\n",
       "      <td>1.000000e+00</td>\n",
       "      <td>0.990802</td>\n",
       "    </tr>\n",
       "    <tr>\n",
       "      <th>5</th>\n",
       "      <td>1.0</td>\n",
       "      <td>1.000000</td>\n",
       "      <td>1.0</td>\n",
       "      <td>1.0</td>\n",
       "      <td>1.000000</td>\n",
       "      <td>1.0</td>\n",
       "      <td>1.0</td>\n",
       "      <td>1.0</td>\n",
       "      <td>1.0</td>\n",
       "      <td>1.000000</td>\n",
       "      <td>...</td>\n",
       "      <td>1.000000</td>\n",
       "      <td>1.000000</td>\n",
       "      <td>1.000000</td>\n",
       "      <td>1.000000</td>\n",
       "      <td>1.000000</td>\n",
       "      <td>1.000000</td>\n",
       "      <td>1.000000</td>\n",
       "      <td>1.000000</td>\n",
       "      <td>1.000000e+00</td>\n",
       "      <td>1.000000</td>\n",
       "    </tr>\n",
       "    <tr>\n",
       "      <th>6</th>\n",
       "      <td>1.0</td>\n",
       "      <td>1.000000</td>\n",
       "      <td>1.0</td>\n",
       "      <td>1.0</td>\n",
       "      <td>1.000000</td>\n",
       "      <td>1.0</td>\n",
       "      <td>1.0</td>\n",
       "      <td>1.0</td>\n",
       "      <td>1.0</td>\n",
       "      <td>1.000000</td>\n",
       "      <td>...</td>\n",
       "      <td>1.000000</td>\n",
       "      <td>1.000000</td>\n",
       "      <td>1.000000</td>\n",
       "      <td>1.000000</td>\n",
       "      <td>1.000000</td>\n",
       "      <td>1.000000</td>\n",
       "      <td>1.000000</td>\n",
       "      <td>1.000000</td>\n",
       "      <td>1.000000e+00</td>\n",
       "      <td>1.000000</td>\n",
       "    </tr>\n",
       "    <tr>\n",
       "      <th>7</th>\n",
       "      <td>1.0</td>\n",
       "      <td>1.000000</td>\n",
       "      <td>1.0</td>\n",
       "      <td>1.0</td>\n",
       "      <td>1.000000</td>\n",
       "      <td>1.0</td>\n",
       "      <td>1.0</td>\n",
       "      <td>1.0</td>\n",
       "      <td>1.0</td>\n",
       "      <td>1.000000</td>\n",
       "      <td>...</td>\n",
       "      <td>1.000000</td>\n",
       "      <td>1.000000</td>\n",
       "      <td>1.000000</td>\n",
       "      <td>1.000000</td>\n",
       "      <td>1.000000</td>\n",
       "      <td>1.000000</td>\n",
       "      <td>1.000000</td>\n",
       "      <td>1.000000</td>\n",
       "      <td>1.000000e+00</td>\n",
       "      <td>1.000000</td>\n",
       "    </tr>\n",
       "    <tr>\n",
       "      <th>8</th>\n",
       "      <td>1.0</td>\n",
       "      <td>1.000000</td>\n",
       "      <td>1.0</td>\n",
       "      <td>1.0</td>\n",
       "      <td>1.000000</td>\n",
       "      <td>1.0</td>\n",
       "      <td>1.0</td>\n",
       "      <td>1.0</td>\n",
       "      <td>1.0</td>\n",
       "      <td>1.000000</td>\n",
       "      <td>...</td>\n",
       "      <td>1.000000</td>\n",
       "      <td>1.000000</td>\n",
       "      <td>1.000000</td>\n",
       "      <td>1.000000</td>\n",
       "      <td>1.000000</td>\n",
       "      <td>1.000000</td>\n",
       "      <td>1.000000</td>\n",
       "      <td>1.000000</td>\n",
       "      <td>1.000000e+00</td>\n",
       "      <td>1.000000</td>\n",
       "    </tr>\n",
       "    <tr>\n",
       "      <th>9</th>\n",
       "      <td>1.0</td>\n",
       "      <td>0.757344</td>\n",
       "      <td>1.0</td>\n",
       "      <td>1.0</td>\n",
       "      <td>1.000000</td>\n",
       "      <td>1.0</td>\n",
       "      <td>1.0</td>\n",
       "      <td>1.0</td>\n",
       "      <td>1.0</td>\n",
       "      <td>1.000000</td>\n",
       "      <td>...</td>\n",
       "      <td>1.000000</td>\n",
       "      <td>1.000000</td>\n",
       "      <td>1.000000</td>\n",
       "      <td>1.000000</td>\n",
       "      <td>1.000000</td>\n",
       "      <td>1.000000</td>\n",
       "      <td>1.000000</td>\n",
       "      <td>1.000000</td>\n",
       "      <td>1.000000e+00</td>\n",
       "      <td>1.000000</td>\n",
       "    </tr>\n",
       "    <tr>\n",
       "      <th>10</th>\n",
       "      <td>1.0</td>\n",
       "      <td>0.524468</td>\n",
       "      <td>1.0</td>\n",
       "      <td>1.0</td>\n",
       "      <td>1.000000</td>\n",
       "      <td>1.0</td>\n",
       "      <td>1.0</td>\n",
       "      <td>1.0</td>\n",
       "      <td>1.0</td>\n",
       "      <td>1.000000</td>\n",
       "      <td>...</td>\n",
       "      <td>1.000000</td>\n",
       "      <td>1.000000</td>\n",
       "      <td>1.000000</td>\n",
       "      <td>1.000000</td>\n",
       "      <td>1.000000</td>\n",
       "      <td>1.000000</td>\n",
       "      <td>1.000000</td>\n",
       "      <td>1.000000</td>\n",
       "      <td>1.000000e+00</td>\n",
       "      <td>1.000000</td>\n",
       "    </tr>\n",
       "    <tr>\n",
       "      <th>11</th>\n",
       "      <td>1.0</td>\n",
       "      <td>0.966953</td>\n",
       "      <td>1.0</td>\n",
       "      <td>1.0</td>\n",
       "      <td>1.000000</td>\n",
       "      <td>1.0</td>\n",
       "      <td>1.0</td>\n",
       "      <td>1.0</td>\n",
       "      <td>1.0</td>\n",
       "      <td>1.000000</td>\n",
       "      <td>...</td>\n",
       "      <td>1.000000</td>\n",
       "      <td>1.000000</td>\n",
       "      <td>1.000000</td>\n",
       "      <td>1.000000</td>\n",
       "      <td>1.000000</td>\n",
       "      <td>1.000000</td>\n",
       "      <td>1.000000</td>\n",
       "      <td>1.000000</td>\n",
       "      <td>1.000000e+00</td>\n",
       "      <td>1.000000</td>\n",
       "    </tr>\n",
       "    <tr>\n",
       "      <th>12</th>\n",
       "      <td>1.0</td>\n",
       "      <td>0.050526</td>\n",
       "      <td>1.0</td>\n",
       "      <td>1.0</td>\n",
       "      <td>1.000000</td>\n",
       "      <td>1.0</td>\n",
       "      <td>1.0</td>\n",
       "      <td>1.0</td>\n",
       "      <td>1.0</td>\n",
       "      <td>1.000000</td>\n",
       "      <td>...</td>\n",
       "      <td>1.000000</td>\n",
       "      <td>1.000000</td>\n",
       "      <td>1.000000</td>\n",
       "      <td>1.000000</td>\n",
       "      <td>1.000000</td>\n",
       "      <td>1.000000</td>\n",
       "      <td>1.000000</td>\n",
       "      <td>1.000000</td>\n",
       "      <td>1.000000e+00</td>\n",
       "      <td>0.540695</td>\n",
       "    </tr>\n",
       "    <tr>\n",
       "      <th>13</th>\n",
       "      <td>1.0</td>\n",
       "      <td>0.000685</td>\n",
       "      <td>1.0</td>\n",
       "      <td>1.0</td>\n",
       "      <td>1.000000</td>\n",
       "      <td>1.0</td>\n",
       "      <td>1.0</td>\n",
       "      <td>1.0</td>\n",
       "      <td>1.0</td>\n",
       "      <td>1.000000</td>\n",
       "      <td>...</td>\n",
       "      <td>1.000000</td>\n",
       "      <td>1.000000</td>\n",
       "      <td>1.000000</td>\n",
       "      <td>1.000000</td>\n",
       "      <td>0.018575</td>\n",
       "      <td>0.061998</td>\n",
       "      <td>1.000000</td>\n",
       "      <td>0.468526</td>\n",
       "      <td>3.331708e-03</td>\n",
       "      <td>0.006772</td>\n",
       "    </tr>\n",
       "    <tr>\n",
       "      <th>14</th>\n",
       "      <td>1.0</td>\n",
       "      <td>0.852172</td>\n",
       "      <td>1.0</td>\n",
       "      <td>1.0</td>\n",
       "      <td>1.000000</td>\n",
       "      <td>1.0</td>\n",
       "      <td>1.0</td>\n",
       "      <td>1.0</td>\n",
       "      <td>1.0</td>\n",
       "      <td>1.000000</td>\n",
       "      <td>...</td>\n",
       "      <td>1.000000</td>\n",
       "      <td>1.000000</td>\n",
       "      <td>1.000000</td>\n",
       "      <td>1.000000</td>\n",
       "      <td>1.000000</td>\n",
       "      <td>1.000000</td>\n",
       "      <td>1.000000</td>\n",
       "      <td>1.000000</td>\n",
       "      <td>1.000000e+00</td>\n",
       "      <td>1.000000</td>\n",
       "    </tr>\n",
       "    <tr>\n",
       "      <th>15</th>\n",
       "      <td>1.0</td>\n",
       "      <td>1.000000</td>\n",
       "      <td>1.0</td>\n",
       "      <td>1.0</td>\n",
       "      <td>1.000000</td>\n",
       "      <td>1.0</td>\n",
       "      <td>1.0</td>\n",
       "      <td>1.0</td>\n",
       "      <td>1.0</td>\n",
       "      <td>1.000000</td>\n",
       "      <td>...</td>\n",
       "      <td>1.000000</td>\n",
       "      <td>1.000000</td>\n",
       "      <td>1.000000</td>\n",
       "      <td>1.000000</td>\n",
       "      <td>1.000000</td>\n",
       "      <td>1.000000</td>\n",
       "      <td>1.000000</td>\n",
       "      <td>1.000000</td>\n",
       "      <td>1.000000e+00</td>\n",
       "      <td>1.000000</td>\n",
       "    </tr>\n",
       "    <tr>\n",
       "      <th>16</th>\n",
       "      <td>1.0</td>\n",
       "      <td>1.000000</td>\n",
       "      <td>1.0</td>\n",
       "      <td>1.0</td>\n",
       "      <td>0.726330</td>\n",
       "      <td>1.0</td>\n",
       "      <td>1.0</td>\n",
       "      <td>1.0</td>\n",
       "      <td>1.0</td>\n",
       "      <td>1.000000</td>\n",
       "      <td>...</td>\n",
       "      <td>0.350189</td>\n",
       "      <td>0.014890</td>\n",
       "      <td>0.186434</td>\n",
       "      <td>0.189040</td>\n",
       "      <td>1.000000</td>\n",
       "      <td>1.000000</td>\n",
       "      <td>0.104476</td>\n",
       "      <td>0.409141</td>\n",
       "      <td>1.000000e+00</td>\n",
       "      <td>1.000000</td>\n",
       "    </tr>\n",
       "    <tr>\n",
       "      <th>17</th>\n",
       "      <td>1.0</td>\n",
       "      <td>1.000000</td>\n",
       "      <td>1.0</td>\n",
       "      <td>1.0</td>\n",
       "      <td>1.000000</td>\n",
       "      <td>1.0</td>\n",
       "      <td>1.0</td>\n",
       "      <td>1.0</td>\n",
       "      <td>1.0</td>\n",
       "      <td>1.000000</td>\n",
       "      <td>...</td>\n",
       "      <td>1.000000</td>\n",
       "      <td>1.000000</td>\n",
       "      <td>1.000000</td>\n",
       "      <td>1.000000</td>\n",
       "      <td>1.000000</td>\n",
       "      <td>1.000000</td>\n",
       "      <td>1.000000</td>\n",
       "      <td>1.000000</td>\n",
       "      <td>1.000000e+00</td>\n",
       "      <td>1.000000</td>\n",
       "    </tr>\n",
       "    <tr>\n",
       "      <th>18</th>\n",
       "      <td>1.0</td>\n",
       "      <td>1.000000</td>\n",
       "      <td>1.0</td>\n",
       "      <td>1.0</td>\n",
       "      <td>1.000000</td>\n",
       "      <td>1.0</td>\n",
       "      <td>1.0</td>\n",
       "      <td>1.0</td>\n",
       "      <td>1.0</td>\n",
       "      <td>1.000000</td>\n",
       "      <td>...</td>\n",
       "      <td>1.000000</td>\n",
       "      <td>1.000000</td>\n",
       "      <td>1.000000</td>\n",
       "      <td>1.000000</td>\n",
       "      <td>1.000000</td>\n",
       "      <td>1.000000</td>\n",
       "      <td>1.000000</td>\n",
       "      <td>1.000000</td>\n",
       "      <td>1.000000e+00</td>\n",
       "      <td>1.000000</td>\n",
       "    </tr>\n",
       "    <tr>\n",
       "      <th>19</th>\n",
       "      <td>1.0</td>\n",
       "      <td>1.000000</td>\n",
       "      <td>1.0</td>\n",
       "      <td>1.0</td>\n",
       "      <td>1.000000</td>\n",
       "      <td>1.0</td>\n",
       "      <td>1.0</td>\n",
       "      <td>1.0</td>\n",
       "      <td>1.0</td>\n",
       "      <td>1.000000</td>\n",
       "      <td>...</td>\n",
       "      <td>1.000000</td>\n",
       "      <td>1.000000</td>\n",
       "      <td>1.000000</td>\n",
       "      <td>1.000000</td>\n",
       "      <td>1.000000</td>\n",
       "      <td>1.000000</td>\n",
       "      <td>1.000000</td>\n",
       "      <td>1.000000</td>\n",
       "      <td>1.000000e+00</td>\n",
       "      <td>1.000000</td>\n",
       "    </tr>\n",
       "    <tr>\n",
       "      <th>20</th>\n",
       "      <td>1.0</td>\n",
       "      <td>0.236120</td>\n",
       "      <td>1.0</td>\n",
       "      <td>1.0</td>\n",
       "      <td>1.000000</td>\n",
       "      <td>1.0</td>\n",
       "      <td>1.0</td>\n",
       "      <td>1.0</td>\n",
       "      <td>1.0</td>\n",
       "      <td>1.000000</td>\n",
       "      <td>...</td>\n",
       "      <td>1.000000</td>\n",
       "      <td>1.000000</td>\n",
       "      <td>1.000000</td>\n",
       "      <td>1.000000</td>\n",
       "      <td>1.000000</td>\n",
       "      <td>1.000000</td>\n",
       "      <td>1.000000</td>\n",
       "      <td>1.000000</td>\n",
       "      <td>1.000000e+00</td>\n",
       "      <td>1.000000</td>\n",
       "    </tr>\n",
       "    <tr>\n",
       "      <th>21</th>\n",
       "      <td>1.0</td>\n",
       "      <td>0.042262</td>\n",
       "      <td>1.0</td>\n",
       "      <td>1.0</td>\n",
       "      <td>1.000000</td>\n",
       "      <td>1.0</td>\n",
       "      <td>1.0</td>\n",
       "      <td>1.0</td>\n",
       "      <td>1.0</td>\n",
       "      <td>1.000000</td>\n",
       "      <td>...</td>\n",
       "      <td>1.000000</td>\n",
       "      <td>1.000000</td>\n",
       "      <td>1.000000</td>\n",
       "      <td>1.000000</td>\n",
       "      <td>0.985524</td>\n",
       "      <td>1.000000</td>\n",
       "      <td>1.000000</td>\n",
       "      <td>1.000000</td>\n",
       "      <td>8.017659e-02</td>\n",
       "      <td>0.448088</td>\n",
       "    </tr>\n",
       "    <tr>\n",
       "      <th>22</th>\n",
       "      <td>1.0</td>\n",
       "      <td>0.008149</td>\n",
       "      <td>1.0</td>\n",
       "      <td>1.0</td>\n",
       "      <td>1.000000</td>\n",
       "      <td>1.0</td>\n",
       "      <td>1.0</td>\n",
       "      <td>1.0</td>\n",
       "      <td>1.0</td>\n",
       "      <td>1.000000</td>\n",
       "      <td>...</td>\n",
       "      <td>1.000000</td>\n",
       "      <td>1.000000</td>\n",
       "      <td>1.000000</td>\n",
       "      <td>1.000000</td>\n",
       "      <td>0.021206</td>\n",
       "      <td>0.169298</td>\n",
       "      <td>1.000000</td>\n",
       "      <td>1.000000</td>\n",
       "      <td>2.198350e-04</td>\n",
       "      <td>0.067786</td>\n",
       "    </tr>\n",
       "    <tr>\n",
       "      <th>23</th>\n",
       "      <td>1.0</td>\n",
       "      <td>1.000000</td>\n",
       "      <td>1.0</td>\n",
       "      <td>1.0</td>\n",
       "      <td>1.000000</td>\n",
       "      <td>1.0</td>\n",
       "      <td>1.0</td>\n",
       "      <td>1.0</td>\n",
       "      <td>1.0</td>\n",
       "      <td>1.000000</td>\n",
       "      <td>...</td>\n",
       "      <td>1.000000</td>\n",
       "      <td>1.000000</td>\n",
       "      <td>1.000000</td>\n",
       "      <td>1.000000</td>\n",
       "      <td>1.000000</td>\n",
       "      <td>1.000000</td>\n",
       "      <td>1.000000</td>\n",
       "      <td>1.000000</td>\n",
       "      <td>1.000000e+00</td>\n",
       "      <td>1.000000</td>\n",
       "    </tr>\n",
       "    <tr>\n",
       "      <th>24</th>\n",
       "      <td>1.0</td>\n",
       "      <td>0.002652</td>\n",
       "      <td>1.0</td>\n",
       "      <td>1.0</td>\n",
       "      <td>1.000000</td>\n",
       "      <td>1.0</td>\n",
       "      <td>1.0</td>\n",
       "      <td>1.0</td>\n",
       "      <td>1.0</td>\n",
       "      <td>1.000000</td>\n",
       "      <td>...</td>\n",
       "      <td>1.000000</td>\n",
       "      <td>1.000000</td>\n",
       "      <td>1.000000</td>\n",
       "      <td>1.000000</td>\n",
       "      <td>0.003310</td>\n",
       "      <td>0.029095</td>\n",
       "      <td>1.000000</td>\n",
       "      <td>0.684750</td>\n",
       "      <td>2.772925e-05</td>\n",
       "      <td>0.019341</td>\n",
       "    </tr>\n",
       "    <tr>\n",
       "      <th>25</th>\n",
       "      <td>1.0</td>\n",
       "      <td>0.000251</td>\n",
       "      <td>1.0</td>\n",
       "      <td>1.0</td>\n",
       "      <td>1.000000</td>\n",
       "      <td>1.0</td>\n",
       "      <td>1.0</td>\n",
       "      <td>1.0</td>\n",
       "      <td>1.0</td>\n",
       "      <td>1.000000</td>\n",
       "      <td>...</td>\n",
       "      <td>0.140622</td>\n",
       "      <td>1.000000</td>\n",
       "      <td>0.378448</td>\n",
       "      <td>0.383019</td>\n",
       "      <td>0.000009</td>\n",
       "      <td>0.000143</td>\n",
       "      <td>0.061877</td>\n",
       "      <td>0.005590</td>\n",
       "      <td>7.192691e-09</td>\n",
       "      <td>0.001151</td>\n",
       "    </tr>\n",
       "    <tr>\n",
       "      <th>26</th>\n",
       "      <td>1.0</td>\n",
       "      <td>0.059168</td>\n",
       "      <td>1.0</td>\n",
       "      <td>1.0</td>\n",
       "      <td>1.000000</td>\n",
       "      <td>1.0</td>\n",
       "      <td>1.0</td>\n",
       "      <td>1.0</td>\n",
       "      <td>1.0</td>\n",
       "      <td>1.000000</td>\n",
       "      <td>...</td>\n",
       "      <td>1.000000</td>\n",
       "      <td>1.000000</td>\n",
       "      <td>1.000000</td>\n",
       "      <td>1.000000</td>\n",
       "      <td>0.774947</td>\n",
       "      <td>1.000000</td>\n",
       "      <td>1.000000</td>\n",
       "      <td>1.000000</td>\n",
       "      <td>2.172810e-02</td>\n",
       "      <td>0.612865</td>\n",
       "    </tr>\n",
       "    <tr>\n",
       "      <th>27</th>\n",
       "      <td>1.0</td>\n",
       "      <td>0.414534</td>\n",
       "      <td>1.0</td>\n",
       "      <td>1.0</td>\n",
       "      <td>1.000000</td>\n",
       "      <td>1.0</td>\n",
       "      <td>1.0</td>\n",
       "      <td>1.0</td>\n",
       "      <td>1.0</td>\n",
       "      <td>1.000000</td>\n",
       "      <td>...</td>\n",
       "      <td>1.000000</td>\n",
       "      <td>1.000000</td>\n",
       "      <td>1.000000</td>\n",
       "      <td>1.000000</td>\n",
       "      <td>1.000000</td>\n",
       "      <td>1.000000</td>\n",
       "      <td>1.000000</td>\n",
       "      <td>1.000000</td>\n",
       "      <td>1.000000e+00</td>\n",
       "      <td>1.000000</td>\n",
       "    </tr>\n",
       "    <tr>\n",
       "      <th>28</th>\n",
       "      <td>1.0</td>\n",
       "      <td>0.538297</td>\n",
       "      <td>1.0</td>\n",
       "      <td>1.0</td>\n",
       "      <td>1.000000</td>\n",
       "      <td>1.0</td>\n",
       "      <td>1.0</td>\n",
       "      <td>1.0</td>\n",
       "      <td>1.0</td>\n",
       "      <td>1.000000</td>\n",
       "      <td>...</td>\n",
       "      <td>1.000000</td>\n",
       "      <td>1.000000</td>\n",
       "      <td>1.000000</td>\n",
       "      <td>1.000000</td>\n",
       "      <td>1.000000</td>\n",
       "      <td>1.000000</td>\n",
       "      <td>1.000000</td>\n",
       "      <td>1.000000</td>\n",
       "      <td>1.000000e+00</td>\n",
       "      <td>1.000000</td>\n",
       "    </tr>\n",
       "    <tr>\n",
       "      <th>29</th>\n",
       "      <td>1.0</td>\n",
       "      <td>0.105584</td>\n",
       "      <td>1.0</td>\n",
       "      <td>1.0</td>\n",
       "      <td>1.000000</td>\n",
       "      <td>1.0</td>\n",
       "      <td>1.0</td>\n",
       "      <td>1.0</td>\n",
       "      <td>1.0</td>\n",
       "      <td>1.000000</td>\n",
       "      <td>...</td>\n",
       "      <td>1.000000</td>\n",
       "      <td>1.000000</td>\n",
       "      <td>1.000000</td>\n",
       "      <td>1.000000</td>\n",
       "      <td>1.000000</td>\n",
       "      <td>1.000000</td>\n",
       "      <td>1.000000</td>\n",
       "      <td>1.000000</td>\n",
       "      <td>6.890007e-02</td>\n",
       "      <td>1.000000</td>\n",
       "    </tr>\n",
       "    <tr>\n",
       "      <th>30</th>\n",
       "      <td>1.0</td>\n",
       "      <td>0.371606</td>\n",
       "      <td>1.0</td>\n",
       "      <td>1.0</td>\n",
       "      <td>1.000000</td>\n",
       "      <td>1.0</td>\n",
       "      <td>1.0</td>\n",
       "      <td>1.0</td>\n",
       "      <td>1.0</td>\n",
       "      <td>1.000000</td>\n",
       "      <td>...</td>\n",
       "      <td>1.000000</td>\n",
       "      <td>1.000000</td>\n",
       "      <td>1.000000</td>\n",
       "      <td>1.000000</td>\n",
       "      <td>1.000000</td>\n",
       "      <td>1.000000</td>\n",
       "      <td>1.000000</td>\n",
       "      <td>1.000000</td>\n",
       "      <td>1.000000e+00</td>\n",
       "      <td>1.000000</td>\n",
       "    </tr>\n",
       "    <tr>\n",
       "      <th>31</th>\n",
       "      <td>1.0</td>\n",
       "      <td>0.373413</td>\n",
       "      <td>1.0</td>\n",
       "      <td>1.0</td>\n",
       "      <td>1.000000</td>\n",
       "      <td>1.0</td>\n",
       "      <td>1.0</td>\n",
       "      <td>1.0</td>\n",
       "      <td>1.0</td>\n",
       "      <td>1.000000</td>\n",
       "      <td>...</td>\n",
       "      <td>1.000000</td>\n",
       "      <td>1.000000</td>\n",
       "      <td>1.000000</td>\n",
       "      <td>1.000000</td>\n",
       "      <td>1.000000</td>\n",
       "      <td>1.000000</td>\n",
       "      <td>1.000000</td>\n",
       "      <td>1.000000</td>\n",
       "      <td>1.000000e+00</td>\n",
       "      <td>1.000000</td>\n",
       "    </tr>\n",
       "    <tr>\n",
       "      <th>32</th>\n",
       "      <td>1.0</td>\n",
       "      <td>1.000000</td>\n",
       "      <td>1.0</td>\n",
       "      <td>1.0</td>\n",
       "      <td>1.000000</td>\n",
       "      <td>1.0</td>\n",
       "      <td>1.0</td>\n",
       "      <td>1.0</td>\n",
       "      <td>1.0</td>\n",
       "      <td>1.000000</td>\n",
       "      <td>...</td>\n",
       "      <td>1.000000</td>\n",
       "      <td>1.000000</td>\n",
       "      <td>1.000000</td>\n",
       "      <td>1.000000</td>\n",
       "      <td>1.000000</td>\n",
       "      <td>1.000000</td>\n",
       "      <td>1.000000</td>\n",
       "      <td>1.000000</td>\n",
       "      <td>1.000000e+00</td>\n",
       "      <td>1.000000</td>\n",
       "    </tr>\n",
       "    <tr>\n",
       "      <th>33</th>\n",
       "      <td>1.0</td>\n",
       "      <td>1.000000</td>\n",
       "      <td>1.0</td>\n",
       "      <td>1.0</td>\n",
       "      <td>1.000000</td>\n",
       "      <td>1.0</td>\n",
       "      <td>1.0</td>\n",
       "      <td>1.0</td>\n",
       "      <td>1.0</td>\n",
       "      <td>1.000000</td>\n",
       "      <td>...</td>\n",
       "      <td>1.000000</td>\n",
       "      <td>1.000000</td>\n",
       "      <td>1.000000</td>\n",
       "      <td>1.000000</td>\n",
       "      <td>1.000000</td>\n",
       "      <td>1.000000</td>\n",
       "      <td>1.000000</td>\n",
       "      <td>1.000000</td>\n",
       "      <td>1.000000e+00</td>\n",
       "      <td>1.000000</td>\n",
       "    </tr>\n",
       "    <tr>\n",
       "      <th>34</th>\n",
       "      <td>1.0</td>\n",
       "      <td>0.344977</td>\n",
       "      <td>1.0</td>\n",
       "      <td>1.0</td>\n",
       "      <td>1.000000</td>\n",
       "      <td>1.0</td>\n",
       "      <td>1.0</td>\n",
       "      <td>1.0</td>\n",
       "      <td>1.0</td>\n",
       "      <td>1.000000</td>\n",
       "      <td>...</td>\n",
       "      <td>1.000000</td>\n",
       "      <td>1.000000</td>\n",
       "      <td>1.000000</td>\n",
       "      <td>1.000000</td>\n",
       "      <td>1.000000</td>\n",
       "      <td>1.000000</td>\n",
       "      <td>1.000000</td>\n",
       "      <td>1.000000</td>\n",
       "      <td>6.815600e-01</td>\n",
       "      <td>1.000000</td>\n",
       "    </tr>\n",
       "    <tr>\n",
       "      <th>35</th>\n",
       "      <td>1.0</td>\n",
       "      <td>0.725151</td>\n",
       "      <td>1.0</td>\n",
       "      <td>1.0</td>\n",
       "      <td>1.000000</td>\n",
       "      <td>1.0</td>\n",
       "      <td>1.0</td>\n",
       "      <td>1.0</td>\n",
       "      <td>1.0</td>\n",
       "      <td>1.000000</td>\n",
       "      <td>...</td>\n",
       "      <td>1.000000</td>\n",
       "      <td>1.000000</td>\n",
       "      <td>1.000000</td>\n",
       "      <td>1.000000</td>\n",
       "      <td>1.000000</td>\n",
       "      <td>1.000000</td>\n",
       "      <td>1.000000</td>\n",
       "      <td>1.000000</td>\n",
       "      <td>1.000000e+00</td>\n",
       "      <td>1.000000</td>\n",
       "    </tr>\n",
       "    <tr>\n",
       "      <th>36</th>\n",
       "      <td>1.0</td>\n",
       "      <td>1.000000</td>\n",
       "      <td>1.0</td>\n",
       "      <td>1.0</td>\n",
       "      <td>1.000000</td>\n",
       "      <td>1.0</td>\n",
       "      <td>1.0</td>\n",
       "      <td>1.0</td>\n",
       "      <td>1.0</td>\n",
       "      <td>1.000000</td>\n",
       "      <td>...</td>\n",
       "      <td>1.000000</td>\n",
       "      <td>0.068900</td>\n",
       "      <td>1.000000</td>\n",
       "      <td>1.000000</td>\n",
       "      <td>1.000000</td>\n",
       "      <td>1.000000</td>\n",
       "      <td>0.681560</td>\n",
       "      <td>1.000000</td>\n",
       "      <td>1.000000e+00</td>\n",
       "      <td>1.000000</td>\n",
       "    </tr>\n",
       "    <tr>\n",
       "      <th>37</th>\n",
       "      <td>1.0</td>\n",
       "      <td>1.000000</td>\n",
       "      <td>1.0</td>\n",
       "      <td>1.0</td>\n",
       "      <td>0.990802</td>\n",
       "      <td>1.0</td>\n",
       "      <td>1.0</td>\n",
       "      <td>1.0</td>\n",
       "      <td>1.0</td>\n",
       "      <td>1.000000</td>\n",
       "      <td>...</td>\n",
       "      <td>1.000000</td>\n",
       "      <td>1.000000</td>\n",
       "      <td>1.000000</td>\n",
       "      <td>1.000000</td>\n",
       "      <td>1.000000</td>\n",
       "      <td>1.000000</td>\n",
       "      <td>1.000000</td>\n",
       "      <td>1.000000</td>\n",
       "      <td>1.000000e+00</td>\n",
       "      <td>1.000000</td>\n",
       "    </tr>\n",
       "  </tbody>\n",
       "</table>\n",
       "<p>38 rows × 38 columns</p>\n",
       "</div>"
      ],
      "text/plain": [
       "     0         1    2    3         4    5    6    7    8         9   ...  \\\n",
       "0   1.0  1.000000  1.0  1.0  1.000000  1.0  1.0  1.0  1.0  1.000000  ...   \n",
       "1   1.0  1.000000  1.0  1.0  0.172898  1.0  1.0  1.0  1.0  0.757344  ...   \n",
       "2   1.0  1.000000  1.0  1.0  1.000000  1.0  1.0  1.0  1.0  1.000000  ...   \n",
       "3   1.0  1.000000  1.0  1.0  1.000000  1.0  1.0  1.0  1.0  1.000000  ...   \n",
       "4   1.0  0.172898  1.0  1.0  1.000000  1.0  1.0  1.0  1.0  1.000000  ...   \n",
       "5   1.0  1.000000  1.0  1.0  1.000000  1.0  1.0  1.0  1.0  1.000000  ...   \n",
       "6   1.0  1.000000  1.0  1.0  1.000000  1.0  1.0  1.0  1.0  1.000000  ...   \n",
       "7   1.0  1.000000  1.0  1.0  1.000000  1.0  1.0  1.0  1.0  1.000000  ...   \n",
       "8   1.0  1.000000  1.0  1.0  1.000000  1.0  1.0  1.0  1.0  1.000000  ...   \n",
       "9   1.0  0.757344  1.0  1.0  1.000000  1.0  1.0  1.0  1.0  1.000000  ...   \n",
       "10  1.0  0.524468  1.0  1.0  1.000000  1.0  1.0  1.0  1.0  1.000000  ...   \n",
       "11  1.0  0.966953  1.0  1.0  1.000000  1.0  1.0  1.0  1.0  1.000000  ...   \n",
       "12  1.0  0.050526  1.0  1.0  1.000000  1.0  1.0  1.0  1.0  1.000000  ...   \n",
       "13  1.0  0.000685  1.0  1.0  1.000000  1.0  1.0  1.0  1.0  1.000000  ...   \n",
       "14  1.0  0.852172  1.0  1.0  1.000000  1.0  1.0  1.0  1.0  1.000000  ...   \n",
       "15  1.0  1.000000  1.0  1.0  1.000000  1.0  1.0  1.0  1.0  1.000000  ...   \n",
       "16  1.0  1.000000  1.0  1.0  0.726330  1.0  1.0  1.0  1.0  1.000000  ...   \n",
       "17  1.0  1.000000  1.0  1.0  1.000000  1.0  1.0  1.0  1.0  1.000000  ...   \n",
       "18  1.0  1.000000  1.0  1.0  1.000000  1.0  1.0  1.0  1.0  1.000000  ...   \n",
       "19  1.0  1.000000  1.0  1.0  1.000000  1.0  1.0  1.0  1.0  1.000000  ...   \n",
       "20  1.0  0.236120  1.0  1.0  1.000000  1.0  1.0  1.0  1.0  1.000000  ...   \n",
       "21  1.0  0.042262  1.0  1.0  1.000000  1.0  1.0  1.0  1.0  1.000000  ...   \n",
       "22  1.0  0.008149  1.0  1.0  1.000000  1.0  1.0  1.0  1.0  1.000000  ...   \n",
       "23  1.0  1.000000  1.0  1.0  1.000000  1.0  1.0  1.0  1.0  1.000000  ...   \n",
       "24  1.0  0.002652  1.0  1.0  1.000000  1.0  1.0  1.0  1.0  1.000000  ...   \n",
       "25  1.0  0.000251  1.0  1.0  1.000000  1.0  1.0  1.0  1.0  1.000000  ...   \n",
       "26  1.0  0.059168  1.0  1.0  1.000000  1.0  1.0  1.0  1.0  1.000000  ...   \n",
       "27  1.0  0.414534  1.0  1.0  1.000000  1.0  1.0  1.0  1.0  1.000000  ...   \n",
       "28  1.0  0.538297  1.0  1.0  1.000000  1.0  1.0  1.0  1.0  1.000000  ...   \n",
       "29  1.0  0.105584  1.0  1.0  1.000000  1.0  1.0  1.0  1.0  1.000000  ...   \n",
       "30  1.0  0.371606  1.0  1.0  1.000000  1.0  1.0  1.0  1.0  1.000000  ...   \n",
       "31  1.0  0.373413  1.0  1.0  1.000000  1.0  1.0  1.0  1.0  1.000000  ...   \n",
       "32  1.0  1.000000  1.0  1.0  1.000000  1.0  1.0  1.0  1.0  1.000000  ...   \n",
       "33  1.0  1.000000  1.0  1.0  1.000000  1.0  1.0  1.0  1.0  1.000000  ...   \n",
       "34  1.0  0.344977  1.0  1.0  1.000000  1.0  1.0  1.0  1.0  1.000000  ...   \n",
       "35  1.0  0.725151  1.0  1.0  1.000000  1.0  1.0  1.0  1.0  1.000000  ...   \n",
       "36  1.0  1.000000  1.0  1.0  1.000000  1.0  1.0  1.0  1.0  1.000000  ...   \n",
       "37  1.0  1.000000  1.0  1.0  0.990802  1.0  1.0  1.0  1.0  1.000000  ...   \n",
       "\n",
       "          28        29        30        31        32        33        34  \\\n",
       "0   1.000000  1.000000  1.000000  1.000000  1.000000  1.000000  1.000000   \n",
       "1   0.538297  0.105584  0.371606  0.373413  1.000000  1.000000  0.344977   \n",
       "2   1.000000  1.000000  1.000000  1.000000  1.000000  1.000000  1.000000   \n",
       "3   1.000000  1.000000  1.000000  1.000000  1.000000  1.000000  1.000000   \n",
       "4   1.000000  1.000000  1.000000  1.000000  1.000000  1.000000  1.000000   \n",
       "5   1.000000  1.000000  1.000000  1.000000  1.000000  1.000000  1.000000   \n",
       "6   1.000000  1.000000  1.000000  1.000000  1.000000  1.000000  1.000000   \n",
       "7   1.000000  1.000000  1.000000  1.000000  1.000000  1.000000  1.000000   \n",
       "8   1.000000  1.000000  1.000000  1.000000  1.000000  1.000000  1.000000   \n",
       "9   1.000000  1.000000  1.000000  1.000000  1.000000  1.000000  1.000000   \n",
       "10  1.000000  1.000000  1.000000  1.000000  1.000000  1.000000  1.000000   \n",
       "11  1.000000  1.000000  1.000000  1.000000  1.000000  1.000000  1.000000   \n",
       "12  1.000000  1.000000  1.000000  1.000000  1.000000  1.000000  1.000000   \n",
       "13  1.000000  1.000000  1.000000  1.000000  0.018575  0.061998  1.000000   \n",
       "14  1.000000  1.000000  1.000000  1.000000  1.000000  1.000000  1.000000   \n",
       "15  1.000000  1.000000  1.000000  1.000000  1.000000  1.000000  1.000000   \n",
       "16  0.350189  0.014890  0.186434  0.189040  1.000000  1.000000  0.104476   \n",
       "17  1.000000  1.000000  1.000000  1.000000  1.000000  1.000000  1.000000   \n",
       "18  1.000000  1.000000  1.000000  1.000000  1.000000  1.000000  1.000000   \n",
       "19  1.000000  1.000000  1.000000  1.000000  1.000000  1.000000  1.000000   \n",
       "20  1.000000  1.000000  1.000000  1.000000  1.000000  1.000000  1.000000   \n",
       "21  1.000000  1.000000  1.000000  1.000000  0.985524  1.000000  1.000000   \n",
       "22  1.000000  1.000000  1.000000  1.000000  0.021206  0.169298  1.000000   \n",
       "23  1.000000  1.000000  1.000000  1.000000  1.000000  1.000000  1.000000   \n",
       "24  1.000000  1.000000  1.000000  1.000000  0.003310  0.029095  1.000000   \n",
       "25  0.140622  1.000000  0.378448  0.383019  0.000009  0.000143  0.061877   \n",
       "26  1.000000  1.000000  1.000000  1.000000  0.774947  1.000000  1.000000   \n",
       "27  1.000000  1.000000  1.000000  1.000000  1.000000  1.000000  1.000000   \n",
       "28  1.000000  1.000000  1.000000  1.000000  1.000000  1.000000  1.000000   \n",
       "29  1.000000  1.000000  1.000000  1.000000  1.000000  1.000000  1.000000   \n",
       "30  1.000000  1.000000  1.000000  1.000000  1.000000  1.000000  1.000000   \n",
       "31  1.000000  1.000000  1.000000  1.000000  1.000000  1.000000  1.000000   \n",
       "32  1.000000  1.000000  1.000000  1.000000  1.000000  1.000000  1.000000   \n",
       "33  1.000000  1.000000  1.000000  1.000000  1.000000  1.000000  1.000000   \n",
       "34  1.000000  1.000000  1.000000  1.000000  1.000000  1.000000  1.000000   \n",
       "35  1.000000  1.000000  1.000000  1.000000  1.000000  1.000000  1.000000   \n",
       "36  1.000000  0.068900  1.000000  1.000000  1.000000  1.000000  0.681560   \n",
       "37  1.000000  1.000000  1.000000  1.000000  1.000000  1.000000  1.000000   \n",
       "\n",
       "          35            36        37  \n",
       "0   1.000000  1.000000e+00  1.000000  \n",
       "1   0.725151  1.000000e+00  1.000000  \n",
       "2   1.000000  1.000000e+00  1.000000  \n",
       "3   1.000000  1.000000e+00  1.000000  \n",
       "4   1.000000  1.000000e+00  0.990802  \n",
       "5   1.000000  1.000000e+00  1.000000  \n",
       "6   1.000000  1.000000e+00  1.000000  \n",
       "7   1.000000  1.000000e+00  1.000000  \n",
       "8   1.000000  1.000000e+00  1.000000  \n",
       "9   1.000000  1.000000e+00  1.000000  \n",
       "10  1.000000  1.000000e+00  1.000000  \n",
       "11  1.000000  1.000000e+00  1.000000  \n",
       "12  1.000000  1.000000e+00  0.540695  \n",
       "13  0.468526  3.331708e-03  0.006772  \n",
       "14  1.000000  1.000000e+00  1.000000  \n",
       "15  1.000000  1.000000e+00  1.000000  \n",
       "16  0.409141  1.000000e+00  1.000000  \n",
       "17  1.000000  1.000000e+00  1.000000  \n",
       "18  1.000000  1.000000e+00  1.000000  \n",
       "19  1.000000  1.000000e+00  1.000000  \n",
       "20  1.000000  1.000000e+00  1.000000  \n",
       "21  1.000000  8.017659e-02  0.448088  \n",
       "22  1.000000  2.198350e-04  0.067786  \n",
       "23  1.000000  1.000000e+00  1.000000  \n",
       "24  0.684750  2.772925e-05  0.019341  \n",
       "25  0.005590  7.192691e-09  0.001151  \n",
       "26  1.000000  2.172810e-02  0.612865  \n",
       "27  1.000000  1.000000e+00  1.000000  \n",
       "28  1.000000  1.000000e+00  1.000000  \n",
       "29  1.000000  6.890007e-02  1.000000  \n",
       "30  1.000000  1.000000e+00  1.000000  \n",
       "31  1.000000  1.000000e+00  1.000000  \n",
       "32  1.000000  1.000000e+00  1.000000  \n",
       "33  1.000000  1.000000e+00  1.000000  \n",
       "34  1.000000  6.815600e-01  1.000000  \n",
       "35  1.000000  1.000000e+00  1.000000  \n",
       "36  1.000000  1.000000e+00  1.000000  \n",
       "37  1.000000  1.000000e+00  1.000000  \n",
       "\n",
       "[38 rows x 38 columns]"
      ]
     },
     "execution_count": 88,
     "metadata": {},
     "output_type": "execute_result"
    }
   ],
   "source": [
    "scikit_posthocs.posthoc_dunn(new_df, val_col='status_dummy', group_col='year_month_funded', p_adjust='bonferroni')"
   ]
  },
  {
   "cell_type": "code",
   "execution_count": 89,
   "metadata": {},
   "outputs": [
    {
     "data": {
      "text/plain": [
       "<matplotlib.axes._subplots.AxesSubplot at 0x20a8e0edac8>"
      ]
     },
     "execution_count": 89,
     "metadata": {},
     "output_type": "execute_result"
    },
    {
     "data": {
      "image/png": "[encoded data removed]",
      "text/plain": [
       "<Figure size 432x288 with 1 Axes>"
      ]
     },
     "metadata": {
      "needs_background": "light"
     },
     "output_type": "display_data"
    }
   ],
   "source": [
    "month_posted = new_df['status_dummy'].groupby(new_df['month_posted']).mean()\n",
    "month_posted.plot.bar()"
   ]
  },
  {
   "cell_type": "code",
   "execution_count": 90,
   "metadata": {},
   "outputs": [
    {
     "data": {
      "text/plain": [
       "<matplotlib.axes._subplots.AxesSubplot at 0x20a8e100f88>"
      ]
     },
     "execution_count": 90,
     "metadata": {},
     "output_type": "execute_result"
    },
    {
     "data": {
      "image/png": "[encoded data removed]",
      "text/plain": [
       "<Figure size 432x288 with 1 Axes>"
      ]
     },
     "metadata": {
      "needs_background": "light"
     },
     "output_type": "display_data"
    }
   ],
   "source": [
    "month_funded = new_df['status_dummy'].groupby(new_df['month_funded']).mean()\n",
    "month_funded.plot.bar()"
   ]
  },
  {
   "cell_type": "code",
   "execution_count": 91,
   "metadata": {},
   "outputs": [
    {
     "data": {
      "text/plain": [
       "<matplotlib.axes._subplots.AxesSubplot at 0x20a8e080f08>"
      ]
     },
     "execution_count": 91,
     "metadata": {},
     "output_type": "execute_result"
    },
    {
     "data": {
      "image/png": "[encoded data removed]",
      "text/plain": [
       "<Figure size 432x288 with 1 Axes>"
      ]
     },
     "metadata": {
      "needs_background": "light"
     },
     "output_type": "display_data"
    }
   ],
   "source": [
    "year_posted = new_df['status_dummy'].groupby(new_df['year_posted']).mean()\n",
    "year_posted.plot.bar()"
   ]
  },
  {
   "cell_type": "code",
   "execution_count": 92,
   "metadata": {},
   "outputs": [
    {
     "data": {
      "text/plain": [
       "<matplotlib.axes._subplots.AxesSubplot at 0x20a8e037c48>"
      ]
     },
     "execution_count": 92,
     "metadata": {},
     "output_type": "execute_result"
    },
    {
     "data": {
      "image/png": "[encoded data removed]",
      "text/plain": [
       "<Figure size 432x288 with 1 Axes>"
      ]
     },
     "metadata": {
      "needs_background": "light"
     },
     "output_type": "display_data"
    }
   ],
   "source": [
    "year_funded = new_df['status_dummy'].groupby(new_df['year_funded']).mean()\n",
    "year_funded.plot.bar()"
   ]
  },
  {
   "cell_type": "code",
   "execution_count": 93,
   "metadata": {},
   "outputs": [
    {
     "data": {
      "text/plain": [
       "<matplotlib.axes._subplots.AxesSubplot at 0x20a8dff1348>"
      ]
     },
     "execution_count": 93,
     "metadata": {},
     "output_type": "execute_result"
    },
    {
     "data": {
      "image/png": "[encoded data removed]",
      "text/plain": [
       "<Figure size 432x288 with 1 Axes>"
      ]
     },
     "metadata": {
      "needs_background": "light"
     },
     "output_type": "display_data"
    }
   ],
   "source": [
    "year_month_posted = new_df['status_dummy'].groupby(new_df['year_month_posted']).mean()\n",
    "year_month_posted.plot.bar()"
   ]
  },
  {
   "cell_type": "code",
   "execution_count": 94,
   "metadata": {},
   "outputs": [
    {
     "data": {
      "text/plain": [
       "<matplotlib.axes._subplots.AxesSubplot at 0x20a8cbf8308>"
      ]
     },
     "execution_count": 94,
     "metadata": {},
     "output_type": "execute_result"
    },
    {
     "data": {
      "image/png": "[encoded data removed]",
      "text/plain": [
       "<Figure size 432x288 with 1 Axes>"
      ]
     },
     "metadata": {
      "needs_background": "light"
     },
     "output_type": "display_data"
    }
   ],
   "source": [
    "year_month_funded = new_df['status_dummy'].groupby(new_df['year_month_funded']).mean()\n",
    "year_month_funded.plot.bar()"
   ]
  },
  {
   "cell_type": "code",
   "execution_count": 95,
   "metadata": {},
   "outputs": [
    {
     "data": {
      "text/plain": [
       "<matplotlib.axes._subplots.AxesSubplot at 0x20a8c868388>"
      ]
     },
     "execution_count": 95,
     "metadata": {},
     "output_type": "execute_result"
    },
    {
     "data": {
      "image/png": "[encoded data removed]",
      "text/plain": [
       "<Figure size 432x288 with 1 Axes>"
      ]
     },
     "metadata": {
      "needs_background": "light"
     },
     "output_type": "display_data"
    }
   ],
   "source": [
    "weekDayPosted = new_df['status_dummy'].groupby(new_df['dayOfWeek_posted']).mean()\n",
    "weekDayPosted.plot.bar()"
   ]
  },
  {
   "cell_type": "code",
   "execution_count": 96,
   "metadata": {},
   "outputs": [
    {
     "data": {
      "text/plain": [
       "<matplotlib.axes._subplots.AxesSubplot at 0x20a8c81bcc8>"
      ]
     },
     "execution_count": 96,
     "metadata": {},
     "output_type": "execute_result"
    },
    {
     "data": {
      "image/png": "[encoded data removed]",
      "text/plain": [
       "<Figure size 432x288 with 1 Axes>"
      ]
     },
     "metadata": {
      "needs_background": "light"
     },
     "output_type": "display_data"
    }
   ],
   "source": [
    "weekDayFunded = new_df['status_dummy'].groupby(new_df['dayOfWeek_funded']).mean()\n",
    "weekDayFunded.plot.bar()"
   ]
  },
  {
   "cell_type": "markdown",
   "metadata": {},
   "source": [
    "## Exploratory Analysis"
   ]
  },
  {
   "cell_type": "code",
   "execution_count": 97,
   "metadata": {},
   "outputs": [],
   "source": [
    "X = new_df[['year_funded_dummy', 'year_posted_dummy', 'month_funded_dummy', 'month_posted_dummy', \n",
    "            'year_month_funded', 'year_month_posted', 'category_dummy', 'subcategory_dummy','country_dummy', 'duration', \n",
    "           'day_funded', 'day_posted','dayOfWeek_posted', 'dayOfWeek_funded']]\n",
    "y = new_df['status_dummy']"
   ]
  },
  {
   "cell_type": "code",
   "execution_count": 98,
   "metadata": {},
   "outputs": [
    {
     "data": {
      "text/plain": [
       "1    22902\n",
       "0    18939\n",
       "Name: status_dummy, dtype: int64"
      ]
     },
     "execution_count": 98,
     "metadata": {},
     "output_type": "execute_result"
    }
   ],
   "source": [
    "new_df['status_dummy'].value_counts()"
   ]
  },
  {
   "cell_type": "code",
   "execution_count": 99,
   "metadata": {},
   "outputs": [
    {
     "data": {
      "text/plain": [
       "(array([18939., 22902.]), array([0. , 0.5, 1. ]), <a list of 2 Patch objects>)"
      ]
     },
     "execution_count": 99,
     "metadata": {},
     "output_type": "execute_result"
    },
    {
     "data": {
      "image/png": "[encoded data removed]",
      "text/plain": [
       "<Figure size 432x288 with 1 Axes>"
      ]
     },
     "metadata": {
      "needs_background": "light"
     },
     "output_type": "display_data"
    }
   ],
   "source": [
    "plt.hist(new_df['status_dummy'].T, bins=len(new_df['status_dummy'].value_counts()))"
   ]
  },
  {
   "cell_type": "code",
   "execution_count": 100,
   "metadata": {},
   "outputs": [
    {
     "data": {
      "text/plain": [
       "(array([  700.,  7231., 20124., 13786.]),\n",
       " array([0.  , 0.75, 1.5 , 2.25, 3.  ]),\n",
       " <a list of 4 Patch objects>)"
      ]
     },
     "execution_count": 100,
     "metadata": {},
     "output_type": "execute_result"
    },
    {
     "data": {
      "image/png": "[encoded data removed]",
      "text/plain": [
       "<Figure size 432x288 with 1 Axes>"
      ]
     },
     "metadata": {
      "needs_background": "light"
     },
     "output_type": "display_data"
    }
   ],
   "source": [
    "plt.hist(new_df['year_funded_dummy'].T, bins=len(new_df['year_funded_dummy'].value_counts()))"
   ]
  },
  {
   "cell_type": "code",
   "execution_count": 101,
   "metadata": {},
   "outputs": [
    {
     "data": {
      "text/plain": [
       "(array([ 1031.,  8309., 21063., 11438.]),\n",
       " array([0.  , 0.75, 1.5 , 2.25, 3.  ]),\n",
       " <a list of 4 Patch objects>)"
      ]
     },
     "execution_count": 101,
     "metadata": {},
     "output_type": "execute_result"
    },
    {
     "data": {
      "image/png": "[encoded data removed]",
      "text/plain": [
       "<Figure size 432x288 with 1 Axes>"
      ]
     },
     "metadata": {
      "needs_background": "light"
     },
     "output_type": "display_data"
    }
   ],
   "source": [
    "plt.hist(new_df['year_posted_dummy'].T, bins=len(new_df['year_posted_dummy'].value_counts()))"
   ]
  },
  {
   "cell_type": "code",
   "execution_count": 102,
   "metadata": {},
   "outputs": [
    {
     "data": {
      "text/plain": [
       "(array([3093., 3224., 4539., 5108., 5696., 2840., 2841., 3037., 2748.,\n",
       "        2789., 2634., 3292.]),\n",
       " array([ 0.        ,  0.91666667,  1.83333333,  2.75      ,  3.66666667,\n",
       "         4.58333333,  5.5       ,  6.41666667,  7.33333333,  8.25      ,\n",
       "         9.16666667, 10.08333333, 11.        ]),\n",
       " <a list of 12 Patch objects>)"
      ]
     },
     "execution_count": 102,
     "metadata": {},
     "output_type": "execute_result"
    },
    {
     "data": {
      "image/png": "[encoded data removed]",
      "text/plain": [
       "<Figure size 432x288 with 1 Axes>"
      ]
     },
     "metadata": {
      "needs_background": "light"
     },
     "output_type": "display_data"
    }
   ],
   "source": [
    "plt.hist(new_df['month_funded_dummy'].T, bins=len(new_df['month_funded_dummy'].value_counts()))"
   ]
  },
  {
   "cell_type": "code",
   "execution_count": 103,
   "metadata": {},
   "outputs": [
    {
     "data": {
      "text/plain": [
       "(array([3749., 4475., 5337., 4995., 3082., 2781., 2776., 2644., 2840.,\n",
       "        2982., 3280., 2900.]),\n",
       " array([ 0.        ,  0.91666667,  1.83333333,  2.75      ,  3.66666667,\n",
       "         4.58333333,  5.5       ,  6.41666667,  7.33333333,  8.25      ,\n",
       "         9.16666667, 10.08333333, 11.        ]),\n",
       " <a list of 12 Patch objects>)"
      ]
     },
     "execution_count": 103,
     "metadata": {},
     "output_type": "execute_result"
    },
    {
     "data": {
      "image/png": "[encoded data removed]",
      "text/plain": [
       "<Figure size 432x288 with 1 Axes>"
      ]
     },
     "metadata": {
      "needs_background": "light"
     },
     "output_type": "display_data"
    }
   ],
   "source": [
    "plt.hist(new_df['month_posted_dummy'].T, bins=len(new_df['month_posted_dummy'].value_counts()))"
   ]
  },
  {
   "cell_type": "code",
   "execution_count": 104,
   "metadata": {},
   "outputs": [
    {
     "data": {
      "text/plain": [
       "(array([ 163.,  223.,   10.,   24.,   52.,   49.,   65.,  114.,  168.,\n",
       "         173.,  844.,  975.,  241.,  312.,  448.,  603.,  882.,  890.,\n",
       "         847.,  848.,  957., 1017., 1627., 2094., 1400., 1649., 1889.,\n",
       "        1823., 1907., 2098., 1836., 1827., 1968., 2034., 2898., 3147.,\n",
       "        3349.,  390.]),\n",
       " array([ 0.        ,  0.97368421,  1.94736842,  2.92105263,  3.89473684,\n",
       "         4.86842105,  5.84210526,  6.81578947,  7.78947368,  8.76315789,\n",
       "         9.73684211, 10.71052632, 11.68421053, 12.65789474, 13.63157895,\n",
       "        14.60526316, 15.57894737, 16.55263158, 17.52631579, 18.5       ,\n",
       "        19.47368421, 20.44736842, 21.42105263, 22.39473684, 23.36842105,\n",
       "        24.34210526, 25.31578947, 26.28947368, 27.26315789, 28.23684211,\n",
       "        29.21052632, 30.18421053, 31.15789474, 32.13157895, 33.10526316,\n",
       "        34.07894737, 35.05263158, 36.02631579, 37.        ]),\n",
       " <a list of 38 Patch objects>)"
      ]
     },
     "execution_count": 104,
     "metadata": {},
     "output_type": "execute_result"
    },
    {
     "data": {
      "image/png": "[encoded data removed]",
      "text/plain": [
       "<Figure size 432x288 with 1 Axes>"
      ]
     },
     "metadata": {
      "needs_background": "light"
     },
     "output_type": "display_data"
    }
   ],
   "source": [
    "plt.hist(new_df['year_month_funded'].T, bins=len(new_df['year_month_funded'].value_counts()))"
   ]
  },
  {
   "cell_type": "code",
   "execution_count": 105,
   "metadata": {},
   "outputs": [
    {
     "data": {
      "text/plain": [
       "(array([ 182.,  163.,   16.,   55.,   52.,   58.,   88.,  270.,  147.,\n",
       "         233.,  295., 1007.,  980.,  412.,  536.,  592.,  886.,  839.,\n",
       "         741.,  832.,  956., 1241., 1450., 2091., 1757., 1688., 1837.,\n",
       "        1845., 1843., 1879., 1815., 1738., 1879., 2275., 2730., 3237.,\n",
       "        2606.,  590.]),\n",
       " array([ 0.        ,  0.97368421,  1.94736842,  2.92105263,  3.89473684,\n",
       "         4.86842105,  5.84210526,  6.81578947,  7.78947368,  8.76315789,\n",
       "         9.73684211, 10.71052632, 11.68421053, 12.65789474, 13.63157895,\n",
       "        14.60526316, 15.57894737, 16.55263158, 17.52631579, 18.5       ,\n",
       "        19.47368421, 20.44736842, 21.42105263, 22.39473684, 23.36842105,\n",
       "        24.34210526, 25.31578947, 26.28947368, 27.26315789, 28.23684211,\n",
       "        29.21052632, 30.18421053, 31.15789474, 32.13157895, 33.10526316,\n",
       "        34.07894737, 35.05263158, 36.02631579, 37.        ]),\n",
       " <a list of 38 Patch objects>)"
      ]
     },
     "execution_count": 105,
     "metadata": {},
     "output_type": "execute_result"
    },
    {
     "data": {
      "image/png": "[encoded data removed]",
      "text/plain": [
       "<Figure size 432x288 with 1 Axes>"
      ]
     },
     "metadata": {
      "needs_background": "light"
     },
     "output_type": "display_data"
    }
   ],
   "source": [
    "plt.hist(new_df['year_month_posted'].T, bins=len(new_df['year_month_posted'].value_counts()))"
   ]
  },
  {
   "cell_type": "code",
   "execution_count": 106,
   "metadata": {},
   "outputs": [
    {
     "data": {
      "text/plain": [
       "(array([ 3684.,   965.,   704.,  1561.,  1018., 12550.,  1291.,  1460.,\n",
       "        10031.,  1380.,  4150.,   732.,  2315.]),\n",
       " array([ 0.        ,  0.92307692,  1.84615385,  2.76923077,  3.69230769,\n",
       "         4.61538462,  5.53846154,  6.46153846,  7.38461538,  8.30769231,\n",
       "         9.23076923, 10.15384615, 11.07692308, 12.        ]),\n",
       " <a list of 13 Patch objects>)"
      ]
     },
     "execution_count": 106,
     "metadata": {},
     "output_type": "execute_result"
    },
    {
     "data": {
      "image/png": "[encoded data removed]",
      "text/plain": [
       "<Figure size 432x288 with 1 Axes>"
      ]
     },
     "metadata": {
      "needs_background": "light"
     },
     "output_type": "display_data"
    }
   ],
   "source": [
    "plt.hist(new_df['category_dummy'].T, bins=len(new_df['category_dummy'].value_counts()))"
   ]
  },
  {
   "cell_type": "code",
   "execution_count": 107,
   "metadata": {},
   "outputs": [
    {
     "data": {
      "text/plain": [
       "(array([ 376., 1008.,  301.,  471.,  542.,  430.,  965.,  167.,  987.,\n",
       "         228.,  704.,  260.,  134., 3674.,  269., 1018.,  943., 2333.,\n",
       "        1291.,  239.,  163.,  420.,  187., 1812.,  414.,  404.,  407.,\n",
       "        3000., 1408.,  881.,  170.,  234.,  483.,  460.,  263., 1380.,\n",
       "         200.,  690.,  910.,  509.,  616., 1627.,  329., 3735.,  328.,\n",
       "        2315.,  750., 1024.,  382.]),\n",
       " array([ 0.        ,  0.97959184,  1.95918367,  2.93877551,  3.91836735,\n",
       "         4.89795918,  5.87755102,  6.85714286,  7.83673469,  8.81632653,\n",
       "         9.79591837, 10.7755102 , 11.75510204, 12.73469388, 13.71428571,\n",
       "        14.69387755, 15.67346939, 16.65306122, 17.63265306, 18.6122449 ,\n",
       "        19.59183673, 20.57142857, 21.55102041, 22.53061224, 23.51020408,\n",
       "        24.48979592, 25.46938776, 26.44897959, 27.42857143, 28.40816327,\n",
       "        29.3877551 , 30.36734694, 31.34693878, 32.32653061, 33.30612245,\n",
       "        34.28571429, 35.26530612, 36.24489796, 37.2244898 , 38.20408163,\n",
       "        39.18367347, 40.16326531, 41.14285714, 42.12244898, 43.10204082,\n",
       "        44.08163265, 45.06122449, 46.04081633, 47.02040816, 48.        ]),\n",
       " <a list of 49 Patch objects>)"
      ]
     },
     "execution_count": 107,
     "metadata": {},
     "output_type": "execute_result"
    },
    {
     "data": {
      "image/png": "[encoded data removed]",
      "text/plain": [
       "<Figure size 432x288 with 1 Axes>"
      ]
     },
     "metadata": {
      "needs_background": "light"
     },
     "output_type": "display_data"
    }
   ],
   "source": [
    "plt.hist(new_df['subcategory_dummy'].T, bins=len(new_df['subcategory_dummy'].value_counts()))"
   ]
  },
  {
   "cell_type": "code",
   "execution_count": 108,
   "metadata": {},
   "outputs": [
    {
     "data": {
      "text/plain": [
       "(array([2978., 1916., 1321., 1301., 1317., 1254., 1252., 1207., 1157.,\n",
       "        1333., 1321., 1292., 1180., 1265., 1601., 1648., 1232., 1344.,\n",
       "        1273., 1341., 1386., 1192., 1207., 1238., 1316., 1278., 1168.,\n",
       "        1110., 1076., 1223., 1114.]),\n",
       " array([ 1.        ,  1.96774194,  2.93548387,  3.90322581,  4.87096774,\n",
       "         5.83870968,  6.80645161,  7.77419355,  8.74193548,  9.70967742,\n",
       "        10.67741935, 11.64516129, 12.61290323, 13.58064516, 14.5483871 ,\n",
       "        15.51612903, 16.48387097, 17.4516129 , 18.41935484, 19.38709677,\n",
       "        20.35483871, 21.32258065, 22.29032258, 23.25806452, 24.22580645,\n",
       "        25.19354839, 26.16129032, 27.12903226, 28.09677419, 29.06451613,\n",
       "        30.03225806, 31.        ]),\n",
       " <a list of 31 Patch objects>)"
      ]
     },
     "execution_count": 108,
     "metadata": {},
     "output_type": "execute_result"
    },
    {
     "data": {
      "image/png": "[encoded data removed]",
      "text/plain": [
       "<Figure size 432x288 with 1 Axes>"
      ]
     },
     "metadata": {
      "needs_background": "light"
     },
     "output_type": "display_data"
    }
   ],
   "source": [
    "plt.hist(new_df['day_funded'].T, bins=len(new_df['day_funded'].value_counts()))"
   ]
  },
  {
   "cell_type": "code",
   "execution_count": 109,
   "metadata": {},
   "outputs": [
    {
     "data": {
      "text/plain": [
       "(array([1727., 1646., 1515., 1362., 1338., 1372., 1409., 1338., 1514.,\n",
       "        1368., 1317., 1322., 1449., 1361., 1442., 1480., 1371., 1218.,\n",
       "        1447., 1395., 1396., 1377., 1366., 1249., 1198., 1239., 1321.,\n",
       "        1293., 1142., 1158.,  711.]),\n",
       " array([ 1.        ,  1.96774194,  2.93548387,  3.90322581,  4.87096774,\n",
       "         5.83870968,  6.80645161,  7.77419355,  8.74193548,  9.70967742,\n",
       "        10.67741935, 11.64516129, 12.61290323, 13.58064516, 14.5483871 ,\n",
       "        15.51612903, 16.48387097, 17.4516129 , 18.41935484, 19.38709677,\n",
       "        20.35483871, 21.32258065, 22.29032258, 23.25806452, 24.22580645,\n",
       "        25.19354839, 26.16129032, 27.12903226, 28.09677419, 29.06451613,\n",
       "        30.03225806, 31.        ]),\n",
       " <a list of 31 Patch objects>)"
      ]
     },
     "execution_count": 109,
     "metadata": {},
     "output_type": "execute_result"
    },
    {
     "data": {
      "image/png": "[encoded data removed]",
      "text/plain": [
       "<Figure size 432x288 with 1 Axes>"
      ]
     },
     "metadata": {
      "needs_background": "light"
     },
     "output_type": "display_data"
    }
   ],
   "source": [
    "plt.hist(new_df['day_posted'].T, bins=len(new_df['day_posted'].value_counts()))"
   ]
  },
  {
   "cell_type": "code",
   "execution_count": 110,
   "metadata": {},
   "outputs": [
    {
     "data": {
      "text/plain": [
       "(array([6521., 7395., 7183., 7148., 6415., 4084., 3095.]),\n",
       " array([0.        , 0.85714286, 1.71428571, 2.57142857, 3.42857143,\n",
       "        4.28571429, 5.14285714, 6.        ]),\n",
       " <a list of 7 Patch objects>)"
      ]
     },
     "execution_count": 110,
     "metadata": {},
     "output_type": "execute_result"
    },
    {
     "data": {
      "image/png": "[encoded data removed]",
      "text/plain": [
       "<Figure size 432x288 with 1 Axes>"
      ]
     },
     "metadata": {
      "needs_background": "light"
     },
     "output_type": "display_data"
    }
   ],
   "source": [
    "plt.hist(new_df['dayOfWeek_posted'].T, bins=len(new_df['dayOfWeek_posted'].value_counts()))"
   ]
  },
  {
   "cell_type": "code",
   "execution_count": 111,
   "metadata": {},
   "outputs": [
    {
     "data": {
      "text/plain": [
       "(array([6111., 5151., 5376., 5950., 6312., 6698., 6243.]),\n",
       " array([0.        , 0.85714286, 1.71428571, 2.57142857, 3.42857143,\n",
       "        4.28571429, 5.14285714, 6.        ]),\n",
       " <a list of 7 Patch objects>)"
      ]
     },
     "execution_count": 111,
     "metadata": {},
     "output_type": "execute_result"
    },
    {
     "data": {
      "image/png": "[encoded data removed]",
      "text/plain": [
       "<Figure size 432x288 with 1 Axes>"
      ]
     },
     "metadata": {
      "needs_background": "light"
     },
     "output_type": "display_data"
    }
   ],
   "source": [
    "plt.hist(new_df['dayOfWeek_funded'].T, bins=len(new_df['dayOfWeek_funded'].value_counts()))"
   ]
  },
  {
   "cell_type": "markdown",
   "metadata": {},
   "source": [
    "## Conduct Logistic Regression"
   ]
  },
  {
   "cell_type": "code",
   "execution_count": 112,
   "metadata": {
    "scrolled": true
   },
   "outputs": [
    {
     "data": {
      "text/plain": [
       "Index(['project id', 'name', 'url', 'category', 'subcategory', 'location',\n",
       "       'status', 'goal', 'pledged', 'funded percentage', 'backers',\n",
       "       'funded date', 'levels', 'reward levels', 'updates', 'comments',\n",
       "       'duration', 'duration_td', 'Posting_Date', 'year_funded',\n",
       "       'month_funded', 'day_funded', 'time_funded', 'dayOfWeek_funded',\n",
       "       'year_posted', 'month_posted', 'day_posted', 'time_posted',\n",
       "       'dayOfWeek_posted', 'city', 'state', 'country', 'category_dummy',\n",
       "       'subcategory_dummy', 'status_dummy', 'year_posted_dummy',\n",
       "       'year_funded_dummy', 'month_posted_dummy', 'month_funded_dummy',\n",
       "       'country_dummy', 'year_month_posted', 'year_month_funded'],\n",
       "      dtype='object')"
      ]
     },
     "execution_count": 112,
     "metadata": {},
     "output_type": "execute_result"
    }
   ],
   "source": [
    "new_df.columns"
   ]
  },
  {
   "cell_type": "code",
   "execution_count": 113,
   "metadata": {},
   "outputs": [],
   "source": [
    "X_train, X_test, y_train, y_test = train_test_split(X, y, random_state=0)"
   ]
  },
  {
   "cell_type": "code",
   "execution_count": null,
   "metadata": {},
   "outputs": [
    {
     "name": "stderr",
     "output_type": "stream",
     "text": [
      "C:\\Users\\rayde\\Anaconda3\\lib\\site-packages\\scipy\\optimize\\linesearch.py:314: LineSearchWarning: The line search algorithm did not converge\n",
      "  warn('The line search algorithm did not converge', LineSearchWarning)\n",
      "C:\\Users\\rayde\\Anaconda3\\lib\\site-packages\\sklearn\\utils\\optimize.py:195: UserWarning: Line Search failed\n",
      "  warnings.warn('Line Search failed')\n",
      "C:\\Users\\rayde\\Anaconda3\\lib\\site-packages\\scipy\\optimize\\linesearch.py:314: LineSearchWarning: The line search algorithm did not converge\n",
      "  warn('The line search algorithm did not converge', LineSearchWarning)\n",
      "C:\\Users\\rayde\\Anaconda3\\lib\\site-packages\\sklearn\\utils\\optimize.py:195: UserWarning: Line Search failed\n",
      "  warnings.warn('Line Search failed')\n",
      "C:\\Users\\rayde\\Anaconda3\\lib\\site-packages\\sklearn\\linear_model\\logistic.py:947: ConvergenceWarning: lbfgs failed to converge. Increase the number of iterations.\n",
      "  \"of iterations.\", ConvergenceWarning)\n",
      "C:\\Users\\rayde\\Anaconda3\\lib\\site-packages\\sklearn\\linear_model\\logistic.py:947: ConvergenceWarning: lbfgs failed to converge. Increase the number of iterations.\n",
      "  \"of iterations.\", ConvergenceWarning)\n",
      "C:\\Users\\rayde\\Anaconda3\\lib\\site-packages\\sklearn\\linear_model\\logistic.py:947: ConvergenceWarning: lbfgs failed to converge. Increase the number of iterations.\n",
      "  \"of iterations.\", ConvergenceWarning)\n",
      "C:\\Users\\rayde\\Anaconda3\\lib\\site-packages\\sklearn\\linear_model\\logistic.py:947: ConvergenceWarning: lbfgs failed to converge. Increase the number of iterations.\n",
      "  \"of iterations.\", ConvergenceWarning)\n",
      "C:\\Users\\rayde\\Anaconda3\\lib\\site-packages\\sklearn\\linear_model\\logistic.py:947: ConvergenceWarning: lbfgs failed to converge. Increase the number of iterations.\n",
      "  \"of iterations.\", ConvergenceWarning)\n",
      "C:\\Users\\rayde\\Anaconda3\\lib\\site-packages\\sklearn\\linear_model\\logistic.py:947: ConvergenceWarning: lbfgs failed to converge. Increase the number of iterations.\n",
      "  \"of iterations.\", ConvergenceWarning)\n",
      "C:\\Users\\rayde\\Anaconda3\\lib\\site-packages\\sklearn\\linear_model\\logistic.py:947: ConvergenceWarning: lbfgs failed to converge. Increase the number of iterations.\n",
      "  \"of iterations.\", ConvergenceWarning)\n",
      "C:\\Users\\rayde\\Anaconda3\\lib\\site-packages\\sklearn\\linear_model\\logistic.py:947: ConvergenceWarning: lbfgs failed to converge. Increase the number of iterations.\n",
      "  \"of iterations.\", ConvergenceWarning)\n",
      "C:\\Users\\rayde\\Anaconda3\\lib\\site-packages\\sklearn\\linear_model\\logistic.py:947: ConvergenceWarning: lbfgs failed to converge. Increase the number of iterations.\n",
      "  \"of iterations.\", ConvergenceWarning)\n",
      "C:\\Users\\rayde\\Anaconda3\\lib\\site-packages\\sklearn\\linear_model\\logistic.py:947: ConvergenceWarning: lbfgs failed to converge. Increase the number of iterations.\n",
      "  \"of iterations.\", ConvergenceWarning)\n",
      "C:\\Users\\rayde\\Anaconda3\\lib\\site-packages\\sklearn\\linear_model\\sag.py:337: ConvergenceWarning: The max_iter was reached which means the coef_ did not converge\n",
      "  \"the coef_ did not converge\", ConvergenceWarning)\n",
      "C:\\Users\\rayde\\Anaconda3\\lib\\site-packages\\sklearn\\linear_model\\sag.py:337: ConvergenceWarning: The max_iter was reached which means the coef_ did not converge\n",
      "  \"the coef_ did not converge\", ConvergenceWarning)\n",
      "C:\\Users\\rayde\\Anaconda3\\lib\\site-packages\\sklearn\\linear_model\\sag.py:337: ConvergenceWarning: The max_iter was reached which means the coef_ did not converge\n",
      "  \"the coef_ did not converge\", ConvergenceWarning)\n",
      "C:\\Users\\rayde\\Anaconda3\\lib\\site-packages\\sklearn\\linear_model\\sag.py:337: ConvergenceWarning: The max_iter was reached which means the coef_ did not converge\n",
      "  \"the coef_ did not converge\", ConvergenceWarning)\n",
      "C:\\Users\\rayde\\Anaconda3\\lib\\site-packages\\sklearn\\linear_model\\sag.py:337: ConvergenceWarning: The max_iter was reached which means the coef_ did not converge\n",
      "  \"the coef_ did not converge\", ConvergenceWarning)\n",
      "C:\\Users\\rayde\\Anaconda3\\lib\\site-packages\\sklearn\\linear_model\\sag.py:337: ConvergenceWarning: The max_iter was reached which means the coef_ did not converge\n",
      "  \"the coef_ did not converge\", ConvergenceWarning)\n",
      "C:\\Users\\rayde\\Anaconda3\\lib\\site-packages\\sklearn\\linear_model\\sag.py:337: ConvergenceWarning: The max_iter was reached which means the coef_ did not converge\n",
      "  \"the coef_ did not converge\", ConvergenceWarning)\n",
      "C:\\Users\\rayde\\Anaconda3\\lib\\site-packages\\sklearn\\linear_model\\sag.py:337: ConvergenceWarning: The max_iter was reached which means the coef_ did not converge\n",
      "  \"the coef_ did not converge\", ConvergenceWarning)\n",
      "C:\\Users\\rayde\\Anaconda3\\lib\\site-packages\\sklearn\\linear_model\\sag.py:337: ConvergenceWarning: The max_iter was reached which means the coef_ did not converge\n",
      "  \"the coef_ did not converge\", ConvergenceWarning)\n",
      "C:\\Users\\rayde\\Anaconda3\\lib\\site-packages\\sklearn\\linear_model\\sag.py:337: ConvergenceWarning: The max_iter was reached which means the coef_ did not converge\n",
      "  \"the coef_ did not converge\", ConvergenceWarning)\n",
      "C:\\Users\\rayde\\Anaconda3\\lib\\site-packages\\sklearn\\linear_model\\sag.py:337: ConvergenceWarning: The max_iter was reached which means the coef_ did not converge\n",
      "  \"the coef_ did not converge\", ConvergenceWarning)\n",
      "C:\\Users\\rayde\\Anaconda3\\lib\\site-packages\\sklearn\\linear_model\\sag.py:337: ConvergenceWarning: The max_iter was reached which means the coef_ did not converge\n",
      "  \"the coef_ did not converge\", ConvergenceWarning)\n",
      "C:\\Users\\rayde\\Anaconda3\\lib\\site-packages\\sklearn\\linear_model\\sag.py:337: ConvergenceWarning: The max_iter was reached which means the coef_ did not converge\n",
      "  \"the coef_ did not converge\", ConvergenceWarning)\n",
      "C:\\Users\\rayde\\Anaconda3\\lib\\site-packages\\sklearn\\linear_model\\sag.py:337: ConvergenceWarning: The max_iter was reached which means the coef_ did not converge\n",
      "  \"the coef_ did not converge\", ConvergenceWarning)\n",
      "C:\\Users\\rayde\\Anaconda3\\lib\\site-packages\\sklearn\\linear_model\\sag.py:337: ConvergenceWarning: The max_iter was reached which means the coef_ did not converge\n",
      "  \"the coef_ did not converge\", ConvergenceWarning)\n",
      "C:\\Users\\rayde\\Anaconda3\\lib\\site-packages\\sklearn\\linear_model\\sag.py:337: ConvergenceWarning: The max_iter was reached which means the coef_ did not converge\n",
      "  \"the coef_ did not converge\", ConvergenceWarning)\n",
      "C:\\Users\\rayde\\Anaconda3\\lib\\site-packages\\sklearn\\linear_model\\sag.py:337: ConvergenceWarning: The max_iter was reached which means the coef_ did not converge\n",
      "  \"the coef_ did not converge\", ConvergenceWarning)\n",
      "C:\\Users\\rayde\\Anaconda3\\lib\\site-packages\\sklearn\\linear_model\\sag.py:337: ConvergenceWarning: The max_iter was reached which means the coef_ did not converge\n",
      "  \"the coef_ did not converge\", ConvergenceWarning)\n",
      "C:\\Users\\rayde\\Anaconda3\\lib\\site-packages\\sklearn\\linear_model\\sag.py:337: ConvergenceWarning: The max_iter was reached which means the coef_ did not converge\n",
      "  \"the coef_ did not converge\", ConvergenceWarning)\n",
      "C:\\Users\\rayde\\Anaconda3\\lib\\site-packages\\sklearn\\linear_model\\sag.py:337: ConvergenceWarning: The max_iter was reached which means the coef_ did not converge\n",
      "  \"the coef_ did not converge\", ConvergenceWarning)\n",
      "C:\\Users\\rayde\\Anaconda3\\lib\\site-packages\\sklearn\\linear_model\\sag.py:337: ConvergenceWarning: The max_iter was reached which means the coef_ did not converge\n",
      "  \"the coef_ did not converge\", ConvergenceWarning)\n",
      "C:\\Users\\rayde\\Anaconda3\\lib\\site-packages\\sklearn\\linear_model\\sag.py:337: ConvergenceWarning: The max_iter was reached which means the coef_ did not converge\n",
      "  \"the coef_ did not converge\", ConvergenceWarning)\n",
      "C:\\Users\\rayde\\Anaconda3\\lib\\site-packages\\sklearn\\linear_model\\sag.py:337: ConvergenceWarning: The max_iter was reached which means the coef_ did not converge\n",
      "  \"the coef_ did not converge\", ConvergenceWarning)\n",
      "C:\\Users\\rayde\\Anaconda3\\lib\\site-packages\\sklearn\\linear_model\\sag.py:337: ConvergenceWarning: The max_iter was reached which means the coef_ did not converge\n",
      "  \"the coef_ did not converge\", ConvergenceWarning)\n",
      "C:\\Users\\rayde\\Anaconda3\\lib\\site-packages\\sklearn\\linear_model\\sag.py:337: ConvergenceWarning: The max_iter was reached which means the coef_ did not converge\n",
      "  \"the coef_ did not converge\", ConvergenceWarning)\n",
      "C:\\Users\\rayde\\Anaconda3\\lib\\site-packages\\sklearn\\linear_model\\sag.py:337: ConvergenceWarning: The max_iter was reached which means the coef_ did not converge\n",
      "  \"the coef_ did not converge\", ConvergenceWarning)\n"
     ]
    },
    {
     "name": "stderr",
     "output_type": "stream",
     "text": [
      "C:\\Users\\rayde\\Anaconda3\\lib\\site-packages\\sklearn\\linear_model\\sag.py:337: ConvergenceWarning: The max_iter was reached which means the coef_ did not converge\n",
      "  \"the coef_ did not converge\", ConvergenceWarning)\n",
      "C:\\Users\\rayde\\Anaconda3\\lib\\site-packages\\sklearn\\linear_model\\sag.py:337: ConvergenceWarning: The max_iter was reached which means the coef_ did not converge\n",
      "  \"the coef_ did not converge\", ConvergenceWarning)\n",
      "C:\\Users\\rayde\\Anaconda3\\lib\\site-packages\\sklearn\\linear_model\\sag.py:337: ConvergenceWarning: The max_iter was reached which means the coef_ did not converge\n",
      "  \"the coef_ did not converge\", ConvergenceWarning)\n",
      "C:\\Users\\rayde\\Anaconda3\\lib\\site-packages\\sklearn\\linear_model\\sag.py:337: ConvergenceWarning: The max_iter was reached which means the coef_ did not converge\n",
      "  \"the coef_ did not converge\", ConvergenceWarning)\n",
      "C:\\Users\\rayde\\Anaconda3\\lib\\site-packages\\sklearn\\linear_model\\sag.py:337: ConvergenceWarning: The max_iter was reached which means the coef_ did not converge\n",
      "  \"the coef_ did not converge\", ConvergenceWarning)\n",
      "C:\\Users\\rayde\\Anaconda3\\lib\\site-packages\\sklearn\\linear_model\\sag.py:337: ConvergenceWarning: The max_iter was reached which means the coef_ did not converge\n",
      "  \"the coef_ did not converge\", ConvergenceWarning)\n",
      "C:\\Users\\rayde\\Anaconda3\\lib\\site-packages\\sklearn\\linear_model\\sag.py:337: ConvergenceWarning: The max_iter was reached which means the coef_ did not converge\n",
      "  \"the coef_ did not converge\", ConvergenceWarning)\n",
      "C:\\Users\\rayde\\Anaconda3\\lib\\site-packages\\sklearn\\linear_model\\sag.py:337: ConvergenceWarning: The max_iter was reached which means the coef_ did not converge\n",
      "  \"the coef_ did not converge\", ConvergenceWarning)\n",
      "C:\\Users\\rayde\\Anaconda3\\lib\\site-packages\\sklearn\\linear_model\\sag.py:337: ConvergenceWarning: The max_iter was reached which means the coef_ did not converge\n",
      "  \"the coef_ did not converge\", ConvergenceWarning)\n",
      "C:\\Users\\rayde\\Anaconda3\\lib\\site-packages\\sklearn\\linear_model\\sag.py:337: ConvergenceWarning: The max_iter was reached which means the coef_ did not converge\n",
      "  \"the coef_ did not converge\", ConvergenceWarning)\n",
      "C:\\Users\\rayde\\Anaconda3\\lib\\site-packages\\sklearn\\linear_model\\sag.py:337: ConvergenceWarning: The max_iter was reached which means the coef_ did not converge\n",
      "  \"the coef_ did not converge\", ConvergenceWarning)\n",
      "C:\\Users\\rayde\\Anaconda3\\lib\\site-packages\\sklearn\\linear_model\\sag.py:337: ConvergenceWarning: The max_iter was reached which means the coef_ did not converge\n",
      "  \"the coef_ did not converge\", ConvergenceWarning)\n",
      "C:\\Users\\rayde\\Anaconda3\\lib\\site-packages\\sklearn\\linear_model\\sag.py:337: ConvergenceWarning: The max_iter was reached which means the coef_ did not converge\n",
      "  \"the coef_ did not converge\", ConvergenceWarning)\n",
      "C:\\Users\\rayde\\Anaconda3\\lib\\site-packages\\sklearn\\linear_model\\sag.py:337: ConvergenceWarning: The max_iter was reached which means the coef_ did not converge\n",
      "  \"the coef_ did not converge\", ConvergenceWarning)\n",
      "C:\\Users\\rayde\\Anaconda3\\lib\\site-packages\\sklearn\\linear_model\\sag.py:337: ConvergenceWarning: The max_iter was reached which means the coef_ did not converge\n",
      "  \"the coef_ did not converge\", ConvergenceWarning)\n",
      "C:\\Users\\rayde\\Anaconda3\\lib\\site-packages\\sklearn\\linear_model\\sag.py:337: ConvergenceWarning: The max_iter was reached which means the coef_ did not converge\n",
      "  \"the coef_ did not converge\", ConvergenceWarning)\n",
      "C:\\Users\\rayde\\Anaconda3\\lib\\site-packages\\sklearn\\linear_model\\sag.py:337: ConvergenceWarning: The max_iter was reached which means the coef_ did not converge\n",
      "  \"the coef_ did not converge\", ConvergenceWarning)\n",
      "C:\\Users\\rayde\\Anaconda3\\lib\\site-packages\\sklearn\\linear_model\\sag.py:337: ConvergenceWarning: The max_iter was reached which means the coef_ did not converge\n",
      "  \"the coef_ did not converge\", ConvergenceWarning)\n",
      "C:\\Users\\rayde\\Anaconda3\\lib\\site-packages\\sklearn\\linear_model\\sag.py:337: ConvergenceWarning: The max_iter was reached which means the coef_ did not converge\n",
      "  \"the coef_ did not converge\", ConvergenceWarning)\n",
      "C:\\Users\\rayde\\Anaconda3\\lib\\site-packages\\sklearn\\linear_model\\sag.py:337: ConvergenceWarning: The max_iter was reached which means the coef_ did not converge\n",
      "  \"the coef_ did not converge\", ConvergenceWarning)\n",
      "C:\\Users\\rayde\\Anaconda3\\lib\\site-packages\\sklearn\\linear_model\\sag.py:337: ConvergenceWarning: The max_iter was reached which means the coef_ did not converge\n",
      "  \"the coef_ did not converge\", ConvergenceWarning)\n",
      "C:\\Users\\rayde\\Anaconda3\\lib\\site-packages\\sklearn\\linear_model\\sag.py:337: ConvergenceWarning: The max_iter was reached which means the coef_ did not converge\n",
      "  \"the coef_ did not converge\", ConvergenceWarning)\n",
      "C:\\Users\\rayde\\Anaconda3\\lib\\site-packages\\sklearn\\linear_model\\sag.py:337: ConvergenceWarning: The max_iter was reached which means the coef_ did not converge\n",
      "  \"the coef_ did not converge\", ConvergenceWarning)\n",
      "C:\\Users\\rayde\\Anaconda3\\lib\\site-packages\\sklearn\\linear_model\\sag.py:337: ConvergenceWarning: The max_iter was reached which means the coef_ did not converge\n",
      "  \"the coef_ did not converge\", ConvergenceWarning)\n",
      "C:\\Users\\rayde\\Anaconda3\\lib\\site-packages\\sklearn\\linear_model\\sag.py:337: ConvergenceWarning: The max_iter was reached which means the coef_ did not converge\n",
      "  \"the coef_ did not converge\", ConvergenceWarning)\n",
      "C:\\Users\\rayde\\Anaconda3\\lib\\site-packages\\sklearn\\linear_model\\sag.py:337: ConvergenceWarning: The max_iter was reached which means the coef_ did not converge\n",
      "  \"the coef_ did not converge\", ConvergenceWarning)\n",
      "C:\\Users\\rayde\\Anaconda3\\lib\\site-packages\\sklearn\\linear_model\\sag.py:337: ConvergenceWarning: The max_iter was reached which means the coef_ did not converge\n",
      "  \"the coef_ did not converge\", ConvergenceWarning)\n"
     ]
    }
   ],
   "source": [
    "from sklearn.utils.testing import ignore_warnings\n",
    "from sklearn.exceptions import ConvergenceWarning\n",
    "\n",
    "logistic = {}\n",
    "num=1\n",
    "\n",
    "def save_results(penalty, solver, X_train, y_train, X_test, y_test, num, l1_ratio=None, dictionary=logistic):\n",
    "    y_pred = clf.predict(X_test)\n",
    "    tn, fp, fn, tp  = confusion_matrix(y_test, y_pred).ravel()\n",
    "    dictionary[num] = {'penalty':penalty, \n",
    "                       'solver':solver, \n",
    "                       'train_score':clf.score(X_train, y_train), \n",
    "                       'test_score': clf.score(X_test, y_test),\n",
    "                       'f1_score': f1_score(y_test, y_pred),\n",
    "                       'true_positive_rate':tp/(tp + fp),\n",
    "                       'true_negative_rate':tn/(tn+fn),\n",
    "                       'l1_ratio':l1_ratio,\n",
    "                       'C': c\n",
    "                      }\n",
    "    \n",
    "\n",
    "for solver in ['newton-cg', 'lbfgs', 'liblinear', 'sag', 'saga']:\n",
    "    for c in [0.1, 0.2, 0.3, 0.4, 0.5, 0.6, 0.7, 0.8, 0.9, 1]:\n",
    "        try:\n",
    "            if solver in ['newton-cg','lbfgs', 'sag']:\n",
    "                penalty='l2'\n",
    "                clf = LogisticRegression(C=c, penalty=penalty, random_state=0, solver=solver, \n",
    "                                         max_iter=100).fit(X_train, y_train)\n",
    "                save_results(penalty, solver, X_train, y_train, X_test, y_test, num=num)\n",
    "                num+=1\n",
    "            elif solver=='saga':   \n",
    "                for penalty in ['l1', 'l2', 'elasticnet']:\n",
    "                    if penalty=='elasticnet':\n",
    "                        for l1_ratio in [.1,.2,.3,.4,.5,.6,.7,.8,.9]:\n",
    "                            clf = LogisticRegression(C=c, l1_ratio=l1_ratio, penalty=penalty, random_state=0, solver=solver, \n",
    "                                                     max_iter=100).fit(X_train, y_train)\n",
    "                            save_results(penalty, solver, X_train, y_train, X_test, y_test, l1_ratio=l1_ratio, num=num)\n",
    "                            num+=1\n",
    "                    else:\n",
    "                        clf = LogisticRegression(C=c, penalty=penalty, random_state=0, solver=solver, \n",
    "                                                 max_iter=100).fit(X_train, y_train)\n",
    "                        save_results(penalty, solver, X_train, y_train, X_test, y_test, num=num)\n",
    "                        num+=1\n",
    "            else:\n",
    "                for penalty in ['l1', 'l2']:\n",
    "                    clf = LogisticRegression(C=c ,penalty=penalty, random_state=0, solver=solver, \n",
    "                                             max_iter=100).fit(X_train, y_train)\n",
    "                    save_results(penalty, solver, X_train, y_train, X_test, y_test, num=num)\n",
    "                    num+=1\n",
    "        except ConvergenceWarning:\n",
    "            pass"
   ]
  },
  {
   "cell_type": "code",
   "execution_count": null,
   "metadata": {},
   "outputs": [],
   "source": [
    "df = pd.DataFrame(logistic, dtype='float64').T.sort_values(by='test_score', ascending=False)\n",
    "df.head()"
   ]
  },
  {
   "cell_type": "code",
   "execution_count": 116,
   "metadata": {},
   "outputs": [
    {
     "data": {
      "text/plain": [
       "<matplotlib.axes._subplots.AxesSubplot at 0x20a8917d048>"
      ]
     },
     "execution_count": 116,
     "metadata": {},
     "output_type": "execute_result"
    },
    {
     "data": {
      "image/png": "[encoded data removed]",
      "text/plain": [
       "<Figure size 432x288 with 1 Axes>"
      ]
     },
     "metadata": {
      "needs_background": "light"
     },
     "output_type": "display_data"
    }
   ],
   "source": [
    "df['test_score'] = df['test_score'].astype('float64')\n",
    "df[['test_score','solver']].groupby('solver').mean().plot()"
   ]
  },
  {
   "cell_type": "code",
   "execution_count": 117,
   "metadata": {},
   "outputs": [
    {
     "data": {
      "text/plain": [
       "Index(['penalty', 'solver', 'train_score', 'test_score', 'true_positive_rate',\n",
       "       'true_negative_rate', 'l1_ratio', 'C'],\n",
       "      dtype='object')"
      ]
     },
     "execution_count": 117,
     "metadata": {},
     "output_type": "execute_result"
    }
   ],
   "source": [
    "df.columns"
   ]
  },
  {
   "cell_type": "code",
   "execution_count": 118,
   "metadata": {
    "scrolled": true
   },
   "outputs": [
    {
     "data": {
      "text/plain": [
       "<matplotlib.axes._subplots.AxesSubplot at 0x20a8a6c4688>"
      ]
     },
     "execution_count": 118,
     "metadata": {},
     "output_type": "execute_result"
    },
    {
     "data": {
      "image/png": "[encoded data removed]",
      "text/plain": [
       "<Figure size 432x288 with 1 Axes>"
      ]
     },
     "metadata": {
      "needs_background": "light"
     },
     "output_type": "display_data"
    }
   ],
   "source": [
    "df[['test_score','penalty']].groupby('penalty').mean().plot()"
   ]
  },
  {
   "cell_type": "code",
   "execution_count": 119,
   "metadata": {},
   "outputs": [
    {
     "data": {
      "text/plain": [
       "<matplotlib.axes._subplots.AxesSubplot at 0x20a8a6f20c8>"
      ]
     },
     "execution_count": 119,
     "metadata": {},
     "output_type": "execute_result"
    },
    {
     "data": {
      "image/png": "[encoded data removed]",
      "text/plain": [
       "<Figure size 432x288 with 1 Axes>"
      ]
     },
     "metadata": {
      "needs_background": "light"
     },
     "output_type": "display_data"
    }
   ],
   "source": [
    "df[['test_score','l1_ratio']].groupby('l1_ratio').mean().plot()"
   ]
  },
  {
   "cell_type": "code",
   "execution_count": 120,
   "metadata": {},
   "outputs": [
    {
     "data": {
      "text/plain": [
       "<matplotlib.axes._subplots.AxesSubplot at 0x20a8a97fbc8>"
      ]
     },
     "execution_count": 120,
     "metadata": {},
     "output_type": "execute_result"
    },
    {
     "data": {
      "image/png": "[encoded data removed]",
      "text/plain": [
       "<Figure size 432x288 with 1 Axes>"
      ]
     },
     "metadata": {
      "needs_background": "light"
     },
     "output_type": "display_data"
    }
   ],
   "source": [
    "df[['test_score','C']].groupby('C').mean().plot()"
   ]
  },
  {
   "cell_type": "markdown",
   "metadata": {},
   "source": [
    "## Gaussian Naive Bayes\n",
    "### Gaussian Naive Bayes supports continuous valued features and models each as conforming to a Gaussian (normal) distribution."
   ]
  },
  {
   "cell_type": "code",
   "execution_count": 201,
   "metadata": {},
   "outputs": [
    {
     "name": "stdout",
     "output_type": "stream",
     "text": [
      "0.5832377310388782\n",
      "0.5778606251792372\n",
      "CONFUSION MATRIX \n",
      "true positive rate:  0.5813237557721909 \n",
      "true negative rate:  0.5677298311444653 \n",
      "Percent predicted correctly:  0.5778606251792372 \n",
      "f1_score:  0.6724035608308606\n"
     ]
    }
   ],
   "source": [
    "gnb = GaussianNB()\n",
    "gnb.fit(X_train, y_train)\n",
    "print(gnb.score(X_train, y_train))\n",
    "print(gnb.score(X_test, y_test))\n",
    "y_pred = gnb.predict(X_test)\n",
    "tn, fp, fn, tp  = confusion_matrix(y_test, y_pred).ravel()\n",
    "print(f'CONFUSION MATRIX', '\\ntrue positive rate: ', tp/(tp + fp),'\\ntrue negative rate: ', tn/(tn+fn), \n",
    "        '\\nPercent predicted correctly: ', (tp+tn)/(tp+fp+tn+fn), '\\nf1_score: ', f1_score(y_test, y_pred))"
   ]
  },
  {
   "cell_type": "code",
   "execution_count": 202,
   "metadata": {},
   "outputs": [],
   "source": [
    "gaussiannb = {}\n",
    "num = 1\n",
    "\n",
    "for var_smoothing in [.1, 1e-2, 1e-3, 1e-4, 0]:\n",
    "    gnb = GaussianNB(var_smoothing=var_smoothing)\n",
    "    gnb.fit(X_train, y_train)\n",
    "    y_pred = gnb.predict(X_test)\n",
    "    tn, fp, fn, tp  = confusion_matrix(y_test, y_pred).ravel()\n",
    "    gaussiannb[num] = {'true_positive_rate':tp/(tp + fp), \n",
    "                       'true_negative_rate': tn/(tn+fn), \n",
    "                       'train_score':gnb.score(X_train, y_train),\n",
    "                       'test_score':gnb.score(X_test, y_test),\n",
    "                       'var_smoothing': var_smoothing, \n",
    "                      'f1_score':f1_score(y_test, y_pred)}\n",
    "    num+=1"
   ]
  },
  {
   "cell_type": "code",
   "execution_count": 205,
   "metadata": {},
   "outputs": [
    {
     "data": {
      "text/html": [
       "<div>\n",
       "<style scoped>\n",
       "    .dataframe tbody tr th:only-of-type {\n",
       "        vertical-align: middle;\n",
       "    }\n",
       "\n",
       "    .dataframe tbody tr th {\n",
       "        vertical-align: top;\n",
       "    }\n",
       "\n",
       "    .dataframe thead th {\n",
       "        text-align: right;\n",
       "    }\n",
       "</style>\n",
       "<table border=\"1\" class=\"dataframe\">\n",
       "  <thead>\n",
       "    <tr style=\"text-align: right;\">\n",
       "      <th></th>\n",
       "      <th>true_positive_rate</th>\n",
       "      <th>true_negative_rate</th>\n",
       "      <th>train_score</th>\n",
       "      <th>test_score</th>\n",
       "      <th>var_smoothing</th>\n",
       "      <th>f1_score</th>\n",
       "    </tr>\n",
       "  </thead>\n",
       "  <tbody>\n",
       "    <tr>\n",
       "      <th>3</th>\n",
       "      <td>0.580837</td>\n",
       "      <td>0.572941</td>\n",
       "      <td>0.583493</td>\n",
       "      <td>0.578912</td>\n",
       "      <td>0.0010</td>\n",
       "      <td>0.675984</td>\n",
       "    </tr>\n",
       "    <tr>\n",
       "      <th>4</th>\n",
       "      <td>0.581734</td>\n",
       "      <td>0.570185</td>\n",
       "      <td>0.583588</td>\n",
       "      <td>0.578817</td>\n",
       "      <td>0.0001</td>\n",
       "      <td>0.673678</td>\n",
       "    </tr>\n",
       "    <tr>\n",
       "      <th>5</th>\n",
       "      <td>0.581324</td>\n",
       "      <td>0.567730</td>\n",
       "      <td>0.583238</td>\n",
       "      <td>0.577861</td>\n",
       "      <td>0.0000</td>\n",
       "      <td>0.672404</td>\n",
       "    </tr>\n",
       "    <tr>\n",
       "      <th>1</th>\n",
       "      <td>0.577619</td>\n",
       "      <td>0.575706</td>\n",
       "      <td>0.580975</td>\n",
       "      <td>0.577191</td>\n",
       "      <td>0.1000</td>\n",
       "      <td>0.679655</td>\n",
       "    </tr>\n",
       "    <tr>\n",
       "      <th>2</th>\n",
       "      <td>0.578822</td>\n",
       "      <td>0.569600</td>\n",
       "      <td>0.581612</td>\n",
       "      <td>0.576618</td>\n",
       "      <td>0.0100</td>\n",
       "      <td>0.675412</td>\n",
       "    </tr>\n",
       "  </tbody>\n",
       "</table>\n",
       "</div>"
      ],
      "text/plain": [
       "   true_positive_rate  true_negative_rate  train_score  test_score  \\\n",
       "3            0.580837            0.572941     0.583493    0.578912   \n",
       "4            0.581734            0.570185     0.583588    0.578817   \n",
       "5            0.581324            0.567730     0.583238    0.577861   \n",
       "1            0.577619            0.575706     0.580975    0.577191   \n",
       "2            0.578822            0.569600     0.581612    0.576618   \n",
       "\n",
       "   var_smoothing  f1_score  \n",
       "3         0.0010  0.675984  \n",
       "4         0.0001  0.673678  \n",
       "5         0.0000  0.672404  \n",
       "1         0.1000  0.679655  \n",
       "2         0.0100  0.675412  "
      ]
     },
     "execution_count": 205,
     "metadata": {},
     "output_type": "execute_result"
    }
   ],
   "source": [
    "df = pd.DataFrame(gaussiannb).T.sort_values(by='test_score', ascending=False)\n",
    "df"
   ]
  },
  {
   "cell_type": "code",
   "execution_count": 124,
   "metadata": {},
   "outputs": [
    {
     "data": {
      "text/plain": [
       "<matplotlib.axes._subplots.AxesSubplot at 0x20a8a9c6f88>"
      ]
     },
     "execution_count": 124,
     "metadata": {},
     "output_type": "execute_result"
    },
    {
     "data": {
      "image/png": "[encoded data removed]",
      "text/plain": [
       "<Figure size 432x288 with 1 Axes>"
      ]
     },
     "metadata": {
      "needs_background": "light"
     },
     "output_type": "display_data"
    }
   ],
   "source": [
    "df[['test_score','var_smoothing']].groupby('var_smoothing').mean().plot()"
   ]
  },
  {
   "cell_type": "markdown",
   "metadata": {},
   "source": [
    "## Random Forest"
   ]
  },
  {
   "cell_type": "code",
   "execution_count": 206,
   "metadata": {
    "scrolled": true
   },
   "outputs": [],
   "source": [
    "random_forest = {}\n",
    "num = 1\n",
    "for criterion in ['gini', 'entropy']:\n",
    "    for max_features in [\"auto\", \"sqrt\", \"log2\"]:\n",
    "        for bootstrap in [True, False]:\n",
    "            if bootstrap==True:\n",
    "                for oob_score in [True, False]:\n",
    "                    random = RandomForestClassifier(criterion=criterion, max_features = max_features, bootstrap=bootstrap, \n",
    "                                                    oob_score=oob_score, n_jobs=-1, random_state=0, n_estimators=100)\n",
    "                    random.fit(X_train, y_train)\n",
    "                    y_pred = gnb.predict(X_test)\n",
    "                    tn, fp, fn, tp  = confusion_matrix(y_test, y_pred).ravel()\n",
    "                    random_forest[num] = {'criterion': criterion, 'max_features':max_features, 'bootstrap':bootstrap, \n",
    "                                       'oob_score':oob_score, 'train_score':random.score(X_train, y_train), \n",
    "                                       'test_score':random.score(X_test, y_test), 'true_positive_rate':tp/(tp + fp), \n",
    "                                      'true_negative_rate':tn/(tn+fn), 'f1_score': f1_score(y_test, y_pred)}\n",
    "                    num+=1\n",
    "            else:\n",
    "                random = RandomForestClassifier(criterion=criterion, max_features = max_features, bootstrap=bootstrap, \n",
    "                                                n_jobs=-1, random_state=0, n_estimators=100)\n",
    "                random.fit(X_train, y_train)\n",
    "\n",
    "                y_pred = gnb.predict(X_test)\n",
    "                tn, fp, fn, tp  = confusion_matrix(y_test, y_pred).ravel()\n",
    "                random_forest[num] = {'criterion': criterion, 'max_features':max_features, 'bootstrap':bootstrap, \n",
    "                                       'oob_score':None, 'train_score':random.score(X_train, y_train), \n",
    "                                       'test_score':random.score(X_test, y_test), 'true_positive_rate':tp/(tp + fp), \n",
    "                                      'true_negative_rate':tn/(tn+fn), 'f1_score': f1_score(y_test, y_pred)}\n",
    "                num+=1\n"
   ]
  },
  {
   "cell_type": "code",
   "execution_count": 208,
   "metadata": {},
   "outputs": [
    {
     "data": {
      "text/html": [
       "<div>\n",
       "<style scoped>\n",
       "    .dataframe tbody tr th:only-of-type {\n",
       "        vertical-align: middle;\n",
       "    }\n",
       "\n",
       "    .dataframe tbody tr th {\n",
       "        vertical-align: top;\n",
       "    }\n",
       "\n",
       "    .dataframe thead th {\n",
       "        text-align: right;\n",
       "    }\n",
       "</style>\n",
       "<table border=\"1\" class=\"dataframe\">\n",
       "  <thead>\n",
       "    <tr style=\"text-align: right;\">\n",
       "      <th></th>\n",
       "      <th>criterion</th>\n",
       "      <th>max_features</th>\n",
       "      <th>bootstrap</th>\n",
       "      <th>oob_score</th>\n",
       "      <th>train_score</th>\n",
       "      <th>test_score</th>\n",
       "      <th>true_positive_rate</th>\n",
       "      <th>true_negative_rate</th>\n",
       "      <th>f1_score</th>\n",
       "    </tr>\n",
       "  </thead>\n",
       "  <tbody>\n",
       "    <tr>\n",
       "      <th>10</th>\n",
       "      <td>entropy</td>\n",
       "      <td>auto</td>\n",
       "      <td>True</td>\n",
       "      <td>True</td>\n",
       "      <td>0.961154</td>\n",
       "      <td>0.594398</td>\n",
       "      <td>0.581324</td>\n",
       "      <td>0.56773</td>\n",
       "      <td>0.672404</td>\n",
       "    </tr>\n",
       "    <tr>\n",
       "      <th>17</th>\n",
       "      <td>entropy</td>\n",
       "      <td>log2</td>\n",
       "      <td>True</td>\n",
       "      <td>False</td>\n",
       "      <td>0.961154</td>\n",
       "      <td>0.594398</td>\n",
       "      <td>0.581324</td>\n",
       "      <td>0.56773</td>\n",
       "      <td>0.672404</td>\n",
       "    </tr>\n",
       "    <tr>\n",
       "      <th>16</th>\n",
       "      <td>entropy</td>\n",
       "      <td>log2</td>\n",
       "      <td>True</td>\n",
       "      <td>True</td>\n",
       "      <td>0.961154</td>\n",
       "      <td>0.594398</td>\n",
       "      <td>0.581324</td>\n",
       "      <td>0.56773</td>\n",
       "      <td>0.672404</td>\n",
       "    </tr>\n",
       "    <tr>\n",
       "      <th>14</th>\n",
       "      <td>entropy</td>\n",
       "      <td>sqrt</td>\n",
       "      <td>True</td>\n",
       "      <td>False</td>\n",
       "      <td>0.961154</td>\n",
       "      <td>0.594398</td>\n",
       "      <td>0.581324</td>\n",
       "      <td>0.56773</td>\n",
       "      <td>0.672404</td>\n",
       "    </tr>\n",
       "    <tr>\n",
       "      <th>13</th>\n",
       "      <td>entropy</td>\n",
       "      <td>sqrt</td>\n",
       "      <td>True</td>\n",
       "      <td>True</td>\n",
       "      <td>0.961154</td>\n",
       "      <td>0.594398</td>\n",
       "      <td>0.581324</td>\n",
       "      <td>0.56773</td>\n",
       "      <td>0.672404</td>\n",
       "    </tr>\n",
       "    <tr>\n",
       "      <th>11</th>\n",
       "      <td>entropy</td>\n",
       "      <td>auto</td>\n",
       "      <td>True</td>\n",
       "      <td>False</td>\n",
       "      <td>0.961154</td>\n",
       "      <td>0.594398</td>\n",
       "      <td>0.581324</td>\n",
       "      <td>0.56773</td>\n",
       "      <td>0.672404</td>\n",
       "    </tr>\n",
       "    <tr>\n",
       "      <th>2</th>\n",
       "      <td>gini</td>\n",
       "      <td>auto</td>\n",
       "      <td>True</td>\n",
       "      <td>False</td>\n",
       "      <td>0.961154</td>\n",
       "      <td>0.583692</td>\n",
       "      <td>0.581324</td>\n",
       "      <td>0.56773</td>\n",
       "      <td>0.672404</td>\n",
       "    </tr>\n",
       "    <tr>\n",
       "      <th>1</th>\n",
       "      <td>gini</td>\n",
       "      <td>auto</td>\n",
       "      <td>True</td>\n",
       "      <td>True</td>\n",
       "      <td>0.961154</td>\n",
       "      <td>0.583692</td>\n",
       "      <td>0.581324</td>\n",
       "      <td>0.56773</td>\n",
       "      <td>0.672404</td>\n",
       "    </tr>\n",
       "    <tr>\n",
       "      <th>8</th>\n",
       "      <td>gini</td>\n",
       "      <td>log2</td>\n",
       "      <td>True</td>\n",
       "      <td>False</td>\n",
       "      <td>0.961154</td>\n",
       "      <td>0.583692</td>\n",
       "      <td>0.581324</td>\n",
       "      <td>0.56773</td>\n",
       "      <td>0.672404</td>\n",
       "    </tr>\n",
       "    <tr>\n",
       "      <th>7</th>\n",
       "      <td>gini</td>\n",
       "      <td>log2</td>\n",
       "      <td>True</td>\n",
       "      <td>True</td>\n",
       "      <td>0.961154</td>\n",
       "      <td>0.583692</td>\n",
       "      <td>0.581324</td>\n",
       "      <td>0.56773</td>\n",
       "      <td>0.672404</td>\n",
       "    </tr>\n",
       "    <tr>\n",
       "      <th>5</th>\n",
       "      <td>gini</td>\n",
       "      <td>sqrt</td>\n",
       "      <td>True</td>\n",
       "      <td>False</td>\n",
       "      <td>0.961154</td>\n",
       "      <td>0.583692</td>\n",
       "      <td>0.581324</td>\n",
       "      <td>0.56773</td>\n",
       "      <td>0.672404</td>\n",
       "    </tr>\n",
       "    <tr>\n",
       "      <th>4</th>\n",
       "      <td>gini</td>\n",
       "      <td>sqrt</td>\n",
       "      <td>True</td>\n",
       "      <td>True</td>\n",
       "      <td>0.961154</td>\n",
       "      <td>0.583692</td>\n",
       "      <td>0.581324</td>\n",
       "      <td>0.56773</td>\n",
       "      <td>0.672404</td>\n",
       "    </tr>\n",
       "    <tr>\n",
       "      <th>9</th>\n",
       "      <td>gini</td>\n",
       "      <td>log2</td>\n",
       "      <td>False</td>\n",
       "      <td>None</td>\n",
       "      <td>0.961154</td>\n",
       "      <td>0.580537</td>\n",
       "      <td>0.581324</td>\n",
       "      <td>0.56773</td>\n",
       "      <td>0.672404</td>\n",
       "    </tr>\n",
       "    <tr>\n",
       "      <th>6</th>\n",
       "      <td>gini</td>\n",
       "      <td>sqrt</td>\n",
       "      <td>False</td>\n",
       "      <td>None</td>\n",
       "      <td>0.961154</td>\n",
       "      <td>0.580537</td>\n",
       "      <td>0.581324</td>\n",
       "      <td>0.56773</td>\n",
       "      <td>0.672404</td>\n",
       "    </tr>\n",
       "    <tr>\n",
       "      <th>3</th>\n",
       "      <td>gini</td>\n",
       "      <td>auto</td>\n",
       "      <td>False</td>\n",
       "      <td>None</td>\n",
       "      <td>0.961154</td>\n",
       "      <td>0.580537</td>\n",
       "      <td>0.581324</td>\n",
       "      <td>0.56773</td>\n",
       "      <td>0.672404</td>\n",
       "    </tr>\n",
       "    <tr>\n",
       "      <th>12</th>\n",
       "      <td>entropy</td>\n",
       "      <td>auto</td>\n",
       "      <td>False</td>\n",
       "      <td>None</td>\n",
       "      <td>0.961154</td>\n",
       "      <td>0.578721</td>\n",
       "      <td>0.581324</td>\n",
       "      <td>0.56773</td>\n",
       "      <td>0.672404</td>\n",
       "    </tr>\n",
       "    <tr>\n",
       "      <th>15</th>\n",
       "      <td>entropy</td>\n",
       "      <td>sqrt</td>\n",
       "      <td>False</td>\n",
       "      <td>None</td>\n",
       "      <td>0.961154</td>\n",
       "      <td>0.578721</td>\n",
       "      <td>0.581324</td>\n",
       "      <td>0.56773</td>\n",
       "      <td>0.672404</td>\n",
       "    </tr>\n",
       "    <tr>\n",
       "      <th>18</th>\n",
       "      <td>entropy</td>\n",
       "      <td>log2</td>\n",
       "      <td>False</td>\n",
       "      <td>None</td>\n",
       "      <td>0.961154</td>\n",
       "      <td>0.578721</td>\n",
       "      <td>0.581324</td>\n",
       "      <td>0.56773</td>\n",
       "      <td>0.672404</td>\n",
       "    </tr>\n",
       "  </tbody>\n",
       "</table>\n",
       "</div>"
      ],
      "text/plain": [
       "   criterion max_features bootstrap oob_score train_score test_score  \\\n",
       "10   entropy         auto      True      True    0.961154   0.594398   \n",
       "17   entropy         log2      True     False    0.961154   0.594398   \n",
       "16   entropy         log2      True      True    0.961154   0.594398   \n",
       "14   entropy         sqrt      True     False    0.961154   0.594398   \n",
       "13   entropy         sqrt      True      True    0.961154   0.594398   \n",
       "11   entropy         auto      True     False    0.961154   0.594398   \n",
       "2       gini         auto      True     False    0.961154   0.583692   \n",
       "1       gini         auto      True      True    0.961154   0.583692   \n",
       "8       gini         log2      True     False    0.961154   0.583692   \n",
       "7       gini         log2      True      True    0.961154   0.583692   \n",
       "5       gini         sqrt      True     False    0.961154   0.583692   \n",
       "4       gini         sqrt      True      True    0.961154   0.583692   \n",
       "9       gini         log2     False      None    0.961154   0.580537   \n",
       "6       gini         sqrt     False      None    0.961154   0.580537   \n",
       "3       gini         auto     False      None    0.961154   0.580537   \n",
       "12   entropy         auto     False      None    0.961154   0.578721   \n",
       "15   entropy         sqrt     False      None    0.961154   0.578721   \n",
       "18   entropy         log2     False      None    0.961154   0.578721   \n",
       "\n",
       "   true_positive_rate true_negative_rate  f1_score  \n",
       "10           0.581324            0.56773  0.672404  \n",
       "17           0.581324            0.56773  0.672404  \n",
       "16           0.581324            0.56773  0.672404  \n",
       "14           0.581324            0.56773  0.672404  \n",
       "13           0.581324            0.56773  0.672404  \n",
       "11           0.581324            0.56773  0.672404  \n",
       "2            0.581324            0.56773  0.672404  \n",
       "1            0.581324            0.56773  0.672404  \n",
       "8            0.581324            0.56773  0.672404  \n",
       "7            0.581324            0.56773  0.672404  \n",
       "5            0.581324            0.56773  0.672404  \n",
       "4            0.581324            0.56773  0.672404  \n",
       "9            0.581324            0.56773  0.672404  \n",
       "6            0.581324            0.56773  0.672404  \n",
       "3            0.581324            0.56773  0.672404  \n",
       "12           0.581324            0.56773  0.672404  \n",
       "15           0.581324            0.56773  0.672404  \n",
       "18           0.581324            0.56773  0.672404  "
      ]
     },
     "execution_count": 208,
     "metadata": {},
     "output_type": "execute_result"
    }
   ],
   "source": [
    "df = pd.DataFrame(random_forest).T.sort_values(by='test_score', ascending=False)\n",
    "df"
   ]
  },
  {
   "cell_type": "code",
   "execution_count": 127,
   "metadata": {},
   "outputs": [
    {
     "data": {
      "text/plain": [
       "<matplotlib.axes._subplots.AxesSubplot at 0x20a8a9eac08>"
      ]
     },
     "execution_count": 127,
     "metadata": {},
     "output_type": "execute_result"
    },
    {
     "data": {
      "image/png": "[encoded data removed]",
      "text/plain": [
       "<Figure size 432x288 with 1 Axes>"
      ]
     },
     "metadata": {
      "needs_background": "light"
     },
     "output_type": "display_data"
    }
   ],
   "source": [
    "df['test_score'] = df['test_score'].astype('float64')\n",
    "df[['criterion', 'test_score']].groupby('criterion').mean().plot.bar()"
   ]
  },
  {
   "cell_type": "code",
   "execution_count": 128,
   "metadata": {},
   "outputs": [
    {
     "data": {
      "text/plain": [
       "<matplotlib.axes._subplots.AxesSubplot at 0x20a8aa37648>"
      ]
     },
     "execution_count": 128,
     "metadata": {},
     "output_type": "execute_result"
    },
    {
     "data": {
      "image/png": "[encoded data removed]",
      "text/plain": [
       "<Figure size 432x288 with 1 Axes>"
      ]
     },
     "metadata": {
      "needs_background": "light"
     },
     "output_type": "display_data"
    }
   ],
   "source": [
    "df[['max_features', 'test_score']].groupby('max_features').mean().plot.bar()"
   ]
  },
  {
   "cell_type": "code",
   "execution_count": 129,
   "metadata": {},
   "outputs": [
    {
     "data": {
      "text/plain": [
       "<matplotlib.axes._subplots.AxesSubplot at 0x20a8aa71808>"
      ]
     },
     "execution_count": 129,
     "metadata": {},
     "output_type": "execute_result"
    },
    {
     "data": {
      "image/png": "[encoded data removed]",
      "text/plain": [
       "<Figure size 432x288 with 1 Axes>"
      ]
     },
     "metadata": {
      "needs_background": "light"
     },
     "output_type": "display_data"
    }
   ],
   "source": [
    "df[['bootstrap', 'test_score']].groupby('bootstrap').mean().plot.bar()"
   ]
  },
  {
   "cell_type": "markdown",
   "metadata": {},
   "source": [
    "## Extreme Gradient Booster"
   ]
  },
  {
   "cell_type": "code",
   "execution_count": 130,
   "metadata": {
    "scrolled": true
   },
   "outputs": [],
   "source": [
    "learning_rate = [0.1, 0.2, 0.3]\n",
    "max_depth = [3, 4, 5, 6, 7, 8, 9, 10]\n",
    "eval_set = [(X_test, y_test)]\n",
    "EGB = {}\n",
    "num = 1\n",
    "for lr in learning_rate:\n",
    "    for md in max_depth:\n",
    "        xgboost = XGBClassifier(learning_rate=lr, max_depth=md, use_label_encoder=False)\n",
    "        xgboost.fit(X_train, y_train, eval_metric='accuracy', eval_set=eval_set, \n",
    "                    early_stopping_rounds=50, verbose=False)\n",
    "        EGB[num] = {'learning_rate': lr, 'max_depth': md, \n",
    "                           'train_score': xgboost.score(X_train, y_train), \n",
    "                           'test_score':xgboost.score(X_test, y_test)}\n",
    "        num+=1"
   ]
  },
  {
   "cell_type": "code",
   "execution_count": 131,
   "metadata": {},
   "outputs": [
    {
     "data": {
      "text/html": [
       "<div>\n",
       "<style scoped>\n",
       "    .dataframe tbody tr th:only-of-type {\n",
       "        vertical-align: middle;\n",
       "    }\n",
       "\n",
       "    .dataframe tbody tr th {\n",
       "        vertical-align: top;\n",
       "    }\n",
       "\n",
       "    .dataframe thead th {\n",
       "        text-align: right;\n",
       "    }\n",
       "</style>\n",
       "<table border=\"1\" class=\"dataframe\">\n",
       "  <thead>\n",
       "    <tr style=\"text-align: right;\">\n",
       "      <th></th>\n",
       "      <th>learning_rate</th>\n",
       "      <th>max_depth</th>\n",
       "      <th>train_score</th>\n",
       "      <th>test_score</th>\n",
       "    </tr>\n",
       "  </thead>\n",
       "  <tbody>\n",
       "    <tr>\n",
       "      <th>3</th>\n",
       "      <td>0.1</td>\n",
       "      <td>5.0</td>\n",
       "      <td>0.660580</td>\n",
       "      <td>0.632349</td>\n",
       "    </tr>\n",
       "    <tr>\n",
       "      <th>17</th>\n",
       "      <td>0.3</td>\n",
       "      <td>3.0</td>\n",
       "      <td>0.650510</td>\n",
       "      <td>0.630915</td>\n",
       "    </tr>\n",
       "    <tr>\n",
       "      <th>21</th>\n",
       "      <td>0.3</td>\n",
       "      <td>7.0</td>\n",
       "      <td>0.674857</td>\n",
       "      <td>0.630915</td>\n",
       "    </tr>\n",
       "    <tr>\n",
       "      <th>2</th>\n",
       "      <td>0.1</td>\n",
       "      <td>4.0</td>\n",
       "      <td>0.651179</td>\n",
       "      <td>0.629959</td>\n",
       "    </tr>\n",
       "    <tr>\n",
       "      <th>4</th>\n",
       "      <td>0.1</td>\n",
       "      <td>6.0</td>\n",
       "      <td>0.669662</td>\n",
       "      <td>0.629003</td>\n",
       "    </tr>\n",
       "  </tbody>\n",
       "</table>\n",
       "</div>"
      ],
      "text/plain": [
       "    learning_rate  max_depth  train_score  test_score\n",
       "3             0.1        5.0     0.660580    0.632349\n",
       "17            0.3        3.0     0.650510    0.630915\n",
       "21            0.3        7.0     0.674857    0.630915\n",
       "2             0.1        4.0     0.651179    0.629959\n",
       "4             0.1        6.0     0.669662    0.629003"
      ]
     },
     "execution_count": 131,
     "metadata": {},
     "output_type": "execute_result"
    }
   ],
   "source": [
    "df = pd.DataFrame(EGB).T.sort_values(by='test_score', ascending=False)\n",
    "df.head()"
   ]
  },
  {
   "cell_type": "code",
   "execution_count": 132,
   "metadata": {},
   "outputs": [
    {
     "data": {
      "text/plain": [
       "<matplotlib.axes._subplots.AxesSubplot at 0x20a8aa69708>"
      ]
     },
     "execution_count": 132,
     "metadata": {},
     "output_type": "execute_result"
    },
    {
     "data": {
      "image/png": "[encoded data removed]",
      "text/plain": [
       "<Figure size 432x288 with 1 Axes>"
      ]
     },
     "metadata": {
      "needs_background": "light"
     },
     "output_type": "display_data"
    }
   ],
   "source": [
    "df[['learning_rate', 'test_score']].groupby('learning_rate').mean().plot()"
   ]
  },
  {
   "cell_type": "code",
   "execution_count": 133,
   "metadata": {},
   "outputs": [
    {
     "data": {
      "text/plain": [
       "<matplotlib.axes._subplots.AxesSubplot at 0x20a8aa6f648>"
      ]
     },
     "execution_count": 133,
     "metadata": {},
     "output_type": "execute_result"
    },
    {
     "data": {
      "image/png": "[encoded data removed]",
      "text/plain": [
       "<Figure size 432x288 with 1 Axes>"
      ]
     },
     "metadata": {
      "needs_background": "light"
     },
     "output_type": "display_data"
    }
   ],
   "source": [
    "df[['max_depth', 'test_score']].groupby('max_depth').mean().plot()"
   ]
  },
  {
   "cell_type": "code",
   "execution_count": 134,
   "metadata": {},
   "outputs": [
    {
     "data": {
      "text/plain": [
       "array([0.05478346, 0.06234913, 0.06244046, 0.06476523, 0.06504831,\n",
       "       0.0693244 , 0.14522085, 0.07247848, 0.07421848, 0.08963277,\n",
       "       0.0618017 , 0.06189831, 0.06009129, 0.05594721], dtype=float32)"
      ]
     },
     "execution_count": 134,
     "metadata": {},
     "output_type": "execute_result"
    }
   ],
   "source": [
    "xgboost.best_score\n",
    "xgboost.feature_importances_"
   ]
  },
  {
   "cell_type": "code",
   "execution_count": 135,
   "metadata": {},
   "outputs": [
    {
     "data": {
      "text/plain": [
       "<matplotlib.axes._subplots.AxesSubplot at 0x20a8af81bc8>"
      ]
     },
     "execution_count": 135,
     "metadata": {},
     "output_type": "execute_result"
    },
    {
     "data": {
      "image/png": "[encoded data removed]",
      "text/plain": [
       "<Figure size 432x288 with 1 Axes>"
      ]
     },
     "metadata": {
      "needs_background": "light"
     },
     "output_type": "display_data"
    }
   ],
   "source": [
    "plot_importance(xgboost)"
   ]
  },
  {
   "cell_type": "code",
   "execution_count": null,
   "metadata": {},
   "outputs": [],
   "source": [
    "thresholds = sorted(xgboost.feature_importances_)\n",
    "lr = .1\n",
    "md = 5\n",
    "early_stopping_rounds = [50, 100, 150]\n",
    "\n",
    "for thresh in thresholds:\n",
    "    # select features using threshold\n",
    "    selection = SelectFromModel(xgboost, threshold=thresh, prefit=True)\n",
    "    select_X_train = selection.transform(X_train)\n",
    "    select_X_test = selection.transform(X_test)\n",
    "    eval_set = [(select_X_test, y_test)]\n",
    "    selection = {}\n",
    "    count=1\n",
    "    # train model\n",
    "    selection_model = XGBClassifier(learning_rate=lr, max_depth=md, use_label_encoder=False)\n",
    "    for esr in early_stopping_rounds:\n",
    "        selection_model.fit(select_X_train, y_train, eval_metric='logloss', eval_set=eval_set, \n",
    "                            early_stopping_rounds=esr, verbose=False)\n",
    "        # eval model\n",
    "        y_pred = selection_model.predict(select_X_test)\n",
    "        predictions = [round(value) for value in y_pred]\n",
    "        f1_score = f1_score(y_test, y_pred)\n",
    "        selection[count] = {'threshold': thresh,\n",
    "                             'learning_rate':lr,\n",
    "                             'max_depth':md,\n",
    "                             'early_stopping_rounds':esr, \n",
    "                             'num_features':select_X_train.shape[1], \n",
    "                             'f1_score': f1_score*100}\n",
    "        count+=1"
   ]
  },
  {
   "cell_type": "code",
   "execution_count": null,
   "metadata": {},
   "outputs": [],
   "source": [
    "pd.DataFrame(selection).T.sort_values(by='accuracy', ascending=False)"
   ]
  },
  {
   "cell_type": "code",
   "execution_count": 194,
   "metadata": {},
   "outputs": [],
   "source": [
    "dtrain = xgb.DMatrix(X_train,y_train)\n",
    "dtest = xgb.DMatrix(X_test,y_test)\n",
    "eval_set = [(X_test, y_test)]\n",
    "lr = .1\n",
    "md = 5\n",
    "D_matrix = {}\n",
    "\n",
    "param = {'learning_rate':lr,\n",
    "         'max_depth':md, \n",
    "         'objective': 'binary:logistic'}\n",
    "num_round = 300\n",
    "cv = xgb.cv(param, dtrain, num_round)\n",
    "cv['learning_rate'] = lr\n",
    "cv['max_depth'] = md\n",
    "D_matrix[f'{lr}-{md}'] = cv"
   ]
  },
  {
   "cell_type": "code",
   "execution_count": 192,
   "metadata": {
    "scrolled": true
   },
   "outputs": [
    {
     "data": {
      "text/html": [
       "<div>\n",
       "<style scoped>\n",
       "    .dataframe tbody tr th:only-of-type {\n",
       "        vertical-align: middle;\n",
       "    }\n",
       "\n",
       "    .dataframe tbody tr th {\n",
       "        vertical-align: top;\n",
       "    }\n",
       "\n",
       "    .dataframe thead th {\n",
       "        text-align: right;\n",
       "    }\n",
       "</style>\n",
       "<table border=\"1\" class=\"dataframe\">\n",
       "  <thead>\n",
       "    <tr style=\"text-align: right;\">\n",
       "      <th></th>\n",
       "      <th>train-logloss-mean</th>\n",
       "      <th>train-logloss-std</th>\n",
       "      <th>test-logloss-mean</th>\n",
       "      <th>test-logloss-std</th>\n",
       "      <th>learning_rate</th>\n",
       "      <th>max_depth</th>\n",
       "    </tr>\n",
       "  </thead>\n",
       "  <tbody>\n",
       "    <tr>\n",
       "      <th>62</th>\n",
       "      <td>0.612070</td>\n",
       "      <td>0.000389</td>\n",
       "      <td>0.643931</td>\n",
       "      <td>0.002585</td>\n",
       "      <td>0.1</td>\n",
       "      <td>5</td>\n",
       "    </tr>\n",
       "    <tr>\n",
       "      <th>63</th>\n",
       "      <td>0.611677</td>\n",
       "      <td>0.000303</td>\n",
       "      <td>0.643933</td>\n",
       "      <td>0.002589</td>\n",
       "      <td>0.1</td>\n",
       "      <td>5</td>\n",
       "    </tr>\n",
       "    <tr>\n",
       "      <th>65</th>\n",
       "      <td>0.610922</td>\n",
       "      <td>0.000449</td>\n",
       "      <td>0.643960</td>\n",
       "      <td>0.002511</td>\n",
       "      <td>0.1</td>\n",
       "      <td>5</td>\n",
       "    </tr>\n",
       "    <tr>\n",
       "      <th>72</th>\n",
       "      <td>0.608205</td>\n",
       "      <td>0.000287</td>\n",
       "      <td>0.643971</td>\n",
       "      <td>0.002456</td>\n",
       "      <td>0.1</td>\n",
       "      <td>5</td>\n",
       "    </tr>\n",
       "    <tr>\n",
       "      <th>64</th>\n",
       "      <td>0.611338</td>\n",
       "      <td>0.000363</td>\n",
       "      <td>0.643983</td>\n",
       "      <td>0.002540</td>\n",
       "      <td>0.1</td>\n",
       "      <td>5</td>\n",
       "    </tr>\n",
       "    <tr>\n",
       "      <th>...</th>\n",
       "      <td>...</td>\n",
       "      <td>...</td>\n",
       "      <td>...</td>\n",
       "      <td>...</td>\n",
       "      <td>...</td>\n",
       "      <td>...</td>\n",
       "    </tr>\n",
       "    <tr>\n",
       "      <th>4</th>\n",
       "      <td>0.666284</td>\n",
       "      <td>0.000561</td>\n",
       "      <td>0.669693</td>\n",
       "      <td>0.001130</td>\n",
       "      <td>0.1</td>\n",
       "      <td>5</td>\n",
       "    </tr>\n",
       "    <tr>\n",
       "      <th>3</th>\n",
       "      <td>0.670113</td>\n",
       "      <td>0.000407</td>\n",
       "      <td>0.672926</td>\n",
       "      <td>0.000794</td>\n",
       "      <td>0.1</td>\n",
       "      <td>5</td>\n",
       "    </tr>\n",
       "    <tr>\n",
       "      <th>2</th>\n",
       "      <td>0.674707</td>\n",
       "      <td>0.000699</td>\n",
       "      <td>0.676888</td>\n",
       "      <td>0.000366</td>\n",
       "      <td>0.1</td>\n",
       "      <td>5</td>\n",
       "    </tr>\n",
       "    <tr>\n",
       "      <th>1</th>\n",
       "      <td>0.679753</td>\n",
       "      <td>0.000499</td>\n",
       "      <td>0.681270</td>\n",
       "      <td>0.000128</td>\n",
       "      <td>0.1</td>\n",
       "      <td>5</td>\n",
       "    </tr>\n",
       "    <tr>\n",
       "      <th>0</th>\n",
       "      <td>0.685846</td>\n",
       "      <td>0.000343</td>\n",
       "      <td>0.686595</td>\n",
       "      <td>0.000086</td>\n",
       "      <td>0.1</td>\n",
       "      <td>5</td>\n",
       "    </tr>\n",
       "  </tbody>\n",
       "</table>\n",
       "<p>300 rows × 6 columns</p>\n",
       "</div>"
      ],
      "text/plain": [
       "    train-logloss-mean  train-logloss-std  test-logloss-mean  \\\n",
       "62            0.612070           0.000389           0.643931   \n",
       "63            0.611677           0.000303           0.643933   \n",
       "65            0.610922           0.000449           0.643960   \n",
       "72            0.608205           0.000287           0.643971   \n",
       "64            0.611338           0.000363           0.643983   \n",
       "..                 ...                ...                ...   \n",
       "4             0.666284           0.000561           0.669693   \n",
       "3             0.670113           0.000407           0.672926   \n",
       "2             0.674707           0.000699           0.676888   \n",
       "1             0.679753           0.000499           0.681270   \n",
       "0             0.685846           0.000343           0.686595   \n",
       "\n",
       "    test-logloss-std  learning_rate  max_depth  \n",
       "62          0.002585            0.1          5  \n",
       "63          0.002589            0.1          5  \n",
       "65          0.002511            0.1          5  \n",
       "72          0.002456            0.1          5  \n",
       "64          0.002540            0.1          5  \n",
       "..               ...            ...        ...  \n",
       "4           0.001130            0.1          5  \n",
       "3           0.000794            0.1          5  \n",
       "2           0.000366            0.1          5  \n",
       "1           0.000128            0.1          5  \n",
       "0           0.000086            0.1          5  \n",
       "\n",
       "[300 rows x 6 columns]"
      ]
     },
     "execution_count": 192,
     "metadata": {},
     "output_type": "execute_result"
    }
   ],
   "source": [
    "pd.concat(D_matrix.values()).sort_values(by='test-logloss-mean')"
   ]
  },
  {
   "cell_type": "markdown",
   "metadata": {},
   "source": [
    "# Grid search"
   ]
  },
  {
   "cell_type": "code",
   "execution_count": 188,
   "metadata": {},
   "outputs": [
    {
     "name": "stderr",
     "output_type": "stream",
     "text": [
      "C:\\Users\\rayde\\Anaconda3\\lib\\site-packages\\sklearn\\model_selection\\_split.py:1978: FutureWarning: The default value of cv will change from 3 to 5 in version 0.22. Specify it explicitly to silence this warning.\n",
      "  warnings.warn(CV_WARNING, FutureWarning)\n"
     ]
    },
    {
     "data": {
      "text/plain": [
       "GridSearchCV(cv='warn', error_score='raise-deprecating',\n",
       "             estimator=XGBClassifier(base_score=None, booster=None,\n",
       "                                     colsample_bylevel=None,\n",
       "                                     colsample_bynode=None,\n",
       "                                     colsample_bytree=None, cv=[5],\n",
       "                                     early_stopping_rounds=50, gamma=None,\n",
       "                                     gpu_id=None, importance_type='gain',\n",
       "                                     interaction_constraints=None,\n",
       "                                     learning_rate=None, max_delta_step=None,\n",
       "                                     max_depth=None, min_child_weig...\n",
       "                                                 'max_depth': [3, 4, 5, 6, 7, 8,\n",
       "                                                               9, 10]},\n",
       "                                     random_state=None, reg_alpha=None,\n",
       "                                     reg_lambda=None, scale_pos_weight=None,\n",
       "                                     subsample=None, tree_method=None,\n",
       "                                     use_label_encoder=False,\n",
       "                                     validate_parameters=None, ...),\n",
       "             iid='warn', n_jobs=None,\n",
       "             param_grid={'learning_rate': [0.1, 0.2, 0.3],\n",
       "                         'max_depth': [3, 4, 5, 6, 7, 8, 9, 10]},\n",
       "             pre_dispatch='2*n_jobs', refit=True, return_train_score=True,\n",
       "             scoring='f1', verbose=0)"
      ]
     },
     "execution_count": 188,
     "metadata": {},
     "output_type": "execute_result"
    }
   ],
   "source": [
    "eval_set = [(X_test, y_test)]\n",
    "param_grid = {\n",
    "                'learning_rate': [0.1, 0.2, 0.3],\n",
    "              'max_depth':[3, 4, 5, 6, 7, 8, 9, 10],\n",
    "}\n",
    "\n",
    "svc = XGBClassifier(cv=[5], param_grid=param_grid,use_label_encoder=False, verbosity=0, early_stopping_rounds=50)\n",
    "\n",
    "clf = GridSearchCV(svc, param_grid=param_grid, return_train_score=True, verbose=0, scoring='f1')\n",
    "\n",
    "clf.fit(X_train, y_train, eval_set=eval_set, verbose=0)"
   ]
  },
  {
   "cell_type": "code",
   "execution_count": 189,
   "metadata": {},
   "outputs": [
    {
     "data": {
      "text/html": [
       "<div>\n",
       "<style scoped>\n",
       "    .dataframe tbody tr th:only-of-type {\n",
       "        vertical-align: middle;\n",
       "    }\n",
       "\n",
       "    .dataframe tbody tr th {\n",
       "        vertical-align: top;\n",
       "    }\n",
       "\n",
       "    .dataframe thead th {\n",
       "        text-align: right;\n",
       "    }\n",
       "</style>\n",
       "<table border=\"1\" class=\"dataframe\">\n",
       "  <thead>\n",
       "    <tr style=\"text-align: right;\">\n",
       "      <th></th>\n",
       "      <th>mean_fit_time</th>\n",
       "      <th>std_fit_time</th>\n",
       "      <th>mean_score_time</th>\n",
       "      <th>std_score_time</th>\n",
       "      <th>param_learning_rate</th>\n",
       "      <th>param_max_depth</th>\n",
       "      <th>params</th>\n",
       "      <th>split0_test_score</th>\n",
       "      <th>split1_test_score</th>\n",
       "      <th>split2_test_score</th>\n",
       "      <th>mean_test_score</th>\n",
       "      <th>std_test_score</th>\n",
       "      <th>rank_test_score</th>\n",
       "      <th>split0_train_score</th>\n",
       "      <th>split1_train_score</th>\n",
       "      <th>split2_train_score</th>\n",
       "      <th>mean_train_score</th>\n",
       "      <th>std_train_score</th>\n",
       "    </tr>\n",
       "  </thead>\n",
       "  <tbody>\n",
       "    <tr>\n",
       "      <th>1</th>\n",
       "      <td>0.803464</td>\n",
       "      <td>0.006814</td>\n",
       "      <td>0.020002</td>\n",
       "      <td>0.000817</td>\n",
       "      <td>0.1</td>\n",
       "      <td>4</td>\n",
       "      <td>{'learning_rate': 0.1, 'max_depth': 4}</td>\n",
       "      <td>0.686676</td>\n",
       "      <td>0.678837</td>\n",
       "      <td>0.686242</td>\n",
       "      <td>0.683919</td>\n",
       "      <td>0.003597</td>\n",
       "      <td>1</td>\n",
       "      <td>0.711990</td>\n",
       "      <td>0.707759</td>\n",
       "      <td>0.706156</td>\n",
       "      <td>0.708635</td>\n",
       "      <td>0.002461</td>\n",
       "    </tr>\n",
       "    <tr>\n",
       "      <th>0</th>\n",
       "      <td>0.704311</td>\n",
       "      <td>0.053720</td>\n",
       "      <td>0.020000</td>\n",
       "      <td>0.000817</td>\n",
       "      <td>0.1</td>\n",
       "      <td>3</td>\n",
       "      <td>{'learning_rate': 0.1, 'max_depth': 3}</td>\n",
       "      <td>0.685603</td>\n",
       "      <td>0.677293</td>\n",
       "      <td>0.684707</td>\n",
       "      <td>0.682534</td>\n",
       "      <td>0.003724</td>\n",
       "      <td>2</td>\n",
       "      <td>0.697801</td>\n",
       "      <td>0.695397</td>\n",
       "      <td>0.695369</td>\n",
       "      <td>0.696189</td>\n",
       "      <td>0.001140</td>\n",
       "    </tr>\n",
       "    <tr>\n",
       "      <th>2</th>\n",
       "      <td>1.043223</td>\n",
       "      <td>0.027596</td>\n",
       "      <td>0.023333</td>\n",
       "      <td>0.001247</td>\n",
       "      <td>0.1</td>\n",
       "      <td>5</td>\n",
       "      <td>{'learning_rate': 0.1, 'max_depth': 5}</td>\n",
       "      <td>0.684129</td>\n",
       "      <td>0.671805</td>\n",
       "      <td>0.685378</td>\n",
       "      <td>0.680437</td>\n",
       "      <td>0.006125</td>\n",
       "      <td>3</td>\n",
       "      <td>0.726938</td>\n",
       "      <td>0.725657</td>\n",
       "      <td>0.725377</td>\n",
       "      <td>0.725991</td>\n",
       "      <td>0.000680</td>\n",
       "    </tr>\n",
       "    <tr>\n",
       "      <th>8</th>\n",
       "      <td>0.716403</td>\n",
       "      <td>0.047851</td>\n",
       "      <td>0.019588</td>\n",
       "      <td>0.001000</td>\n",
       "      <td>0.2</td>\n",
       "      <td>3</td>\n",
       "      <td>{'learning_rate': 0.2, 'max_depth': 3}</td>\n",
       "      <td>0.680239</td>\n",
       "      <td>0.675224</td>\n",
       "      <td>0.684163</td>\n",
       "      <td>0.679875</td>\n",
       "      <td>0.003658</td>\n",
       "      <td>4</td>\n",
       "      <td>0.703112</td>\n",
       "      <td>0.704170</td>\n",
       "      <td>0.700481</td>\n",
       "      <td>0.702588</td>\n",
       "      <td>0.001551</td>\n",
       "    </tr>\n",
       "    <tr>\n",
       "      <th>16</th>\n",
       "      <td>0.710673</td>\n",
       "      <td>0.022327</td>\n",
       "      <td>0.019774</td>\n",
       "      <td>0.000563</td>\n",
       "      <td>0.3</td>\n",
       "      <td>3</td>\n",
       "      <td>{'learning_rate': 0.3, 'max_depth': 3}</td>\n",
       "      <td>0.680521</td>\n",
       "      <td>0.673780</td>\n",
       "      <td>0.684803</td>\n",
       "      <td>0.679701</td>\n",
       "      <td>0.004537</td>\n",
       "      <td>5</td>\n",
       "      <td>0.707715</td>\n",
       "      <td>0.709491</td>\n",
       "      <td>0.707048</td>\n",
       "      <td>0.708085</td>\n",
       "      <td>0.001031</td>\n",
       "    </tr>\n",
       "  </tbody>\n",
       "</table>\n",
       "</div>"
      ],
      "text/plain": [
       "    mean_fit_time  std_fit_time  mean_score_time  std_score_time  \\\n",
       "1        0.803464      0.006814         0.020002        0.000817   \n",
       "0        0.704311      0.053720         0.020000        0.000817   \n",
       "2        1.043223      0.027596         0.023333        0.001247   \n",
       "8        0.716403      0.047851         0.019588        0.001000   \n",
       "16       0.710673      0.022327         0.019774        0.000563   \n",
       "\n",
       "   param_learning_rate param_max_depth  \\\n",
       "1                  0.1               4   \n",
       "0                  0.1               3   \n",
       "2                  0.1               5   \n",
       "8                  0.2               3   \n",
       "16                 0.3               3   \n",
       "\n",
       "                                    params  split0_test_score  \\\n",
       "1   {'learning_rate': 0.1, 'max_depth': 4}           0.686676   \n",
       "0   {'learning_rate': 0.1, 'max_depth': 3}           0.685603   \n",
       "2   {'learning_rate': 0.1, 'max_depth': 5}           0.684129   \n",
       "8   {'learning_rate': 0.2, 'max_depth': 3}           0.680239   \n",
       "16  {'learning_rate': 0.3, 'max_depth': 3}           0.680521   \n",
       "\n",
       "    split1_test_score  split2_test_score  mean_test_score  std_test_score  \\\n",
       "1            0.678837           0.686242         0.683919        0.003597   \n",
       "0            0.677293           0.684707         0.682534        0.003724   \n",
       "2            0.671805           0.685378         0.680437        0.006125   \n",
       "8            0.675224           0.684163         0.679875        0.003658   \n",
       "16           0.673780           0.684803         0.679701        0.004537   \n",
       "\n",
       "    rank_test_score  split0_train_score  split1_train_score  \\\n",
       "1                 1            0.711990            0.707759   \n",
       "0                 2            0.697801            0.695397   \n",
       "2                 3            0.726938            0.725657   \n",
       "8                 4            0.703112            0.704170   \n",
       "16                5            0.707715            0.709491   \n",
       "\n",
       "    split2_train_score  mean_train_score  std_train_score  \n",
       "1             0.706156          0.708635         0.002461  \n",
       "0             0.695369          0.696189         0.001140  \n",
       "2             0.725377          0.725991         0.000680  \n",
       "8             0.700481          0.702588         0.001551  \n",
       "16            0.707048          0.708085         0.001031  "
      ]
     },
     "execution_count": 189,
     "metadata": {},
     "output_type": "execute_result"
    }
   ],
   "source": [
    "df= pd.DataFrame(clf.cv_results_).sort_values(by='mean_test_score', ascending=False)\n",
    "df.head()"
   ]
  },
  {
   "cell_type": "code",
   "execution_count": 152,
   "metadata": {},
   "outputs": [
    {
     "data": {
      "text/plain": [
       "<matplotlib.axes._subplots.AxesSubplot at 0x20a8b4a9288>"
      ]
     },
     "execution_count": 152,
     "metadata": {},
     "output_type": "execute_result"
    },
    {
     "data": {
      "image/png": "[encoded data removed]",
      "text/plain": [
       "<Figure size 432x288 with 1 Axes>"
      ]
     },
     "metadata": {
      "needs_background": "light"
     },
     "output_type": "display_data"
    }
   ],
   "source": [
    "df[['param_learning_rate', 'mean_test_score']].groupby('param_learning_rate').mean().plot()"
   ]
  },
  {
   "cell_type": "code",
   "execution_count": 153,
   "metadata": {},
   "outputs": [
    {
     "data": {
      "text/plain": [
       "<matplotlib.axes._subplots.AxesSubplot at 0x20a8b4e5788>"
      ]
     },
     "execution_count": 153,
     "metadata": {},
     "output_type": "execute_result"
    },
    {
     "data": {
      "image/png": "[encoded data removed]",
      "text/plain": [
       "<Figure size 432x288 with 1 Axes>"
      ]
     },
     "metadata": {
      "needs_background": "light"
     },
     "output_type": "display_data"
    }
   ],
   "source": [
    "df[['param_max_depth', 'mean_test_score']].groupby('param_max_depth').mean().plot()"
   ]
  },
  {
   "cell_type": "code",
   "execution_count": 181,
   "metadata": {},
   "outputs": [
    {
     "data": {
      "text/plain": [
       "XGBClassifier(base_score=0.5, booster='gbtree', colsample_bylevel=1,\n",
       "              colsample_bynode=1, colsample_bytree=1, cv=[5],\n",
       "              early_stopping_rounds=50, gamma=0, gpu_id=-1,\n",
       "              importance_type='gain', interaction_constraints='',\n",
       "              learning_rate=0.1, max_delta_step=0, max_depth=4,\n",
       "              min_child_weight=1, missing=nan, monotone_constraints='()',\n",
       "              n_estimators=100, n_jobs=8, num_parallel_tree=1,\n",
       "              objective='binary:logistic',\n",
       "              param_grid={'learning_rate': [0.1, 0.2, 0.3],\n",
       "                          'max_depth': [3, 4, 5, 6, 7, 8, 9, 10]},\n",
       "              random_state=0, reg_alpha=0, reg_lambda=1, scale_pos_weight=1,\n",
       "              subsample=1, tree_method='exact', use_label_encoder=False,\n",
       "              validate_parameters=1, ...)"
      ]
     },
     "execution_count": 181,
     "metadata": {},
     "output_type": "execute_result"
    }
   ],
   "source": [
    "clf.best_estimator_"
   ]
  },
  {
   "cell_type": "code",
   "execution_count": 182,
   "metadata": {},
   "outputs": [
    {
     "data": {
      "text/plain": [
       "0.6293180369662206"
      ]
     },
     "execution_count": 182,
     "metadata": {},
     "output_type": "execute_result"
    }
   ],
   "source": [
    "clf.best_score_"
   ]
  },
  {
   "cell_type": "code",
   "execution_count": 183,
   "metadata": {},
   "outputs": [
    {
     "data": {
      "text/plain": [
       "{'learning_rate': 0.1, 'max_depth': 4}"
      ]
     },
     "execution_count": 183,
     "metadata": {},
     "output_type": "execute_result"
    }
   ],
   "source": [
    "clf.best_params_"
   ]
  },
  {
   "cell_type": "code",
   "execution_count": 184,
   "metadata": {},
   "outputs": [
    {
     "data": {
      "text/plain": [
       "make_scorer(accuracy_score)"
      ]
     },
     "execution_count": 184,
     "metadata": {},
     "output_type": "execute_result"
    }
   ],
   "source": [
    "clf.scorer_"
   ]
  },
  {
   "cell_type": "code",
   "execution_count": 185,
   "metadata": {},
   "outputs": [
    {
     "data": {
      "text/plain": [
       "3"
      ]
     },
     "execution_count": 185,
     "metadata": {},
     "output_type": "execute_result"
    }
   ],
   "source": [
    "clf.n_splits_"
   ]
  },
  {
   "cell_type": "code",
   "execution_count": null,
   "metadata": {},
   "outputs": [],
   "source": []
  }
 ],
 "metadata": {
  "kernelspec": {
   "display_name": "Python 3",
   "language": "python",
   "name": "python3"
  },
  "language_info": {
   "codemirror_mode": {
    "name": "ipython",
    "version": 3
   },
   "file_extension": ".py",
   "mimetype": "text/x-python",
   "name": "python",
   "nbconvert_exporter": "python",
   "pygments_lexer": "ipython3",
   "version": "3.7.5"
  }
 },
 "nbformat": 4,
 "nbformat_minor": 2
}
