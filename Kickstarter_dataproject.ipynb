{
 "cells": [
  {
   "cell_type": "code",
   "execution_count": 2,
   "metadata": {},
   "outputs": [],
   "source": [
    "import pandas as pd\n",
    "import numpy as np\n",
    "import matplotlib.pyplot as plt\n",
    "from scipy import stats\n",
    "from scipy.stats import skew\n",
    "from scipy.stats import chisquare\n",
    "from scipy.stats import kruskal\n",
    "import scikit_posthocs\n",
    "from sklearn.preprocessing import LabelEncoder\n",
    "from sklearn.model_selection import train_test_split\n",
    "from sklearn.linear_model import LogisticRegression\n",
    "from sklearn.naive_bayes import GaussianNB\n",
    "from sklearn.ensemble import RandomForestClassifier\n",
    "from sklearn.metrics import classification_report\n",
    "from sklearn.metrics import confusion_matrix\n",
    "from sklearn.metrics import accuracy_score\n",
    "from xgboost import XGBClassifier"
   ]
  },
  {
   "cell_type": "code",
   "execution_count": 3,
   "metadata": {},
   "outputs": [],
   "source": [
    "df = pd.read_excel(r\"C:\\Users\\rayde\\Desktop\\DSI_kickstarterscrape_dataset.xlsx\", parse_dates=['funded date'])"
   ]
  },
  {
   "cell_type": "code",
   "execution_count": 4,
   "metadata": {
    "scrolled": false
   },
   "outputs": [
    {
     "data": {
      "text/plain": [
       "Index(['project id', 'name', 'url', 'category', 'subcategory', 'location',\n",
       "       'status', 'goal', 'pledged', 'funded percentage', 'backers',\n",
       "       'funded date', 'levels', 'reward levels', 'updates', 'comments',\n",
       "       'duration'],\n",
       "      dtype='object')"
      ]
     },
     "execution_count": 4,
     "metadata": {},
     "output_type": "execute_result"
    }
   ],
   "source": [
    "df.columns"
   ]
  },
  {
   "cell_type": "code",
   "execution_count": 5,
   "metadata": {
    "scrolled": true
   },
   "outputs": [
    {
     "data": {
      "text/html": [
       "<div>\n",
       "<style scoped>\n",
       "    .dataframe tbody tr th:only-of-type {\n",
       "        vertical-align: middle;\n",
       "    }\n",
       "\n",
       "    .dataframe tbody tr th {\n",
       "        vertical-align: top;\n",
       "    }\n",
       "\n",
       "    .dataframe thead th {\n",
       "        text-align: right;\n",
       "    }\n",
       "</style>\n",
       "<table border=\"1\" class=\"dataframe\">\n",
       "  <thead>\n",
       "    <tr style=\"text-align: right;\">\n",
       "      <th></th>\n",
       "      <th>project id</th>\n",
       "      <th>goal</th>\n",
       "      <th>pledged</th>\n",
       "      <th>funded percentage</th>\n",
       "      <th>backers</th>\n",
       "      <th>levels</th>\n",
       "      <th>updates</th>\n",
       "      <th>comments</th>\n",
       "      <th>duration</th>\n",
       "    </tr>\n",
       "  </thead>\n",
       "  <tbody>\n",
       "    <tr>\n",
       "      <th>count</th>\n",
       "      <td>4.595700e+04</td>\n",
       "      <td>4.595700e+04</td>\n",
       "      <td>4.594500e+04</td>\n",
       "      <td>45957.000000</td>\n",
       "      <td>45957.000000</td>\n",
       "      <td>45957.000000</td>\n",
       "      <td>45957.00000</td>\n",
       "      <td>45957.000000</td>\n",
       "      <td>45957.000000</td>\n",
       "    </tr>\n",
       "    <tr>\n",
       "      <th>mean</th>\n",
       "      <td>1.080800e+09</td>\n",
       "      <td>1.194271e+04</td>\n",
       "      <td>4.980750e+03</td>\n",
       "      <td>1.850129</td>\n",
       "      <td>69.973192</td>\n",
       "      <td>8.004939</td>\n",
       "      <td>4.08508</td>\n",
       "      <td>8.379529</td>\n",
       "      <td>39.995547</td>\n",
       "    </tr>\n",
       "    <tr>\n",
       "      <th>std</th>\n",
       "      <td>6.218057e+08</td>\n",
       "      <td>1.887583e+05</td>\n",
       "      <td>5.674162e+04</td>\n",
       "      <td>88.492706</td>\n",
       "      <td>688.628479</td>\n",
       "      <td>4.233907</td>\n",
       "      <td>6.43922</td>\n",
       "      <td>174.015737</td>\n",
       "      <td>17.414458</td>\n",
       "    </tr>\n",
       "    <tr>\n",
       "      <th>min</th>\n",
       "      <td>3.940900e+04</td>\n",
       "      <td>1.000000e-02</td>\n",
       "      <td>0.000000e+00</td>\n",
       "      <td>0.000000</td>\n",
       "      <td>0.000000</td>\n",
       "      <td>0.000000</td>\n",
       "      <td>0.00000</td>\n",
       "      <td>0.000000</td>\n",
       "      <td>1.000000</td>\n",
       "    </tr>\n",
       "    <tr>\n",
       "      <th>25%</th>\n",
       "      <td>5.438962e+08</td>\n",
       "      <td>1.800000e+03</td>\n",
       "      <td>1.960000e+02</td>\n",
       "      <td>0.044000</td>\n",
       "      <td>5.000000</td>\n",
       "      <td>5.000000</td>\n",
       "      <td>0.00000</td>\n",
       "      <td>0.000000</td>\n",
       "      <td>30.000000</td>\n",
       "    </tr>\n",
       "    <tr>\n",
       "      <th>50%</th>\n",
       "      <td>1.078345e+09</td>\n",
       "      <td>4.000000e+03</td>\n",
       "      <td>1.310000e+03</td>\n",
       "      <td>1.000000</td>\n",
       "      <td>23.000000</td>\n",
       "      <td>7.000000</td>\n",
       "      <td>2.00000</td>\n",
       "      <td>0.000000</td>\n",
       "      <td>32.000000</td>\n",
       "    </tr>\n",
       "    <tr>\n",
       "      <th>75%</th>\n",
       "      <td>1.621596e+09</td>\n",
       "      <td>9.862000e+03</td>\n",
       "      <td>4.165000e+03</td>\n",
       "      <td>1.115640</td>\n",
       "      <td>59.000000</td>\n",
       "      <td>10.000000</td>\n",
       "      <td>6.00000</td>\n",
       "      <td>3.000000</td>\n",
       "      <td>48.390000</td>\n",
       "    </tr>\n",
       "    <tr>\n",
       "      <th>max</th>\n",
       "      <td>2.147460e+09</td>\n",
       "      <td>2.147484e+07</td>\n",
       "      <td>1.026684e+07</td>\n",
       "      <td>15066.000000</td>\n",
       "      <td>87142.000000</td>\n",
       "      <td>80.000000</td>\n",
       "      <td>149.00000</td>\n",
       "      <td>19311.000000</td>\n",
       "      <td>91.960000</td>\n",
       "    </tr>\n",
       "  </tbody>\n",
       "</table>\n",
       "</div>"
      ],
      "text/plain": [
       "         project id          goal       pledged  funded percentage  \\\n",
       "count  4.595700e+04  4.595700e+04  4.594500e+04       45957.000000   \n",
       "mean   1.080800e+09  1.194271e+04  4.980750e+03           1.850129   \n",
       "std    6.218057e+08  1.887583e+05  5.674162e+04          88.492706   \n",
       "min    3.940900e+04  1.000000e-02  0.000000e+00           0.000000   \n",
       "25%    5.438962e+08  1.800000e+03  1.960000e+02           0.044000   \n",
       "50%    1.078345e+09  4.000000e+03  1.310000e+03           1.000000   \n",
       "75%    1.621596e+09  9.862000e+03  4.165000e+03           1.115640   \n",
       "max    2.147460e+09  2.147484e+07  1.026684e+07       15066.000000   \n",
       "\n",
       "            backers        levels      updates      comments      duration  \n",
       "count  45957.000000  45957.000000  45957.00000  45957.000000  45957.000000  \n",
       "mean      69.973192      8.004939      4.08508      8.379529     39.995547  \n",
       "std      688.628479      4.233907      6.43922    174.015737     17.414458  \n",
       "min        0.000000      0.000000      0.00000      0.000000      1.000000  \n",
       "25%        5.000000      5.000000      0.00000      0.000000     30.000000  \n",
       "50%       23.000000      7.000000      2.00000      0.000000     32.000000  \n",
       "75%       59.000000     10.000000      6.00000      3.000000     48.390000  \n",
       "max    87142.000000     80.000000    149.00000  19311.000000     91.960000  "
      ]
     },
     "execution_count": 5,
     "metadata": {},
     "output_type": "execute_result"
    }
   ],
   "source": [
    "df.describe()"
   ]
  },
  {
   "cell_type": "markdown",
   "metadata": {},
   "source": [
    "## Browse Duplicates"
   ]
  },
  {
   "cell_type": "code",
   "execution_count": 6,
   "metadata": {
    "scrolled": true
   },
   "outputs": [
    {
     "data": {
      "text/html": [
       "<div>\n",
       "<style scoped>\n",
       "    .dataframe tbody tr th:only-of-type {\n",
       "        vertical-align: middle;\n",
       "    }\n",
       "\n",
       "    .dataframe tbody tr th {\n",
       "        vertical-align: top;\n",
       "    }\n",
       "\n",
       "    .dataframe thead th {\n",
       "        text-align: right;\n",
       "    }\n",
       "</style>\n",
       "<table border=\"1\" class=\"dataframe\">\n",
       "  <thead>\n",
       "    <tr style=\"text-align: right;\">\n",
       "      <th></th>\n",
       "      <th>project id</th>\n",
       "      <th>name</th>\n",
       "      <th>url</th>\n",
       "      <th>category</th>\n",
       "      <th>subcategory</th>\n",
       "      <th>location</th>\n",
       "      <th>status</th>\n",
       "      <th>goal</th>\n",
       "      <th>pledged</th>\n",
       "      <th>funded percentage</th>\n",
       "      <th>backers</th>\n",
       "      <th>funded date</th>\n",
       "      <th>levels</th>\n",
       "      <th>reward levels</th>\n",
       "      <th>updates</th>\n",
       "      <th>comments</th>\n",
       "      <th>duration</th>\n",
       "    </tr>\n",
       "  </thead>\n",
       "  <tbody>\n",
       "    <tr>\n",
       "      <th>45651</th>\n",
       "      <td>2140333236</td>\n",
       "      <td>Imagined Family Heirlooms: An Archive of Inher...</td>\n",
       "      <td>http://www.kickstarter.com/projects/andersonst...</td>\n",
       "      <td>Photography</td>\n",
       "      <td>Photography</td>\n",
       "      <td>Little Rock, AR</td>\n",
       "      <td>successful</td>\n",
       "      <td>5800.0</td>\n",
       "      <td>8521.0</td>\n",
       "      <td>1.469138</td>\n",
       "      <td>110</td>\n",
       "      <td>2011-07-29 00:53:53+00:00</td>\n",
       "      <td>16</td>\n",
       "      <td>$10,$20,$35,$50,$75,$100,$150,$200,$225,$300,$...</td>\n",
       "      <td>5</td>\n",
       "      <td>4</td>\n",
       "      <td>67.00</td>\n",
       "    </tr>\n",
       "    <tr>\n",
       "      <th>45652</th>\n",
       "      <td>2140333236</td>\n",
       "      <td>Imagined Family Heirlooms: An Archive of Inher...</td>\n",
       "      <td>http://www.kickstarter.com/projects/andersonst...</td>\n",
       "      <td>Photography</td>\n",
       "      <td>Photography</td>\n",
       "      <td>Little Rock, AR</td>\n",
       "      <td>successful</td>\n",
       "      <td>5800.0</td>\n",
       "      <td>8521.0</td>\n",
       "      <td>1.469138</td>\n",
       "      <td>110</td>\n",
       "      <td>2011-07-29 00:53:53+00:00</td>\n",
       "      <td>16</td>\n",
       "      <td>$10,$20,$35,$50,$75,$100,$150,$200,$225,$300,$...</td>\n",
       "      <td>5</td>\n",
       "      <td>4</td>\n",
       "      <td>67.00</td>\n",
       "    </tr>\n",
       "    <tr>\n",
       "      <th>45653</th>\n",
       "      <td>2140344109</td>\n",
       "      <td>Help Fund Thana Alexa's Debut Album &amp;quot;Ode ...</td>\n",
       "      <td>http://www.kickstarter.com/projects/1024906052...</td>\n",
       "      <td>Music</td>\n",
       "      <td>Jazz</td>\n",
       "      <td>New York, NY</td>\n",
       "      <td>successful</td>\n",
       "      <td>15000.0</td>\n",
       "      <td>16678.0</td>\n",
       "      <td>1.111867</td>\n",
       "      <td>142</td>\n",
       "      <td>2012-05-20 20:36:57+00:00</td>\n",
       "      <td>16</td>\n",
       "      <td>$1,$5,$10,$15,$25,$50,$75,$100,$200,$250,$300,...</td>\n",
       "      <td>5</td>\n",
       "      <td>2</td>\n",
       "      <td>32.00</td>\n",
       "    </tr>\n",
       "    <tr>\n",
       "      <th>45654</th>\n",
       "      <td>2140344109</td>\n",
       "      <td>Help Fund Thana Alexa's Debut Album &amp;quot;Ode ...</td>\n",
       "      <td>http://www.kickstarter.com/projects/1024906052...</td>\n",
       "      <td>Music</td>\n",
       "      <td>Jazz</td>\n",
       "      <td>New York, NY</td>\n",
       "      <td>successful</td>\n",
       "      <td>15000.0</td>\n",
       "      <td>16678.0</td>\n",
       "      <td>1.111867</td>\n",
       "      <td>142</td>\n",
       "      <td>2012-05-20 20:36:57+00:00</td>\n",
       "      <td>16</td>\n",
       "      <td>$1,$5,$10,$15,$25,$50,$75,$100,$200,$250,$300,...</td>\n",
       "      <td>5</td>\n",
       "      <td>2</td>\n",
       "      <td>32.00</td>\n",
       "    </tr>\n",
       "    <tr>\n",
       "      <th>45655</th>\n",
       "      <td>2140513451</td>\n",
       "      <td>The Cookie Chew - Changing the Way We Eat a Co...</td>\n",
       "      <td>http://www.kickstarter.com/projects/1650956569...</td>\n",
       "      <td>Food</td>\n",
       "      <td>Food</td>\n",
       "      <td>San Diego, CA</td>\n",
       "      <td>successful</td>\n",
       "      <td>4500.0</td>\n",
       "      <td>5540.0</td>\n",
       "      <td>1.231111</td>\n",
       "      <td>89</td>\n",
       "      <td>2010-08-24 04:43:00+00:00</td>\n",
       "      <td>5</td>\n",
       "      <td>$10,$50,$75,$100,$500</td>\n",
       "      <td>14</td>\n",
       "      <td>17</td>\n",
       "      <td>43.27</td>\n",
       "    </tr>\n",
       "    <tr>\n",
       "      <th>...</th>\n",
       "      <td>...</td>\n",
       "      <td>...</td>\n",
       "      <td>...</td>\n",
       "      <td>...</td>\n",
       "      <td>...</td>\n",
       "      <td>...</td>\n",
       "      <td>...</td>\n",
       "      <td>...</td>\n",
       "      <td>...</td>\n",
       "      <td>...</td>\n",
       "      <td>...</td>\n",
       "      <td>...</td>\n",
       "      <td>...</td>\n",
       "      <td>...</td>\n",
       "      <td>...</td>\n",
       "      <td>...</td>\n",
       "      <td>...</td>\n",
       "    </tr>\n",
       "    <tr>\n",
       "      <th>45930</th>\n",
       "      <td>2146435917</td>\n",
       "      <td>Making Mama(s) Proud: The 2011 &amp;quot;Donna/Mad...</td>\n",
       "      <td>http://www.kickstarter.com/projects/johnpaulka...</td>\n",
       "      <td>Theater</td>\n",
       "      <td>Theater</td>\n",
       "      <td>Los Angeles, CA</td>\n",
       "      <td>successful</td>\n",
       "      <td>5000.0</td>\n",
       "      <td>5390.0</td>\n",
       "      <td>1.078000</td>\n",
       "      <td>86</td>\n",
       "      <td>2011-06-04 08:56:58+00:00</td>\n",
       "      <td>8</td>\n",
       "      <td>$1,$10,$25,$50,$100,$200,$500,$1,000</td>\n",
       "      <td>5</td>\n",
       "      <td>1</td>\n",
       "      <td>30.00</td>\n",
       "    </tr>\n",
       "    <tr>\n",
       "      <th>45931</th>\n",
       "      <td>2146437406</td>\n",
       "      <td>The Production of Erasure</td>\n",
       "      <td>http://www.kickstarter.com/projects/295025953/...</td>\n",
       "      <td>Photography</td>\n",
       "      <td>Photography</td>\n",
       "      <td>Brooklyn, NY</td>\n",
       "      <td>successful</td>\n",
       "      <td>1200.0</td>\n",
       "      <td>1220.0</td>\n",
       "      <td>1.016667</td>\n",
       "      <td>17</td>\n",
       "      <td>2011-03-03 04:09:38+00:00</td>\n",
       "      <td>6</td>\n",
       "      <td>$15,$25,$50,$100,$200,$500</td>\n",
       "      <td>1</td>\n",
       "      <td>0</td>\n",
       "      <td>30.00</td>\n",
       "    </tr>\n",
       "    <tr>\n",
       "      <th>45932</th>\n",
       "      <td>2146437406</td>\n",
       "      <td>The Production of Erasure</td>\n",
       "      <td>http://www.kickstarter.com/projects/295025953/...</td>\n",
       "      <td>Photography</td>\n",
       "      <td>Photography</td>\n",
       "      <td>Brooklyn, NY</td>\n",
       "      <td>successful</td>\n",
       "      <td>1200.0</td>\n",
       "      <td>1220.0</td>\n",
       "      <td>1.016667</td>\n",
       "      <td>17</td>\n",
       "      <td>2011-03-03 04:09:38+00:00</td>\n",
       "      <td>6</td>\n",
       "      <td>$15,$25,$50,$100,$200,$500</td>\n",
       "      <td>1</td>\n",
       "      <td>0</td>\n",
       "      <td>30.00</td>\n",
       "    </tr>\n",
       "    <tr>\n",
       "      <th>45933</th>\n",
       "      <td>2146534146</td>\n",
       "      <td>CALLING on ANGELS - not FOR KIDS ONLY!</td>\n",
       "      <td>http://www.kickstarter.com/projects/callingona...</td>\n",
       "      <td>Film &amp;amp; Video</td>\n",
       "      <td>Film &amp;amp; Video</td>\n",
       "      <td>Burbank, CA</td>\n",
       "      <td>failed</td>\n",
       "      <td>10000.0</td>\n",
       "      <td>250.0</td>\n",
       "      <td>0.025000</td>\n",
       "      <td>1</td>\n",
       "      <td>2011-09-10 19:00:47+00:00</td>\n",
       "      <td>11</td>\n",
       "      <td>$10,$25,$50,$75,$100,$150,$250,$500,$1,000,$1,...</td>\n",
       "      <td>0</td>\n",
       "      <td>0</td>\n",
       "      <td>60.00</td>\n",
       "    </tr>\n",
       "    <tr>\n",
       "      <th>45934</th>\n",
       "      <td>2146534146</td>\n",
       "      <td>CALLING on ANGELS - not FOR KIDS ONLY!</td>\n",
       "      <td>http://www.kickstarter.com/projects/callingona...</td>\n",
       "      <td>Film &amp; Video</td>\n",
       "      <td>Film &amp;amp; Video</td>\n",
       "      <td>Burbank, CA</td>\n",
       "      <td>failed</td>\n",
       "      <td>10000.0</td>\n",
       "      <td>250.0</td>\n",
       "      <td>0.025000</td>\n",
       "      <td>1</td>\n",
       "      <td>2011-09-10 19:00:47+00:00</td>\n",
       "      <td>11</td>\n",
       "      <td>$10,$25,$50,$75,$100,$150,$250,$500,$1,000,$1,...</td>\n",
       "      <td>0</td>\n",
       "      <td>0</td>\n",
       "      <td>60.00</td>\n",
       "    </tr>\n",
       "  </tbody>\n",
       "</table>\n",
       "<p>284 rows × 17 columns</p>\n",
       "</div>"
      ],
      "text/plain": [
       "       project id                                               name  \\\n",
       "45651  2140333236  Imagined Family Heirlooms: An Archive of Inher...   \n",
       "45652  2140333236  Imagined Family Heirlooms: An Archive of Inher...   \n",
       "45653  2140344109  Help Fund Thana Alexa's Debut Album &quot;Ode ...   \n",
       "45654  2140344109  Help Fund Thana Alexa's Debut Album &quot;Ode ...   \n",
       "45655  2140513451  The Cookie Chew - Changing the Way We Eat a Co...   \n",
       "...           ...                                                ...   \n",
       "45930  2146435917  Making Mama(s) Proud: The 2011 &quot;Donna/Mad...   \n",
       "45931  2146437406                          The Production of Erasure   \n",
       "45932  2146437406                          The Production of Erasure   \n",
       "45933  2146534146             CALLING on ANGELS - not FOR KIDS ONLY!   \n",
       "45934  2146534146             CALLING on ANGELS - not FOR KIDS ONLY!   \n",
       "\n",
       "                                                     url          category  \\\n",
       "45651  http://www.kickstarter.com/projects/andersonst...       Photography   \n",
       "45652  http://www.kickstarter.com/projects/andersonst...       Photography   \n",
       "45653  http://www.kickstarter.com/projects/1024906052...             Music   \n",
       "45654  http://www.kickstarter.com/projects/1024906052...             Music   \n",
       "45655  http://www.kickstarter.com/projects/1650956569...              Food   \n",
       "...                                                  ...               ...   \n",
       "45930  http://www.kickstarter.com/projects/johnpaulka...           Theater   \n",
       "45931  http://www.kickstarter.com/projects/295025953/...       Photography   \n",
       "45932  http://www.kickstarter.com/projects/295025953/...       Photography   \n",
       "45933  http://www.kickstarter.com/projects/callingona...  Film &amp; Video   \n",
       "45934  http://www.kickstarter.com/projects/callingona...      Film & Video   \n",
       "\n",
       "            subcategory         location      status     goal  pledged  \\\n",
       "45651       Photography  Little Rock, AR  successful   5800.0   8521.0   \n",
       "45652       Photography  Little Rock, AR  successful   5800.0   8521.0   \n",
       "45653              Jazz     New York, NY  successful  15000.0  16678.0   \n",
       "45654              Jazz     New York, NY  successful  15000.0  16678.0   \n",
       "45655              Food    San Diego, CA  successful   4500.0   5540.0   \n",
       "...                 ...              ...         ...      ...      ...   \n",
       "45930           Theater  Los Angeles, CA  successful   5000.0   5390.0   \n",
       "45931       Photography     Brooklyn, NY  successful   1200.0   1220.0   \n",
       "45932       Photography     Brooklyn, NY  successful   1200.0   1220.0   \n",
       "45933  Film &amp; Video      Burbank, CA      failed  10000.0    250.0   \n",
       "45934  Film &amp; Video      Burbank, CA      failed  10000.0    250.0   \n",
       "\n",
       "       funded percentage  backers               funded date  levels  \\\n",
       "45651           1.469138      110 2011-07-29 00:53:53+00:00      16   \n",
       "45652           1.469138      110 2011-07-29 00:53:53+00:00      16   \n",
       "45653           1.111867      142 2012-05-20 20:36:57+00:00      16   \n",
       "45654           1.111867      142 2012-05-20 20:36:57+00:00      16   \n",
       "45655           1.231111       89 2010-08-24 04:43:00+00:00       5   \n",
       "...                  ...      ...                       ...     ...   \n",
       "45930           1.078000       86 2011-06-04 08:56:58+00:00       8   \n",
       "45931           1.016667       17 2011-03-03 04:09:38+00:00       6   \n",
       "45932           1.016667       17 2011-03-03 04:09:38+00:00       6   \n",
       "45933           0.025000        1 2011-09-10 19:00:47+00:00      11   \n",
       "45934           0.025000        1 2011-09-10 19:00:47+00:00      11   \n",
       "\n",
       "                                           reward levels  updates  comments  \\\n",
       "45651  $10,$20,$35,$50,$75,$100,$150,$200,$225,$300,$...        5         4   \n",
       "45652  $10,$20,$35,$50,$75,$100,$150,$200,$225,$300,$...        5         4   \n",
       "45653  $1,$5,$10,$15,$25,$50,$75,$100,$200,$250,$300,...        5         2   \n",
       "45654  $1,$5,$10,$15,$25,$50,$75,$100,$200,$250,$300,...        5         2   \n",
       "45655                              $10,$50,$75,$100,$500       14        17   \n",
       "...                                                  ...      ...       ...   \n",
       "45930               $1,$10,$25,$50,$100,$200,$500,$1,000        5         1   \n",
       "45931                         $15,$25,$50,$100,$200,$500        1         0   \n",
       "45932                         $15,$25,$50,$100,$200,$500        1         0   \n",
       "45933  $10,$25,$50,$75,$100,$150,$250,$500,$1,000,$1,...        0         0   \n",
       "45934  $10,$25,$50,$75,$100,$150,$250,$500,$1,000,$1,...        0         0   \n",
       "\n",
       "       duration  \n",
       "45651     67.00  \n",
       "45652     67.00  \n",
       "45653     32.00  \n",
       "45654     32.00  \n",
       "45655     43.27  \n",
       "...         ...  \n",
       "45930     30.00  \n",
       "45931     30.00  \n",
       "45932     30.00  \n",
       "45933     60.00  \n",
       "45934     60.00  \n",
       "\n",
       "[284 rows x 17 columns]"
      ]
     },
     "execution_count": 6,
     "metadata": {},
     "output_type": "execute_result"
    }
   ],
   "source": [
    "bool_filter = df['project id'].duplicated() == True\n",
    "values = list(df['project id'][bool_filter].values)\n",
    "df[df['project id'].isin(values)].sort_values('project id')"
   ]
  },
  {
   "cell_type": "code",
   "execution_count": 7,
   "metadata": {
    "scrolled": true
   },
   "outputs": [
    {
     "data": {
      "text/html": [
       "<div>\n",
       "<style scoped>\n",
       "    .dataframe tbody tr th:only-of-type {\n",
       "        vertical-align: middle;\n",
       "    }\n",
       "\n",
       "    .dataframe tbody tr th {\n",
       "        vertical-align: top;\n",
       "    }\n",
       "\n",
       "    .dataframe thead th {\n",
       "        text-align: right;\n",
       "    }\n",
       "</style>\n",
       "<table border=\"1\" class=\"dataframe\">\n",
       "  <thead>\n",
       "    <tr style=\"text-align: right;\">\n",
       "      <th></th>\n",
       "      <th>project id</th>\n",
       "      <th>name</th>\n",
       "      <th>url</th>\n",
       "      <th>category</th>\n",
       "      <th>subcategory</th>\n",
       "      <th>location</th>\n",
       "      <th>status</th>\n",
       "      <th>goal</th>\n",
       "      <th>pledged</th>\n",
       "      <th>funded percentage</th>\n",
       "      <th>backers</th>\n",
       "      <th>funded date</th>\n",
       "      <th>levels</th>\n",
       "      <th>reward levels</th>\n",
       "      <th>updates</th>\n",
       "      <th>comments</th>\n",
       "      <th>duration</th>\n",
       "    </tr>\n",
       "  </thead>\n",
       "  <tbody>\n",
       "    <tr>\n",
       "      <th>45651</th>\n",
       "      <td>2140333236</td>\n",
       "      <td>Imagined Family Heirlooms: An Archive of Inher...</td>\n",
       "      <td>http://www.kickstarter.com/projects/andersonst...</td>\n",
       "      <td>Photography</td>\n",
       "      <td>Photography</td>\n",
       "      <td>Little Rock, AR</td>\n",
       "      <td>successful</td>\n",
       "      <td>5800.0</td>\n",
       "      <td>8521.0</td>\n",
       "      <td>1.469138</td>\n",
       "      <td>110</td>\n",
       "      <td>2011-07-29 00:53:53+00:00</td>\n",
       "      <td>16</td>\n",
       "      <td>$10,$20,$35,$50,$75,$100,$150,$200,$225,$300,$...</td>\n",
       "      <td>5</td>\n",
       "      <td>4</td>\n",
       "      <td>67.00</td>\n",
       "    </tr>\n",
       "    <tr>\n",
       "      <th>45652</th>\n",
       "      <td>2140333236</td>\n",
       "      <td>Imagined Family Heirlooms: An Archive of Inher...</td>\n",
       "      <td>http://www.kickstarter.com/projects/andersonst...</td>\n",
       "      <td>Photography</td>\n",
       "      <td>Photography</td>\n",
       "      <td>Little Rock, AR</td>\n",
       "      <td>successful</td>\n",
       "      <td>5800.0</td>\n",
       "      <td>8521.0</td>\n",
       "      <td>1.469138</td>\n",
       "      <td>110</td>\n",
       "      <td>2011-07-29 00:53:53+00:00</td>\n",
       "      <td>16</td>\n",
       "      <td>$10,$20,$35,$50,$75,$100,$150,$200,$225,$300,$...</td>\n",
       "      <td>5</td>\n",
       "      <td>4</td>\n",
       "      <td>67.00</td>\n",
       "    </tr>\n",
       "    <tr>\n",
       "      <th>45653</th>\n",
       "      <td>2140344109</td>\n",
       "      <td>Help Fund Thana Alexa's Debut Album &amp;quot;Ode ...</td>\n",
       "      <td>http://www.kickstarter.com/projects/1024906052...</td>\n",
       "      <td>Music</td>\n",
       "      <td>Jazz</td>\n",
       "      <td>New York, NY</td>\n",
       "      <td>successful</td>\n",
       "      <td>15000.0</td>\n",
       "      <td>16678.0</td>\n",
       "      <td>1.111867</td>\n",
       "      <td>142</td>\n",
       "      <td>2012-05-20 20:36:57+00:00</td>\n",
       "      <td>16</td>\n",
       "      <td>$1,$5,$10,$15,$25,$50,$75,$100,$200,$250,$300,...</td>\n",
       "      <td>5</td>\n",
       "      <td>2</td>\n",
       "      <td>32.00</td>\n",
       "    </tr>\n",
       "    <tr>\n",
       "      <th>45654</th>\n",
       "      <td>2140344109</td>\n",
       "      <td>Help Fund Thana Alexa's Debut Album &amp;quot;Ode ...</td>\n",
       "      <td>http://www.kickstarter.com/projects/1024906052...</td>\n",
       "      <td>Music</td>\n",
       "      <td>Jazz</td>\n",
       "      <td>New York, NY</td>\n",
       "      <td>successful</td>\n",
       "      <td>15000.0</td>\n",
       "      <td>16678.0</td>\n",
       "      <td>1.111867</td>\n",
       "      <td>142</td>\n",
       "      <td>2012-05-20 20:36:57+00:00</td>\n",
       "      <td>16</td>\n",
       "      <td>$1,$5,$10,$15,$25,$50,$75,$100,$200,$250,$300,...</td>\n",
       "      <td>5</td>\n",
       "      <td>2</td>\n",
       "      <td>32.00</td>\n",
       "    </tr>\n",
       "    <tr>\n",
       "      <th>45655</th>\n",
       "      <td>2140513451</td>\n",
       "      <td>The Cookie Chew - Changing the Way We Eat a Co...</td>\n",
       "      <td>http://www.kickstarter.com/projects/1650956569...</td>\n",
       "      <td>Food</td>\n",
       "      <td>Food</td>\n",
       "      <td>San Diego, CA</td>\n",
       "      <td>successful</td>\n",
       "      <td>4500.0</td>\n",
       "      <td>5540.0</td>\n",
       "      <td>1.231111</td>\n",
       "      <td>89</td>\n",
       "      <td>2010-08-24 04:43:00+00:00</td>\n",
       "      <td>5</td>\n",
       "      <td>$10,$50,$75,$100,$500</td>\n",
       "      <td>14</td>\n",
       "      <td>17</td>\n",
       "      <td>43.27</td>\n",
       "    </tr>\n",
       "  </tbody>\n",
       "</table>\n",
       "</div>"
      ],
      "text/plain": [
       "       project id                                               name  \\\n",
       "45651  2140333236  Imagined Family Heirlooms: An Archive of Inher...   \n",
       "45652  2140333236  Imagined Family Heirlooms: An Archive of Inher...   \n",
       "45653  2140344109  Help Fund Thana Alexa's Debut Album &quot;Ode ...   \n",
       "45654  2140344109  Help Fund Thana Alexa's Debut Album &quot;Ode ...   \n",
       "45655  2140513451  The Cookie Chew - Changing the Way We Eat a Co...   \n",
       "\n",
       "                                                     url     category  \\\n",
       "45651  http://www.kickstarter.com/projects/andersonst...  Photography   \n",
       "45652  http://www.kickstarter.com/projects/andersonst...  Photography   \n",
       "45653  http://www.kickstarter.com/projects/1024906052...        Music   \n",
       "45654  http://www.kickstarter.com/projects/1024906052...        Music   \n",
       "45655  http://www.kickstarter.com/projects/1650956569...         Food   \n",
       "\n",
       "       subcategory         location      status     goal  pledged  \\\n",
       "45651  Photography  Little Rock, AR  successful   5800.0   8521.0   \n",
       "45652  Photography  Little Rock, AR  successful   5800.0   8521.0   \n",
       "45653         Jazz     New York, NY  successful  15000.0  16678.0   \n",
       "45654         Jazz     New York, NY  successful  15000.0  16678.0   \n",
       "45655         Food    San Diego, CA  successful   4500.0   5540.0   \n",
       "\n",
       "       funded percentage  backers               funded date  levels  \\\n",
       "45651           1.469138      110 2011-07-29 00:53:53+00:00      16   \n",
       "45652           1.469138      110 2011-07-29 00:53:53+00:00      16   \n",
       "45653           1.111867      142 2012-05-20 20:36:57+00:00      16   \n",
       "45654           1.111867      142 2012-05-20 20:36:57+00:00      16   \n",
       "45655           1.231111       89 2010-08-24 04:43:00+00:00       5   \n",
       "\n",
       "                                           reward levels  updates  comments  \\\n",
       "45651  $10,$20,$35,$50,$75,$100,$150,$200,$225,$300,$...        5         4   \n",
       "45652  $10,$20,$35,$50,$75,$100,$150,$200,$225,$300,$...        5         4   \n",
       "45653  $1,$5,$10,$15,$25,$50,$75,$100,$200,$250,$300,...        5         2   \n",
       "45654  $1,$5,$10,$15,$25,$50,$75,$100,$200,$250,$300,...        5         2   \n",
       "45655                              $10,$50,$75,$100,$500       14        17   \n",
       "\n",
       "       duration  \n",
       "45651     67.00  \n",
       "45652     67.00  \n",
       "45653     32.00  \n",
       "45654     32.00  \n",
       "45655     43.27  "
      ]
     },
     "execution_count": 7,
     "metadata": {},
     "output_type": "execute_result"
    }
   ],
   "source": [
    "df[df['project id'].duplicated(keep=False)].sort_values(by='project id').head()"
   ]
  },
  {
   "cell_type": "markdown",
   "metadata": {},
   "source": [
    "## Drop Duplicates on Project Id / Drop Cancelled or Live Projects"
   ]
  },
  {
   "cell_type": "code",
   "execution_count": 8,
   "metadata": {},
   "outputs": [],
   "source": [
    "new_df = df.drop_duplicates(subset=['project id'])\n",
    "new_df = new_df.query('status == \"successful\" | status ==\"failed\"')"
   ]
  },
  {
   "cell_type": "code",
   "execution_count": 9,
   "metadata": {},
   "outputs": [
    {
     "data": {
      "text/plain": [
       "array(['successful', 'failed'], dtype=object)"
      ]
     },
     "execution_count": 9,
     "metadata": {},
     "output_type": "execute_result"
    }
   ],
   "source": [
    "new_df['status'].unique()"
   ]
  },
  {
   "cell_type": "markdown",
   "metadata": {},
   "source": [
    "## Fix inconsistent data entry / importation errors"
   ]
  },
  {
   "cell_type": "code",
   "execution_count": 10,
   "metadata": {
    "scrolled": true
   },
   "outputs": [
    {
     "data": {
      "text/plain": [
       "array(['Short Film', 'Board & Card Games', 'Documentary', 'Fashion',\n",
       "       'Music', 'Illustration', 'Open Software', 'Indie Rock', 'Dance',\n",
       "       'Fiction', 'Nonfiction', 'Film &amp; Video', 'Theater', 'Games',\n",
       "       'Art Book', 'Animation', 'Country & Folk', 'Comics', 'Webseries',\n",
       "       'Technology', 'Performance Art', 'Narrative Film', 'Video Games',\n",
       "       'Product Design', 'Painting', 'Photography', 'Conceptual Art',\n",
       "       'Rock', 'Jazz', 'Classical Music', 'Food', 'Art', 'Pop',\n",
       "       'Journalism', 'Poetry', 'World Music', 'Sculpture', 'Publishing',\n",
       "       'Electronic Music', \"Children's Book\", 'Open Hardware',\n",
       "       'Graphic Design', 'Hip-Hop', 'Public Art', 'Mixed Media',\n",
       "       'Periodical', 'Crafts', 'Design', 'Digital Art',\n",
       "       'Board &amp; Card Games', 'Country &amp; Folk'], dtype=object)"
      ]
     },
     "execution_count": 10,
     "metadata": {},
     "output_type": "execute_result"
    }
   ],
   "source": [
    "new_df.subcategory.unique()"
   ]
  },
  {
   "cell_type": "code",
   "execution_count": 11,
   "metadata": {},
   "outputs": [
    {
     "data": {
      "text/plain": [
       "array(['Film & Video', 'Games', 'Fashion', 'Music', 'Art', 'Technology',\n",
       "       'Dance', 'Publishing', 'Theater', 'Comics', 'Design',\n",
       "       'Photography', 'Food', 'Film &amp; Video'], dtype=object)"
      ]
     },
     "execution_count": 11,
     "metadata": {},
     "output_type": "execute_result"
    }
   ],
   "source": [
    "new_df.category.unique()"
   ]
  },
  {
   "cell_type": "code",
   "execution_count": 12,
   "metadata": {},
   "outputs": [],
   "source": [
    "new_df = new_df.replace(to_replace=\"Film &amp; Video\", value=\"Film & Video\")\n",
    "new_df = new_df.replace(to_replace='Board &amp; Card Games', value=\"Board & Card Games\")\n",
    "new_df = new_df.replace(to_replace='Country &amp; Folk', value=\"Country & Folk\")"
   ]
  },
  {
   "cell_type": "code",
   "execution_count": 13,
   "metadata": {},
   "outputs": [
    {
     "data": {
      "text/plain": [
       "array(['Short Film', 'Board & Card Games', 'Documentary', 'Fashion',\n",
       "       'Music', 'Illustration', 'Open Software', 'Indie Rock', 'Dance',\n",
       "       'Fiction', 'Nonfiction', 'Film & Video', 'Theater', 'Games',\n",
       "       'Art Book', 'Animation', 'Country & Folk', 'Comics', 'Webseries',\n",
       "       'Technology', 'Performance Art', 'Narrative Film', 'Video Games',\n",
       "       'Product Design', 'Painting', 'Photography', 'Conceptual Art',\n",
       "       'Rock', 'Jazz', 'Classical Music', 'Food', 'Art', 'Pop',\n",
       "       'Journalism', 'Poetry', 'World Music', 'Sculpture', 'Publishing',\n",
       "       'Electronic Music', \"Children's Book\", 'Open Hardware',\n",
       "       'Graphic Design', 'Hip-Hop', 'Public Art', 'Mixed Media',\n",
       "       'Periodical', 'Crafts', 'Design', 'Digital Art'], dtype=object)"
      ]
     },
     "execution_count": 13,
     "metadata": {},
     "output_type": "execute_result"
    }
   ],
   "source": [
    "new_df.subcategory.unique()"
   ]
  },
  {
   "cell_type": "code",
   "execution_count": 14,
   "metadata": {},
   "outputs": [
    {
     "data": {
      "text/plain": [
       "array(['Film & Video', 'Games', 'Fashion', 'Music', 'Art', 'Technology',\n",
       "       'Dance', 'Publishing', 'Theater', 'Comics', 'Design',\n",
       "       'Photography', 'Food'], dtype=object)"
      ]
     },
     "execution_count": 14,
     "metadata": {},
     "output_type": "execute_result"
    }
   ],
   "source": [
    "new_df.category.unique()"
   ]
  },
  {
   "cell_type": "code",
   "execution_count": 15,
   "metadata": {},
   "outputs": [],
   "source": [
    "new_df['name'] = new_df.name.str.replace(\"&quot;\", '\"')"
   ]
  },
  {
   "cell_type": "code",
   "execution_count": 16,
   "metadata": {},
   "outputs": [
    {
     "data": {
      "text/plain": [
       "'Dinner Party - a short film about friendship... and revenge'"
      ]
     },
     "execution_count": 16,
     "metadata": {},
     "output_type": "execute_result"
    }
   ],
   "source": [
    "new_df.name.iloc[4]"
   ]
  },
  {
   "cell_type": "markdown",
   "metadata": {},
   "source": [
    "## Create new features out of funded date and location"
   ]
  },
  {
   "cell_type": "code",
   "execution_count": 17,
   "metadata": {
    "scrolled": true
   },
   "outputs": [
    {
     "data": {
      "text/html": [
       "<div>\n",
       "<style scoped>\n",
       "    .dataframe tbody tr th:only-of-type {\n",
       "        vertical-align: middle;\n",
       "    }\n",
       "\n",
       "    .dataframe tbody tr th {\n",
       "        vertical-align: top;\n",
       "    }\n",
       "\n",
       "    .dataframe thead th {\n",
       "        text-align: right;\n",
       "    }\n",
       "</style>\n",
       "<table border=\"1\" class=\"dataframe\">\n",
       "  <thead>\n",
       "    <tr style=\"text-align: right;\">\n",
       "      <th></th>\n",
       "      <th>year</th>\n",
       "      <th>month</th>\n",
       "      <th>day</th>\n",
       "      <th>time</th>\n",
       "      <th>day of week</th>\n",
       "    </tr>\n",
       "  </thead>\n",
       "  <tbody>\n",
       "    <tr>\n",
       "      <th>0</th>\n",
       "      <td>2011</td>\n",
       "      <td>8</td>\n",
       "      <td>19</td>\n",
       "      <td>19:28:17</td>\n",
       "      <td>4</td>\n",
       "    </tr>\n",
       "    <tr>\n",
       "      <th>1</th>\n",
       "      <td>2010</td>\n",
       "      <td>8</td>\n",
       "      <td>2</td>\n",
       "      <td>03:59:00</td>\n",
       "      <td>0</td>\n",
       "    </tr>\n",
       "    <tr>\n",
       "      <th>3</th>\n",
       "      <td>2012</td>\n",
       "      <td>4</td>\n",
       "      <td>8</td>\n",
       "      <td>02:14:00</td>\n",
       "      <td>6</td>\n",
       "    </tr>\n",
       "    <tr>\n",
       "      <th>4</th>\n",
       "      <td>2011</td>\n",
       "      <td>6</td>\n",
       "      <td>1</td>\n",
       "      <td>15:25:39</td>\n",
       "      <td>2</td>\n",
       "    </tr>\n",
       "    <tr>\n",
       "      <th>5</th>\n",
       "      <td>2011</td>\n",
       "      <td>6</td>\n",
       "      <td>22</td>\n",
       "      <td>13:33:00</td>\n",
       "      <td>2</td>\n",
       "    </tr>\n",
       "    <tr>\n",
       "      <th>...</th>\n",
       "      <td>...</td>\n",
       "      <td>...</td>\n",
       "      <td>...</td>\n",
       "      <td>...</td>\n",
       "      <td>...</td>\n",
       "    </tr>\n",
       "    <tr>\n",
       "      <th>45952</th>\n",
       "      <td>2012</td>\n",
       "      <td>3</td>\n",
       "      <td>30</td>\n",
       "      <td>13:57:00</td>\n",
       "      <td>4</td>\n",
       "    </tr>\n",
       "    <tr>\n",
       "      <th>45953</th>\n",
       "      <td>2012</td>\n",
       "      <td>4</td>\n",
       "      <td>22</td>\n",
       "      <td>02:12:10</td>\n",
       "      <td>6</td>\n",
       "    </tr>\n",
       "    <tr>\n",
       "      <th>45954</th>\n",
       "      <td>2012</td>\n",
       "      <td>1</td>\n",
       "      <td>16</td>\n",
       "      <td>05:00:00</td>\n",
       "      <td>0</td>\n",
       "    </tr>\n",
       "    <tr>\n",
       "      <th>45955</th>\n",
       "      <td>2012</td>\n",
       "      <td>5</td>\n",
       "      <td>19</td>\n",
       "      <td>19:44:47</td>\n",
       "      <td>5</td>\n",
       "    </tr>\n",
       "    <tr>\n",
       "      <th>45956</th>\n",
       "      <td>2011</td>\n",
       "      <td>8</td>\n",
       "      <td>4</td>\n",
       "      <td>04:30:00</td>\n",
       "      <td>3</td>\n",
       "    </tr>\n",
       "  </tbody>\n",
       "</table>\n",
       "<p>41841 rows × 5 columns</p>\n",
       "</div>"
      ],
      "text/plain": [
       "       year  month  day      time  day of week\n",
       "0      2011      8   19  19:28:17            4\n",
       "1      2010      8    2  03:59:00            0\n",
       "3      2012      4    8  02:14:00            6\n",
       "4      2011      6    1  15:25:39            2\n",
       "5      2011      6   22  13:33:00            2\n",
       "...     ...    ...  ...       ...          ...\n",
       "45952  2012      3   30  13:57:00            4\n",
       "45953  2012      4   22  02:12:10            6\n",
       "45954  2012      1   16  05:00:00            0\n",
       "45955  2012      5   19  19:44:47            5\n",
       "45956  2011      8    4  04:30:00            3\n",
       "\n",
       "[41841 rows x 5 columns]"
      ]
     },
     "execution_count": 17,
     "metadata": {},
     "output_type": "execute_result"
    }
   ],
   "source": [
    "new_df['year'] = new_df['funded date'].dt.year\n",
    "new_df['month'] = new_df['funded date'].dt.month\n",
    "new_df['day'] = new_df['funded date'].dt.day\n",
    "new_df['time'] = new_df['funded date'].dt.time\n",
    "new_df['day of week'] = new_df['funded date'].dt.dayofweek\n",
    "new_df[['year','month', 'day', 'time', 'day of week']]"
   ]
  },
  {
   "cell_type": "code",
   "execution_count": 18,
   "metadata": {},
   "outputs": [
    {
     "data": {
      "text/html": [
       "<div>\n",
       "<style scoped>\n",
       "    .dataframe tbody tr th:only-of-type {\n",
       "        vertical-align: middle;\n",
       "    }\n",
       "\n",
       "    .dataframe tbody tr th {\n",
       "        vertical-align: top;\n",
       "    }\n",
       "\n",
       "    .dataframe thead th {\n",
       "        text-align: right;\n",
       "    }\n",
       "</style>\n",
       "<table border=\"1\" class=\"dataframe\">\n",
       "  <thead>\n",
       "    <tr style=\"text-align: right;\">\n",
       "      <th></th>\n",
       "      <th>city</th>\n",
       "      <th>state</th>\n",
       "      <th>location</th>\n",
       "    </tr>\n",
       "  </thead>\n",
       "  <tbody>\n",
       "    <tr>\n",
       "      <th>0</th>\n",
       "      <td>Columbia</td>\n",
       "      <td>MO</td>\n",
       "      <td>Columbia, MO</td>\n",
       "    </tr>\n",
       "    <tr>\n",
       "      <th>1</th>\n",
       "      <td>Maplewood</td>\n",
       "      <td>NJ</td>\n",
       "      <td>Maplewood, NJ</td>\n",
       "    </tr>\n",
       "    <tr>\n",
       "      <th>3</th>\n",
       "      <td>Los Angeles</td>\n",
       "      <td>CA</td>\n",
       "      <td>Los Angeles, CA</td>\n",
       "    </tr>\n",
       "    <tr>\n",
       "      <th>4</th>\n",
       "      <td>Novi</td>\n",
       "      <td>MI</td>\n",
       "      <td>Novi, MI</td>\n",
       "    </tr>\n",
       "    <tr>\n",
       "      <th>5</th>\n",
       "      <td>Portland</td>\n",
       "      <td>OR</td>\n",
       "      <td>Portland, OR</td>\n",
       "    </tr>\n",
       "    <tr>\n",
       "      <th>...</th>\n",
       "      <td>...</td>\n",
       "      <td>...</td>\n",
       "      <td>...</td>\n",
       "    </tr>\n",
       "    <tr>\n",
       "      <th>45952</th>\n",
       "      <td>Austin</td>\n",
       "      <td>TX</td>\n",
       "      <td>Austin, TX</td>\n",
       "    </tr>\n",
       "    <tr>\n",
       "      <th>45953</th>\n",
       "      <td>Los Angeles</td>\n",
       "      <td>CA</td>\n",
       "      <td>Los Angeles, CA</td>\n",
       "    </tr>\n",
       "    <tr>\n",
       "      <th>45954</th>\n",
       "      <td>Los Angeles</td>\n",
       "      <td>CA</td>\n",
       "      <td>Los Angeles, CA</td>\n",
       "    </tr>\n",
       "    <tr>\n",
       "      <th>45955</th>\n",
       "      <td>Vero Beach</td>\n",
       "      <td>FL</td>\n",
       "      <td>Vero Beach, FL</td>\n",
       "    </tr>\n",
       "    <tr>\n",
       "      <th>45956</th>\n",
       "      <td>Bozeman</td>\n",
       "      <td>MT</td>\n",
       "      <td>Bozeman, MT</td>\n",
       "    </tr>\n",
       "  </tbody>\n",
       "</table>\n",
       "<p>41841 rows × 3 columns</p>\n",
       "</div>"
      ],
      "text/plain": [
       "              city state         location\n",
       "0         Columbia    MO     Columbia, MO\n",
       "1        Maplewood    NJ    Maplewood, NJ\n",
       "3      Los Angeles    CA  Los Angeles, CA\n",
       "4             Novi    MI         Novi, MI\n",
       "5         Portland    OR     Portland, OR\n",
       "...            ...   ...              ...\n",
       "45952       Austin    TX       Austin, TX\n",
       "45953  Los Angeles    CA  Los Angeles, CA\n",
       "45954  Los Angeles    CA  Los Angeles, CA\n",
       "45955   Vero Beach    FL   Vero Beach, FL\n",
       "45956      Bozeman    MT      Bozeman, MT\n",
       "\n",
       "[41841 rows x 3 columns]"
      ]
     },
     "execution_count": 18,
     "metadata": {},
     "output_type": "execute_result"
    }
   ],
   "source": [
    "new_df['city'], new_df['state'] = new_df['location'].str.split(', ', 1).str\n",
    "new_df[['city', 'state', 'location']]"
   ]
  },
  {
   "cell_type": "code",
   "execution_count": 19,
   "metadata": {},
   "outputs": [
    {
     "data": {
      "text/plain": [
       "array(['Columbia', 'Maplewood', 'Los Angeles', ..., 'Peaks',\n",
       "       'Lumberville', 'Lake Oswego'], dtype=object)"
      ]
     },
     "execution_count": 19,
     "metadata": {},
     "output_type": "execute_result"
    }
   ],
   "source": [
    "new_df['city'].unique()"
   ]
  },
  {
   "cell_type": "code",
   "execution_count": 20,
   "metadata": {},
   "outputs": [
    {
     "data": {
      "text/plain": [
       "array(['MO', 'NJ', 'CA', 'MI', 'OR', 'TN', 'IL', nan, 'NY', 'DC', 'ID',\n",
       "       'FL', 'TX', 'CO', 'ME', 'Taiwan', 'IN', 'Norway', 'MN', 'NC', 'MA',\n",
       "       'PA', 'CT', 'Chile', 'MD', 'HI', 'VA', 'WA', 'AZ', 'OH', 'NV',\n",
       "       'Haiti', 'GA', 'AL', 'UT', 'Canada', 'LA', 'SC', 'Ecuador', 'WI',\n",
       "       'Jamaica', 'Argentina', 'Hong Kong', 'Germany', 'NM', 'NE',\n",
       "       'Guatemala', 'IA', 'WY', 'Australia', 'RI', 'Sweden', 'OK', 'DE',\n",
       "       'South Africa', 'AK', 'WV', 'Nepal', 'MT', 'KY', 'VT', 'Kenya',\n",
       "       'Bosnia and Herzegovina', 'Iceland', 'Mexico', 'KS', 'Hungary',\n",
       "       'Indonesia', 'China', 'SD', 'Cuba', 'Peru', 'Italy', 'Netherlands',\n",
       "       'Singapore', 'Ethiopia', 'NH', 'New Zealand', 'France',\n",
       "       'United Kingdom', 'Austria', 'Turkey', 'AR', 'Mt', 'Congo',\n",
       "       'Colombia', 'India', 'Mongolia', 'MS', 'Israel', 'Dominica',\n",
       "       'Finland', 'Czech Republic', 'Japan', 'Virgin Islands, U.S.',\n",
       "       'Lebanon', 'Armenia', 'Portugal', 'Qatar', 'Morocco', 'Martinique',\n",
       "       'Puerto Rico', 'Afghanistan', 'Denmark', 'Tanzania', 'Kazakhstan',\n",
       "       'Zambia', 'Switzerland', 'Egypt', 'Svalbard and Jan Mayen', 'ND',\n",
       "       'Liberia', 'Ghana', 'Nicaragua', 'Russia', 'Ukraine', 'Bulgaria',\n",
       "       'South Korea', 'Brazil', 'Rwanda', 'Spain', 'Costa Rica',\n",
       "       'Philippines', 'Pakistan', 'El Salvador', 'Panama',\n",
       "       'United Arab Emirates', 'Honduras', 'Palestinian Territories',\n",
       "       'Poland', 'Georgia', 'Syrian Arab Republic', 'Cambodia', 'Nigeria',\n",
       "       'Mali', 'Saudi Arabia', 'Argent', 'Iraq', 'Cameroon', 'Namibia',\n",
       "       'Ireland', 'Bolivia', 'Venezuela', 'Thailand', 'Jordan',\n",
       "       'Zimbabwe', 'Iran', 'Tunisia', 'Greece', 'Sierra Leone',\n",
       "       'Isle of Man', 'Central African Republic', 'Serbia', 'Belize',\n",
       "       'Uganda', 'Malta', 'Slovenia', 'Sudan', 'Belgium', 'Myanmar',\n",
       "       'Malaysia', 'Greenland', 'Senegal', 'Bahamas', 'Malawi', 'Romania',\n",
       "       'Mozambique', 'Bhutan', 'Lithuania', 'Micronesia', 'Tajikistan',\n",
       "       'Sri Lanka', 'Libyan Arab Jamahiriya', 'Guinea', 'Kyoto, Japan',\n",
       "       'Bermuda', 'Belarus', 'Estonia', 'Suriname', 'Dominican Republic',\n",
       "       'Vanuatu', 'Trinidad and Tobago', 'Cyprus', 'Macedonia',\n",
       "       'Viet Nam', 'Swaziland', 'Falkland Islands', 'Kyrgyzstan',\n",
       "       'Bangladesh', 'Laos', 'Middleburg, MD', 'Papua New Guinea',\n",
       "       'Uruguay', 'Guam', 'Dominican Re', 'Saint Lucia'], dtype=object)"
      ]
     },
     "execution_count": 20,
     "metadata": {},
     "output_type": "execute_result"
    }
   ],
   "source": [
    "new_df['state'].unique()"
   ]
  },
  {
   "cell_type": "code",
   "execution_count": 21,
   "metadata": {},
   "outputs": [],
   "source": [
    "new_df = new_df.replace(to_replace='Virginia', value=\"VA\")"
   ]
  },
  {
   "cell_type": "code",
   "execution_count": 22,
   "metadata": {},
   "outputs": [
    {
     "data": {
      "text/plain": [
       "project id                                                  1637912974\n",
       "name                                                        Light Ball\n",
       "url                  http://www.kickstarter.com/projects/819627388/...\n",
       "category                                                    Technology\n",
       "subcategory                                                 Technology\n",
       "location                                            10, Middleburg, MD\n",
       "status                                                          failed\n",
       "goal                                                             19500\n",
       "pledged                                                            103\n",
       "funded percentage                                           0.00528205\n",
       "backers                                                              3\n",
       "funded date                                  2012-03-31 03:59:00+00:00\n",
       "levels                                                               6\n",
       "reward levels                         $25,$100,$200,$750,$2,000,$3,500\n",
       "updates                                                              0\n",
       "comments                                                             0\n",
       "duration                                                         49.09\n",
       "year                                                              2012\n",
       "month                                                                3\n",
       "day                                                                 31\n",
       "time                                                          03:59:00\n",
       "day of week                                                          5\n",
       "city                                                        Middleburg\n",
       "state                                                               MD\n",
       "Name: 34811, dtype: object"
      ]
     },
     "execution_count": 22,
     "metadata": {},
     "output_type": "execute_result"
    }
   ],
   "source": [
    "x, y = new_df[new_df.state == 'Middleburg, MD']['state'].str.split(', ', 1).str\n",
    "row_val = list(new_df[new_df.state == 'Middleburg, MD'].index)[0]\n",
    "\n",
    "new_df.loc[[row_val],['city']] = x\n",
    "new_df.loc[[row_val], ['state']]= y\n",
    "new_df.loc[row_val]"
   ]
  },
  {
   "cell_type": "code",
   "execution_count": 23,
   "metadata": {},
   "outputs": [
    {
     "data": {
      "text/html": [
       "<div>\n",
       "<style scoped>\n",
       "    .dataframe tbody tr th:only-of-type {\n",
       "        vertical-align: middle;\n",
       "    }\n",
       "\n",
       "    .dataframe tbody tr th {\n",
       "        vertical-align: top;\n",
       "    }\n",
       "\n",
       "    .dataframe thead th {\n",
       "        text-align: right;\n",
       "    }\n",
       "</style>\n",
       "<table border=\"1\" class=\"dataframe\">\n",
       "  <thead>\n",
       "    <tr style=\"text-align: right;\">\n",
       "      <th></th>\n",
       "      <th>project id</th>\n",
       "      <th>name</th>\n",
       "      <th>url</th>\n",
       "      <th>category</th>\n",
       "      <th>subcategory</th>\n",
       "      <th>location</th>\n",
       "      <th>status</th>\n",
       "      <th>goal</th>\n",
       "      <th>pledged</th>\n",
       "      <th>funded percentage</th>\n",
       "      <th>...</th>\n",
       "      <th>comments</th>\n",
       "      <th>duration</th>\n",
       "      <th>year</th>\n",
       "      <th>month</th>\n",
       "      <th>day</th>\n",
       "      <th>time</th>\n",
       "      <th>day of week</th>\n",
       "      <th>city</th>\n",
       "      <th>state</th>\n",
       "      <th>country</th>\n",
       "    </tr>\n",
       "  </thead>\n",
       "  <tbody>\n",
       "    <tr>\n",
       "      <th>11</th>\n",
       "      <td>727286</td>\n",
       "      <td>Offline Wikipedia iPhone app</td>\n",
       "      <td>http://www.kickstarter.com/projects/dphiffer/o...</td>\n",
       "      <td>Technology</td>\n",
       "      <td>Open Software</td>\n",
       "      <td>NaN</td>\n",
       "      <td>successful</td>\n",
       "      <td>99.0</td>\n",
       "      <td>145.0</td>\n",
       "      <td>1.464646</td>\n",
       "      <td>...</td>\n",
       "      <td>19</td>\n",
       "      <td>79.64</td>\n",
       "      <td>2009</td>\n",
       "      <td>7</td>\n",
       "      <td>14</td>\n",
       "      <td>06:59:59</td>\n",
       "      <td>1</td>\n",
       "      <td>NaN</td>\n",
       "      <td>NaN</td>\n",
       "      <td>NaN</td>\n",
       "    </tr>\n",
       "    <tr>\n",
       "      <th>14</th>\n",
       "      <td>893085</td>\n",
       "      <td>Esperanza Farm: A Novel</td>\n",
       "      <td>http://www.kickstarter.com/projects/JesusMaria...</td>\n",
       "      <td>Publishing</td>\n",
       "      <td>Fiction</td>\n",
       "      <td>NaN</td>\n",
       "      <td>failed</td>\n",
       "      <td>6500.0</td>\n",
       "      <td>765.0</td>\n",
       "      <td>0.117692</td>\n",
       "      <td>...</td>\n",
       "      <td>0</td>\n",
       "      <td>60.34</td>\n",
       "      <td>2010</td>\n",
       "      <td>7</td>\n",
       "      <td>16</td>\n",
       "      <td>03:59:00</td>\n",
       "      <td>4</td>\n",
       "      <td>NaN</td>\n",
       "      <td>NaN</td>\n",
       "      <td>NaN</td>\n",
       "    </tr>\n",
       "    <tr>\n",
       "      <th>29</th>\n",
       "      <td>1512678</td>\n",
       "      <td>Eyes and Ears on English - comedy/English educ...</td>\n",
       "      <td>http://www.kickstarter.com/projects/1787808582...</td>\n",
       "      <td>Film &amp; Video</td>\n",
       "      <td>Film &amp; Video</td>\n",
       "      <td>Taipei, Taiwan</td>\n",
       "      <td>failed</td>\n",
       "      <td>12000.0</td>\n",
       "      <td>1502.0</td>\n",
       "      <td>0.125167</td>\n",
       "      <td>...</td>\n",
       "      <td>0</td>\n",
       "      <td>45.00</td>\n",
       "      <td>2011</td>\n",
       "      <td>5</td>\n",
       "      <td>22</td>\n",
       "      <td>05:15:04</td>\n",
       "      <td>6</td>\n",
       "      <td>Taipei</td>\n",
       "      <td>Taiwan</td>\n",
       "      <td>Taiwan</td>\n",
       "    </tr>\n",
       "    <tr>\n",
       "      <th>42</th>\n",
       "      <td>2117470</td>\n",
       "      <td>\" Hugo's There \" - Real News. Unbelievably.</td>\n",
       "      <td>http://www.kickstarter.com/projects/mastermind...</td>\n",
       "      <td>Film &amp; Video</td>\n",
       "      <td>Webseries</td>\n",
       "      <td>Oslo, Norway</td>\n",
       "      <td>failed</td>\n",
       "      <td>8400.0</td>\n",
       "      <td>25.0</td>\n",
       "      <td>0.002976</td>\n",
       "      <td>...</td>\n",
       "      <td>0</td>\n",
       "      <td>42.00</td>\n",
       "      <td>2011</td>\n",
       "      <td>9</td>\n",
       "      <td>5</td>\n",
       "      <td>01:20:25</td>\n",
       "      <td>0</td>\n",
       "      <td>Oslo</td>\n",
       "      <td>Norway</td>\n",
       "      <td>Norway</td>\n",
       "    </tr>\n",
       "    <tr>\n",
       "      <th>49</th>\n",
       "      <td>2442649</td>\n",
       "      <td>Dream with Me--A documentary about one year in...</td>\n",
       "      <td>http://www.kickstarter.com/projects/1800556280...</td>\n",
       "      <td>Film &amp; Video</td>\n",
       "      <td>Documentary</td>\n",
       "      <td>NaN</td>\n",
       "      <td>successful</td>\n",
       "      <td>5000.0</td>\n",
       "      <td>5615.0</td>\n",
       "      <td>1.123000</td>\n",
       "      <td>...</td>\n",
       "      <td>7</td>\n",
       "      <td>30.89</td>\n",
       "      <td>2009</td>\n",
       "      <td>10</td>\n",
       "      <td>16</td>\n",
       "      <td>01:08:00</td>\n",
       "      <td>4</td>\n",
       "      <td>NaN</td>\n",
       "      <td>NaN</td>\n",
       "      <td>NaN</td>\n",
       "    </tr>\n",
       "  </tbody>\n",
       "</table>\n",
       "<p>5 rows × 25 columns</p>\n",
       "</div>"
      ],
      "text/plain": [
       "    project id                                               name  \\\n",
       "11      727286                       Offline Wikipedia iPhone app   \n",
       "14      893085                            Esperanza Farm: A Novel   \n",
       "29     1512678  Eyes and Ears on English - comedy/English educ...   \n",
       "42     2117470        \" Hugo's There \" - Real News. Unbelievably.   \n",
       "49     2442649  Dream with Me--A documentary about one year in...   \n",
       "\n",
       "                                                  url      category  \\\n",
       "11  http://www.kickstarter.com/projects/dphiffer/o...    Technology   \n",
       "14  http://www.kickstarter.com/projects/JesusMaria...    Publishing   \n",
       "29  http://www.kickstarter.com/projects/1787808582...  Film & Video   \n",
       "42  http://www.kickstarter.com/projects/mastermind...  Film & Video   \n",
       "49  http://www.kickstarter.com/projects/1800556280...  Film & Video   \n",
       "\n",
       "      subcategory        location      status     goal  pledged  \\\n",
       "11  Open Software             NaN  successful     99.0    145.0   \n",
       "14        Fiction             NaN      failed   6500.0    765.0   \n",
       "29   Film & Video  Taipei, Taiwan      failed  12000.0   1502.0   \n",
       "42      Webseries    Oslo, Norway      failed   8400.0     25.0   \n",
       "49    Documentary             NaN  successful   5000.0   5615.0   \n",
       "\n",
       "    funded percentage  ...  comments duration  year month  day      time  \\\n",
       "11           1.464646  ...        19    79.64  2009     7   14  06:59:59   \n",
       "14           0.117692  ...         0    60.34  2010     7   16  03:59:00   \n",
       "29           0.125167  ...         0    45.00  2011     5   22  05:15:04   \n",
       "42           0.002976  ...         0    42.00  2011     9    5  01:20:25   \n",
       "49           1.123000  ...         7    30.89  2009    10   16  01:08:00   \n",
       "\n",
       "    day of week    city   state  country  \n",
       "11            1     NaN     NaN      NaN  \n",
       "14            4     NaN     NaN      NaN  \n",
       "29            6  Taipei  Taiwan   Taiwan  \n",
       "42            0    Oslo  Norway   Norway  \n",
       "49            4     NaN     NaN      NaN  \n",
       "\n",
       "[5 rows x 25 columns]"
      ]
     },
     "execution_count": 23,
     "metadata": {},
     "output_type": "execute_result"
    }
   ],
   "source": [
    "new_df['country'] = new_df['state'].replace(to_replace=r'^..{1}$', value=\"USA\", regex=True)\n",
    "new_df[new_df.country != 'USA'].head()"
   ]
  },
  {
   "cell_type": "code",
   "execution_count": 24,
   "metadata": {},
   "outputs": [],
   "source": [
    "series_1 = new_df[new_df.country != 'USA']['state'].apply(lambda x: np.nan)\n",
    "indices= list(new_df[new_df.country != 'USA'].index)\n",
    "new_df.loc[indices, ['state']] = series_1"
   ]
  },
  {
   "cell_type": "code",
   "execution_count": 25,
   "metadata": {},
   "outputs": [
    {
     "data": {
      "text/plain": [
       "array(['MO', 'NJ', 'CA', 'MI', 'OR', 'TN', 'IL', nan, 'NY', 'DC', 'ID',\n",
       "       'FL', 'TX', 'CO', 'ME', 'IN', 'MN', 'NC', 'MA', 'PA', 'CT', 'MD',\n",
       "       'HI', 'VA', 'WA', 'AZ', 'OH', 'NV', 'GA', 'AL', 'UT', 'LA', 'SC',\n",
       "       'WI', 'NM', 'NE', 'IA', 'WY', 'RI', 'OK', 'DE', 'AK', 'WV', 'MT',\n",
       "       'KY', 'VT', 'KS', 'SD', 'NH', 'AR', 'Mt', 'MS', 'ND'], dtype=object)"
      ]
     },
     "execution_count": 25,
     "metadata": {},
     "output_type": "execute_result"
    }
   ],
   "source": [
    "new_df['state'].unique()"
   ]
  },
  {
   "cell_type": "code",
   "execution_count": 26,
   "metadata": {},
   "outputs": [
    {
     "data": {
      "text/plain": [
       "array(['USA', nan, 'Taiwan', 'Norway', 'Chile', 'Haiti', 'Canada',\n",
       "       'Ecuador', 'Jamaica', 'Argentina', 'Hong Kong', 'Germany',\n",
       "       'Guatemala', 'Australia', 'Sweden', 'South Africa', 'Nepal',\n",
       "       'Kenya', 'Bosnia and Herzegovina', 'Iceland', 'Mexico', 'Hungary',\n",
       "       'Indonesia', 'China', 'Cuba', 'Peru', 'Italy', 'Netherlands',\n",
       "       'Singapore', 'Ethiopia', 'New Zealand', 'France', 'United Kingdom',\n",
       "       'Austria', 'Turkey', 'Congo', 'Colombia', 'India', 'Mongolia',\n",
       "       'Israel', 'Dominica', 'Finland', 'Czech Republic', 'Japan',\n",
       "       'Virgin Islands, U.S.', 'Lebanon', 'Armenia', 'Portugal', 'Qatar',\n",
       "       'Morocco', 'Martinique', 'Puerto Rico', 'Afghanistan', 'Denmark',\n",
       "       'Tanzania', 'Kazakhstan', 'Zambia', 'Switzerland', 'Egypt',\n",
       "       'Svalbard and Jan Mayen', 'Liberia', 'Ghana', 'Nicaragua',\n",
       "       'Russia', 'Ukraine', 'Bulgaria', 'South Korea', 'Brazil', 'Rwanda',\n",
       "       'Spain', 'Costa Rica', 'Philippines', 'Pakistan', 'El Salvador',\n",
       "       'Panama', 'United Arab Emirates', 'Honduras',\n",
       "       'Palestinian Territories', 'Poland', 'Georgia',\n",
       "       'Syrian Arab Republic', 'Cambodia', 'Nigeria', 'Mali',\n",
       "       'Saudi Arabia', 'Argent', 'Iraq', 'Cameroon', 'Namibia', 'Ireland',\n",
       "       'Bolivia', 'Venezuela', 'Thailand', 'Jordan', 'Zimbabwe', 'Iran',\n",
       "       'Tunisia', 'Greece', 'Sierra Leone', 'Isle of Man',\n",
       "       'Central African Republic', 'Serbia', 'Belize', 'Uganda', 'Malta',\n",
       "       'Slovenia', 'Sudan', 'Belgium', 'Myanmar', 'Malaysia', 'Greenland',\n",
       "       'Senegal', 'Bahamas', 'Malawi', 'Romania', 'Mozambique', 'Bhutan',\n",
       "       'Lithuania', 'Micronesia', 'Tajikistan', 'Sri Lanka',\n",
       "       'Libyan Arab Jamahiriya', 'Guinea', 'Kyoto, Japan', 'Bermuda',\n",
       "       'Belarus', 'Estonia', 'Suriname', 'Dominican Republic', 'Vanuatu',\n",
       "       'Trinidad and Tobago', 'Cyprus', 'Macedonia', 'Viet Nam',\n",
       "       'Swaziland', 'Falkland Islands', 'Kyrgyzstan', 'Bangladesh',\n",
       "       'Laos', 'Papua New Guinea', 'Uruguay', 'Guam', 'Dominican Re',\n",
       "       'Saint Lucia'], dtype=object)"
      ]
     },
     "execution_count": 26,
     "metadata": {},
     "output_type": "execute_result"
    }
   ],
   "source": [
    "new_df['country'].unique()"
   ]
  },
  {
   "cell_type": "markdown",
   "metadata": {},
   "source": [
    "## Create Dummy Variables Using LabelEncoder()"
   ]
  },
  {
   "cell_type": "code",
   "execution_count": 82,
   "metadata": {},
   "outputs": [],
   "source": [
    "obj_cols = ['category', 'subcategory', 'year', 'status', 'month']\n",
    "label_encoder = LabelEncoder()\n",
    "for col in obj_cols:\n",
    "    try:\n",
    "        new_df[col+\"_dummy\"] = label_encoder.fit_transform(new_df[col])\n",
    "    except:\n",
    "        print('problem with' + col)"
   ]
  },
  {
   "cell_type": "code",
   "execution_count": 114,
   "metadata": {},
   "outputs": [],
   "source": [
    "new_df['country'] = new_df['country'].astype('str')\n",
    "new_df.country\n",
    "new_df['country_dummy'] = label_encoder.fit_transform(new_df['country'])"
   ]
  },
  {
   "cell_type": "code",
   "execution_count": 115,
   "metadata": {},
   "outputs": [
    {
     "data": {
      "text/plain": [
       "0        131\n",
       "1        131\n",
       "3        131\n",
       "4        131\n",
       "5        131\n",
       "        ... \n",
       "45952    131\n",
       "45953    131\n",
       "45954    131\n",
       "45955    131\n",
       "45956    131\n",
       "Name: country_dummy, Length: 41841, dtype: int32"
      ]
     },
     "execution_count": 115,
     "metadata": {},
     "output_type": "execute_result"
    }
   ],
   "source": [
    "new_df.country_dummy"
   ]
  },
  {
   "cell_type": "code",
   "execution_count": 28,
   "metadata": {
    "scrolled": true
   },
   "outputs": [
    {
     "data": {
      "text/html": [
       "<div>\n",
       "<style scoped>\n",
       "    .dataframe tbody tr th:only-of-type {\n",
       "        vertical-align: middle;\n",
       "    }\n",
       "\n",
       "    .dataframe tbody tr th {\n",
       "        vertical-align: top;\n",
       "    }\n",
       "\n",
       "    .dataframe thead th {\n",
       "        text-align: right;\n",
       "    }\n",
       "</style>\n",
       "<table border=\"1\" class=\"dataframe\">\n",
       "  <thead>\n",
       "    <tr style=\"text-align: right;\">\n",
       "      <th></th>\n",
       "      <th>project id</th>\n",
       "      <th>goal</th>\n",
       "      <th>pledged</th>\n",
       "      <th>funded percentage</th>\n",
       "      <th>backers</th>\n",
       "      <th>levels</th>\n",
       "      <th>updates</th>\n",
       "      <th>comments</th>\n",
       "      <th>duration</th>\n",
       "      <th>year</th>\n",
       "      <th>month</th>\n",
       "      <th>day</th>\n",
       "      <th>day of week</th>\n",
       "      <th>category_dummy</th>\n",
       "      <th>subcategory_dummy</th>\n",
       "      <th>year_dummy</th>\n",
       "      <th>status_dummy</th>\n",
       "      <th>month_dummy</th>\n",
       "    </tr>\n",
       "  </thead>\n",
       "  <tbody>\n",
       "    <tr>\n",
       "      <th>count</th>\n",
       "      <td>4.184100e+04</td>\n",
       "      <td>4.184100e+04</td>\n",
       "      <td>4.184100e+04</td>\n",
       "      <td>41841.000000</td>\n",
       "      <td>41841.000000</td>\n",
       "      <td>41841.000000</td>\n",
       "      <td>41841.000000</td>\n",
       "      <td>41841.000000</td>\n",
       "      <td>41841.000000</td>\n",
       "      <td>41841.000000</td>\n",
       "      <td>41841.000000</td>\n",
       "      <td>41841.000000</td>\n",
       "      <td>41841.000000</td>\n",
       "      <td>41841.000000</td>\n",
       "      <td>41841.000000</td>\n",
       "      <td>41841.000000</td>\n",
       "      <td>41841.000000</td>\n",
       "      <td>41841.000000</td>\n",
       "    </tr>\n",
       "    <tr>\n",
       "      <th>mean</th>\n",
       "      <td>1.078276e+09</td>\n",
       "      <td>1.041084e+04</td>\n",
       "      <td>5.128665e+03</td>\n",
       "      <td>1.980354</td>\n",
       "      <td>71.098731</td>\n",
       "      <td>7.950646</td>\n",
       "      <td>4.335580</td>\n",
       "      <td>8.327287</td>\n",
       "      <td>40.232153</td>\n",
       "      <td>2011.123205</td>\n",
       "      <td>6.079993</td>\n",
       "      <td>14.957458</td>\n",
       "      <td>3.105781</td>\n",
       "      <td>6.258072</td>\n",
       "      <td>26.105423</td>\n",
       "      <td>2.123205</td>\n",
       "      <td>0.547358</td>\n",
       "      <td>5.079993</td>\n",
       "    </tr>\n",
       "    <tr>\n",
       "      <th>std</th>\n",
       "      <td>6.197736e+08</td>\n",
       "      <td>1.480363e+05</td>\n",
       "      <td>5.916179e+04</td>\n",
       "      <td>92.728555</td>\n",
       "      <td>713.994952</td>\n",
       "      <td>4.192497</td>\n",
       "      <td>6.628569</td>\n",
       "      <td>175.451017</td>\n",
       "      <td>17.786219</td>\n",
       "      <td>0.744352</td>\n",
       "      <td>3.331319</td>\n",
       "      <td>9.163120</td>\n",
       "      <td>2.014537</td>\n",
       "      <td>3.160544</td>\n",
       "      <td>13.910777</td>\n",
       "      <td>0.744352</td>\n",
       "      <td>0.497758</td>\n",
       "      <td>3.331319</td>\n",
       "    </tr>\n",
       "    <tr>\n",
       "      <th>min</th>\n",
       "      <td>3.940900e+04</td>\n",
       "      <td>1.000000e-02</td>\n",
       "      <td>0.000000e+00</td>\n",
       "      <td>0.000000</td>\n",
       "      <td>0.000000</td>\n",
       "      <td>0.000000</td>\n",
       "      <td>0.000000</td>\n",
       "      <td>0.000000</td>\n",
       "      <td>1.000000</td>\n",
       "      <td>2009.000000</td>\n",
       "      <td>1.000000</td>\n",
       "      <td>1.000000</td>\n",
       "      <td>0.000000</td>\n",
       "      <td>0.000000</td>\n",
       "      <td>0.000000</td>\n",
       "      <td>0.000000</td>\n",
       "      <td>0.000000</td>\n",
       "      <td>0.000000</td>\n",
       "    </tr>\n",
       "    <tr>\n",
       "      <th>25%</th>\n",
       "      <td>5.426141e+08</td>\n",
       "      <td>1.650000e+03</td>\n",
       "      <td>2.200000e+02</td>\n",
       "      <td>0.051667</td>\n",
       "      <td>5.000000</td>\n",
       "      <td>5.000000</td>\n",
       "      <td>0.000000</td>\n",
       "      <td>0.000000</td>\n",
       "      <td>30.000000</td>\n",
       "      <td>2011.000000</td>\n",
       "      <td>3.000000</td>\n",
       "      <td>7.000000</td>\n",
       "      <td>1.000000</td>\n",
       "      <td>5.000000</td>\n",
       "      <td>14.000000</td>\n",
       "      <td>2.000000</td>\n",
       "      <td>0.000000</td>\n",
       "      <td>2.000000</td>\n",
       "    </tr>\n",
       "    <tr>\n",
       "      <th>50%</th>\n",
       "      <td>1.077801e+09</td>\n",
       "      <td>4.000000e+03</td>\n",
       "      <td>1.450000e+03</td>\n",
       "      <td>1.005167</td>\n",
       "      <td>25.000000</td>\n",
       "      <td>7.000000</td>\n",
       "      <td>2.000000</td>\n",
       "      <td>1.000000</td>\n",
       "      <td>32.080000</td>\n",
       "      <td>2011.000000</td>\n",
       "      <td>5.000000</td>\n",
       "      <td>15.000000</td>\n",
       "      <td>3.000000</td>\n",
       "      <td>6.000000</td>\n",
       "      <td>27.000000</td>\n",
       "      <td>2.000000</td>\n",
       "      <td>1.000000</td>\n",
       "      <td>4.000000</td>\n",
       "    </tr>\n",
       "    <tr>\n",
       "      <th>75%</th>\n",
       "      <td>1.616992e+09</td>\n",
       "      <td>8.800000e+03</td>\n",
       "      <td>4.400000e+03</td>\n",
       "      <td>1.130000</td>\n",
       "      <td>61.000000</td>\n",
       "      <td>10.000000</td>\n",
       "      <td>6.000000</td>\n",
       "      <td>3.000000</td>\n",
       "      <td>49.080000</td>\n",
       "      <td>2012.000000</td>\n",
       "      <td>9.000000</td>\n",
       "      <td>23.000000</td>\n",
       "      <td>5.000000</td>\n",
       "      <td>8.000000</td>\n",
       "      <td>41.000000</td>\n",
       "      <td>3.000000</td>\n",
       "      <td>1.000000</td>\n",
       "      <td>8.000000</td>\n",
       "    </tr>\n",
       "    <tr>\n",
       "      <th>max</th>\n",
       "      <td>2.147460e+09</td>\n",
       "      <td>2.147484e+07</td>\n",
       "      <td>1.026684e+07</td>\n",
       "      <td>15066.000000</td>\n",
       "      <td>87142.000000</td>\n",
       "      <td>80.000000</td>\n",
       "      <td>149.000000</td>\n",
       "      <td>19311.000000</td>\n",
       "      <td>91.960000</td>\n",
       "      <td>2012.000000</td>\n",
       "      <td>12.000000</td>\n",
       "      <td>31.000000</td>\n",
       "      <td>6.000000</td>\n",
       "      <td>12.000000</td>\n",
       "      <td>48.000000</td>\n",
       "      <td>3.000000</td>\n",
       "      <td>1.000000</td>\n",
       "      <td>11.000000</td>\n",
       "    </tr>\n",
       "  </tbody>\n",
       "</table>\n",
       "</div>"
      ],
      "text/plain": [
       "         project id          goal       pledged  funded percentage  \\\n",
       "count  4.184100e+04  4.184100e+04  4.184100e+04       41841.000000   \n",
       "mean   1.078276e+09  1.041084e+04  5.128665e+03           1.980354   \n",
       "std    6.197736e+08  1.480363e+05  5.916179e+04          92.728555   \n",
       "min    3.940900e+04  1.000000e-02  0.000000e+00           0.000000   \n",
       "25%    5.426141e+08  1.650000e+03  2.200000e+02           0.051667   \n",
       "50%    1.077801e+09  4.000000e+03  1.450000e+03           1.005167   \n",
       "75%    1.616992e+09  8.800000e+03  4.400000e+03           1.130000   \n",
       "max    2.147460e+09  2.147484e+07  1.026684e+07       15066.000000   \n",
       "\n",
       "            backers        levels       updates      comments      duration  \\\n",
       "count  41841.000000  41841.000000  41841.000000  41841.000000  41841.000000   \n",
       "mean      71.098731      7.950646      4.335580      8.327287     40.232153   \n",
       "std      713.994952      4.192497      6.628569    175.451017     17.786219   \n",
       "min        0.000000      0.000000      0.000000      0.000000      1.000000   \n",
       "25%        5.000000      5.000000      0.000000      0.000000     30.000000   \n",
       "50%       25.000000      7.000000      2.000000      1.000000     32.080000   \n",
       "75%       61.000000     10.000000      6.000000      3.000000     49.080000   \n",
       "max    87142.000000     80.000000    149.000000  19311.000000     91.960000   \n",
       "\n",
       "               year         month           day   day of week  category_dummy  \\\n",
       "count  41841.000000  41841.000000  41841.000000  41841.000000    41841.000000   \n",
       "mean    2011.123205      6.079993     14.957458      3.105781        6.258072   \n",
       "std        0.744352      3.331319      9.163120      2.014537        3.160544   \n",
       "min     2009.000000      1.000000      1.000000      0.000000        0.000000   \n",
       "25%     2011.000000      3.000000      7.000000      1.000000        5.000000   \n",
       "50%     2011.000000      5.000000     15.000000      3.000000        6.000000   \n",
       "75%     2012.000000      9.000000     23.000000      5.000000        8.000000   \n",
       "max     2012.000000     12.000000     31.000000      6.000000       12.000000   \n",
       "\n",
       "       subcategory_dummy    year_dummy  status_dummy   month_dummy  \n",
       "count       41841.000000  41841.000000  41841.000000  41841.000000  \n",
       "mean           26.105423      2.123205      0.547358      5.079993  \n",
       "std            13.910777      0.744352      0.497758      3.331319  \n",
       "min             0.000000      0.000000      0.000000      0.000000  \n",
       "25%            14.000000      2.000000      0.000000      2.000000  \n",
       "50%            27.000000      2.000000      1.000000      4.000000  \n",
       "75%            41.000000      3.000000      1.000000      8.000000  \n",
       "max            48.000000      3.000000      1.000000     11.000000  "
      ]
     },
     "execution_count": 28,
     "metadata": {},
     "output_type": "execute_result"
    }
   ],
   "source": [
    "new_df.describe()"
   ]
  },
  {
   "cell_type": "code",
   "execution_count": 29,
   "metadata": {},
   "outputs": [
    {
     "data": {
      "text/plain": [
       "count    41841.000000\n",
       "mean         9.400827\n",
       "std          5.942987\n",
       "min          0.000000\n",
       "25%          6.000000\n",
       "50%          9.000000\n",
       "75%         12.000000\n",
       "max         22.000000\n",
       "Name: year_month, dtype: float64"
      ]
     },
     "execution_count": 29,
     "metadata": {},
     "output_type": "execute_result"
    }
   ],
   "source": [
    "#create interaction between month and year\n",
    "new_df['year_month'] = new_df['year_dummy'] * new_df['month_dummy']\n",
    "new_df['year_month'].describe()"
   ]
  },
  {
   "cell_type": "markdown",
   "metadata": {},
   "source": [
    "## Check Skewness and test for normal distribution\n",
    "##### mean greater than median, positively skewed\n",
    "##### mean less than median, negatively skewed\n",
    "##### mean = median, symmetrical distribution\n",
    "\n",
    "#### The normal test tests if the distribution of the variable differs from the normal distribution - This is important because the results indicate whether parametric or nonparametric statistical tests should be used. "
   ]
  },
  {
   "cell_type": "code",
   "execution_count": 30,
   "metadata": {},
   "outputs": [],
   "source": [
    "x_vars = ['goal', 'updates', 'comments', 'duration', 'year_dummy', 'month', 'day', 'day of week', 'category_dummy', 'subcategory_dummy']\n",
    "y_vars = ['pledged', 'funded percentage', 'backers', 'status_dummy']"
   ]
  },
  {
   "cell_type": "code",
   "execution_count": 31,
   "metadata": {},
   "outputs": [
    {
     "data": {
      "text/plain": [
       "project id            -0.008691\n",
       "goal                 132.451022\n",
       "pledged              134.091965\n",
       "funded percentage    134.417943\n",
       "backers               85.971300\n",
       "funded date           -0.717252\n",
       "levels                 2.607894\n",
       "updates                3.907637\n",
       "comments              71.633083\n",
       "duration               1.066485\n",
       "year                  -0.445769\n",
       "month                  0.288752\n",
       "day                    0.057872\n",
       "day of week           -0.108342\n",
       "category_dummy        -0.281979\n",
       "subcategory_dummy     -0.074178\n",
       "year_dummy            -0.445769\n",
       "status_dummy          -0.190294\n",
       "month_dummy            0.288752\n",
       "year_month             0.367686\n",
       "dtype: float64"
      ]
     },
     "execution_count": 31,
     "metadata": {},
     "output_type": "execute_result"
    }
   ],
   "source": [
    "new_df.skew(axis = 0, skipna = True)"
   ]
  },
  {
   "cell_type": "code",
   "execution_count": 32,
   "metadata": {},
   "outputs": [
    {
     "name": "stdout",
     "output_type": "stream",
     "text": [
      "goal: NormaltestResult(statistic=181221.97474867204, pvalue=0.0)\n",
      "updates: NormaltestResult(statistic=35981.269196937435, pvalue=0.0)\n",
      "comments: NormaltestResult(statistic=148916.91323430266, pvalue=0.0)\n",
      "duration: NormaltestResult(statistic=6185.700723610547, pvalue=0.0)\n",
      "year_dummy: NormaltestResult(statistic=1611.3934272908994, pvalue=0.0)\n",
      "month: NormaltestResult(statistic=14727.479581701287, pvalue=0.0)\n",
      "day: NormaltestResult(statistic=36756.83174117571, pvalue=0.0)\n",
      "day of week: NormaltestResult(statistic=63622.4356716953, pvalue=0.0)\n",
      "category_dummy: NormaltestResult(statistic=1072.5833590653822, pvalue=1.2344766744891414e-233)\n",
      "subcategory_dummy: NormaltestResult(statistic=50316.776119196045, pvalue=0.0)\n",
      "pledged: NormaltestResult(statistic=182011.5493629134, pvalue=0.0)\n",
      "funded percentage: NormaltestResult(statistic=182069.71940144463, pvalue=0.0)\n",
      "backers: NormaltestResult(statistic=158220.52349264896, pvalue=0.0)\n",
      "status_dummy: NormaltestResult(statistic=146072.00431160198, pvalue=0.0)\n"
     ]
    }
   ],
   "source": [
    "#Reject the null that they are normally distributed\n",
    "for each in x_vars:\n",
    "    print(f\"{each}:\", stats.normaltest(new_df[each],axis = 0, nan_policy='omit'))\n",
    "for each in y_vars:\n",
    "    print(f\"{each}:\", stats.normaltest(new_df[each],axis = 0, nan_policy='omit'))"
   ]
  },
  {
   "cell_type": "markdown",
   "metadata": {},
   "source": [
    "## Look at Relationship between outcome variables and duration\n",
    "#### There seems to be a consistent jump in pledged, percent funded, and backers at around 30 days duration"
   ]
  },
  {
   "cell_type": "code",
   "execution_count": 33,
   "metadata": {
    "scrolled": true
   },
   "outputs": [
    {
     "data": {
      "image/png": "[encoded data removed]",
      "text/plain": [
       "<Figure size 432x288 with 1 Axes>"
      ]
     },
     "metadata": {
      "needs_background": "light"
     },
     "output_type": "display_data"
    }
   ],
   "source": [
    "y = new_df['pledged']\n",
    "x = new_df['duration']\n",
    "plt.scatter(x,y)\n",
    "plt.show()"
   ]
  },
  {
   "cell_type": "code",
   "execution_count": 34,
   "metadata": {},
   "outputs": [
    {
     "data": {
      "image/png": "[encoded data removed]",
      "text/plain": [
       "<Figure size 432x288 with 1 Axes>"
      ]
     },
     "metadata": {
      "needs_background": "light"
     },
     "output_type": "display_data"
    }
   ],
   "source": [
    "y = new_df['backers']\n",
    "x = new_df['duration']\n",
    "plt.scatter(x,y)\n",
    "plt.show()"
   ]
  },
  {
   "cell_type": "code",
   "execution_count": 35,
   "metadata": {},
   "outputs": [
    {
     "data": {
      "image/png": "[encoded data removed]",
      "text/plain": [
       "<Figure size 1152x576 with 1 Axes>"
      ]
     },
     "metadata": {
      "needs_background": "light"
     },
     "output_type": "display_data"
    },
    {
     "data": {
      "text/plain": [
       "<Figure size 432x288 with 0 Axes>"
      ]
     },
     "metadata": {},
     "output_type": "display_data"
    }
   ],
   "source": [
    "y = new_df[\"funded percentage\"]\n",
    "x = new_df['duration']\n",
    "\n",
    "fig, ax = plt.subplots(figsize=(16,8))\n",
    "ax.scatter(x, y)\n",
    "ax.set_xlabel('Duration')\n",
    "ax.set_ylabel('Funded percentage')\n",
    "plt.show()\n",
    "plt.savefig('duration_percfunded.jpg')"
   ]
  },
  {
   "cell_type": "markdown",
   "metadata": {},
   "source": [
    "## Check to see if project listing date is independent to month, day, year, and day of week\n",
    "#### The Chi-Square test is a statistical hypothesis test to check independence of categorical variables. In this context, we use this test to see if projects are more or less likely to be posted in certain months, on certain days, or in particular years."
   ]
  },
  {
   "cell_type": "code",
   "execution_count": 36,
   "metadata": {},
   "outputs": [
    {
     "data": {
      "text/plain": [
       "Power_divergenceResult(statistic=3348.6238617623862, pvalue=0.0)"
      ]
     },
     "execution_count": 36,
     "metadata": {},
     "output_type": "execute_result"
    }
   ],
   "source": [
    "month = new_df['project id'].groupby(new_df['month']).count()\n",
    "stats.chisquare(month)"
   ]
  },
  {
   "cell_type": "code",
   "execution_count": 37,
   "metadata": {},
   "outputs": [
    {
     "data": {
      "text/plain": [
       "<matplotlib.axes._subplots.AxesSubplot at 0x1dc93cd2708>"
      ]
     },
     "execution_count": 37,
     "metadata": {},
     "output_type": "execute_result"
    },
    {
     "data": {
      "image/png": "[encoded data removed]",
      "text/plain": [
       "<Figure size 432x288 with 1 Axes>"
      ]
     },
     "metadata": {
      "needs_background": "light"
     },
     "output_type": "display_data"
    }
   ],
   "source": [
    "month.plot.bar()"
   ]
  },
  {
   "cell_type": "code",
   "execution_count": 38,
   "metadata": {},
   "outputs": [
    {
     "data": {
      "text/plain": [
       "Power_divergenceResult(statistic=2642.9375492937547, pvalue=0.0)"
      ]
     },
     "execution_count": 38,
     "metadata": {},
     "output_type": "execute_result"
    }
   ],
   "source": [
    "day = new_df['project id'].groupby(new_df['day']).count()\n",
    "stats.chisquare(day)"
   ]
  },
  {
   "cell_type": "code",
   "execution_count": 39,
   "metadata": {},
   "outputs": [
    {
     "data": {
      "text/plain": [
       "<matplotlib.axes._subplots.AxesSubplot at 0x1dc93c6f148>"
      ]
     },
     "execution_count": 39,
     "metadata": {},
     "output_type": "execute_result"
    },
    {
     "data": {
      "image/png": "[encoded data removed]",
      "text/plain": [
       "<Figure size 432x288 with 1 Axes>"
      ]
     },
     "metadata": {
      "needs_background": "light"
     },
     "output_type": "display_data"
    }
   ],
   "source": [
    "day.plot.bar()"
   ]
  },
  {
   "cell_type": "code",
   "execution_count": 40,
   "metadata": {},
   "outputs": [
    {
     "data": {
      "text/plain": [
       "Power_divergenceResult(statistic=20089.310747831074, pvalue=0.0)"
      ]
     },
     "execution_count": 40,
     "metadata": {},
     "output_type": "execute_result"
    }
   ],
   "source": [
    "year = new_df['project id'].groupby(new_df['year']).count()\n",
    "stats.chisquare(year)"
   ]
  },
  {
   "cell_type": "code",
   "execution_count": 41,
   "metadata": {
    "scrolled": false
   },
   "outputs": [
    {
     "data": {
      "text/plain": [
       "<matplotlib.axes._subplots.AxesSubplot at 0x1dc93bd2648>"
      ]
     },
     "execution_count": 41,
     "metadata": {},
     "output_type": "execute_result"
    },
    {
     "data": {
      "image/png": "[encoded data removed]",
      "text/plain": [
       "<Figure size 432x288 with 1 Axes>"
      ]
     },
     "metadata": {
      "needs_background": "light"
     },
     "output_type": "display_data"
    }
   ],
   "source": [
    "year.plot.bar()"
   ]
  },
  {
   "cell_type": "code",
   "execution_count": 42,
   "metadata": {},
   "outputs": [
    {
     "data": {
      "text/plain": [
       "Power_divergenceResult(statistic=295.2817571281757, pvalue=8.387785658465541e-61)"
      ]
     },
     "execution_count": 42,
     "metadata": {},
     "output_type": "execute_result"
    }
   ],
   "source": [
    "day_of_week = new_df['project id'].groupby(new_df['day of week']).count()\n",
    "stats.chisquare(day_of_week)"
   ]
  },
  {
   "cell_type": "code",
   "execution_count": 43,
   "metadata": {},
   "outputs": [
    {
     "data": {
      "text/plain": [
       "<matplotlib.axes._subplots.AxesSubplot at 0x1dc93b81788>"
      ]
     },
     "execution_count": 43,
     "metadata": {},
     "output_type": "execute_result"
    },
    {
     "data": {
      "image/png": "[encoded data removed]",
      "text/plain": [
       "<Figure size 432x288 with 1 Axes>"
      ]
     },
     "metadata": {
      "needs_background": "light"
     },
     "output_type": "display_data"
    }
   ],
   "source": [
    "day_of_week.plot.bar()"
   ]
  },
  {
   "cell_type": "markdown",
   "metadata": {},
   "source": [
    "## Check for joint significance of month, day of week, and year \n",
    "#### The F-test tests multiple hypothesis. The null hypothesis is that all slopes/coefficients are zero. Unfortunately the data isn't normally distributed so a parametric test probably isn't appropriate.\n",
    "##### Month dummies: Jointly significant; Reject Null\n",
    "##### Year dummies: Jointly significant; Reject Null\n",
    "##### Day of week dummies: Not Jointly Significant; Do not reject the null"
   ]
  },
  {
   "cell_type": "code",
   "execution_count": 44,
   "metadata": {},
   "outputs": [
    {
     "data": {
      "text/plain": [
       "F_onewayResult(statistic=4.211975575580128, pvalue=2.8486971326095864e-06)"
      ]
     },
     "execution_count": 44,
     "metadata": {},
     "output_type": "execute_result"
    }
   ],
   "source": [
    "stats.f_oneway(new_df['status_dummy'][new_df['month'] == 1], \n",
    "               new_df['status_dummy'][new_df['month'] == 2], \n",
    "               new_df['status_dummy'][new_df['month'] == 3],\n",
    "              new_df['status_dummy'][new_df['month'] == 4],\n",
    "              new_df['status_dummy'][new_df['month'] == 5],\n",
    "              new_df['status_dummy'][new_df['month'] == 6],\n",
    "              new_df['status_dummy'][new_df['month'] == 7],\n",
    "              new_df['status_dummy'][new_df['month'] == 8],\n",
    "              new_df['status_dummy'][new_df['month'] == 9],\n",
    "              new_df['status_dummy'][new_df['month'] == 10],\n",
    "              new_df['status_dummy'][new_df['month'] == 11],\n",
    "              new_df['status_dummy'][new_df['month'] == 12])"
   ]
  },
  {
   "cell_type": "code",
   "execution_count": 45,
   "metadata": {},
   "outputs": [
    {
     "data": {
      "text/plain": [
       "F_onewayResult(statistic=15.196937914090293, pvalue=7.012146438986875e-10)"
      ]
     },
     "execution_count": 45,
     "metadata": {},
     "output_type": "execute_result"
    }
   ],
   "source": [
    "stats.f_oneway(new_df['status_dummy'][new_df['year'] == 2009], \n",
    "               new_df['status_dummy'][new_df['year'] == 2010], \n",
    "               new_df['status_dummy'][new_df['year'] == 2011],\n",
    "              new_df['status_dummy'][new_df['year'] == 2012])"
   ]
  },
  {
   "cell_type": "code",
   "execution_count": 46,
   "metadata": {},
   "outputs": [
    {
     "data": {
      "text/plain": [
       "F_onewayResult(statistic=1.4494149509388263, pvalue=0.1914102900357102)"
      ]
     },
     "execution_count": 46,
     "metadata": {},
     "output_type": "execute_result"
    }
   ],
   "source": [
    "stats.f_oneway(new_df['status_dummy'][new_df['day of week'] == 0], \n",
    "               new_df['status_dummy'][new_df['day of week'] == 1], \n",
    "               new_df['status_dummy'][new_df['day of week'] == 2],\n",
    "             new_df['status_dummy'][new_df['day of week'] == 3], \n",
    "              new_df['status_dummy'][new_df['day of week'] == 4],  \n",
    "               new_df['status_dummy'][new_df['day of week'] == 5],\n",
    "               new_df['status_dummy'][new_df['day of week'] == 6])"
   ]
  },
  {
   "cell_type": "markdown",
   "metadata": {},
   "source": [
    "## Kruskal-Wallis Test\n",
    "#### Kruskal-Wallis test is a nonparametric version of the ANOVA test ; Interprets the MEDIAN difference"
   ]
  },
  {
   "cell_type": "code",
   "execution_count": 47,
   "metadata": {},
   "outputs": [
    {
     "name": "stdout",
     "output_type": "stream",
     "text": [
      "Statistics=46.293, p=0.000\n",
      "Different distributions (reject H0)\n"
     ]
    }
   ],
   "source": [
    "# compare samples\n",
    "stat, p = kruskal(new_df['status_dummy'][new_df['month'] == 1], \n",
    "               new_df['status_dummy'][new_df['month'] == 2], \n",
    "               new_df['status_dummy'][new_df['month'] == 3],\n",
    "              new_df['status_dummy'][new_df['month'] == 4],\n",
    "              new_df['status_dummy'][new_df['month'] == 5],\n",
    "              new_df['status_dummy'][new_df['month'] == 6],\n",
    "              new_df['status_dummy'][new_df['month'] == 7],\n",
    "              new_df['status_dummy'][new_df['month'] == 8],\n",
    "              new_df['status_dummy'][new_df['month'] == 9],\n",
    "              new_df['status_dummy'][new_df['month'] == 10],\n",
    "              new_df['status_dummy'][new_df['month'] == 11],\n",
    "              new_df['status_dummy'][new_df['month'] == 12])\n",
    "print('Statistics=%.3f, p=%.3f' % (stat, p))\n",
    "# interpret\n",
    "alpha = 0.01\n",
    "if p > alpha:\n",
    "    print('Same distributions (fail to reject H0)')\n",
    "else:\n",
    "    print('Different distributions (reject H0)')"
   ]
  },
  {
   "cell_type": "code",
   "execution_count": 48,
   "metadata": {},
   "outputs": [
    {
     "name": "stdout",
     "output_type": "stream",
     "text": [
      "Statistics=45.544, p=0.000\n",
      "Different distributions (reject H0)\n"
     ]
    }
   ],
   "source": [
    "# compare samples\n",
    "stat, p = kruskal(new_df['status_dummy'][new_df['year'] == 2009], \n",
    "                new_df['status_dummy'][new_df['year'] == 2010],\n",
    "                new_df['status_dummy'][new_df['year'] == 2011],\n",
    "                new_df['status_dummy'][new_df['year'] == 2012])\n",
    "print('Statistics=%.3f, p=%.3f' % (stat, p))\n",
    "# interpret\n",
    "alpha = 0.01\n",
    "if p > alpha:\n",
    "    print('Same distributions (fail to reject H0)')\n",
    "else:\n",
    "    print('Different distributions (reject H0)')"
   ]
  },
  {
   "cell_type": "code",
   "execution_count": 49,
   "metadata": {},
   "outputs": [
    {
     "name": "stdout",
     "output_type": "stream",
     "text": [
      "Statistics=8.696, p=0.191\n",
      "Same distributions (fail to reject H0)\n"
     ]
    }
   ],
   "source": [
    "# compare samples\n",
    "stat, p = kruskal(new_df['status_dummy'][new_df['day of week'] == 0], \n",
    "               new_df['status_dummy'][new_df['day of week'] == 1], \n",
    "               new_df['status_dummy'][new_df['day of week'] == 2],\n",
    "             new_df['status_dummy'][new_df['day of week'] == 3], \n",
    "              new_df['status_dummy'][new_df['day of week'] == 4],  \n",
    "               new_df['status_dummy'][new_df['day of week'] == 5],\n",
    "               new_df['status_dummy'][new_df['day of week'] == 6])\n",
    "print('Statistics=%.3f, p=%.3f' % (stat, p))\n",
    "# interpret\n",
    "alpha = 0.01\n",
    "if p > alpha:\n",
    "    print('Same distributions (fail to reject H0)')\n",
    "else:\n",
    "    print('Different distributions (reject H0)')"
   ]
  },
  {
   "cell_type": "markdown",
   "metadata": {},
   "source": [
    "## Dunn's Test\n",
    "#### Dunn's test pinpoints which means are significantly different than the others"
   ]
  },
  {
   "cell_type": "code",
   "execution_count": 50,
   "metadata": {},
   "outputs": [
    {
     "data": {
      "text/html": [
       "<div>\n",
       "<style scoped>\n",
       "    .dataframe tbody tr th:only-of-type {\n",
       "        vertical-align: middle;\n",
       "    }\n",
       "\n",
       "    .dataframe tbody tr th {\n",
       "        vertical-align: top;\n",
       "    }\n",
       "\n",
       "    .dataframe thead th {\n",
       "        text-align: right;\n",
       "    }\n",
       "</style>\n",
       "<table border=\"1\" class=\"dataframe\">\n",
       "  <thead>\n",
       "    <tr style=\"text-align: right;\">\n",
       "      <th></th>\n",
       "      <th>1</th>\n",
       "      <th>2</th>\n",
       "      <th>3</th>\n",
       "      <th>4</th>\n",
       "      <th>5</th>\n",
       "      <th>6</th>\n",
       "      <th>7</th>\n",
       "      <th>8</th>\n",
       "      <th>9</th>\n",
       "      <th>10</th>\n",
       "      <th>11</th>\n",
       "      <th>12</th>\n",
       "    </tr>\n",
       "  </thead>\n",
       "  <tbody>\n",
       "    <tr>\n",
       "      <th>1</th>\n",
       "      <td>1.000000</td>\n",
       "      <td>1.0</td>\n",
       "      <td>0.269449</td>\n",
       "      <td>0.083151</td>\n",
       "      <td>1.000000</td>\n",
       "      <td>1.000000</td>\n",
       "      <td>1.000000</td>\n",
       "      <td>1.0</td>\n",
       "      <td>1.0</td>\n",
       "      <td>1.0</td>\n",
       "      <td>0.228951</td>\n",
       "      <td>1.000000</td>\n",
       "    </tr>\n",
       "    <tr>\n",
       "      <th>2</th>\n",
       "      <td>1.000000</td>\n",
       "      <td>1.0</td>\n",
       "      <td>1.000000</td>\n",
       "      <td>1.000000</td>\n",
       "      <td>1.000000</td>\n",
       "      <td>1.000000</td>\n",
       "      <td>1.000000</td>\n",
       "      <td>1.0</td>\n",
       "      <td>1.0</td>\n",
       "      <td>1.0</td>\n",
       "      <td>1.000000</td>\n",
       "      <td>1.000000</td>\n",
       "    </tr>\n",
       "    <tr>\n",
       "      <th>3</th>\n",
       "      <td>0.269449</td>\n",
       "      <td>1.0</td>\n",
       "      <td>1.000000</td>\n",
       "      <td>1.000000</td>\n",
       "      <td>0.023152</td>\n",
       "      <td>0.838899</td>\n",
       "      <td>0.085376</td>\n",
       "      <td>1.0</td>\n",
       "      <td>1.0</td>\n",
       "      <td>1.0</td>\n",
       "      <td>1.000000</td>\n",
       "      <td>0.005146</td>\n",
       "    </tr>\n",
       "    <tr>\n",
       "      <th>4</th>\n",
       "      <td>0.083151</td>\n",
       "      <td>1.0</td>\n",
       "      <td>1.000000</td>\n",
       "      <td>1.000000</td>\n",
       "      <td>0.003695</td>\n",
       "      <td>0.311561</td>\n",
       "      <td>0.023809</td>\n",
       "      <td>1.0</td>\n",
       "      <td>1.0</td>\n",
       "      <td>1.0</td>\n",
       "      <td>1.000000</td>\n",
       "      <td>0.000948</td>\n",
       "    </tr>\n",
       "    <tr>\n",
       "      <th>5</th>\n",
       "      <td>1.000000</td>\n",
       "      <td>1.0</td>\n",
       "      <td>0.023152</td>\n",
       "      <td>0.003695</td>\n",
       "      <td>1.000000</td>\n",
       "      <td>1.000000</td>\n",
       "      <td>1.000000</td>\n",
       "      <td>1.0</td>\n",
       "      <td>1.0</td>\n",
       "      <td>1.0</td>\n",
       "      <td>0.034919</td>\n",
       "      <td>1.000000</td>\n",
       "    </tr>\n",
       "    <tr>\n",
       "      <th>6</th>\n",
       "      <td>1.000000</td>\n",
       "      <td>1.0</td>\n",
       "      <td>0.838899</td>\n",
       "      <td>0.311561</td>\n",
       "      <td>1.000000</td>\n",
       "      <td>1.000000</td>\n",
       "      <td>1.000000</td>\n",
       "      <td>1.0</td>\n",
       "      <td>1.0</td>\n",
       "      <td>1.0</td>\n",
       "      <td>0.627222</td>\n",
       "      <td>1.000000</td>\n",
       "    </tr>\n",
       "    <tr>\n",
       "      <th>7</th>\n",
       "      <td>1.000000</td>\n",
       "      <td>1.0</td>\n",
       "      <td>0.085376</td>\n",
       "      <td>0.023809</td>\n",
       "      <td>1.000000</td>\n",
       "      <td>1.000000</td>\n",
       "      <td>1.000000</td>\n",
       "      <td>1.0</td>\n",
       "      <td>1.0</td>\n",
       "      <td>1.0</td>\n",
       "      <td>0.080245</td>\n",
       "      <td>1.000000</td>\n",
       "    </tr>\n",
       "    <tr>\n",
       "      <th>8</th>\n",
       "      <td>1.000000</td>\n",
       "      <td>1.0</td>\n",
       "      <td>1.000000</td>\n",
       "      <td>1.000000</td>\n",
       "      <td>1.000000</td>\n",
       "      <td>1.000000</td>\n",
       "      <td>1.000000</td>\n",
       "      <td>1.0</td>\n",
       "      <td>1.0</td>\n",
       "      <td>1.0</td>\n",
       "      <td>1.000000</td>\n",
       "      <td>1.000000</td>\n",
       "    </tr>\n",
       "    <tr>\n",
       "      <th>9</th>\n",
       "      <td>1.000000</td>\n",
       "      <td>1.0</td>\n",
       "      <td>1.000000</td>\n",
       "      <td>1.000000</td>\n",
       "      <td>1.000000</td>\n",
       "      <td>1.000000</td>\n",
       "      <td>1.000000</td>\n",
       "      <td>1.0</td>\n",
       "      <td>1.0</td>\n",
       "      <td>1.0</td>\n",
       "      <td>1.000000</td>\n",
       "      <td>1.000000</td>\n",
       "    </tr>\n",
       "    <tr>\n",
       "      <th>10</th>\n",
       "      <td>1.000000</td>\n",
       "      <td>1.0</td>\n",
       "      <td>1.000000</td>\n",
       "      <td>1.000000</td>\n",
       "      <td>1.000000</td>\n",
       "      <td>1.000000</td>\n",
       "      <td>1.000000</td>\n",
       "      <td>1.0</td>\n",
       "      <td>1.0</td>\n",
       "      <td>1.0</td>\n",
       "      <td>1.000000</td>\n",
       "      <td>1.000000</td>\n",
       "    </tr>\n",
       "    <tr>\n",
       "      <th>11</th>\n",
       "      <td>0.228951</td>\n",
       "      <td>1.0</td>\n",
       "      <td>1.000000</td>\n",
       "      <td>1.000000</td>\n",
       "      <td>0.034919</td>\n",
       "      <td>0.627222</td>\n",
       "      <td>0.080245</td>\n",
       "      <td>1.0</td>\n",
       "      <td>1.0</td>\n",
       "      <td>1.0</td>\n",
       "      <td>1.000000</td>\n",
       "      <td>0.007404</td>\n",
       "    </tr>\n",
       "    <tr>\n",
       "      <th>12</th>\n",
       "      <td>1.000000</td>\n",
       "      <td>1.0</td>\n",
       "      <td>0.005146</td>\n",
       "      <td>0.000948</td>\n",
       "      <td>1.000000</td>\n",
       "      <td>1.000000</td>\n",
       "      <td>1.000000</td>\n",
       "      <td>1.0</td>\n",
       "      <td>1.0</td>\n",
       "      <td>1.0</td>\n",
       "      <td>0.007404</td>\n",
       "      <td>1.000000</td>\n",
       "    </tr>\n",
       "  </tbody>\n",
       "</table>\n",
       "</div>"
      ],
      "text/plain": [
       "          1    2         3         4         5         6         7    8    9   \\\n",
       "1   1.000000  1.0  0.269449  0.083151  1.000000  1.000000  1.000000  1.0  1.0   \n",
       "2   1.000000  1.0  1.000000  1.000000  1.000000  1.000000  1.000000  1.0  1.0   \n",
       "3   0.269449  1.0  1.000000  1.000000  0.023152  0.838899  0.085376  1.0  1.0   \n",
       "4   0.083151  1.0  1.000000  1.000000  0.003695  0.311561  0.023809  1.0  1.0   \n",
       "5   1.000000  1.0  0.023152  0.003695  1.000000  1.000000  1.000000  1.0  1.0   \n",
       "6   1.000000  1.0  0.838899  0.311561  1.000000  1.000000  1.000000  1.0  1.0   \n",
       "7   1.000000  1.0  0.085376  0.023809  1.000000  1.000000  1.000000  1.0  1.0   \n",
       "8   1.000000  1.0  1.000000  1.000000  1.000000  1.000000  1.000000  1.0  1.0   \n",
       "9   1.000000  1.0  1.000000  1.000000  1.000000  1.000000  1.000000  1.0  1.0   \n",
       "10  1.000000  1.0  1.000000  1.000000  1.000000  1.000000  1.000000  1.0  1.0   \n",
       "11  0.228951  1.0  1.000000  1.000000  0.034919  0.627222  0.080245  1.0  1.0   \n",
       "12  1.000000  1.0  0.005146  0.000948  1.000000  1.000000  1.000000  1.0  1.0   \n",
       "\n",
       "     10        11        12  \n",
       "1   1.0  0.228951  1.000000  \n",
       "2   1.0  1.000000  1.000000  \n",
       "3   1.0  1.000000  0.005146  \n",
       "4   1.0  1.000000  0.000948  \n",
       "5   1.0  0.034919  1.000000  \n",
       "6   1.0  0.627222  1.000000  \n",
       "7   1.0  0.080245  1.000000  \n",
       "8   1.0  1.000000  1.000000  \n",
       "9   1.0  1.000000  1.000000  \n",
       "10  1.0  1.000000  1.000000  \n",
       "11  1.0  1.000000  0.007404  \n",
       "12  1.0  0.007404  1.000000  "
      ]
     },
     "execution_count": 50,
     "metadata": {},
     "output_type": "execute_result"
    }
   ],
   "source": [
    "# December and March are significantly different \n",
    "# December and April are significantly different\n",
    "# December and November are significantly different \n",
    "# April and May are significantly different\n",
    "scikit_posthocs.posthoc_dunn(new_df, val_col='status_dummy', group_col='month', p_adjust='bonferroni')"
   ]
  },
  {
   "cell_type": "code",
   "execution_count": 51,
   "metadata": {},
   "outputs": [
    {
     "data": {
      "text/html": [
       "<div>\n",
       "<style scoped>\n",
       "    .dataframe tbody tr th:only-of-type {\n",
       "        vertical-align: middle;\n",
       "    }\n",
       "\n",
       "    .dataframe tbody tr th {\n",
       "        vertical-align: top;\n",
       "    }\n",
       "\n",
       "    .dataframe thead th {\n",
       "        text-align: right;\n",
       "    }\n",
       "</style>\n",
       "<table border=\"1\" class=\"dataframe\">\n",
       "  <thead>\n",
       "    <tr style=\"text-align: right;\">\n",
       "      <th></th>\n",
       "      <th>2009</th>\n",
       "      <th>2010</th>\n",
       "      <th>2011</th>\n",
       "      <th>2012</th>\n",
       "    </tr>\n",
       "  </thead>\n",
       "  <tbody>\n",
       "    <tr>\n",
       "      <th>2009</th>\n",
       "      <td>1.000000</td>\n",
       "      <td>1.000000</td>\n",
       "      <td>4.511020e-01</td>\n",
       "      <td>1.000000e+00</td>\n",
       "    </tr>\n",
       "    <tr>\n",
       "      <th>2010</th>\n",
       "      <td>1.000000</td>\n",
       "      <td>1.000000</td>\n",
       "      <td>1.095175e-03</td>\n",
       "      <td>9.969441e-01</td>\n",
       "    </tr>\n",
       "    <tr>\n",
       "      <th>2011</th>\n",
       "      <td>0.451102</td>\n",
       "      <td>0.001095</td>\n",
       "      <td>1.000000e+00</td>\n",
       "      <td>6.314071e-10</td>\n",
       "    </tr>\n",
       "    <tr>\n",
       "      <th>2012</th>\n",
       "      <td>1.000000</td>\n",
       "      <td>0.996944</td>\n",
       "      <td>6.314071e-10</td>\n",
       "      <td>1.000000e+00</td>\n",
       "    </tr>\n",
       "  </tbody>\n",
       "</table>\n",
       "</div>"
      ],
      "text/plain": [
       "          2009      2010          2011          2012\n",
       "2009  1.000000  1.000000  4.511020e-01  1.000000e+00\n",
       "2010  1.000000  1.000000  1.095175e-03  9.969441e-01\n",
       "2011  0.451102  0.001095  1.000000e+00  6.314071e-10\n",
       "2012  1.000000  0.996944  6.314071e-10  1.000000e+00"
      ]
     },
     "execution_count": 51,
     "metadata": {},
     "output_type": "execute_result"
    }
   ],
   "source": [
    "# 2010 and 2011 are significantly different \n",
    "# 2011 and 2012 are significantly different\n",
    "scikit_posthocs.posthoc_dunn(new_df, val_col='status_dummy', group_col='year', p_adjust='bonferroni')"
   ]
  },
  {
   "cell_type": "code",
   "execution_count": 52,
   "metadata": {},
   "outputs": [
    {
     "data": {
      "text/html": [
       "<div>\n",
       "<style scoped>\n",
       "    .dataframe tbody tr th:only-of-type {\n",
       "        vertical-align: middle;\n",
       "    }\n",
       "\n",
       "    .dataframe tbody tr th {\n",
       "        vertical-align: top;\n",
       "    }\n",
       "\n",
       "    .dataframe thead th {\n",
       "        text-align: right;\n",
       "    }\n",
       "</style>\n",
       "<table border=\"1\" class=\"dataframe\">\n",
       "  <thead>\n",
       "    <tr style=\"text-align: right;\">\n",
       "      <th></th>\n",
       "      <th>0</th>\n",
       "      <th>1</th>\n",
       "      <th>2</th>\n",
       "      <th>3</th>\n",
       "      <th>4</th>\n",
       "      <th>5</th>\n",
       "      <th>6</th>\n",
       "    </tr>\n",
       "  </thead>\n",
       "  <tbody>\n",
       "    <tr>\n",
       "      <th>0</th>\n",
       "      <td>1.000000</td>\n",
       "      <td>0.405313</td>\n",
       "      <td>1.0</td>\n",
       "      <td>1.000000</td>\n",
       "      <td>0.864544</td>\n",
       "      <td>1.0</td>\n",
       "      <td>1.0</td>\n",
       "    </tr>\n",
       "    <tr>\n",
       "      <th>1</th>\n",
       "      <td>0.405313</td>\n",
       "      <td>1.000000</td>\n",
       "      <td>1.0</td>\n",
       "      <td>0.872227</td>\n",
       "      <td>1.000000</td>\n",
       "      <td>1.0</td>\n",
       "      <td>1.0</td>\n",
       "    </tr>\n",
       "    <tr>\n",
       "      <th>2</th>\n",
       "      <td>1.000000</td>\n",
       "      <td>1.000000</td>\n",
       "      <td>1.0</td>\n",
       "      <td>1.000000</td>\n",
       "      <td>1.000000</td>\n",
       "      <td>1.0</td>\n",
       "      <td>1.0</td>\n",
       "    </tr>\n",
       "    <tr>\n",
       "      <th>3</th>\n",
       "      <td>1.000000</td>\n",
       "      <td>0.872227</td>\n",
       "      <td>1.0</td>\n",
       "      <td>1.000000</td>\n",
       "      <td>1.000000</td>\n",
       "      <td>1.0</td>\n",
       "      <td>1.0</td>\n",
       "    </tr>\n",
       "    <tr>\n",
       "      <th>4</th>\n",
       "      <td>0.864544</td>\n",
       "      <td>1.000000</td>\n",
       "      <td>1.0</td>\n",
       "      <td>1.000000</td>\n",
       "      <td>1.000000</td>\n",
       "      <td>1.0</td>\n",
       "      <td>1.0</td>\n",
       "    </tr>\n",
       "    <tr>\n",
       "      <th>5</th>\n",
       "      <td>1.000000</td>\n",
       "      <td>1.000000</td>\n",
       "      <td>1.0</td>\n",
       "      <td>1.000000</td>\n",
       "      <td>1.000000</td>\n",
       "      <td>1.0</td>\n",
       "      <td>1.0</td>\n",
       "    </tr>\n",
       "    <tr>\n",
       "      <th>6</th>\n",
       "      <td>1.000000</td>\n",
       "      <td>1.000000</td>\n",
       "      <td>1.0</td>\n",
       "      <td>1.000000</td>\n",
       "      <td>1.000000</td>\n",
       "      <td>1.0</td>\n",
       "      <td>1.0</td>\n",
       "    </tr>\n",
       "  </tbody>\n",
       "</table>\n",
       "</div>"
      ],
      "text/plain": [
       "          0         1    2         3         4    5    6\n",
       "0  1.000000  0.405313  1.0  1.000000  0.864544  1.0  1.0\n",
       "1  0.405313  1.000000  1.0  0.872227  1.000000  1.0  1.0\n",
       "2  1.000000  1.000000  1.0  1.000000  1.000000  1.0  1.0\n",
       "3  1.000000  0.872227  1.0  1.000000  1.000000  1.0  1.0\n",
       "4  0.864544  1.000000  1.0  1.000000  1.000000  1.0  1.0\n",
       "5  1.000000  1.000000  1.0  1.000000  1.000000  1.0  1.0\n",
       "6  1.000000  1.000000  1.0  1.000000  1.000000  1.0  1.0"
      ]
     },
     "execution_count": 52,
     "metadata": {},
     "output_type": "execute_result"
    }
   ],
   "source": [
    "# None are significantly different\n",
    "scikit_posthocs.posthoc_dunn(new_df, val_col='status_dummy', group_col='day of week', p_adjust='bonferroni')"
   ]
  },
  {
   "cell_type": "code",
   "execution_count": 53,
   "metadata": {
    "scrolled": true
   },
   "outputs": [
    {
     "data": {
      "text/html": [
       "<div>\n",
       "<style scoped>\n",
       "    .dataframe tbody tr th:only-of-type {\n",
       "        vertical-align: middle;\n",
       "    }\n",
       "\n",
       "    .dataframe tbody tr th {\n",
       "        vertical-align: top;\n",
       "    }\n",
       "\n",
       "    .dataframe thead th {\n",
       "        text-align: right;\n",
       "    }\n",
       "</style>\n",
       "<table border=\"1\" class=\"dataframe\">\n",
       "  <thead>\n",
       "    <tr style=\"text-align: right;\">\n",
       "      <th></th>\n",
       "      <th>0</th>\n",
       "      <th>1</th>\n",
       "      <th>2</th>\n",
       "      <th>3</th>\n",
       "      <th>4</th>\n",
       "      <th>5</th>\n",
       "      <th>6</th>\n",
       "      <th>7</th>\n",
       "      <th>8</th>\n",
       "      <th>9</th>\n",
       "      <th>10</th>\n",
       "      <th>11</th>\n",
       "      <th>12</th>\n",
       "      <th>14</th>\n",
       "      <th>15</th>\n",
       "      <th>16</th>\n",
       "      <th>18</th>\n",
       "      <th>20</th>\n",
       "      <th>22</th>\n",
       "    </tr>\n",
       "  </thead>\n",
       "  <tbody>\n",
       "    <tr>\n",
       "      <th>0</th>\n",
       "      <td>1.000000</td>\n",
       "      <td>1.0</td>\n",
       "      <td>0.285138</td>\n",
       "      <td>1.000000</td>\n",
       "      <td>0.022041</td>\n",
       "      <td>1.0</td>\n",
       "      <td>1.000000</td>\n",
       "      <td>1.000000</td>\n",
       "      <td>1.000000</td>\n",
       "      <td>1.000000</td>\n",
       "      <td>1.000000</td>\n",
       "      <td>1.0</td>\n",
       "      <td>1.000000</td>\n",
       "      <td>1.000000</td>\n",
       "      <td>1.000000</td>\n",
       "      <td>1.0</td>\n",
       "      <td>1.0</td>\n",
       "      <td>0.068536</td>\n",
       "      <td>1.000000</td>\n",
       "    </tr>\n",
       "    <tr>\n",
       "      <th>1</th>\n",
       "      <td>1.000000</td>\n",
       "      <td>1.0</td>\n",
       "      <td>1.000000</td>\n",
       "      <td>1.000000</td>\n",
       "      <td>1.000000</td>\n",
       "      <td>1.0</td>\n",
       "      <td>1.000000</td>\n",
       "      <td>1.000000</td>\n",
       "      <td>1.000000</td>\n",
       "      <td>1.000000</td>\n",
       "      <td>1.000000</td>\n",
       "      <td>1.0</td>\n",
       "      <td>1.000000</td>\n",
       "      <td>1.000000</td>\n",
       "      <td>1.000000</td>\n",
       "      <td>1.0</td>\n",
       "      <td>1.0</td>\n",
       "      <td>1.000000</td>\n",
       "      <td>1.000000</td>\n",
       "    </tr>\n",
       "    <tr>\n",
       "      <th>2</th>\n",
       "      <td>0.285138</td>\n",
       "      <td>1.0</td>\n",
       "      <td>1.000000</td>\n",
       "      <td>1.000000</td>\n",
       "      <td>1.000000</td>\n",
       "      <td>1.0</td>\n",
       "      <td>1.000000</td>\n",
       "      <td>0.037586</td>\n",
       "      <td>1.000000</td>\n",
       "      <td>1.000000</td>\n",
       "      <td>1.000000</td>\n",
       "      <td>1.0</td>\n",
       "      <td>0.015023</td>\n",
       "      <td>1.000000</td>\n",
       "      <td>0.030447</td>\n",
       "      <td>1.0</td>\n",
       "      <td>1.0</td>\n",
       "      <td>1.000000</td>\n",
       "      <td>0.058758</td>\n",
       "    </tr>\n",
       "    <tr>\n",
       "      <th>3</th>\n",
       "      <td>1.000000</td>\n",
       "      <td>1.0</td>\n",
       "      <td>1.000000</td>\n",
       "      <td>1.000000</td>\n",
       "      <td>0.422947</td>\n",
       "      <td>1.0</td>\n",
       "      <td>1.000000</td>\n",
       "      <td>1.000000</td>\n",
       "      <td>1.000000</td>\n",
       "      <td>1.000000</td>\n",
       "      <td>1.000000</td>\n",
       "      <td>1.0</td>\n",
       "      <td>1.000000</td>\n",
       "      <td>1.000000</td>\n",
       "      <td>1.000000</td>\n",
       "      <td>1.0</td>\n",
       "      <td>1.0</td>\n",
       "      <td>0.866643</td>\n",
       "      <td>1.000000</td>\n",
       "    </tr>\n",
       "    <tr>\n",
       "      <th>4</th>\n",
       "      <td>0.022041</td>\n",
       "      <td>1.0</td>\n",
       "      <td>1.000000</td>\n",
       "      <td>0.422947</td>\n",
       "      <td>1.000000</td>\n",
       "      <td>1.0</td>\n",
       "      <td>1.000000</td>\n",
       "      <td>0.006429</td>\n",
       "      <td>1.000000</td>\n",
       "      <td>0.125684</td>\n",
       "      <td>1.000000</td>\n",
       "      <td>1.0</td>\n",
       "      <td>0.000292</td>\n",
       "      <td>1.000000</td>\n",
       "      <td>0.010298</td>\n",
       "      <td>1.0</td>\n",
       "      <td>1.0</td>\n",
       "      <td>1.000000</td>\n",
       "      <td>0.004578</td>\n",
       "    </tr>\n",
       "    <tr>\n",
       "      <th>5</th>\n",
       "      <td>1.000000</td>\n",
       "      <td>1.0</td>\n",
       "      <td>1.000000</td>\n",
       "      <td>1.000000</td>\n",
       "      <td>1.000000</td>\n",
       "      <td>1.0</td>\n",
       "      <td>1.000000</td>\n",
       "      <td>1.000000</td>\n",
       "      <td>1.000000</td>\n",
       "      <td>1.000000</td>\n",
       "      <td>1.000000</td>\n",
       "      <td>1.0</td>\n",
       "      <td>1.000000</td>\n",
       "      <td>1.000000</td>\n",
       "      <td>1.000000</td>\n",
       "      <td>1.0</td>\n",
       "      <td>1.0</td>\n",
       "      <td>1.000000</td>\n",
       "      <td>1.000000</td>\n",
       "    </tr>\n",
       "    <tr>\n",
       "      <th>6</th>\n",
       "      <td>1.000000</td>\n",
       "      <td>1.0</td>\n",
       "      <td>1.000000</td>\n",
       "      <td>1.000000</td>\n",
       "      <td>1.000000</td>\n",
       "      <td>1.0</td>\n",
       "      <td>1.000000</td>\n",
       "      <td>0.546821</td>\n",
       "      <td>1.000000</td>\n",
       "      <td>1.000000</td>\n",
       "      <td>1.000000</td>\n",
       "      <td>1.0</td>\n",
       "      <td>0.077515</td>\n",
       "      <td>1.000000</td>\n",
       "      <td>0.342006</td>\n",
       "      <td>1.0</td>\n",
       "      <td>1.0</td>\n",
       "      <td>1.000000</td>\n",
       "      <td>0.828764</td>\n",
       "    </tr>\n",
       "    <tr>\n",
       "      <th>7</th>\n",
       "      <td>1.000000</td>\n",
       "      <td>1.0</td>\n",
       "      <td>0.037586</td>\n",
       "      <td>1.000000</td>\n",
       "      <td>0.006429</td>\n",
       "      <td>1.0</td>\n",
       "      <td>0.546821</td>\n",
       "      <td>1.000000</td>\n",
       "      <td>1.000000</td>\n",
       "      <td>1.000000</td>\n",
       "      <td>1.000000</td>\n",
       "      <td>1.0</td>\n",
       "      <td>1.000000</td>\n",
       "      <td>0.529473</td>\n",
       "      <td>1.000000</td>\n",
       "      <td>1.0</td>\n",
       "      <td>1.0</td>\n",
       "      <td>0.013667</td>\n",
       "      <td>1.000000</td>\n",
       "    </tr>\n",
       "    <tr>\n",
       "      <th>8</th>\n",
       "      <td>1.000000</td>\n",
       "      <td>1.0</td>\n",
       "      <td>1.000000</td>\n",
       "      <td>1.000000</td>\n",
       "      <td>1.000000</td>\n",
       "      <td>1.0</td>\n",
       "      <td>1.000000</td>\n",
       "      <td>1.000000</td>\n",
       "      <td>1.000000</td>\n",
       "      <td>1.000000</td>\n",
       "      <td>1.000000</td>\n",
       "      <td>1.0</td>\n",
       "      <td>1.000000</td>\n",
       "      <td>1.000000</td>\n",
       "      <td>0.655626</td>\n",
       "      <td>1.0</td>\n",
       "      <td>1.0</td>\n",
       "      <td>1.000000</td>\n",
       "      <td>1.000000</td>\n",
       "    </tr>\n",
       "    <tr>\n",
       "      <th>9</th>\n",
       "      <td>1.000000</td>\n",
       "      <td>1.0</td>\n",
       "      <td>1.000000</td>\n",
       "      <td>1.000000</td>\n",
       "      <td>0.125684</td>\n",
       "      <td>1.0</td>\n",
       "      <td>1.000000</td>\n",
       "      <td>1.000000</td>\n",
       "      <td>1.000000</td>\n",
       "      <td>1.000000</td>\n",
       "      <td>1.000000</td>\n",
       "      <td>1.0</td>\n",
       "      <td>1.000000</td>\n",
       "      <td>1.000000</td>\n",
       "      <td>1.000000</td>\n",
       "      <td>1.0</td>\n",
       "      <td>1.0</td>\n",
       "      <td>0.327262</td>\n",
       "      <td>1.000000</td>\n",
       "    </tr>\n",
       "    <tr>\n",
       "      <th>10</th>\n",
       "      <td>1.000000</td>\n",
       "      <td>1.0</td>\n",
       "      <td>1.000000</td>\n",
       "      <td>1.000000</td>\n",
       "      <td>1.000000</td>\n",
       "      <td>1.0</td>\n",
       "      <td>1.000000</td>\n",
       "      <td>1.000000</td>\n",
       "      <td>1.000000</td>\n",
       "      <td>1.000000</td>\n",
       "      <td>1.000000</td>\n",
       "      <td>1.0</td>\n",
       "      <td>1.000000</td>\n",
       "      <td>1.000000</td>\n",
       "      <td>0.783138</td>\n",
       "      <td>1.0</td>\n",
       "      <td>1.0</td>\n",
       "      <td>1.000000</td>\n",
       "      <td>1.000000</td>\n",
       "    </tr>\n",
       "    <tr>\n",
       "      <th>11</th>\n",
       "      <td>1.000000</td>\n",
       "      <td>1.0</td>\n",
       "      <td>1.000000</td>\n",
       "      <td>1.000000</td>\n",
       "      <td>1.000000</td>\n",
       "      <td>1.0</td>\n",
       "      <td>1.000000</td>\n",
       "      <td>1.000000</td>\n",
       "      <td>1.000000</td>\n",
       "      <td>1.000000</td>\n",
       "      <td>1.000000</td>\n",
       "      <td>1.0</td>\n",
       "      <td>1.000000</td>\n",
       "      <td>1.000000</td>\n",
       "      <td>1.000000</td>\n",
       "      <td>1.0</td>\n",
       "      <td>1.0</td>\n",
       "      <td>1.000000</td>\n",
       "      <td>1.000000</td>\n",
       "    </tr>\n",
       "    <tr>\n",
       "      <th>12</th>\n",
       "      <td>1.000000</td>\n",
       "      <td>1.0</td>\n",
       "      <td>0.015023</td>\n",
       "      <td>1.000000</td>\n",
       "      <td>0.000292</td>\n",
       "      <td>1.0</td>\n",
       "      <td>0.077515</td>\n",
       "      <td>1.000000</td>\n",
       "      <td>1.000000</td>\n",
       "      <td>1.000000</td>\n",
       "      <td>1.000000</td>\n",
       "      <td>1.0</td>\n",
       "      <td>1.000000</td>\n",
       "      <td>0.352126</td>\n",
       "      <td>1.000000</td>\n",
       "      <td>1.0</td>\n",
       "      <td>1.0</td>\n",
       "      <td>0.001604</td>\n",
       "      <td>1.000000</td>\n",
       "    </tr>\n",
       "    <tr>\n",
       "      <th>14</th>\n",
       "      <td>1.000000</td>\n",
       "      <td>1.0</td>\n",
       "      <td>1.000000</td>\n",
       "      <td>1.000000</td>\n",
       "      <td>1.000000</td>\n",
       "      <td>1.0</td>\n",
       "      <td>1.000000</td>\n",
       "      <td>0.529473</td>\n",
       "      <td>1.000000</td>\n",
       "      <td>1.000000</td>\n",
       "      <td>1.000000</td>\n",
       "      <td>1.0</td>\n",
       "      <td>0.352126</td>\n",
       "      <td>1.000000</td>\n",
       "      <td>0.278849</td>\n",
       "      <td>1.0</td>\n",
       "      <td>1.0</td>\n",
       "      <td>1.000000</td>\n",
       "      <td>1.000000</td>\n",
       "    </tr>\n",
       "    <tr>\n",
       "      <th>15</th>\n",
       "      <td>1.000000</td>\n",
       "      <td>1.0</td>\n",
       "      <td>0.030447</td>\n",
       "      <td>1.000000</td>\n",
       "      <td>0.010298</td>\n",
       "      <td>1.0</td>\n",
       "      <td>0.342006</td>\n",
       "      <td>1.000000</td>\n",
       "      <td>0.655626</td>\n",
       "      <td>1.000000</td>\n",
       "      <td>0.783138</td>\n",
       "      <td>1.0</td>\n",
       "      <td>1.000000</td>\n",
       "      <td>0.278849</td>\n",
       "      <td>1.000000</td>\n",
       "      <td>1.0</td>\n",
       "      <td>1.0</td>\n",
       "      <td>0.016489</td>\n",
       "      <td>1.000000</td>\n",
       "    </tr>\n",
       "    <tr>\n",
       "      <th>16</th>\n",
       "      <td>1.000000</td>\n",
       "      <td>1.0</td>\n",
       "      <td>1.000000</td>\n",
       "      <td>1.000000</td>\n",
       "      <td>1.000000</td>\n",
       "      <td>1.0</td>\n",
       "      <td>1.000000</td>\n",
       "      <td>1.000000</td>\n",
       "      <td>1.000000</td>\n",
       "      <td>1.000000</td>\n",
       "      <td>1.000000</td>\n",
       "      <td>1.0</td>\n",
       "      <td>1.000000</td>\n",
       "      <td>1.000000</td>\n",
       "      <td>1.000000</td>\n",
       "      <td>1.0</td>\n",
       "      <td>1.0</td>\n",
       "      <td>1.000000</td>\n",
       "      <td>1.000000</td>\n",
       "    </tr>\n",
       "    <tr>\n",
       "      <th>18</th>\n",
       "      <td>1.000000</td>\n",
       "      <td>1.0</td>\n",
       "      <td>1.000000</td>\n",
       "      <td>1.000000</td>\n",
       "      <td>1.000000</td>\n",
       "      <td>1.0</td>\n",
       "      <td>1.000000</td>\n",
       "      <td>1.000000</td>\n",
       "      <td>1.000000</td>\n",
       "      <td>1.000000</td>\n",
       "      <td>1.000000</td>\n",
       "      <td>1.0</td>\n",
       "      <td>1.000000</td>\n",
       "      <td>1.000000</td>\n",
       "      <td>1.000000</td>\n",
       "      <td>1.0</td>\n",
       "      <td>1.0</td>\n",
       "      <td>1.000000</td>\n",
       "      <td>1.000000</td>\n",
       "    </tr>\n",
       "    <tr>\n",
       "      <th>20</th>\n",
       "      <td>0.068536</td>\n",
       "      <td>1.0</td>\n",
       "      <td>1.000000</td>\n",
       "      <td>0.866643</td>\n",
       "      <td>1.000000</td>\n",
       "      <td>1.0</td>\n",
       "      <td>1.000000</td>\n",
       "      <td>0.013667</td>\n",
       "      <td>1.000000</td>\n",
       "      <td>0.327262</td>\n",
       "      <td>1.000000</td>\n",
       "      <td>1.0</td>\n",
       "      <td>0.001604</td>\n",
       "      <td>1.000000</td>\n",
       "      <td>0.016489</td>\n",
       "      <td>1.0</td>\n",
       "      <td>1.0</td>\n",
       "      <td>1.000000</td>\n",
       "      <td>0.013750</td>\n",
       "    </tr>\n",
       "    <tr>\n",
       "      <th>22</th>\n",
       "      <td>1.000000</td>\n",
       "      <td>1.0</td>\n",
       "      <td>0.058758</td>\n",
       "      <td>1.000000</td>\n",
       "      <td>0.004578</td>\n",
       "      <td>1.0</td>\n",
       "      <td>0.828764</td>\n",
       "      <td>1.000000</td>\n",
       "      <td>1.000000</td>\n",
       "      <td>1.000000</td>\n",
       "      <td>1.000000</td>\n",
       "      <td>1.0</td>\n",
       "      <td>1.000000</td>\n",
       "      <td>1.000000</td>\n",
       "      <td>1.000000</td>\n",
       "      <td>1.0</td>\n",
       "      <td>1.0</td>\n",
       "      <td>0.013750</td>\n",
       "      <td>1.000000</td>\n",
       "    </tr>\n",
       "  </tbody>\n",
       "</table>\n",
       "</div>"
      ],
      "text/plain": [
       "          0    1         2         3         4    5         6         7   \\\n",
       "0   1.000000  1.0  0.285138  1.000000  0.022041  1.0  1.000000  1.000000   \n",
       "1   1.000000  1.0  1.000000  1.000000  1.000000  1.0  1.000000  1.000000   \n",
       "2   0.285138  1.0  1.000000  1.000000  1.000000  1.0  1.000000  0.037586   \n",
       "3   1.000000  1.0  1.000000  1.000000  0.422947  1.0  1.000000  1.000000   \n",
       "4   0.022041  1.0  1.000000  0.422947  1.000000  1.0  1.000000  0.006429   \n",
       "5   1.000000  1.0  1.000000  1.000000  1.000000  1.0  1.000000  1.000000   \n",
       "6   1.000000  1.0  1.000000  1.000000  1.000000  1.0  1.000000  0.546821   \n",
       "7   1.000000  1.0  0.037586  1.000000  0.006429  1.0  0.546821  1.000000   \n",
       "8   1.000000  1.0  1.000000  1.000000  1.000000  1.0  1.000000  1.000000   \n",
       "9   1.000000  1.0  1.000000  1.000000  0.125684  1.0  1.000000  1.000000   \n",
       "10  1.000000  1.0  1.000000  1.000000  1.000000  1.0  1.000000  1.000000   \n",
       "11  1.000000  1.0  1.000000  1.000000  1.000000  1.0  1.000000  1.000000   \n",
       "12  1.000000  1.0  0.015023  1.000000  0.000292  1.0  0.077515  1.000000   \n",
       "14  1.000000  1.0  1.000000  1.000000  1.000000  1.0  1.000000  0.529473   \n",
       "15  1.000000  1.0  0.030447  1.000000  0.010298  1.0  0.342006  1.000000   \n",
       "16  1.000000  1.0  1.000000  1.000000  1.000000  1.0  1.000000  1.000000   \n",
       "18  1.000000  1.0  1.000000  1.000000  1.000000  1.0  1.000000  1.000000   \n",
       "20  0.068536  1.0  1.000000  0.866643  1.000000  1.0  1.000000  0.013667   \n",
       "22  1.000000  1.0  0.058758  1.000000  0.004578  1.0  0.828764  1.000000   \n",
       "\n",
       "          8         9         10   11        12        14        15   16   18  \\\n",
       "0   1.000000  1.000000  1.000000  1.0  1.000000  1.000000  1.000000  1.0  1.0   \n",
       "1   1.000000  1.000000  1.000000  1.0  1.000000  1.000000  1.000000  1.0  1.0   \n",
       "2   1.000000  1.000000  1.000000  1.0  0.015023  1.000000  0.030447  1.0  1.0   \n",
       "3   1.000000  1.000000  1.000000  1.0  1.000000  1.000000  1.000000  1.0  1.0   \n",
       "4   1.000000  0.125684  1.000000  1.0  0.000292  1.000000  0.010298  1.0  1.0   \n",
       "5   1.000000  1.000000  1.000000  1.0  1.000000  1.000000  1.000000  1.0  1.0   \n",
       "6   1.000000  1.000000  1.000000  1.0  0.077515  1.000000  0.342006  1.0  1.0   \n",
       "7   1.000000  1.000000  1.000000  1.0  1.000000  0.529473  1.000000  1.0  1.0   \n",
       "8   1.000000  1.000000  1.000000  1.0  1.000000  1.000000  0.655626  1.0  1.0   \n",
       "9   1.000000  1.000000  1.000000  1.0  1.000000  1.000000  1.000000  1.0  1.0   \n",
       "10  1.000000  1.000000  1.000000  1.0  1.000000  1.000000  0.783138  1.0  1.0   \n",
       "11  1.000000  1.000000  1.000000  1.0  1.000000  1.000000  1.000000  1.0  1.0   \n",
       "12  1.000000  1.000000  1.000000  1.0  1.000000  0.352126  1.000000  1.0  1.0   \n",
       "14  1.000000  1.000000  1.000000  1.0  0.352126  1.000000  0.278849  1.0  1.0   \n",
       "15  0.655626  1.000000  0.783138  1.0  1.000000  0.278849  1.000000  1.0  1.0   \n",
       "16  1.000000  1.000000  1.000000  1.0  1.000000  1.000000  1.000000  1.0  1.0   \n",
       "18  1.000000  1.000000  1.000000  1.0  1.000000  1.000000  1.000000  1.0  1.0   \n",
       "20  1.000000  0.327262  1.000000  1.0  0.001604  1.000000  0.016489  1.0  1.0   \n",
       "22  1.000000  1.000000  1.000000  1.0  1.000000  1.000000  1.000000  1.0  1.0   \n",
       "\n",
       "          20        22  \n",
       "0   0.068536  1.000000  \n",
       "1   1.000000  1.000000  \n",
       "2   1.000000  0.058758  \n",
       "3   0.866643  1.000000  \n",
       "4   1.000000  0.004578  \n",
       "5   1.000000  1.000000  \n",
       "6   1.000000  0.828764  \n",
       "7   0.013667  1.000000  \n",
       "8   1.000000  1.000000  \n",
       "9   0.327262  1.000000  \n",
       "10  1.000000  1.000000  \n",
       "11  1.000000  1.000000  \n",
       "12  0.001604  1.000000  \n",
       "14  1.000000  1.000000  \n",
       "15  0.016489  1.000000  \n",
       "16  1.000000  1.000000  \n",
       "18  1.000000  1.000000  \n",
       "20  1.000000  0.013750  \n",
       "22  0.013750  1.000000  "
      ]
     },
     "execution_count": 53,
     "metadata": {},
     "output_type": "execute_result"
    }
   ],
   "source": [
    "scikit_posthocs.posthoc_dunn(new_df, val_col='status_dummy', group_col='year_month', p_adjust='bonferroni')"
   ]
  },
  {
   "cell_type": "code",
   "execution_count": 54,
   "metadata": {},
   "outputs": [
    {
     "data": {
      "text/plain": [
       "<matplotlib.axes._subplots.AxesSubplot at 0x1dc93af5448>"
      ]
     },
     "execution_count": 54,
     "metadata": {},
     "output_type": "execute_result"
    },
    {
     "data": {
      "image/png": "[encoded data removed]",
      "text/plain": [
       "<Figure size 432x288 with 1 Axes>"
      ]
     },
     "metadata": {
      "needs_background": "light"
     },
     "output_type": "display_data"
    }
   ],
   "source": [
    "month = new_df['status_dummy'].groupby(new_df['month']).mean()\n",
    "month.plot.bar()"
   ]
  },
  {
   "cell_type": "code",
   "execution_count": 55,
   "metadata": {},
   "outputs": [
    {
     "data": {
      "text/plain": [
       "<matplotlib.axes._subplots.AxesSubplot at 0x1dc93e37608>"
      ]
     },
     "execution_count": 55,
     "metadata": {},
     "output_type": "execute_result"
    },
    {
     "data": {
      "image/png": "[encoded data removed]",
      "text/plain": [
       "<Figure size 432x288 with 1 Axes>"
      ]
     },
     "metadata": {
      "needs_background": "light"
     },
     "output_type": "display_data"
    }
   ],
   "source": [
    "year = new_df['status_dummy'].groupby(new_df['year']).mean()\n",
    "year.plot.bar()"
   ]
  },
  {
   "cell_type": "code",
   "execution_count": 56,
   "metadata": {},
   "outputs": [
    {
     "data": {
      "text/plain": [
       "<matplotlib.axes._subplots.AxesSubplot at 0x1dc93e25c08>"
      ]
     },
     "execution_count": 56,
     "metadata": {},
     "output_type": "execute_result"
    },
    {
     "data": {
      "image/png": "[encoded data removed]",
      "text/plain": [
       "<Figure size 432x288 with 1 Axes>"
      ]
     },
     "metadata": {
      "needs_background": "light"
     },
     "output_type": "display_data"
    }
   ],
   "source": [
    "year_month = year = new_df['status_dummy'].groupby(new_df['year_month']).mean()\n",
    "year_month.plot.bar()"
   ]
  },
  {
   "cell_type": "code",
   "execution_count": 78,
   "metadata": {},
   "outputs": [
    {
     "data": {
      "text/plain": [
       "Index(['project id', 'name', 'url', 'category', 'subcategory', 'location',\n",
       "       'status', 'goal', 'pledged', 'funded percentage', 'backers',\n",
       "       'funded date', 'levels', 'reward levels', 'updates', 'comments',\n",
       "       'duration', 'year', 'month', 'day', 'time', 'day of week', 'city',\n",
       "       'state', 'country', 'category_dummy', 'subcategory_dummy', 'year_dummy',\n",
       "       'status_dummy', 'month_dummy', 'year_month'],\n",
       "      dtype='object')"
      ]
     },
     "execution_count": 78,
     "metadata": {},
     "output_type": "execute_result"
    }
   ],
   "source": [
    "new_df.columns"
   ]
  },
  {
   "cell_type": "code",
   "execution_count": 116,
   "metadata": {},
   "outputs": [],
   "source": [
    "X = new_df[['year_dummy', 'month_dummy', 'year_month', 'category_dummy', 'country_dummy']]\n",
    "y = new_df['status_dummy']\n",
    "X_train, X_test, y_train, y_test = train_test_split(X, y, random_state=0)"
   ]
  },
  {
   "cell_type": "code",
   "execution_count": 117,
   "metadata": {},
   "outputs": [
    {
     "name": "stderr",
     "output_type": "stream",
     "text": [
      "C:\\Users\\rayde\\Anaconda3\\lib\\site-packages\\sklearn\\linear_model\\logistic.py:432: FutureWarning: Default solver will be changed to 'lbfgs' in 0.22. Specify a solver to silence this warning.\n",
      "  FutureWarning)\n"
     ]
    }
   ],
   "source": [
    "clf = LogisticRegression(C=0.5, penalty=\"l1\", random_state=0).fit(X_train, y_train)"
   ]
  },
  {
   "cell_type": "code",
   "execution_count": 118,
   "metadata": {},
   "outputs": [
    {
     "name": "stdout",
     "output_type": "stream",
     "text": [
      "0.5494263862332696\n",
      "0.5444986138992448\n"
     ]
    }
   ],
   "source": [
    "print(clf.score(X_train, y_train))\n",
    "print(clf.score(X_test, y_test))"
   ]
  },
  {
   "cell_type": "code",
   "execution_count": 119,
   "metadata": {},
   "outputs": [
    {
     "data": {
      "text/plain": [
       "array([[0.43931237, 0.56068763],\n",
       "       [0.46186281, 0.53813719],\n",
       "       [0.48096537, 0.51903463],\n",
       "       ...,\n",
       "       [0.43811792, 0.56188208],\n",
       "       [0.44955254, 0.55044746],\n",
       "       [0.458293  , 0.541707  ]])"
      ]
     },
     "execution_count": 119,
     "metadata": {},
     "output_type": "execute_result"
    }
   ],
   "source": [
    "clf.predict_proba(X_test)"
   ]
  },
  {
   "cell_type": "code",
   "execution_count": 120,
   "metadata": {},
   "outputs": [
    {
     "name": "stdout",
     "output_type": "stream",
     "text": [
      "[[  25 4752]\n",
      " [  13 5671]]\n"
     ]
    }
   ],
   "source": [
    "y_pred = clf.predict(X_test)\n",
    "print(confusion_matrix(y_test, y_pred))"
   ]
  },
  {
   "cell_type": "code",
   "execution_count": 121,
   "metadata": {},
   "outputs": [
    {
     "name": "stdout",
     "output_type": "stream",
     "text": [
      "0.5518801784576163\n",
      "0.5458369180766657\n"
     ]
    }
   ],
   "source": [
    "gnb = GaussianNB()\n",
    "gnb.fit(X_train, y_train)\n",
    "print(gnb.score(X_train, y_train))\n",
    "print(gnb.score(X_test, y_test))"
   ]
  },
  {
   "cell_type": "code",
   "execution_count": 122,
   "metadata": {
    "scrolled": true
   },
   "outputs": [
    {
     "name": "stderr",
     "output_type": "stream",
     "text": [
      "C:\\Users\\rayde\\Anaconda3\\lib\\site-packages\\sklearn\\ensemble\\forest.py:245: FutureWarning: The default value of n_estimators will change from 10 in version 0.20 to 100 in 0.22.\n",
      "  \"10 in version 0.20 to 100 in 0.22.\", FutureWarning)\n"
     ]
    },
    {
     "name": "stdout",
     "output_type": "stream",
     "text": [
      "0.6246653919694073\n",
      "0.5860816365548227\n"
     ]
    }
   ],
   "source": [
    "random = RandomForestClassifier(random_state=0)\n",
    "random.fit(X_train, y_train)\n",
    "print(random.score(X_train, y_train))\n",
    "print(random.score(X_test, y_test))"
   ]
  },
  {
   "cell_type": "code",
   "execution_count": 123,
   "metadata": {
    "scrolled": true
   },
   "outputs": [
    {
     "name": "stdout",
     "output_type": "stream",
     "text": [
      "[0]\tvalidation_0-auc:0.61946\n",
      "[1]\tvalidation_0-auc:0.62156\n",
      "[2]\tvalidation_0-auc:0.62226\n",
      "[3]\tvalidation_0-auc:0.62398\n",
      "[4]\tvalidation_0-auc:0.62467\n",
      "[5]\tvalidation_0-auc:0.62489\n",
      "[6]\tvalidation_0-auc:0.62400\n",
      "[7]\tvalidation_0-auc:0.62402\n",
      "[8]\tvalidation_0-auc:0.62427\n",
      "[9]\tvalidation_0-auc:0.62444\n",
      "[10]\tvalidation_0-auc:0.62454\n",
      "[11]\tvalidation_0-auc:0.62451\n",
      "[12]\tvalidation_0-auc:0.62362\n",
      "[13]\tvalidation_0-auc:0.62391\n",
      "[14]\tvalidation_0-auc:0.62365\n",
      "[15]\tvalidation_0-auc:0.62380\n"
     ]
    },
    {
     "name": "stderr",
     "output_type": "stream",
     "text": [
      "C:\\Users\\rayde\\Anaconda3\\lib\\site-packages\\xgboost\\sklearn.py:888: UserWarning: The use of label encoder in XGBClassifier is deprecated and will be removed in a future release. To remove this warning, do the following: 1) Pass option use_label_encoder=False when constructing XGBClassifier object; and 2) Encode your labels (y) as integers starting with 0, i.e. 0, 1, 2, ..., [num_class - 1].\n",
      "  warnings.warn(label_encoder_deprecation_msg, UserWarning)\n"
     ]
    },
    {
     "name": "stdout",
     "output_type": "stream",
     "text": [
      "[16]\tvalidation_0-auc:0.62384\n",
      "[17]\tvalidation_0-auc:0.62411\n",
      "[18]\tvalidation_0-auc:0.62436\n",
      "[19]\tvalidation_0-auc:0.62453\n",
      "[20]\tvalidation_0-auc:0.62374\n",
      "[21]\tvalidation_0-auc:0.62356\n",
      "[22]\tvalidation_0-auc:0.62342\n",
      "[23]\tvalidation_0-auc:0.62305\n",
      "[24]\tvalidation_0-auc:0.62258\n",
      "[25]\tvalidation_0-auc:0.62231\n",
      "[26]\tvalidation_0-auc:0.62235\n",
      "[27]\tvalidation_0-auc:0.62240\n",
      "[28]\tvalidation_0-auc:0.62244\n",
      "[29]\tvalidation_0-auc:0.62237\n",
      "[30]\tvalidation_0-auc:0.62185\n",
      "[31]\tvalidation_0-auc:0.62145\n",
      "[32]\tvalidation_0-auc:0.62131\n",
      "[33]\tvalidation_0-auc:0.62111\n",
      "[34]\tvalidation_0-auc:0.62114\n",
      "[35]\tvalidation_0-auc:0.62114\n",
      "[36]\tvalidation_0-auc:0.62118\n",
      "[37]\tvalidation_0-auc:0.62129\n",
      "[38]\tvalidation_0-auc:0.62096\n",
      "[39]\tvalidation_0-auc:0.62091\n",
      "[40]\tvalidation_0-auc:0.62097\n",
      "[41]\tvalidation_0-auc:0.62111\n",
      "[42]\tvalidation_0-auc:0.62111\n",
      "[43]\tvalidation_0-auc:0.62094\n",
      "[44]\tvalidation_0-auc:0.62099\n",
      "[45]\tvalidation_0-auc:0.62092\n",
      "[46]\tvalidation_0-auc:0.62101\n",
      "[47]\tvalidation_0-auc:0.62123\n",
      "[48]\tvalidation_0-auc:0.62129\n",
      "[49]\tvalidation_0-auc:0.62114\n",
      "[50]\tvalidation_0-auc:0.62099\n",
      "[51]\tvalidation_0-auc:0.62081\n",
      "[52]\tvalidation_0-auc:0.62053\n",
      "[53]\tvalidation_0-auc:0.62023\n",
      "[54]\tvalidation_0-auc:0.62007\n",
      "0.6039834289356278\n",
      "0.5926775642863971\n"
     ]
    }
   ],
   "source": [
    "xgboost = XGBClassifier(learning_rate=.5)\n",
    "eval_set = [(X_test, y_test)]\n",
    "xgboost.fit(X_train, y_train, eval_metric='auc', eval_set=eval_set, early_stopping_rounds=50)\n",
    "print(xgboost.score(X_train, y_train))\n",
    "print(xgboost.score(X_test, y_test))"
   ]
  },
  {
   "cell_type": "code",
   "execution_count": 127,
   "metadata": {},
   "outputs": [
    {
     "data": {
      "text/html": [
       "<div>\n",
       "<style scoped>\n",
       "    .dataframe tbody tr th:only-of-type {\n",
       "        vertical-align: middle;\n",
       "    }\n",
       "\n",
       "    .dataframe tbody tr th {\n",
       "        vertical-align: top;\n",
       "    }\n",
       "\n",
       "    .dataframe thead th {\n",
       "        text-align: right;\n",
       "    }\n",
       "</style>\n",
       "<table border=\"1\" class=\"dataframe\">\n",
       "  <thead>\n",
       "    <tr style=\"text-align: right;\">\n",
       "      <th></th>\n",
       "      <th>train-auc-mean</th>\n",
       "      <th>train-auc-std</th>\n",
       "      <th>test-auc-mean</th>\n",
       "      <th>test-auc-std</th>\n",
       "    </tr>\n",
       "  </thead>\n",
       "  <tbody>\n",
       "    <tr>\n",
       "      <th>0</th>\n",
       "      <td>0.640651</td>\n",
       "      <td>0.003175</td>\n",
       "      <td>0.613126</td>\n",
       "      <td>0.002355</td>\n",
       "    </tr>\n",
       "    <tr>\n",
       "      <th>1</th>\n",
       "      <td>0.645756</td>\n",
       "      <td>0.003151</td>\n",
       "      <td>0.615875</td>\n",
       "      <td>0.001780</td>\n",
       "    </tr>\n",
       "    <tr>\n",
       "      <th>2</th>\n",
       "      <td>0.648743</td>\n",
       "      <td>0.003285</td>\n",
       "      <td>0.616048</td>\n",
       "      <td>0.002436</td>\n",
       "    </tr>\n",
       "    <tr>\n",
       "      <th>3</th>\n",
       "      <td>0.650523</td>\n",
       "      <td>0.002836</td>\n",
       "      <td>0.615477</td>\n",
       "      <td>0.003289</td>\n",
       "    </tr>\n",
       "    <tr>\n",
       "      <th>4</th>\n",
       "      <td>0.652643</td>\n",
       "      <td>0.001726</td>\n",
       "      <td>0.615442</td>\n",
       "      <td>0.002933</td>\n",
       "    </tr>\n",
       "    <tr>\n",
       "      <th>...</th>\n",
       "      <td>...</td>\n",
       "      <td>...</td>\n",
       "      <td>...</td>\n",
       "      <td>...</td>\n",
       "    </tr>\n",
       "    <tr>\n",
       "      <th>295</th>\n",
       "      <td>0.684527</td>\n",
       "      <td>0.000625</td>\n",
       "      <td>0.605041</td>\n",
       "      <td>0.002266</td>\n",
       "    </tr>\n",
       "    <tr>\n",
       "      <th>296</th>\n",
       "      <td>0.684534</td>\n",
       "      <td>0.000622</td>\n",
       "      <td>0.605031</td>\n",
       "      <td>0.002288</td>\n",
       "    </tr>\n",
       "    <tr>\n",
       "      <th>297</th>\n",
       "      <td>0.684535</td>\n",
       "      <td>0.000622</td>\n",
       "      <td>0.605033</td>\n",
       "      <td>0.002283</td>\n",
       "    </tr>\n",
       "    <tr>\n",
       "      <th>298</th>\n",
       "      <td>0.684542</td>\n",
       "      <td>0.000624</td>\n",
       "      <td>0.605009</td>\n",
       "      <td>0.002273</td>\n",
       "    </tr>\n",
       "    <tr>\n",
       "      <th>299</th>\n",
       "      <td>0.684544</td>\n",
       "      <td>0.000624</td>\n",
       "      <td>0.605002</td>\n",
       "      <td>0.002276</td>\n",
       "    </tr>\n",
       "  </tbody>\n",
       "</table>\n",
       "<p>300 rows × 4 columns</p>\n",
       "</div>"
      ],
      "text/plain": [
       "     train-auc-mean  train-auc-std  test-auc-mean  test-auc-std\n",
       "0          0.640651       0.003175       0.613126      0.002355\n",
       "1          0.645756       0.003151       0.615875      0.001780\n",
       "2          0.648743       0.003285       0.616048      0.002436\n",
       "3          0.650523       0.002836       0.615477      0.003289\n",
       "4          0.652643       0.001726       0.615442      0.002933\n",
       "..              ...            ...            ...           ...\n",
       "295        0.684527       0.000625       0.605041      0.002266\n",
       "296        0.684534       0.000622       0.605031      0.002288\n",
       "297        0.684535       0.000622       0.605033      0.002283\n",
       "298        0.684542       0.000624       0.605009      0.002273\n",
       "299        0.684544       0.000624       0.605002      0.002276\n",
       "\n",
       "[300 rows x 4 columns]"
      ]
     },
     "execution_count": 127,
     "metadata": {},
     "output_type": "execute_result"
    }
   ],
   "source": [
    "import xgboost as xgb\n",
    "dtrain = xgb.DMatrix(X_train,y_train)\n",
    "dtest = xgb.DMatrix(X_test,y_test)\n",
    "eval_set = [(X_test, y_test)]\n",
    "param = {'learning_rate':0.5,'max_depth': 8, 'eval_metric':'auc',\n",
    "         'objective': 'binary:logistic'}\n",
    "num_round = 300\n",
    "xgb.cv(param, dtrain, num_round)"
   ]
  },
  {
   "cell_type": "code",
   "execution_count": null,
   "metadata": {},
   "outputs": [],
   "source": []
  },
  {
   "cell_type": "code",
   "execution_count": null,
   "metadata": {},
   "outputs": [],
   "source": []
  },
  {
   "cell_type": "code",
   "execution_count": null,
   "metadata": {},
   "outputs": [],
   "source": []
  }
 ],
 "metadata": {
  "kernelspec": {
   "display_name": "Python 3",
   "language": "python",
   "name": "python3"
  },
  "language_info": {
   "codemirror_mode": {
    "name": "ipython",
    "version": 3
   },
   "file_extension": ".py",
   "mimetype": "text/x-python",
   "name": "python",
   "nbconvert_exporter": "python",
   "pygments_lexer": "ipython3",
   "version": "3.7.5"
  }
 },
 "nbformat": 4,
 "nbformat_minor": 2
}
