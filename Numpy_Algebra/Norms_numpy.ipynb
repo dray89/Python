{
 "cells": [
  {
   "cell_type": "code",
   "execution_count": 18,
   "metadata": {},
   "outputs": [],
   "source": [
    "## Norms: Functions used to evaluate the error of a model and assigns a positive length to vectors in a vector space\n",
    "  # Non-negative values\n",
    "    # Denoted by two horizontal bars\n",
    "        # Norms are only zero if the vector is a zero vector\n",
    "            # Respect triangle inequity: For any triangle, the sum of the lengths of any two sides must be greater or equal to the length of the remaining side\n",
    "                # The norm of the sum of some vectors is less than or equal to the sum of the norms of these vectors\n",
    "import numpy as np\n",
    "import matplotlib.pyplot as plt\n",
    "import seaborn as sns"
   ]
  },
  {
   "cell_type": "code",
   "execution_count": 9,
   "metadata": {},
   "outputs": [
    {
     "name": "stdout",
     "output_type": "stream",
     "text": [
      "[1 6]\n",
      "[4 2]\n",
      "[5 8]\n"
     ]
    }
   ],
   "source": [
    "u = np.array([1, 6])\n",
    "print(u)\n",
    "v = np.array([4,2])\n",
    "print(v)\n",
    "print(u + v)"
   ]
  },
  {
   "cell_type": "code",
   "execution_count": 10,
   "metadata": {},
   "outputs": [],
   "source": [
    "norm_of_sum = np.linalg.norm(u+v)\n",
    "sum_of_norms = np.linalg.norm(u) + np.linalg.norm(v)"
   ]
  },
  {
   "cell_type": "code",
   "execution_count": 13,
   "metadata": {},
   "outputs": [
    {
     "name": "stdout",
     "output_type": "stream",
     "text": [
      "norm_of_sum =  9.433981132056603 <= sum_of_norms = 10.554898485297798\n"
     ]
    }
   ],
   "source": [
    "if norm_of_sum <= sum_of_norms:\n",
    "    print(\"norm_of_sum = \", norm_of_sum, \"<= sum_of_norms =\", sum_of_norms)\n",
    "else: \n",
    "    print(\"norm_of_sum = \", norm_of_sum, \"> sum_of_norms =\", sum_of_norms)"
   ]
  },
  {
   "cell_type": "code",
   "execution_count": 20,
   "metadata": {},
   "outputs": [
    {
     "data": {
      "image/png": "[encoded data removed]",
      "text/plain": [
       "<Figure size 432x288 with 1 Axes>"
      ]
     },
     "metadata": {
      "needs_background": "light"
     },
     "output_type": "display_data"
    }
   ],
   "source": [
    "u = [0,0,1,6] # u\n",
    "v = [0,0,4,2] # v\n",
    "u_bis = [u[2], u[3], v[2], v[3]]\n",
    "w = [0,0,5,8] # u + v\n",
    "\n",
    "#Draw Arrows\n",
    "plt.quiver([u[0], u_bis[0], w[0]],\n",
    "          [u[1], u_bis[1], w[1]],\n",
    "          [u[2], u_bis[2], w[2]],\n",
    "          [u[3], u_bis[3], w[3]],\n",
    "          angles = 'xy', scale_units='xy', scale = 1, color = sns.color_palette())\n",
    "\n",
    "plt.xlim(-2, 6)\n",
    "plt.ylim(-2, 9)\n",
    "\n",
    "plt.axvline(x=0, color = 'grey')\n",
    "plt.axhline(y=0, color = 'grey')\n",
    "\n",
    "plt.text(-1, 3.5, r'$||\\vec{u}||$', color=sns.color_palette()[0], size = 20)\n",
    "plt.text(2.5, 7.5, r'$||\\vec{v}||$', color=sns.color_palette()[1], size=20)\n",
    "plt.text(2, 2, r'$||\\vec{u}+\\vec{v}||$', color=sns.color_palette()[2], size=20)\n",
    "\n",
    "plt.show()\n",
    "plt.close()"
   ]
  },
  {
   "cell_type": "code",
   "execution_count": 21,
   "metadata": {},
   "outputs": [
    {
     "data": {
      "text/plain": [
       "5.0"
      ]
     },
     "execution_count": 21,
     "metadata": {},
     "output_type": "execute_result"
    }
   ],
   "source": [
    "# P-Norm: \n",
    "    # Calculate the absolute value of each element\n",
    "    # Take the power, p, of these absolute values\n",
    "    # Sum all these powered absolute values\n",
    "    # Take the power 1/p of this result\n",
    "\n",
    "np.linalg.norm([3,4])"
   ]
  },
  {
   "cell_type": "code",
   "execution_count": 22,
   "metadata": {
    "scrolled": true
   },
   "outputs": [
    {
     "data": {
      "image/png": "[encoded data removed]",
      "text/plain": [
       "<Figure size 432x288 with 1 Axes>"
      ]
     },
     "metadata": {
      "needs_background": "light"
     },
     "output_type": "display_data"
    }
   ],
   "source": [
    "u = [0,0,3,4]\n",
    "plt.quiver([u[0]],\n",
    "          [u[1]],\n",
    "          [u[2]],\n",
    "          [u[3]],\n",
    "          angles= 'xy', scale_units = 'xy', scale = 1)\n",
    "\n",
    "plt.xlim(-2,4)\n",
    "plt.ylim(-2,5)\n",
    "\n",
    "plt.axvline(x=0, color = 'grey')\n",
    "plt.axhline(y=0, color = 'grey')\n",
    "\n",
    "plt.annotate('', xy = (3.2, 0), xytext = (3.2, 4), \n",
    "            arrowprops = dict(edgecolor = 'black', arrowstyle = '<->'))\n",
    "\n",
    "plt.annotate('', xy = (0, -.2), xytext = (3, -.2), \n",
    "            arrowprops = dict(edgecolor='black', arrowstyle = '<->'))\n",
    "\n",
    "plt.text(1, 2.5, r'$\\vec{u}$', size=18)\n",
    "plt.text(3.3, 2, r'$\\vec{u}_y$', size=18)\n",
    "plt.text(1.5, -1, r'$\\vec{u}_x$', size=18)\n",
    "\n",
    "plt.show()\n",
    "plt.close()"
   ]
  },
  {
   "cell_type": "code",
   "execution_count": 23,
   "metadata": {},
   "outputs": [
    {
     "data": {
      "text/plain": [
       "array([[2],\n",
       "       [5],\n",
       "       [3],\n",
       "       [3]])"
      ]
     },
     "execution_count": 23,
     "metadata": {},
     "output_type": "execute_result"
    }
   ],
   "source": [
    "x = np.array([[2], [5], [3], [3]])\n",
    "x"
   ]
  },
  {
   "cell_type": "code",
   "execution_count": 25,
   "metadata": {},
   "outputs": [
    {
     "data": {
      "text/plain": [
       "array([[47]])"
      ]
     },
     "execution_count": 25,
     "metadata": {},
     "output_type": "execute_result"
    }
   ],
   "source": [
    "euclideanNorm = x.T.dot(x)\n",
    "euclideanNorm"
   ]
  },
  {
   "cell_type": "code",
   "execution_count": 26,
   "metadata": {},
   "outputs": [
    {
     "data": {
      "text/plain": [
       "47.0"
      ]
     },
     "execution_count": 26,
     "metadata": {},
     "output_type": "execute_result"
    }
   ],
   "source": [
    "np.linalg.norm(x)**2"
   ]
  },
  {
   "cell_type": "code",
   "execution_count": 27,
   "metadata": {},
   "outputs": [
    {
     "data": {
      "text/plain": [
       "array([[1, 2],\n",
       "       [6, 4],\n",
       "       [3, 2]])"
      ]
     },
     "execution_count": 27,
     "metadata": {},
     "output_type": "execute_result"
    }
   ],
   "source": [
    "## The Frobenius Norm\n",
    "A = np.array([[1, 2], [6, 4], [3, 2]])\n",
    "A"
   ]
  },
  {
   "cell_type": "code",
   "execution_count": 28,
   "metadata": {},
   "outputs": [
    {
     "data": {
      "text/plain": [
       "8.366600265340756"
      ]
     },
     "execution_count": 28,
     "metadata": {},
     "output_type": "execute_result"
    }
   ],
   "source": [
    "np.linalg.norm(A)"
   ]
  },
  {
   "cell_type": "code",
   "execution_count": 30,
   "metadata": {},
   "outputs": [
    {
     "data": {
      "image/png": "[encoded data removed]",
      "text/plain": [
       "<Figure size 432x288 with 1 Axes>"
      ]
     },
     "metadata": {
      "needs_background": "light"
     },
     "output_type": "display_data"
    }
   ],
   "source": [
    "# Dot product with norms, angle = 45 degrees\n",
    "\n",
    "x = [0,0,0,2]\n",
    "y = [0,0,2,2]\n",
    "\n",
    "plt.xlim(-2, 4)\n",
    "plt.ylim(-2, 5)\n",
    "\n",
    "plt.axvline(x=0, color = 'grey', zorder=0)\n",
    "plt.axhline(y=0, color = 'grey', zorder=0)\n",
    "\n",
    "plt.quiver([x[0], y[0]],\n",
    "          [x[1], y[1]],\n",
    "          [x[2], y[2]], \n",
    "          [x[3], y[3]],\n",
    "          angles = 'xy', scale_units = 'xy', scale = 1)\n",
    "\n",
    "plt.text(-.5, 1, r'$\\vec{x}$', size = 18)\n",
    "plt.text(1.5, .5, r'$\\vec{y}$', size = 18)\n",
    "\n",
    "plt.show()\n",
    "plt.close()"
   ]
  },
  {
   "cell_type": "code",
   "execution_count": 31,
   "metadata": {},
   "outputs": [
    {
     "data": {
      "text/plain": [
       "4.000000000000001"
      ]
     },
     "execution_count": 31,
     "metadata": {},
     "output_type": "execute_result"
    }
   ],
   "source": [
    "# Create angle in radian\n",
    "np.cos(np.deg2rad(45))*2*np.sqrt(8)"
   ]
  },
  {
   "cell_type": "code",
   "execution_count": null,
   "metadata": {},
   "outputs": [],
   "source": []
  }
 ],
 "metadata": {
  "kernelspec": {
   "display_name": "Python 3",
   "language": "python",
   "name": "python3"
  },
  "language_info": {
   "codemirror_mode": {
    "name": "ipython",
    "version": 3
   },
   "file_extension": ".py",
   "mimetype": "text/x-python",
   "name": "python",
   "nbconvert_exporter": "python",
   "pygments_lexer": "ipython3",
   "version": "3.7.1"
  }
 },
 "nbformat": 4,
 "nbformat_minor": 2
}
