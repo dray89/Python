{
 "cells": [
  {
   "cell_type": "code",
   "execution_count": 168,
   "metadata": {},
   "outputs": [],
   "source": [
    "#Identity Matrix: A 0-1 (n x n) matrix with a diagonal filled with 1's\n",
    "#Matrix Transformations\n",
    "#Systems of linear equations\n",
    "\n",
    "import numpy as np\n",
    "from matplotlib import pyplot as plt"
   ]
  },
  {
   "cell_type": "code",
   "execution_count": 6,
   "metadata": {},
   "outputs": [
    {
     "name": "stdout",
     "output_type": "stream",
     "text": [
      "[[1. 0. 0. 0. 0.]\n",
      " [0. 1. 0. 0. 0.]\n",
      " [0. 0. 1. 0. 0.]\n",
      " [0. 0. 0. 1. 0.]\n",
      " [0. 0. 0. 0. 1.]]\n",
      "\n",
      " [[1. 0. 0. 0. 0. 0. 0. 0. 0. 0.]\n",
      " [0. 1. 0. 0. 0. 0. 0. 0. 0. 0.]\n",
      " [0. 0. 1. 0. 0. 0. 0. 0. 0. 0.]\n",
      " [0. 0. 0. 1. 0. 0. 0. 0. 0. 0.]\n",
      " [0. 0. 0. 0. 1. 0. 0. 0. 0. 0.]\n",
      " [0. 0. 0. 0. 0. 1. 0. 0. 0. 0.]\n",
      " [0. 0. 0. 0. 0. 0. 1. 0. 0. 0.]\n",
      " [0. 0. 0. 0. 0. 0. 0. 1. 0. 0.]\n",
      " [0. 0. 0. 0. 0. 0. 0. 0. 1. 0.]\n",
      " [0. 0. 0. 0. 0. 0. 0. 0. 0. 1.]]\n"
     ]
    }
   ],
   "source": [
    "#Identity Matrix: A 0-1 (n x n) matrix with a diagonal filled with 1's\n",
    "print(np.eye(5)) ### 5 x 5 matrix\n",
    "print(\"\\n\",np.eye(10)) ### 10 x 10 matrix"
   ]
  },
  {
   "cell_type": "code",
   "execution_count": 89,
   "metadata": {},
   "outputs": [
    {
     "name": "stdout",
     "output_type": "stream",
     "text": [
      "x array: \n",
      " [[2]\n",
      " [6]\n",
      " [3]]\n",
      "\n",
      " [number of rows]:  3\n",
      "\n",
      " [number of columns]:  1\n",
      "\n",
      " [rows, columns]:  (3, 1)\n"
     ]
    }
   ],
   "source": [
    "x = np.array([[2], \n",
    "              [6], \n",
    "              [3]])\n",
    "print(\"x array: \\n\", x)\n",
    "print(\"\\n [number of rows]: \", x.shape[0])\n",
    "print(\"\\n [number of columns]: \", x.shape[1])\n",
    "print(\"\\n [rows, columns]: \", x.shape)"
   ]
  },
  {
   "cell_type": "code",
   "execution_count": 60,
   "metadata": {},
   "outputs": [
    {
     "name": "stdout",
     "output_type": "stream",
     "text": [
      "True\n",
      "Success: identity dot the matrix equals the matrix\n"
     ]
    }
   ],
   "source": [
    "#Identity Matrix multiplied by a matrix yields the matrix\n",
    "iden_mat = np.eye(x.shape[0]).dot(x) ## 3 x 3 matrix identity multiplied by a 3 x 1 array\n",
    "iden_mat # yields: 3 x 1 array / iden_mat = x-array\n",
    "\n",
    "equality_test = iden_mat == x\n",
    "print(equality_test.all())\n",
    "\n",
    "if equality_test.all():\n",
    "    print(\"Success: identity dot the matrix equals the matrix\")\n",
    "else: \n",
    "    print(\"Error: identity dot a matrix should equal the matrix\")"
   ]
  },
  {
   "cell_type": "code",
   "execution_count": 97,
   "metadata": {},
   "outputs": [
    {
     "name": "stdout",
     "output_type": "stream",
     "text": [
      "A_inverse: \n",
      "\n",
      " [[ 0.2  0.2  0. ]\n",
      " [-0.2  0.3  1. ]\n",
      " [ 0.2 -0.3 -0. ]]\n",
      "\n",
      "Identity Matrix: \n",
      "\n",
      " [[ 1.00000000e+00  0.00000000e+00 -1.11022302e-16]\n",
      " [ 0.00000000e+00  1.00000000e+00  0.00000000e+00]\n",
      " [ 0.00000000e+00  0.00000000e+00  1.00000000e+00]]\n"
     ]
    }
   ],
   "source": [
    "#Inverse Matrices: The matrix which cancels linear transformations and yields the identity matrix\n",
    "A = np.array([[3, 0, 2], \n",
    "              [2, 0, -2], \n",
    "              [0, 1, 1]])\n",
    "\n",
    "A_inverse = np.linalg.inv(A)\n",
    "print(\"A_inverse: \\n\\n\", A_inverse)\n",
    "\n",
    "identity = A_inverse.dot(A)\n",
    "print(\"\\nIdentity Matrix: \\n\\n\", identity)"
   ]
  },
  {
   "cell_type": "code",
   "execution_count": 133,
   "metadata": {},
   "outputs": [
    {
     "name": "stdout",
     "output_type": "stream",
     "text": [
      "y = 2x => \n",
      "2x - y = 0 \n",
      "\n",
      "y = -x + 3 => \n",
      "x + y = 3 \n",
      "\n",
      "A: \n",
      "\n",
      " [x,y],\n",
      " [x,y]\n",
      "\n",
      "A: \n",
      "\n",
      " [[ 2 -1]\n",
      " [ 1  1]]\n",
      "\n",
      "A_inv: \n",
      "\n",
      " [[ 0.33333333  0.33333333]\n",
      " [-0.33333333  0.66666667]]\n",
      "\n",
      "B: \n",
      "\n",
      " [[0]\n",
      " [3]]\n"
     ]
    }
   ],
   "source": [
    "# Systems of linear equations: \n",
    "        # Ax = b\n",
    "        # A_inv*Ax = A_inv*b\n",
    "        # A_inv*A = I \n",
    "        # I*x = A_inv*b\n",
    "        # x = A_inv*b\n",
    "\n",
    "print(\"y = 2x => \\n2x - y = 0\", \"\\n\\ny = -x + 3 => \\nx + y = 3 \\n\")\n",
    "print(\"A: \\n\\n\", \"[x,y],\\n [x,y]\")\n",
    "A = np.array([[2, -1], \n",
    "              [1, 1]])\n",
    "print(\"\\nA: \\n\\n\", A)\n",
    "\n",
    "A_inv = np.linalg.inv(A)\n",
    "print(\"\\nA_inv: \\n\\n\", A_inv)\n",
    "\n",
    "b = np.array([[0], [3]])\n",
    "print(\"\\nB: \\n\\n\", b)"
   ]
  },
  {
   "cell_type": "code",
   "execution_count": 115,
   "metadata": {},
   "outputs": [
    {
     "name": "stdout",
     "output_type": "stream",
     "text": [
      "Solve for x: \n",
      "\n",
      " [[1.]\n",
      " [2.]]\n"
     ]
    }
   ],
   "source": [
    "x = A_inv.dot(b) #solve for x = A_inv multiplied by b\n",
    "print(\"Solve for x: \\n\\n\", x)"
   ]
  },
  {
   "cell_type": "code",
   "execution_count": 173,
   "metadata": {},
   "outputs": [
    {
     "name": "stdout",
     "output_type": "stream",
     "text": [
      "For x in range:  -10  to  9\n",
      "y = 2x \n",
      " [-20, -18, -16, -14, -12, -10, -8, -6, -4, -2, 0, 2, 4, 6, 8, 10, 12, 14, 16, 18]\n",
      "\n",
      "y1 = -x + 3\n",
      " [13, 12, 11, 10, 9, 8, 7, 6, 5, 4, 3, 2, 1, 0, -1, -2, -3, -4, -5, -6]\n"
     ]
    }
   ],
   "source": [
    "x = np.arange(-10, 10, 1)\n",
    "print(\"For x in range: \", x[0], \" to \", x[-1])\n",
    "\n",
    "eqn_1 = 2*x\n",
    "print(\"y = 2x \\n\", list(eqn_1))\n",
    "eqn_2 = -x+3\n",
    "print(\"\\ny1 = -x + 3\\n\", list(eqn_2))\n"
   ]
  },
  {
   "cell_type": "code",
   "execution_count": 175,
   "metadata": {},
   "outputs": [
    {
     "data": {
      "image/png": "[encoded data removed]",
      "text/plain": [
       "<Figure size 432x288 with 1 Axes>"
      ]
     },
     "metadata": {
      "needs_background": "light"
     },
     "output_type": "display_data"
    }
   ],
   "source": [
    "#create graph\n",
    "plt.figure()\n",
    "\n",
    "#draw lines\n",
    "plt.plot(x, eqn_1)\n",
    "plt.plot(x, eqn_2)\n",
    "\n",
    "#range of x and y axes\n",
    "plt.xlim(0,3)\n",
    "plt.ylim(0,3)\n",
    "\n",
    "#draw axes\n",
    "plt.axvline(x=0, color = 'black')\n",
    "plt.axhline(y=0, color = 'black')\n",
    "plt.show()\n",
    "plt.close()"
   ]
  },
  {
   "cell_type": "code",
   "execution_count": null,
   "metadata": {},
   "outputs": [],
   "source": []
  }
 ],
 "metadata": {
  "kernelspec": {
   "display_name": "Python 3",
   "language": "python",
   "name": "python3"
  },
  "language_info": {
   "codemirror_mode": {
    "name": "ipython",
    "version": 3
   },
   "file_extension": ".py",
   "mimetype": "text/x-python",
   "name": "python",
   "nbconvert_exporter": "python",
   "pygments_lexer": "ipython3",
   "version": "3.7.1"
  }
 },
 "nbformat": 4,
 "nbformat_minor": 2
}
