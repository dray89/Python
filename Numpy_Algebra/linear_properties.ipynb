{
 "cells": [
  {
   "cell_type": "code",
   "execution_count": 1,
   "metadata": {},
   "outputs": [],
   "source": [
    "#Associative & Commutative Properties in Linear Algebra\n",
    "import numpy as np"
   ]
  },
  {
   "cell_type": "code",
   "execution_count": 5,
   "metadata": {},
   "outputs": [
    {
     "data": {
      "text/plain": [
       "array([[10],\n",
       "       [22],\n",
       "       [34]])"
      ]
     },
     "execution_count": 5,
     "metadata": {},
     "output_type": "execute_result"
    }
   ],
   "source": [
    "#Dot product, number of columns in the first matrix must equal the number of rows in the second matrix\n",
    "A = np.array([[1, 2], [3, 4], [5, 6]])\n",
    "B = np.array([[2], [4]])\n",
    "C = np.dot(A,B) #Alternative method dot() C = A.dot(B)\n",
    "C"
   ]
  },
  {
   "cell_type": "code",
   "execution_count": 7,
   "metadata": {},
   "outputs": [
    {
     "data": {
      "text/plain": [
       "array([[ 13,  29],\n",
       "       [ 31,  74],\n",
       "       [ 49, 119],\n",
       "       [ 67, 164]])"
      ]
     },
     "execution_count": 7,
     "metadata": {},
     "output_type": "execute_result"
    }
   ],
   "source": [
    "#Matrix multiplication, Dot product 4x3 dot 3x2 matrices = 4x2 matrix\n",
    "A = np.array([[1,2,3], [4,5,6], [7,8,9], [10,11,12]])\n",
    "B = np.array([[2, 7], [1, 2], [3, 6]])\n",
    "C = A.dot(B)\n",
    "C"
   ]
  },
  {
   "cell_type": "code",
   "execution_count": 11,
   "metadata": {},
   "outputs": [
    {
     "data": {
      "text/plain": [
       "array([[33],\n",
       "       [29],\n",
       "       [93]])"
      ]
     },
     "execution_count": 11,
     "metadata": {},
     "output_type": "execute_result"
    }
   ],
   "source": [
    "#A*(B+C)\n",
    "A = np.array([[2,3], [1,4], [7,6]])\n",
    "B = np.array([[5], [2]])\n",
    "C = np.array([[4], [3]])\n",
    "D = A.dot(B+C)\n",
    "D"
   ]
  },
  {
   "cell_type": "code",
   "execution_count": 12,
   "metadata": {},
   "outputs": [
    {
     "data": {
      "text/plain": [
       "array([[33],\n",
       "       [29],\n",
       "       [93]])"
      ]
     },
     "execution_count": 12,
     "metadata": {},
     "output_type": "execute_result"
    }
   ],
   "source": [
    "#A*B + A*C = A*(B+C)\n",
    "D = A.dot(B) + A.dot(C)\n",
    "D"
   ]
  },
  {
   "cell_type": "code",
   "execution_count": 22,
   "metadata": {},
   "outputs": [
    {
     "name": "stdout",
     "output_type": "stream",
     "text": [
      "A[B*C]: \n",
      "\n",
      " [[100]\n",
      " [ 85]\n",
      " [287]]\n",
      "\n",
      " [A*B]C: \n",
      "\n",
      " [[100]\n",
      " [ 85]\n",
      " [287]]\n"
     ]
    }
   ],
   "source": [
    "#Associative Property of Matrices\n",
    "A = np.array([[2, 3], [1, 4], [7, 6]])\n",
    "B = np.array([[5, 3], [2, 2]])\n",
    "D = A.dot(B.dot(C))\n",
    "print(\"A[B*C]: \\n\\n\", D)\n",
    "D = (A.dot(B)).dot(C)\n",
    "print(\"\\n [A*B]C: \\n\\n\", D)"
   ]
  },
  {
   "cell_type": "code",
   "execution_count": 74,
   "metadata": {},
   "outputs": [
    {
     "name": "stdout",
     "output_type": "stream",
     "text": [
      "A*B: \n",
      "\n",
      " [[16 12]\n",
      " [40 28]] \n",
      "\n",
      "\n",
      "Values are different: No commutative property exists in matrix algebra.\n",
      "B*A: \n",
      "\n",
      " [[28 30]\n",
      " [16 16]]\n"
     ]
    }
   ],
   "source": [
    "#No commutative property in matrix algebra because columns[matrix 1] = rows[matrix 2]\n",
    "A = np.array([[2,3], [6,5]])\n",
    "B = np.array([[5, 3], [2, 2]])\n",
    "AB = np.dot(A, B)\n",
    "print(\"A*B: \\n\\n\", AB, \"\\n\\n\")\n",
    "BA = np.dot(B,A)\n",
    "\n",
    "comm = AB==BA\n",
    "if False in comm:\n",
    "    print(\"Values are different: No commutative property exists in matrix algebra.\")\n",
    "    print(\"B*A: \\n\\n\", BA)\n",
    "    \n",
    "else: \n",
    "    print(\"A*B=B*A, commutative property exists\", AB==BA)"
   ]
  },
  {
   "cell_type": "code",
   "execution_count": 75,
   "metadata": {},
   "outputs": [
    {
     "name": "stdout",
     "output_type": "stream",
     "text": [
      "A*B: \n",
      "\n",
      " [[16 12]\n",
      " [40 28]\n",
      " [ 7  5]] \n",
      "\n",
      "\n",
      "B*A: \n",
      "\n",
      " columns[matrix 1] != rows[matrix 2]\n"
     ]
    }
   ],
   "source": [
    "#No commutative property in matrix algebra because columns[matrix 1] = rows[matrix 2]\n",
    "A = np.array([[2,3], [6,5], [1,1]])\n",
    "B = np.array([[5, 3], [2, 2]])\n",
    "AB = np.dot(A, B)\n",
    "print(\"A*B: \\n\\n\", AB, \"\\n\\n\")\n",
    "\n",
    "try:\n",
    "    BA = np.dot(B,A)\n",
    "    print(\"B*A: \\n\\n\", BA) ###Results in value error\n",
    "except ValueError:\n",
    "    print(\"B*A: \\n\\n columns[matrix 1] != rows[matrix 2]\")"
   ]
  },
  {
   "cell_type": "code",
   "execution_count": 93,
   "metadata": {},
   "outputs": [
    {
     "name": "stdout",
     "output_type": "stream",
     "text": [
      "x_transpose*y: 22\n",
      "y_transpose*x: 22\n"
     ]
    }
   ],
   "source": [
    "#Commutative property in arrays: The transpose of x multiplied by y is equal to the transpose of y multiplied by x \n",
    "x = np.array([[2], [6]])\n",
    "y = np.array([[5], [2]])\n",
    "\n",
    "x_transpose = x.T.dot(y)\n",
    "print(\"x_transpose*y:\", int(x_transpose))\n",
    "\n",
    "y_transpose = y.T.dot(x)\n",
    "print(\"y_transpose*x:\", int(y_transpose))"
   ]
  },
  {
   "cell_type": "code",
   "execution_count": 101,
   "metadata": {},
   "outputs": [
    {
     "name": "stdout",
     "output_type": "stream",
     "text": [
      "The transpose of A*B: \n",
      "\n",
      " [[16 13 47]\n",
      " [12 11 33]]\n",
      "\n",
      "\n",
      " The transpose of A multiplied by the transpose of B: \n",
      "\n",
      " [[16 13 47]\n",
      " [12 11 33]]\n"
     ]
    }
   ],
   "source": [
    "#The transpose of A*B is equal to the transpose of A multiplied by the transpose of B\n",
    "A = np.array([[2, 3], [1, 4], [7, 6]])\n",
    "B = np.array([[5, 3], [2, 2]])\n",
    "AB_transpose = A.dot(B).T\n",
    "B_tranA = B.T.dot(A.T)\n",
    "print(\"The transpose of A*B: \\n\\n\", B_tranA)\n",
    "print(\"\\n\\n The transpose of A multiplied by the transpose of B: \\n\\n\", AB_transpose)"
   ]
  },
  {
   "cell_type": "code",
   "execution_count": null,
   "metadata": {},
   "outputs": [],
   "source": []
  }
 ],
 "metadata": {
  "kernelspec": {
   "display_name": "Python 3",
   "language": "python",
   "name": "python3"
  },
  "language_info": {
   "codemirror_mode": {
    "name": "ipython",
    "version": 3
   },
   "file_extension": ".py",
   "mimetype": "text/x-python",
   "name": "python",
   "nbconvert_exporter": "python",
   "pygments_lexer": "ipython3",
   "version": "3.7.1"
  }
 },
 "nbformat": 4,
 "nbformat_minor": 2
}
