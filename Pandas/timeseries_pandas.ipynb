{
 "cells": [
  {
   "cell_type": "code",
   "execution_count": 4,
   "metadata": {},
   "outputs": [],
   "source": [
    "##Time Series: Resampling operations during frequency conversion \n",
    "import numpy as np\n",
    "import pandas as pd"
   ]
  },
  {
   "cell_type": "code",
   "execution_count": null,
   "metadata": {},
   "outputs": [],
   "source": [
    "#Alias   Description\n",
    "#B       business day frequency\n",
    "#C       custom business day frequency (experimental)\n",
    "#D       calendar day frequency\n",
    "#W       weekly frequency\n",
    "#M       month end frequency\n",
    "#BM      business month end frequency\n",
    "#CBM     custom business month end frequency\n",
    "#MS      month start frequency\n",
    "#BMS     business month start frequency\n",
    "#CBMS    custom business month start frequency\n",
    "#Q       quarter end frequency\n",
    "#BQ      business quarter endfrequency\n",
    "#QS      quarter start frequency\n",
    "#BQS     business quarter start frequency\n",
    "#A       year end frequency\n",
    "#BA      business year end frequency\n",
    "#AS      year start frequency\n",
    "#BAS     business year start frequency\n",
    "#BH      business hour frequency\n",
    "#H       hourly frequency\n",
    "#T, min  minutely frequency\n",
    "#S       secondly frequency\n",
    "#L, ms   milliseonds\n",
    "#U, us   microseconds\n",
    "#N       nanoseconds"
   ]
  },
  {
   "cell_type": "code",
   "execution_count": 36,
   "metadata": {},
   "outputs": [
    {
     "data": {
      "text/plain": [
       "DatetimeIndex(['2019-01-01 00:00:00', '2019-01-01 00:00:01',\n",
       "               '2019-01-01 00:00:02', '2019-01-01 00:00:03',\n",
       "               '2019-01-01 00:00:04'],\n",
       "              dtype='datetime64[ns]', freq='S')"
      ]
     },
     "execution_count": 36,
     "metadata": {},
     "output_type": "execute_result"
    }
   ],
   "source": [
    "#Create DatetimeIndex starting at Jan 1 2019 and continuing for 100 periods at frequency 'Secondly'\n",
    "date = pd.date_range('1/1/2019', periods=100, freq='S')\n",
    "date[0:5]"
   ]
  },
  {
   "cell_type": "code",
   "execution_count": 33,
   "metadata": {},
   "outputs": [
    {
     "data": {
      "text/plain": [
       "2019-01-01 00:00:00     55\n",
       "2019-01-01 00:00:01    351\n",
       "2019-01-01 00:00:02     67\n",
       "2019-01-01 00:00:03    131\n",
       "2019-01-01 00:00:04      4\n",
       "Freq: S, dtype: int32"
      ]
     },
     "execution_count": 33,
     "metadata": {},
     "output_type": "execute_result"
    }
   ],
   "source": [
    "#Create a time series object indexing random numbers by date\n",
    "time_series = pd.Series(np.random.randint(0, 500, len(date)), index = date)\n",
    "time_series.head(5)"
   ]
  },
  {
   "cell_type": "code",
   "execution_count": 40,
   "metadata": {},
   "outputs": [
    {
     "data": {
      "text/plain": [
       "2019-01-01    253.53\n",
       "Freq: 5T, dtype: float64"
      ]
     },
     "execution_count": 40,
     "metadata": {},
     "output_type": "execute_result"
    }
   ],
   "source": [
    "#Resample into 5minutely data collapsing into sum/mean\n",
    "time_series.resample('5min').sum()\n",
    "time_series.resample('5min').mean()"
   ]
  },
  {
   "cell_type": "code",
   "execution_count": 41,
   "metadata": {},
   "outputs": [
    {
     "data": {
      "text/plain": [
       "DatetimeIndex(['2019-03-06', '2019-03-07', '2019-03-08', '2019-03-09',\n",
       "               '2019-03-10'],\n",
       "              dtype='datetime64[ns]', freq='D')"
      ]
     },
     "execution_count": 41,
     "metadata": {},
     "output_type": "execute_result"
    }
   ],
   "source": [
    "date = pd.date_range('3/6/2019 00:00', periods=5, freq='D')\n",
    "date"
   ]
  },
  {
   "cell_type": "code",
   "execution_count": 42,
   "metadata": {},
   "outputs": [
    {
     "data": {
      "text/plain": [
       "2019-03-06    0.625979\n",
       "2019-03-07   -0.776336\n",
       "2019-03-08   -0.051607\n",
       "2019-03-09   -2.017282\n",
       "2019-03-10    0.258095\n",
       "Freq: D, dtype: float64"
      ]
     },
     "execution_count": 42,
     "metadata": {},
     "output_type": "execute_result"
    }
   ],
   "source": [
    "#Create a new series of random numbers indexed by date\n",
    "time_series = pd.Series(np.random.randn(len(date)), date)\n",
    "time_series"
   ]
  },
  {
   "cell_type": "code",
   "execution_count": 10,
   "metadata": {},
   "outputs": [
    {
     "data": {
      "text/plain": [
       "2019-03-06   -1.134124\n",
       "2019-03-07    1.102958\n",
       "2019-03-08   -0.681201\n",
       "2019-03-09   -0.143604\n",
       "2019-03-10   -0.563025\n",
       "Freq: D, dtype: float64"
      ]
     },
     "execution_count": 10,
     "metadata": {},
     "output_type": "execute_result"
    }
   ],
   "source": [
    "time_series"
   ]
  },
  {
   "cell_type": "code",
   "execution_count": 44,
   "metadata": {},
   "outputs": [],
   "source": [
    "#Turn time zone unaware data to time zone aware data\n",
    "ts_utc = time_series.tz_localize('UTC')"
   ]
  },
  {
   "cell_type": "code",
   "execution_count": 45,
   "metadata": {},
   "outputs": [
    {
     "data": {
      "text/plain": [
       "2019-03-06 00:00:00+00:00    0.625979\n",
       "2019-03-07 00:00:00+00:00   -0.776336\n",
       "2019-03-08 00:00:00+00:00   -0.051607\n",
       "2019-03-09 00:00:00+00:00   -2.017282\n",
       "2019-03-10 00:00:00+00:00    0.258095\n",
       "Freq: D, dtype: float64"
      ]
     },
     "execution_count": 45,
     "metadata": {},
     "output_type": "execute_result"
    }
   ],
   "source": [
    "ts_utc"
   ]
  },
  {
   "cell_type": "code",
   "execution_count": 15,
   "metadata": {},
   "outputs": [
    {
     "data": {
      "text/plain": [
       "2019-03-05 19:00:00-05:00   -1.134124\n",
       "2019-03-06 19:00:00-05:00    1.102958\n",
       "2019-03-07 19:00:00-05:00   -0.681201\n",
       "2019-03-08 19:00:00-05:00   -0.143604\n",
       "2019-03-09 19:00:00-05:00   -0.563025\n",
       "Freq: D, dtype: float64"
      ]
     },
     "execution_count": 15,
     "metadata": {},
     "output_type": "execute_result"
    }
   ],
   "source": [
    "#Convert to another time zone\n",
    "ts_utc.tz_convert('US/Eastern')"
   ]
  },
  {
   "cell_type": "code",
   "execution_count": 51,
   "metadata": {},
   "outputs": [],
   "source": [
    "#Create a date range object with month frequency\n",
    "date = pd.date_range('1/1/2019', periods=5, freq='M')"
   ]
  },
  {
   "cell_type": "code",
   "execution_count": 52,
   "metadata": {},
   "outputs": [],
   "source": [
    "#Create a time series object indexed by the date\n",
    "time_series = pd.Series(np.random.randn(len(date)), index=date)"
   ]
  },
  {
   "cell_type": "code",
   "execution_count": 53,
   "metadata": {},
   "outputs": [
    {
     "data": {
      "text/plain": [
       "2019-01-31    0.532999\n",
       "2019-02-28   -0.641428\n",
       "2019-03-31   -0.543657\n",
       "2019-04-30   -0.319894\n",
       "2019-05-31    0.148884\n",
       "Freq: M, dtype: float64"
      ]
     },
     "execution_count": 53,
     "metadata": {},
     "output_type": "execute_result"
    }
   ],
   "source": [
    "time_series"
   ]
  },
  {
   "cell_type": "code",
   "execution_count": 58,
   "metadata": {},
   "outputs": [],
   "source": [
    "#Period-index the time series object\n",
    "ps = time_series.to_period()"
   ]
  },
  {
   "cell_type": "code",
   "execution_count": 21,
   "metadata": {},
   "outputs": [
    {
     "data": {
      "text/plain": [
       "2019-01    1.399885\n",
       "2019-02    0.091482\n",
       "2019-03   -0.292281\n",
       "2019-04    1.850194\n",
       "2019-05   -0.502237\n",
       "Freq: M, dtype: float64"
      ]
     },
     "execution_count": 21,
     "metadata": {},
     "output_type": "execute_result"
    }
   ],
   "source": [
    "ps"
   ]
  },
  {
   "cell_type": "code",
   "execution_count": 59,
   "metadata": {},
   "outputs": [
    {
     "data": {
      "text/plain": [
       "2019-01-01    0.532999\n",
       "2019-02-01   -0.641428\n",
       "2019-03-01   -0.543657\n",
       "2019-04-01   -0.319894\n",
       "2019-05-01    0.148884\n",
       "Freq: MS, dtype: float64"
      ]
     },
     "execution_count": 59,
     "metadata": {},
     "output_type": "execute_result"
    }
   ],
   "source": [
    "#Time-stamp the period object\n",
    "ps.to_timestamp()"
   ]
  },
  {
   "cell_type": "code",
   "execution_count": 64,
   "metadata": {},
   "outputs": [],
   "source": [
    "#Create a period range object\n",
    "p_range=pd.period_range('1990Q1', '2000Q4', freq='Q-NOV')"
   ]
  },
  {
   "cell_type": "code",
   "execution_count": 65,
   "metadata": {},
   "outputs": [],
   "source": [
    "#Create a time_series object indexed by by the period range object\n",
    "time_series = pd.Series(np.random.randn(len(prng)), p_range)"
   ]
  },
  {
   "cell_type": "code",
   "execution_count": 94,
   "metadata": {},
   "outputs": [
    {
     "data": {
      "text/plain": [
       "PeriodIndex(['1990-03', '1990-06', '1990-09', '1990-12', '1991-03'], dtype='period[M]', freq='M')"
      ]
     },
     "execution_count": 94,
     "metadata": {},
     "output_type": "execute_result"
    }
   ],
   "source": [
    "#add a month to each ending month in period range object\n",
    "add_month = p_range.asfreq('M', 'e')+1\n",
    "add_month[0:5]"
   ]
  },
  {
   "cell_type": "code",
   "execution_count": 95,
   "metadata": {},
   "outputs": [
    {
     "data": {
      "text/plain": [
       "1990-03-01 09:00   -0.548041\n",
       "1990-06-01 09:00    0.780862\n",
       "1990-09-01 09:00    1.069828\n",
       "1990-12-01 09:00   -0.537155\n",
       "1991-03-01 09:00    1.364926\n",
       "Freq: H, dtype: float64"
      ]
     },
     "execution_count": 95,
     "metadata": {},
     "output_type": "execute_result"
    }
   ],
   "source": [
    "#Add hourly + 9 and secondly frequencies to the monthly frequencies \n",
    "time_series.index = add_month.asfreq('H', 's') + 9\n",
    "ts.head()"
   ]
  },
  {
   "cell_type": "code",
   "execution_count": 98,
   "metadata": {},
   "outputs": [
    {
     "data": {
      "text/plain": [
       "PeriodIndex(['1990-03-01 09:00', '1990-06-01 09:00', '1990-09-01 09:00',\n",
       "             '1990-12-01 09:00', '1991-03-01 09:00'],\n",
       "            dtype='period[H]', freq='H')"
      ]
     },
     "execution_count": 98,
     "metadata": {},
     "output_type": "execute_result"
    }
   ],
   "source": [
    "time_series.index[0:5]"
   ]
  }
 ],
 "metadata": {
  "kernelspec": {
   "display_name": "Python 3",
   "language": "python",
   "name": "python3"
  },
  "language_info": {
   "codemirror_mode": {
    "name": "ipython",
    "version": 3
   },
   "file_extension": ".py",
   "mimetype": "text/x-python",
   "name": "python",
   "nbconvert_exporter": "python",
   "pygments_lexer": "ipython3",
   "version": "3.7.1"
  }
 },
 "nbformat": 4,
 "nbformat_minor": 2
}
