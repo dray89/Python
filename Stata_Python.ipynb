{
 "cells": [
  {
   "cell_type": "code",
   "execution_count": 6,
   "metadata": {},
   "outputs": [],
   "source": [
    "### Reading Stata Format in Python\n",
    "import pandas as pd\n",
    "import numpy as np\n",
    "import os, fnmatch"
   ]
  },
  {
   "cell_type": "code",
   "execution_count": 39,
   "metadata": {},
   "outputs": [
    {
     "name": "stdout",
     "output_type": "stream",
     "text": [
      "Input Stata file path: C:\\Users\\rayde\\Guns.dta\n"
     ]
    }
   ],
   "source": [
    "# Define Stata filepath and read file from directory\n",
    "file = input('Input Stata file path: ')\n",
    "reader = pd.read_stata(file)"
   ]
  },
  {
   "cell_type": "code",
   "execution_count": 3,
   "metadata": {
    "scrolled": true
   },
   "outputs": [
    {
     "data": {
      "text/html": [
       "<div>\n",
       "<style scoped>\n",
       "    .dataframe tbody tr th:only-of-type {\n",
       "        vertical-align: middle;\n",
       "    }\n",
       "\n",
       "    .dataframe tbody tr th {\n",
       "        vertical-align: top;\n",
       "    }\n",
       "\n",
       "    .dataframe thead th {\n",
       "        text-align: right;\n",
       "    }\n",
       "</style>\n",
       "<table border=\"1\" class=\"dataframe\">\n",
       "  <thead>\n",
       "    <tr style=\"text-align: right;\">\n",
       "      <th></th>\n",
       "      <th>year</th>\n",
       "      <th>vio</th>\n",
       "      <th>mur</th>\n",
       "      <th>rob</th>\n",
       "      <th>incarc_rate</th>\n",
       "      <th>pb1064</th>\n",
       "      <th>pw1064</th>\n",
       "      <th>pm1029</th>\n",
       "      <th>pop</th>\n",
       "      <th>avginc</th>\n",
       "      <th>density</th>\n",
       "      <th>stateid</th>\n",
       "      <th>shall</th>\n",
       "    </tr>\n",
       "  </thead>\n",
       "  <tbody>\n",
       "    <tr>\n",
       "      <th>0</th>\n",
       "      <td>77</td>\n",
       "      <td>414.399994</td>\n",
       "      <td>14.2</td>\n",
       "      <td>96.800003</td>\n",
       "      <td>83</td>\n",
       "      <td>8.384873</td>\n",
       "      <td>55.122906</td>\n",
       "      <td>18.174412</td>\n",
       "      <td>3.780403</td>\n",
       "      <td>9.563148</td>\n",
       "      <td>0.074552</td>\n",
       "      <td>1</td>\n",
       "      <td>0</td>\n",
       "    </tr>\n",
       "    <tr>\n",
       "      <th>1</th>\n",
       "      <td>78</td>\n",
       "      <td>419.100006</td>\n",
       "      <td>13.3</td>\n",
       "      <td>99.099998</td>\n",
       "      <td>94</td>\n",
       "      <td>8.352101</td>\n",
       "      <td>55.143665</td>\n",
       "      <td>17.994080</td>\n",
       "      <td>3.831838</td>\n",
       "      <td>9.932000</td>\n",
       "      <td>0.075567</td>\n",
       "      <td>1</td>\n",
       "      <td>0</td>\n",
       "    </tr>\n",
       "    <tr>\n",
       "      <th>2</th>\n",
       "      <td>79</td>\n",
       "      <td>413.299988</td>\n",
       "      <td>13.2</td>\n",
       "      <td>109.500000</td>\n",
       "      <td>144</td>\n",
       "      <td>8.329575</td>\n",
       "      <td>55.135857</td>\n",
       "      <td>17.839336</td>\n",
       "      <td>3.866248</td>\n",
       "      <td>9.877028</td>\n",
       "      <td>0.076245</td>\n",
       "      <td>1</td>\n",
       "      <td>0</td>\n",
       "    </tr>\n",
       "    <tr>\n",
       "      <th>3</th>\n",
       "      <td>80</td>\n",
       "      <td>448.500000</td>\n",
       "      <td>13.2</td>\n",
       "      <td>132.100006</td>\n",
       "      <td>141</td>\n",
       "      <td>8.408386</td>\n",
       "      <td>54.912586</td>\n",
       "      <td>17.734198</td>\n",
       "      <td>3.900368</td>\n",
       "      <td>9.541428</td>\n",
       "      <td>0.076829</td>\n",
       "      <td>1</td>\n",
       "      <td>0</td>\n",
       "    </tr>\n",
       "    <tr>\n",
       "      <th>4</th>\n",
       "      <td>81</td>\n",
       "      <td>470.500000</td>\n",
       "      <td>11.9</td>\n",
       "      <td>126.500000</td>\n",
       "      <td>149</td>\n",
       "      <td>8.483435</td>\n",
       "      <td>54.925125</td>\n",
       "      <td>17.673716</td>\n",
       "      <td>3.918531</td>\n",
       "      <td>9.548351</td>\n",
       "      <td>0.077187</td>\n",
       "      <td>1</td>\n",
       "      <td>0</td>\n",
       "    </tr>\n",
       "  </tbody>\n",
       "</table>\n",
       "</div>"
      ],
      "text/plain": [
       "   year         vio   mur         rob  incarc_rate    pb1064     pw1064  \\\n",
       "0    77  414.399994  14.2   96.800003           83  8.384873  55.122906   \n",
       "1    78  419.100006  13.3   99.099998           94  8.352101  55.143665   \n",
       "2    79  413.299988  13.2  109.500000          144  8.329575  55.135857   \n",
       "3    80  448.500000  13.2  132.100006          141  8.408386  54.912586   \n",
       "4    81  470.500000  11.9  126.500000          149  8.483435  54.925125   \n",
       "\n",
       "      pm1029       pop    avginc   density  stateid  shall  \n",
       "0  18.174412  3.780403  9.563148  0.074552        1      0  \n",
       "1  17.994080  3.831838  9.932000  0.075567        1      0  \n",
       "2  17.839336  3.866248  9.877028  0.076245        1      0  \n",
       "3  17.734198  3.900368  9.541428  0.076829        1      0  \n",
       "4  17.673716  3.918531  9.548351  0.077187        1      0  "
      ]
     },
     "execution_count": 3,
     "metadata": {},
     "output_type": "execute_result"
    }
   ],
   "source": [
    "# Read first 5 rows\n",
    "reader.head()"
   ]
  },
  {
   "cell_type": "code",
   "execution_count": 4,
   "metadata": {},
   "outputs": [],
   "source": [
    "# Save dataframe as stata dta file\n",
    "reader.to_stata('to_stata.dta')"
   ]
  },
  {
   "cell_type": "code",
   "execution_count": 38,
   "metadata": {},
   "outputs": [
    {
     "name": "stdout",
     "output_type": "stream",
     "text": [
      "to_stata.dta found in dir search\n"
     ]
    }
   ],
   "source": [
    "# Check to see if dataframe successfully saved\n",
    "\n",
    "file_list = os.listdir('.')\n",
    "search = 'to_stata.dta'\n",
    "\n",
    "for entry in file_list:\n",
    "    if entry in search:\n",
    "        print(entry, \"found in dir search\")"
   ]
  }
 ],
 "metadata": {
  "kernelspec": {
   "display_name": "Python 3",
   "language": "python",
   "name": "python3"
  },
  "language_info": {
   "codemirror_mode": {
    "name": "ipython",
    "version": 3
   },
   "file_extension": ".py",
   "mimetype": "text/x-python",
   "name": "python",
   "nbconvert_exporter": "python",
   "pygments_lexer": "ipython3",
   "version": "3.7.1"
  }
 },
 "nbformat": 4,
 "nbformat_minor": 2
}
